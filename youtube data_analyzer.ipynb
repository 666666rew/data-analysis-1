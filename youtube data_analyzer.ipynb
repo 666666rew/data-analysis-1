





<!DOCTYPE html>
<html
  lang="en"
  
  data-color-mode="auto" data-light-theme="light" data-dark-theme="dark"
  data-a11y-animated-images="system" data-a11y-link-underlines="true"
  >




  <head>
    <meta charset="utf-8">
  <link rel="dns-prefetch" href="https://github.githubassets.com">
  <link rel="dns-prefetch" href="https://avatars.githubusercontent.com">
  <link rel="dns-prefetch" href="https://github-cloud.s3.amazonaws.com">
  <link rel="dns-prefetch" href="https://user-images.githubusercontent.com/">
  <link rel="preconnect" href="https://github.githubassets.com" crossorigin>
  <link rel="preconnect" href="https://avatars.githubusercontent.com">

  


  <link crossorigin="anonymous" media="all" rel="stylesheet" href="https://github.githubassets.com/assets/light-f13f84a2af0d.css" /><link crossorigin="anonymous" media="all" rel="stylesheet" href="https://github.githubassets.com/assets/dark-1ee85695b584.css" /><link data-color-theme="dark_dimmed" crossorigin="anonymous" media="all" rel="stylesheet" data-href="https://github.githubassets.com/assets/dark_dimmed-8c42799cfb52.css" /><link data-color-theme="dark_high_contrast" crossorigin="anonymous" media="all" rel="stylesheet" data-href="https://github.githubassets.com/assets/dark_high_contrast-dc99d916bf90.css" /><link data-color-theme="dark_colorblind" crossorigin="anonymous" media="all" rel="stylesheet" data-href="https://github.githubassets.com/assets/dark_colorblind-0a83868d0e43.css" /><link data-color-theme="light_colorblind" crossorigin="anonymous" media="all" rel="stylesheet" data-href="https://github.githubassets.com/assets/light_colorblind-3c798f5a8bef.css" /><link data-color-theme="light_high_contrast" crossorigin="anonymous" media="all" rel="stylesheet" data-href="https://github.githubassets.com/assets/light_high_contrast-4c72a7f3b765.css" /><link data-color-theme="light_tritanopia" crossorigin="anonymous" media="all" rel="stylesheet" data-href="https://github.githubassets.com/assets/light_tritanopia-222bf22536c7.css" /><link data-color-theme="dark_tritanopia" crossorigin="anonymous" media="all" rel="stylesheet" data-href="https://github.githubassets.com/assets/dark_tritanopia-c1d9496197fa.css" />
    <link crossorigin="anonymous" media="all" rel="stylesheet" href="https://github.githubassets.com/assets/primer-primitives-0b5bee5c70e9.css" />
    <link crossorigin="anonymous" media="all" rel="stylesheet" href="https://github.githubassets.com/assets/primer-241a089e9a0a.css" />
    <link crossorigin="anonymous" media="all" rel="stylesheet" href="https://github.githubassets.com/assets/global-efcb6353627d.css" />
    <link crossorigin="anonymous" media="all" rel="stylesheet" href="https://github.githubassets.com/assets/github-07f750db5d7c.css" />
  <link crossorigin="anonymous" media="all" rel="stylesheet" href="https://github.githubassets.com/assets/repository-fa69f138fe8d.css" />
<link crossorigin="anonymous" media="all" rel="stylesheet" href="https://github.githubassets.com/assets/code-111be5e4092d.css" />

  


  <script type="application/json" id="client-env">{"locale":"en","featureFlags":["code_vulnerability_scanning","copilot_chat_remove_file_diff_intent","copilot_conversational_ux_history_refs","copilot_smell_icebreaker_ux","copilot_implicit_context","copilot_stop_response","failbot_handle_non_errors","geojson_azure_maps","image_metric_tracking","marketing_forms_api_integration_contact_request","marketing_pages_search_explore_provider","repository_suggester_elastic_search","turbo_experiment_risky","sample_network_conn_type","no_character_key_shortcuts_in_inputs","react_start_transition_for_navigations","custom_inp","remove_child_patch"]}</script>
<script crossorigin="anonymous" defer="defer" type="application/javascript" src="https://github.githubassets.com/assets/wp-runtime-27e7f3ff07dd.js"></script>
<script crossorigin="anonymous" defer="defer" type="application/javascript" src="https://github.githubassets.com/assets/vendors-node_modules_dompurify_dist_purify_js-13ee51630182.js"></script>
<script crossorigin="anonymous" defer="defer" type="application/javascript" src="https://github.githubassets.com/assets/vendors-node_modules_oddbird_popover-polyfill_dist_popover_js-7bd350d761f4.js"></script>
<script crossorigin="anonymous" defer="defer" type="application/javascript" src="https://github.githubassets.com/assets/vendors-node_modules_smoothscroll-polyfill_dist_smoothscroll_js-node_modules_stacktrace-parse-a448e4-bb5415637fe0.js"></script>
<script crossorigin="anonymous" defer="defer" type="application/javascript" src="https://github.githubassets.com/assets/environment-5555c6700ada.js"></script>
<script crossorigin="anonymous" defer="defer" type="application/javascript" src="https://github.githubassets.com/assets/vendors-node_modules_github_selector-observer_dist_index_esm_js-9f960d9b217c.js"></script>
<script crossorigin="anonymous" defer="defer" type="application/javascript" src="https://github.githubassets.com/assets/vendors-node_modules_primer_behaviors_dist_esm_focus-zone_js-086f7a27bac0.js"></script>
<script crossorigin="anonymous" defer="defer" type="application/javascript" src="https://github.githubassets.com/assets/vendors-node_modules_github_relative-time-element_dist_index_js-c76945c5961a.js"></script>
<script crossorigin="anonymous" defer="defer" type="application/javascript" src="https://github.githubassets.com/assets/vendors-node_modules_github_combobox-nav_dist_index_js-node_modules_github_markdown-toolbar-e-820fc0-bc8f02b96749.js"></script>
<script crossorigin="anonymous" defer="defer" type="application/javascript" src="https://github.githubassets.com/assets/vendors-node_modules_github_auto-complete-element_dist_index_js-03fc21f4e80c.js"></script>
<script crossorigin="anonymous" defer="defer" type="application/javascript" src="https://github.githubassets.com/assets/vendors-node_modules_github_text-expander-element_dist_index_js-8a621df59e80.js"></script>
<script crossorigin="anonymous" defer="defer" type="application/javascript" src="https://github.githubassets.com/assets/vendors-node_modules_delegated-events_dist_index_js-node_modules_stacktrace-parser_dist_stack-443cd5-1ba4dbac454f.js"></script>
<script crossorigin="anonymous" defer="defer" type="application/javascript" src="https://github.githubassets.com/assets/vendors-node_modules_github_filter-input-element_dist_index_js-node_modules_github_remote-inp-b7d8f4-7dc906febe69.js"></script>
<script crossorigin="anonymous" defer="defer" type="application/javascript" src="https://github.githubassets.com/assets/vendors-node_modules_github_file-attachment-element_dist_index_js-node_modules_primer_view-co-27181b-3509ed8075c4.js"></script>
<script crossorigin="anonymous" defer="defer" type="application/javascript" src="https://github.githubassets.com/assets/app_assets_modules_github_onfocus_ts-ui_packages_trusted-types-policies_policy_ts-ui_packages-6fe316-d6d20db61005.js"></script>
<script crossorigin="anonymous" defer="defer" type="application/javascript" src="https://github.githubassets.com/assets/github-elements-34cbf079a4f4.js"></script>
<script crossorigin="anonymous" defer="defer" type="application/javascript" src="https://github.githubassets.com/assets/element-registry-96825db5dcac.js"></script>
<script crossorigin="anonymous" defer="defer" type="application/javascript" src="https://github.githubassets.com/assets/vendors-node_modules_github_catalyst_lib_index_js-node_modules_github_hydro-analytics-client_-4da1df-9de8d527f925.js"></script>
<script crossorigin="anonymous" defer="defer" type="application/javascript" src="https://github.githubassets.com/assets/vendors-node_modules_braintree_browser-detection_dist_browser-detection_js-node_modules_githu-fd5530-6f4d94175afe.js"></script>
<script crossorigin="anonymous" defer="defer" type="application/javascript" src="https://github.githubassets.com/assets/vendors-node_modules_lit-html_lit-html_js-5b376145beff.js"></script>
<script crossorigin="anonymous" defer="defer" type="application/javascript" src="https://github.githubassets.com/assets/vendors-node_modules_morphdom_dist_morphdom-esm_js-node_modules_github_memoize_dist_esm_index_js-05801f7ca718.js"></script>
<script crossorigin="anonymous" defer="defer" type="application/javascript" src="https://github.githubassets.com/assets/vendors-node_modules_github_turbo_dist_turbo_es2017-esm_js-c91f4ad18b62.js"></script>
<script crossorigin="anonymous" defer="defer" type="application/javascript" src="https://github.githubassets.com/assets/vendors-node_modules_github_remote-form_dist_index_js-node_modules_delegated-events_dist_inde-893f9f-a8ec7ed862cf.js"></script>
<script crossorigin="anonymous" defer="defer" type="application/javascript" src="https://github.githubassets.com/assets/vendors-node_modules_scroll-anchoring_dist_scroll-anchoring_esm_js-node_modules_github_detail-c9d0ba-387cde917623.js"></script>
<script crossorigin="anonymous" defer="defer" type="application/javascript" src="https://github.githubassets.com/assets/vendors-node_modules_color-convert_index_js-72c9fbde5ad4.js"></script>
<script crossorigin="anonymous" defer="defer" type="application/javascript" src="https://github.githubassets.com/assets/vendors-node_modules_primer_behaviors_dist_esm_dimensions_js-node_modules_github_jtml_lib_index_js-95b84ee6bc34.js"></script>
<script crossorigin="anonymous" defer="defer" type="application/javascript" src="https://github.githubassets.com/assets/vendors-node_modules_github_quote-selection_dist_index_js-node_modules_github_session-resume_-84957b-7b4e472db160.js"></script>
<script crossorigin="anonymous" defer="defer" type="application/javascript" src="https://github.githubassets.com/assets/ui_packages_sudo_sudo_ts-74c0d1051bc3.js"></script>
<script crossorigin="anonymous" defer="defer" type="application/javascript" src="https://github.githubassets.com/assets/app_assets_modules_github_updatable-content_ts-ui_packages_hydro-analytics_hydro-analytics_ts-82813f-05346aa543fe.js"></script>
<script crossorigin="anonymous" defer="defer" type="application/javascript" src="https://github.githubassets.com/assets/app_assets_modules_github_behaviors_task-list_ts-app_assets_modules_github_onfocus_ts-app_ass-421cec-355eb4940fad.js"></script>
<script crossorigin="anonymous" defer="defer" type="application/javascript" src="https://github.githubassets.com/assets/app_assets_modules_github_sticky-scroll-into-view_ts-1390d8d5a0dc.js"></script>
<script crossorigin="anonymous" defer="defer" type="application/javascript" src="https://github.githubassets.com/assets/app_assets_modules_github_behaviors_ajax-error_ts-app_assets_modules_github_behaviors_include-467754-782c9388f902.js"></script>
<script crossorigin="anonymous" defer="defer" type="application/javascript" src="https://github.githubassets.com/assets/app_assets_modules_github_behaviors_commenting_edit_ts-app_assets_modules_github_behaviors_ht-83c235-9285faa0e011.js"></script>
<script crossorigin="anonymous" defer="defer" type="application/javascript" src="https://github.githubassets.com/assets/behaviors-7f67a24be639.js"></script>
<script crossorigin="anonymous" defer="defer" type="application/javascript" src="https://github.githubassets.com/assets/vendors-node_modules_delegated-events_dist_index_js-node_modules_github_catalyst_lib_index_js-06ff531-2ea61fcc9a71.js"></script>
<script crossorigin="anonymous" defer="defer" type="application/javascript" src="https://github.githubassets.com/assets/notifications-global-6d6db5144cc3.js"></script>
<script crossorigin="anonymous" defer="defer" type="application/javascript" src="https://github.githubassets.com/assets/app_assets_modules_github_repositories_get-repo-element_ts-f6b365a47eda.js"></script>
<script crossorigin="anonymous" defer="defer" type="application/javascript" src="https://github.githubassets.com/assets/code-menu-67595c3a6d0c.js"></script>
  
  <script crossorigin="anonymous" defer="defer" type="application/javascript" src="https://github.githubassets.com/assets/react-lib-1fbfc5be2c18.js"></script>
<script crossorigin="anonymous" defer="defer" type="application/javascript" src="https://github.githubassets.com/assets/vendors-node_modules_primer_octicons-react_dist_index_esm_js-node_modules_primer_react_lib-es-541a38-ade861844008.js"></script>
<script crossorigin="anonymous" defer="defer" type="application/javascript" src="https://github.githubassets.com/assets/vendors-node_modules_primer_react_lib-esm_Box_Box_js-8f8c5e2a2cbf.js"></script>
<script crossorigin="anonymous" defer="defer" type="application/javascript" src="https://github.githubassets.com/assets/vendors-node_modules_primer_react_lib-esm_Button_Button_js-95a7748e3c39.js"></script>
<script crossorigin="anonymous" defer="defer" type="application/javascript" src="https://github.githubassets.com/assets/vendors-node_modules_primer_react_lib-esm_TooltipV2_Tooltip_js-5c105bd4b6bc.js"></script>
<script crossorigin="anonymous" defer="defer" type="application/javascript" src="https://github.githubassets.com/assets/vendors-node_modules_primer_react_node_modules_primer_octicons-react_dist_index_esm_mjs-cb996b1b8e38.js"></script>
<script crossorigin="anonymous" defer="defer" type="application/javascript" src="https://github.githubassets.com/assets/vendors-node_modules_primer_react_lib-esm_ActionList_index_js-f41028bf9254.js"></script>
<script crossorigin="anonymous" defer="defer" type="application/javascript" src="https://github.githubassets.com/assets/vendors-node_modules_primer_react_lib-esm_Text_Text_js-node_modules_primer_react_lib-esm_Text-85a14b-7813b4d5597b.js"></script>
<script crossorigin="anonymous" defer="defer" type="application/javascript" src="https://github.githubassets.com/assets/vendors-node_modules_primer_react_lib-esm_FormControl_FormControl_js-7d9532bcc808.js"></script>
<script crossorigin="anonymous" defer="defer" type="application/javascript" src="https://github.githubassets.com/assets/vendors-node_modules_primer_react_lib-esm_AnchoredOverlay_AnchoredOverlay_js-6305545ffa4a.js"></script>
<script crossorigin="anonymous" defer="defer" type="application/javascript" src="https://github.githubassets.com/assets/vendors-node_modules_react-router-dom_dist_index_js-3b41341d50fe.js"></script>
<script crossorigin="anonymous" defer="defer" type="application/javascript" src="https://github.githubassets.com/assets/vendors-node_modules_primer_react_lib-esm_ConfirmationDialog_ConfirmationDialog_js-0e5bf03de200.js"></script>
<script crossorigin="anonymous" defer="defer" type="application/javascript" src="https://github.githubassets.com/assets/vendors-node_modules_primer_react_lib-esm_Heading_Heading_js-node_modules_primer_react_lib-es-09461f-2d30446b267e.js"></script>
<script crossorigin="anonymous" defer="defer" type="application/javascript" src="https://github.githubassets.com/assets/vendors-node_modules_primer_react_lib-esm_Label_Label_js-node_modules_primer_react_lib-esm_Se-443e5e-685ada640c03.js"></script>
<script crossorigin="anonymous" defer="defer" type="application/javascript" src="https://github.githubassets.com/assets/vendors-node_modules_primer_react_lib-esm_AvatarStack_AvatarStack_js-node_modules_primer_reac-4288ff-9a651981e3a4.js"></script>
<script crossorigin="anonymous" defer="defer" type="application/javascript" src="https://github.githubassets.com/assets/vendors-node_modules_github_mini-throttle_dist_index_js-node_modules_primer_react_lib-esm_Bre-ed0fd7-0fe89c2a6770.js"></script>
<script crossorigin="anonymous" defer="defer" type="application/javascript" src="https://github.githubassets.com/assets/ui_packages_react-core_create-browser-history_ts-ui_packages_safe-storage_safe-storage_ts-ui_-682c2c-e45e451173ec.js"></script>
<script crossorigin="anonymous" defer="defer" type="application/javascript" src="https://github.githubassets.com/assets/ui_packages_react-core_register-app_ts-86733e888f0e.js"></script>
<script crossorigin="anonymous" defer="defer" type="application/javascript" src="https://github.githubassets.com/assets/ui_packages_paths_index_ts-ad6a9a567cec.js"></script>
<script crossorigin="anonymous" defer="defer" type="application/javascript" src="https://github.githubassets.com/assets/ui_packages_ref-selector_RefSelector_tsx-b257014a1aab.js"></script>
<script crossorigin="anonymous" defer="defer" type="application/javascript" src="https://github.githubassets.com/assets/ui_packages_commit-attribution_index_ts-ui_packages_commit-checks-status_index_ts-ui_packages-bb2049-5736e81ea80d.js"></script>
<script crossorigin="anonymous" defer="defer" type="application/javascript" src="https://github.githubassets.com/assets/app_assets_modules_react-shared_hooks_use-canonical-object_ts-ui_packages_code-view-shared_ho-e725dc-c2ba3df232d1.js"></script>
<script crossorigin="anonymous" defer="defer" type="application/javascript" src="https://github.githubassets.com/assets/app_assets_modules_github_blob-anchor_ts-app_assets_modules_github_filter-sort_ts-app_assets_-e50ab6-fd8396d2490b.js"></script>
<script crossorigin="anonymous" defer="defer" type="application/javascript" src="https://github.githubassets.com/assets/ui_packages_code-view-shared_components_files-search_FileResultsList_tsx-184b04d94574.js"></script>
<script crossorigin="anonymous" defer="defer" type="application/javascript" src="https://github.githubassets.com/assets/react-code-view-645270158769.js"></script>
<link crossorigin="anonymous" media="all" rel="stylesheet" href="https://github.githubassets.com/assets/react-code-view.f2d60f636eb02c2001df.module.css" />


  <title>BBC_arabic_Analysis/youtube data_analyzer.ipynb at master · Mogady/BBC_arabic_Analysis</title>



  <meta name="route-pattern" content="/:user_id/:repository/blob/*name(/*path)" data-turbo-transient>
  <meta name="route-controller" content="blob" data-turbo-transient>
  <meta name="route-action" content="show" data-turbo-transient>

    
  <meta name="current-catalog-service-hash" content="82c569b93da5c18ed649ebd4c2c79437db4611a6a1373e805a3cb001c64130b7">


  <meta name="request-id" content="D647:32FD1D:71D80D:819C73:663242EE" data-turbo-transient="true" /><meta name="html-safe-nonce" content="0f153998fd8b8740971196fa7cf1b70481a6f7eeac0099500e5a75c0fa699e80" data-turbo-transient="true" /><meta name="visitor-payload" content="eyJyZWZlcnJlciI6bnVsbCwicmVxdWVzdF9pZCI6IkQ2NDc6MzJGRDFEOjcxRDgwRDo4MTlDNzM6NjYzMjQyRUUiLCJ2aXNpdG9yX2lkIjoiMzY5Njk0NzE4Mzk3NDQ1OTc3MyIsInJlZ2lvbl9lZGdlIjoiamFwYW5lYXN0IiwicmVnaW9uX3JlbmRlciI6ImlhZCJ9" data-turbo-transient="true" /><meta name="visitor-hmac" content="ab4910e339c6eb96639dcbf1236681e066d95e602058805caa67f7f4f5752f61" data-turbo-transient="true" />


    <meta name="hovercard-subject-tag" content="repository:147500619" data-turbo-transient>


  <meta name="github-keyboard-shortcuts" content="repository,source-code,file-tree,copilot" data-turbo-transient="true" />
  

  <meta name="selected-link" value="repo_source" data-turbo-transient>
  <link rel="assets" href="https://github.githubassets.com/">

    <meta name="google-site-verification" content="Apib7-x98H0j5cPqHWwSMm6dNU4GmODRoqxLiDzdx9I">

<meta name="octolytics-url" content="https://collector.github.com/github/collect" /><meta name="octolytics-actor-id" content="95196629" /><meta name="octolytics-actor-login" content="666666rew" /><meta name="octolytics-actor-hash" content="ecf8ead872685a076dea90362a5389f5e446c3843b355491ce84918e5f729fd5" />

  <meta name="analytics-location" content="/&lt;user-name&gt;/&lt;repo-name&gt;/blob/show" data-turbo-transient="true" />

  




    <meta name="user-login" content="666666rew">

  <link rel="sudo-modal" href="/sessions/sudo_modal">

    <meta name="viewport" content="width=device-width">

    

      <meta name="description" content="This is a simple Data Analysis to for BBC videos , invistigating some factors that can help improve the channel views. - BBC_arabic_Analysis/youtube data_analyzer.ipynb at master · Mogady/BBC_arabic_Analysis">

      <link rel="search" type="application/opensearchdescription+xml" href="/opensearch.xml" title="GitHub">

    <link rel="fluid-icon" href="https://github.com/fluidicon.png" title="GitHub">
    <meta property="fb:app_id" content="1401488693436528">
    <meta name="apple-itunes-app" content="app-id=1477376905, app-argument=https://github.com/Mogady/BBC_arabic_Analysis/blob/master/youtube%20data_analyzer.ipynb" />

      <meta name="twitter:image:src" content="https://opengraph.githubassets.com/2961388a45de6359064fa91f4590994bd2a137cf9f352df9ee6a99c941afb8cf/Mogady/BBC_arabic_Analysis" /><meta name="twitter:site" content="@github" /><meta name="twitter:card" content="summary_large_image" /><meta name="twitter:title" content="BBC_arabic_Analysis/youtube data_analyzer.ipynb at master · Mogady/BBC_arabic_Analysis" /><meta name="twitter:description" content="This is a simple Data Analysis to for BBC videos , invistigating some factors that can help improve the channel views. - Mogady/BBC_arabic_Analysis" />
  <meta property="og:image" content="https://opengraph.githubassets.com/2961388a45de6359064fa91f4590994bd2a137cf9f352df9ee6a99c941afb8cf/Mogady/BBC_arabic_Analysis" /><meta property="og:image:alt" content="This is a simple Data Analysis to for BBC videos , invistigating some factors that can help improve the channel views. - Mogady/BBC_arabic_Analysis" /><meta property="og:image:width" content="1200" /><meta property="og:image:height" content="600" /><meta property="og:site_name" content="GitHub" /><meta property="og:type" content="object" /><meta property="og:title" content="BBC_arabic_Analysis/youtube data_analyzer.ipynb at master · Mogady/BBC_arabic_Analysis" /><meta property="og:url" content="https://github.com/Mogady/BBC_arabic_Analysis/blob/master/youtube%20data_analyzer.ipynb" /><meta property="og:description" content="This is a simple Data Analysis to for BBC videos , invistigating some factors that can help improve the channel views. - Mogady/BBC_arabic_Analysis" />
  


      <link rel="shared-web-socket" href="wss://alive.github.com/_sockets/u/95196629/ws?session=eyJ2IjoiVjMiLCJ1Ijo5NTE5NjYyOSwicyI6MTM2ODU5MDE3NiwiYyI6NDE1MDA5MTc3OSwidCI6MTcxNDU2OTk4NX0=--3264c7e9f30fdfb7f0c1f06fa6d7600c6b0781550a7061e90723fdce64543177" data-refresh-url="/_alive" data-session-id="1dd23957e7ef2c11ea8d2ec421211f1fe60fa85e0790bfae334544999a9f5ab1">
      <link rel="shared-web-socket-src" href="/assets-cdn/worker/socket-worker-9cc1149b224c.js">


      <meta name="hostname" content="github.com">


      <meta name="keyboard-shortcuts-preference" content="all">

        <meta name="expected-hostname" content="github.com">


  <meta http-equiv="x-pjax-version" content="5f38b1c9a6d18b0c014db4fbb11f16f766092f8c94d945c97c78d9daab7cc621" data-turbo-track="reload">
  <meta http-equiv="x-pjax-csp-version" content="f226bf37af9c33162063db3eb018fed7f088f86d0a20ca54c013fda96c7f2e05" data-turbo-track="reload">
  <meta http-equiv="x-pjax-css-version" content="37537ac2c4c60a67e92d5badae04f7f9115e97a67199b6f2c0010620c3eb0594" data-turbo-track="reload">
  <meta http-equiv="x-pjax-js-version" content="3f7eba649f5f234b0756a7f3455efe733e2dce6aede27459364575e35ac468f5" data-turbo-track="reload">

  <meta name="turbo-cache-control" content="no-preview" data-turbo-transient="">

      <meta name="turbo-cache-control" content="no-cache" data-turbo-transient>
    <meta data-hydrostats="publish">
  <meta name="go-import" content="github.com/Mogady/BBC_arabic_Analysis git https://github.com/Mogady/BBC_arabic_Analysis.git">

  <meta name="octolytics-dimension-user_id" content="20929301" /><meta name="octolytics-dimension-user_login" content="Mogady" /><meta name="octolytics-dimension-repository_id" content="147500619" /><meta name="octolytics-dimension-repository_nwo" content="Mogady/BBC_arabic_Analysis" /><meta name="octolytics-dimension-repository_public" content="true" /><meta name="octolytics-dimension-repository_is_fork" content="false" /><meta name="octolytics-dimension-repository_network_root_id" content="147500619" /><meta name="octolytics-dimension-repository_network_root_nwo" content="Mogady/BBC_arabic_Analysis" />



    

    <meta name="turbo-body-classes" content="logged-in env-production page-responsive">


  <meta name="browser-stats-url" content="https://api.github.com/_private/browser/stats">

  <meta name="browser-errors-url" content="https://api.github.com/_private/browser/errors">

  <link rel="mask-icon" href="https://github.githubassets.com/assets/pinned-octocat-093da3e6fa40.svg" color="#000000">
  <link rel="alternate icon" class="js-site-favicon" type="image/png" href="https://github.githubassets.com/favicons/favicon.png">
  <link rel="icon" class="js-site-favicon" type="image/svg+xml" href="https://github.githubassets.com/favicons/favicon.svg">

<meta name="theme-color" content="#1e2327">
<meta name="color-scheme" content="light dark" />

  <link rel="apple-touch-icon" href="https://github.githubassets.com/assets/apple-touch-icon-92bd46d04241.png">
  <link rel="apple-touch-icon" sizes="180x180" href="https://github.githubassets.com/assets/apple-touch-icon-180x180-a80b8e11abe2.png">
  <meta name="apple-mobile-web-app-title" content="GitHub">

  <link rel="manifest" href="/manifest.json" crossOrigin="use-credentials">

  </head>

  <body class="logged-in env-production page-responsive" style="word-wrap: break-word;">
    <div data-turbo-body class="logged-in env-production page-responsive" style="word-wrap: break-word;">
      


    <div class="position-relative js-header-wrapper ">
      <a href="#start-of-content" data-skip-target-assigned="false" class="p-3 color-bg-accent-emphasis color-fg-on-emphasis show-on-focus js-skip-to-content">Skip to content</a>
      
      <span data-view-component="true" class="progress-pjax-loader Progress position-fixed width-full">
    <span style="width: 0%;" data-view-component="true" class="Progress-item progress-pjax-loader-bar left-0 top-0 color-bg-accent-emphasis"></span>
</span>      
      
      






<script crossorigin="anonymous" defer="defer" type="application/javascript" src="https://github.githubassets.com/assets/vendors-node_modules_primer_react_lib-esm_Button_IconButton_js-node_modules_primer_react_lib--b964b4-f8441db8b94b.js"></script>

<script crossorigin="anonymous" defer="defer" type="application/javascript" src="https://github.githubassets.com/assets/keyboard-shortcuts-dialog-b4f13290b41c.js"></script>

<react-partial
  partial-name="keyboard-shortcuts-dialog"
  data-ssr="false"
>
  
  <script type="application/json" data-target="react-partial.embeddedData">{"props":{"docsUrl":"https://docs.github.com/get-started/accessibility/keyboard-shortcuts"}}</script>
  <div data-target="react-partial.reactRoot"></div>
</react-partial>




      

        <script crossorigin="anonymous" defer="defer" type="application/javascript" src="https://github.githubassets.com/assets/vendors-node_modules_allex_crc32_lib_crc32_esm_js-node_modules_github_mini-throttle_dist_deco-a9eeba-3600c9575762.js"></script>
<script crossorigin="anonymous" defer="defer" type="application/javascript" src="https://github.githubassets.com/assets/vendors-node_modules_github_clipboard-copy-element_dist_index_esm_js-node_modules_delegated-e-b37f7d-6c7c27fd1f12.js"></script>
<script crossorigin="anonymous" defer="defer" type="application/javascript" src="https://github.githubassets.com/assets/app_assets_modules_github_command-palette_items_help-item_ts-app_assets_modules_github_comman-48ad9d-b80562a91325.js"></script>
<script crossorigin="anonymous" defer="defer" type="application/javascript" src="https://github.githubassets.com/assets/command-palette-828642dbfb4e.js"></script>

            <header class="AppHeader" role="banner">
  <h2 class="sr-only">Navigation Menu</h2>

    

    <div class="AppHeader-globalBar pb-2 js-global-bar">
      <div class="AppHeader-globalBar-start">
          <deferred-side-panel data-url="/_side-panels/global">
  <include-fragment data-target="deferred-side-panel.fragment">
      <button aria-label="Open global navigation menu" data-action="click:deferred-side-panel#loadPanel click:deferred-side-panel#panelOpened" data-show-dialog-id="dialog-b81bda9d-a660-49f8-9148-ab44f698ad39" id="dialog-show-dialog-b81bda9d-a660-49f8-9148-ab44f698ad39" type="button" data-view-component="true" class="Button Button--iconOnly Button--secondary Button--medium AppHeader-button color-bg-transparent p-0 color-fg-muted">  <svg aria-hidden="true" height="16" viewBox="0 0 16 16" version="1.1" width="16" data-view-component="true" class="octicon octicon-three-bars Button-visual">
    <path d="M1 2.75A.75.75 0 0 1 1.75 2h12.5a.75.75 0 0 1 0 1.5H1.75A.75.75 0 0 1 1 2.75Zm0 5A.75.75 0 0 1 1.75 7h12.5a.75.75 0 0 1 0 1.5H1.75A.75.75 0 0 1 1 7.75ZM1.75 12h12.5a.75.75 0 0 1 0 1.5H1.75a.75.75 0 0 1 0-1.5Z"></path>
</svg>
</button>

<dialog-helper>
  <dialog data-target="deferred-side-panel.panel" id="dialog-b81bda9d-a660-49f8-9148-ab44f698ad39" aria-modal="true" aria-labelledby="dialog-b81bda9d-a660-49f8-9148-ab44f698ad39-title" aria-describedby="dialog-b81bda9d-a660-49f8-9148-ab44f698ad39-description" data-view-component="true" class="Overlay Overlay-whenNarrow Overlay--size-small-portrait Overlay--motion-scaleFade Overlay--placement-left SidePanel">
    <div styles="flex-direction: row;" data-view-component="true" class="Overlay-header">
  <div class="Overlay-headerContentWrap">
    <div class="Overlay-titleWrap">
      <h1 class="Overlay-title sr-only" id="dialog-b81bda9d-a660-49f8-9148-ab44f698ad39-title">
        Global navigation
      </h1>
            <div data-view-component="true" class="d-flex">
      <div data-view-component="true" class="AppHeader-logo position-relative">
        <svg aria-hidden="true" height="24" viewBox="0 0 16 16" version="1.1" width="24" data-view-component="true" class="octicon octicon-mark-github">
    <path d="M8 0c4.42 0 8 3.58 8 8a8.013 8.013 0 0 1-5.45 7.59c-.4.08-.55-.17-.55-.38 0-.27.01-1.13.01-2.2 0-.75-.25-1.23-.54-1.48 1.78-.2 3.65-.88 3.65-3.95 0-.88-.31-1.59-.82-2.15.08-.2.36-1.02-.08-2.12 0 0-.67-.22-2.2.82-.64-.18-1.32-.27-2-.27-.68 0-1.36.09-2 .27-1.53-1.03-2.2-.82-2.2-.82-.44 1.1-.16 1.92-.08 2.12-.51.56-.82 1.28-.82 2.15 0 3.06 1.86 3.75 3.64 3.95-.23.2-.44.55-.51 1.07-.46.21-1.61.55-2.33-.66-.15-.24-.6-.83-1.23-.82-.67.01-.27.38.01.53.34.19.73.9.82 1.13.16.45.68 1.31 2.69.94 0 .67.01 1.3.01 1.49 0 .21-.15.45-.55.38A7.995 7.995 0 0 1 0 8c0-4.42 3.58-8 8-8Z"></path>
</svg>
</div></div>
    </div>
    <div class="Overlay-actionWrap">
      <button data-close-dialog-id="dialog-b81bda9d-a660-49f8-9148-ab44f698ad39" aria-label="Close" type="button" data-view-component="true" class="close-button Overlay-closeButton"><svg aria-hidden="true" height="16" viewBox="0 0 16 16" version="1.1" width="16" data-view-component="true" class="octicon octicon-x">
    <path d="M3.72 3.72a.75.75 0 0 1 1.06 0L8 6.94l3.22-3.22a.749.749 0 0 1 1.275.326.749.749 0 0 1-.215.734L9.06 8l3.22 3.22a.749.749 0 0 1-.326 1.275.749.749 0 0 1-.734-.215L8 9.06l-3.22 3.22a.751.751 0 0 1-1.042-.018.751.751 0 0 1-.018-1.042L6.94 8 3.72 4.78a.75.75 0 0 1 0-1.06Z"></path>
</svg></button>
    </div>
  </div>
</div>
      <scrollable-region data-labelled-by="dialog-b81bda9d-a660-49f8-9148-ab44f698ad39-title">
        <div data-view-component="true" class="Overlay-body d-flex flex-column px-2">    <div data-view-component="true" class="d-flex flex-column mb-3">
        <nav aria-label="Site navigation" data-view-component="true" class="ActionList">
  
  <nav-list>
    <ul data-target="nav-list.topLevelList" data-view-component="true" class="ActionListWrap">
        
          
<li data-item-id="" data-targets="nav-list.items" data-view-component="true" class="ActionListItem">
    
    
    <a data-hotkey="g d" data-analytics-event="{&quot;category&quot;:&quot;Global navigation&quot;,&quot;action&quot;:&quot;HOME&quot;,&quot;label&quot;:null}" id="item-b24593c0-fd53-4257-8e6d-8a6e849acfc2" href="/dashboard" data-view-component="true" class="ActionListContent ActionListContent--visual16">
        <span class="ActionListItem-visual ActionListItem-visual--leading">
          <svg aria-hidden="true" height="16" viewBox="0 0 16 16" version="1.1" width="16" data-view-component="true" class="octicon octicon-home">
    <path d="M6.906.664a1.749 1.749 0 0 1 2.187 0l5.25 4.2c.415.332.657.835.657 1.367v7.019A1.75 1.75 0 0 1 13.25 15h-3.5a.75.75 0 0 1-.75-.75V9H7v5.25a.75.75 0 0 1-.75.75h-3.5A1.75 1.75 0 0 1 1 13.25V6.23c0-.531.242-1.034.657-1.366l5.25-4.2Zm1.25 1.171a.25.25 0 0 0-.312 0l-5.25 4.2a.25.25 0 0 0-.094.196v7.019c0 .138.112.25.25.25H5.5V8.25a.75.75 0 0 1 .75-.75h3.5a.75.75 0 0 1 .75.75v5.25h2.75a.25.25 0 0 0 .25-.25V6.23a.25.25 0 0 0-.094-.195Z"></path>
</svg>
        </span>
      
        <span data-view-component="true" class="ActionListItem-label">
          Home
</span></a>
  
</li>

        
          
<li data-item-id="" data-targets="nav-list.items" data-view-component="true" class="ActionListItem">
    
    
    <a data-hotkey="g i" data-analytics-event="{&quot;category&quot;:&quot;Global navigation&quot;,&quot;action&quot;:&quot;ISSUES&quot;,&quot;label&quot;:null}" id="item-8640e73e-6006-4771-b59c-c67c863a058f" href="/issues" data-view-component="true" class="ActionListContent ActionListContent--visual16">
        <span class="ActionListItem-visual ActionListItem-visual--leading">
          <svg aria-hidden="true" height="16" viewBox="0 0 16 16" version="1.1" width="16" data-view-component="true" class="octicon octicon-issue-opened">
    <path d="M8 9.5a1.5 1.5 0 1 0 0-3 1.5 1.5 0 0 0 0 3Z"></path><path d="M8 0a8 8 0 1 1 0 16A8 8 0 0 1 8 0ZM1.5 8a6.5 6.5 0 1 0 13 0 6.5 6.5 0 0 0-13 0Z"></path>
</svg>
        </span>
      
        <span data-view-component="true" class="ActionListItem-label">
          Issues
</span></a>
  
</li>

        
          
<li data-item-id="" data-targets="nav-list.items" data-view-component="true" class="ActionListItem">
    
    
    <a data-hotkey="g p" data-analytics-event="{&quot;category&quot;:&quot;Global navigation&quot;,&quot;action&quot;:&quot;PULL_REQUESTS&quot;,&quot;label&quot;:null}" id="item-cbf5a83c-a9a8-4b49-a8d7-e1884f34659f" href="/pulls" data-view-component="true" class="ActionListContent ActionListContent--visual16">
        <span class="ActionListItem-visual ActionListItem-visual--leading">
          <svg aria-hidden="true" height="16" viewBox="0 0 16 16" version="1.1" width="16" data-view-component="true" class="octicon octicon-git-pull-request">
    <path d="M1.5 3.25a2.25 2.25 0 1 1 3 2.122v5.256a2.251 2.251 0 1 1-1.5 0V5.372A2.25 2.25 0 0 1 1.5 3.25Zm5.677-.177L9.573.677A.25.25 0 0 1 10 .854V2.5h1A2.5 2.5 0 0 1 13.5 5v5.628a2.251 2.251 0 1 1-1.5 0V5a1 1 0 0 0-1-1h-1v1.646a.25.25 0 0 1-.427.177L7.177 3.427a.25.25 0 0 1 0-.354ZM3.75 2.5a.75.75 0 1 0 0 1.5.75.75 0 0 0 0-1.5Zm0 9.5a.75.75 0 1 0 0 1.5.75.75 0 0 0 0-1.5Zm8.25.75a.75.75 0 1 0 1.5 0 .75.75 0 0 0-1.5 0Z"></path>
</svg>
        </span>
      
        <span data-view-component="true" class="ActionListItem-label">
          Pull requests
</span></a>
  
</li>

        
          
<li data-item-id="" data-targets="nav-list.items" data-item-id="projects" data-view-component="true" class="ActionListItem">
    
    
    <a data-analytics-event="{&quot;category&quot;:&quot;Global navigation&quot;,&quot;action&quot;:&quot;PROJECTS&quot;,&quot;label&quot;:null}" id="item-20a425f9-1bbf-434c-92ad-df4163bab2de" href="/projects" data-view-component="true" class="ActionListContent ActionListContent--visual16">
        <span class="ActionListItem-visual ActionListItem-visual--leading">
          <svg aria-hidden="true" height="16" viewBox="0 0 16 16" version="1.1" width="16" data-view-component="true" class="octicon octicon-table">
    <path d="M0 1.75C0 .784.784 0 1.75 0h12.5C15.216 0 16 .784 16 1.75v12.5A1.75 1.75 0 0 1 14.25 16H1.75A1.75 1.75 0 0 1 0 14.25ZM6.5 6.5v8h7.75a.25.25 0 0 0 .25-.25V6.5Zm8-1.5V1.75a.25.25 0 0 0-.25-.25H6.5V5Zm-13 1.5v7.75c0 .138.112.25.25.25H5v-8ZM5 5V1.5H1.75a.25.25 0 0 0-.25.25V5Z"></path>
</svg>
        </span>
      
        <span data-view-component="true" class="ActionListItem-label">
          Projects
</span></a>
  
</li>

        
          
<li data-item-id="" data-targets="nav-list.items" data-view-component="true" class="ActionListItem">
    
    
    <a data-analytics-event="{&quot;category&quot;:&quot;Global navigation&quot;,&quot;action&quot;:&quot;DISCUSSIONS&quot;,&quot;label&quot;:null}" id="item-5be702b8-1742-4dc0-be97-a250f6ecb038" href="/discussions" data-view-component="true" class="ActionListContent ActionListContent--visual16">
        <span class="ActionListItem-visual ActionListItem-visual--leading">
          <svg aria-hidden="true" height="16" viewBox="0 0 16 16" version="1.1" width="16" data-view-component="true" class="octicon octicon-comment-discussion">
    <path d="M1.75 1h8.5c.966 0 1.75.784 1.75 1.75v5.5A1.75 1.75 0 0 1 10.25 10H7.061l-2.574 2.573A1.458 1.458 0 0 1 2 11.543V10h-.25A1.75 1.75 0 0 1 0 8.25v-5.5C0 1.784.784 1 1.75 1ZM1.5 2.75v5.5c0 .138.112.25.25.25h1a.75.75 0 0 1 .75.75v2.19l2.72-2.72a.749.749 0 0 1 .53-.22h3.5a.25.25 0 0 0 .25-.25v-5.5a.25.25 0 0 0-.25-.25h-8.5a.25.25 0 0 0-.25.25Zm13 2a.25.25 0 0 0-.25-.25h-.5a.75.75 0 0 1 0-1.5h.5c.966 0 1.75.784 1.75 1.75v5.5A1.75 1.75 0 0 1 14.25 12H14v1.543a1.458 1.458 0 0 1-2.487 1.03L9.22 12.28a.749.749 0 0 1 .326-1.275.749.749 0 0 1 .734.215l2.22 2.22v-2.19a.75.75 0 0 1 .75-.75h1a.25.25 0 0 0 .25-.25Z"></path>
</svg>
        </span>
      
        <span data-view-component="true" class="ActionListItem-label">
          Discussions
</span></a>
  
</li>

        
          
<li data-item-id="" data-targets="nav-list.items" data-view-component="true" class="ActionListItem">
    
    
    <a data-analytics-event="{&quot;category&quot;:&quot;Global navigation&quot;,&quot;action&quot;:&quot;CODESPACES&quot;,&quot;label&quot;:null}" id="item-f6f6e095-1098-4df2-b379-83f49f5e30e6" href="https://github.com/codespaces" data-view-component="true" class="ActionListContent ActionListContent--visual16">
        <span class="ActionListItem-visual ActionListItem-visual--leading">
          <svg aria-hidden="true" height="16" viewBox="0 0 16 16" version="1.1" width="16" data-view-component="true" class="octicon octicon-codespaces">
    <path d="M0 11.25c0-.966.784-1.75 1.75-1.75h12.5c.966 0 1.75.784 1.75 1.75v3A1.75 1.75 0 0 1 14.25 16H1.75A1.75 1.75 0 0 1 0 14.25Zm2-9.5C2 .784 2.784 0 3.75 0h8.5C13.216 0 14 .784 14 1.75v5a1.75 1.75 0 0 1-1.75 1.75h-8.5A1.75 1.75 0 0 1 2 6.75Zm1.75-.25a.25.25 0 0 0-.25.25v5c0 .138.112.25.25.25h8.5a.25.25 0 0 0 .25-.25v-5a.25.25 0 0 0-.25-.25Zm-2 9.5a.25.25 0 0 0-.25.25v3c0 .138.112.25.25.25h12.5a.25.25 0 0 0 .25-.25v-3a.25.25 0 0 0-.25-.25Z"></path><path d="M7 12.75a.75.75 0 0 1 .75-.75h4.5a.75.75 0 0 1 0 1.5h-4.5a.75.75 0 0 1-.75-.75Zm-4 0a.75.75 0 0 1 .75-.75h.5a.75.75 0 0 1 0 1.5h-.5a.75.75 0 0 1-.75-.75Z"></path>
</svg>
        </span>
      
        <span data-view-component="true" class="ActionListItem-label">
          Codespaces
</span></a>
  
</li>

        
          <li role="presentation" aria-hidden="true" data-view-component="true" class="ActionList-sectionDivider"></li>
        
          
<li data-item-id="" data-targets="nav-list.items" data-view-component="true" class="ActionListItem">
    
    
    <a data-analytics-event="{&quot;category&quot;:&quot;Global navigation&quot;,&quot;action&quot;:&quot;EXPLORE&quot;,&quot;label&quot;:null}" id="item-8123f2ef-56af-47a5-97fe-75df789f1df4" href="/explore" data-view-component="true" class="ActionListContent ActionListContent--visual16">
        <span class="ActionListItem-visual ActionListItem-visual--leading">
          <svg aria-hidden="true" height="16" viewBox="0 0 16 16" version="1.1" width="16" data-view-component="true" class="octicon octicon-telescope">
    <path d="M14.184 1.143v-.001l1.422 2.464a1.75 1.75 0 0 1-.757 2.451L3.104 11.713a1.75 1.75 0 0 1-2.275-.702l-.447-.775a1.75 1.75 0 0 1 .53-2.32L11.682.573a1.748 1.748 0 0 1 2.502.57Zm-4.709 9.32h-.001l2.644 3.863a.75.75 0 1 1-1.238.848l-1.881-2.75v2.826a.75.75 0 0 1-1.5 0v-2.826l-1.881 2.75a.75.75 0 1 1-1.238-.848l2.049-2.992a.746.746 0 0 1 .293-.253l1.809-.87a.749.749 0 0 1 .944.252ZM9.436 3.92h-.001l-4.97 3.39.942 1.63 5.42-2.61Zm3.091-2.108h.001l-1.85 1.26 1.505 2.605 2.016-.97a.247.247 0 0 0 .13-.151.247.247 0 0 0-.022-.199l-1.422-2.464a.253.253 0 0 0-.161-.119.254.254 0 0 0-.197.038ZM1.756 9.157a.25.25 0 0 0-.075.33l.447.775a.25.25 0 0 0 .325.1l1.598-.769-.83-1.436-1.465 1Z"></path>
</svg>
        </span>
      
        <span data-view-component="true" class="ActionListItem-label">
          Explore
</span></a>
  
</li>

        
          
<li data-item-id="" data-targets="nav-list.items" data-view-component="true" class="ActionListItem">
    
    
    <a data-analytics-event="{&quot;category&quot;:&quot;Global navigation&quot;,&quot;action&quot;:&quot;MARKETPLACE&quot;,&quot;label&quot;:null}" id="item-39a63d98-8805-4430-8b28-5152a5f40f2d" href="/marketplace" data-view-component="true" class="ActionListContent ActionListContent--visual16">
        <span class="ActionListItem-visual ActionListItem-visual--leading">
          <svg aria-hidden="true" height="16" viewBox="0 0 16 16" version="1.1" width="16" data-view-component="true" class="octicon octicon-gift">
    <path d="M2 2.75A2.75 2.75 0 0 1 4.75 0c.983 0 1.873.42 2.57 1.232.268.318.497.668.68 1.042.183-.375.411-.725.68-1.044C9.376.42 10.266 0 11.25 0a2.75 2.75 0 0 1 2.45 4h.55c.966 0 1.75.784 1.75 1.75v2c0 .698-.409 1.301-1 1.582v4.918A1.75 1.75 0 0 1 13.25 16H2.75A1.75 1.75 0 0 1 1 14.25V9.332C.409 9.05 0 8.448 0 7.75v-2C0 4.784.784 4 1.75 4h.55c-.192-.375-.3-.8-.3-1.25ZM7.25 9.5H2.5v4.75c0 .138.112.25.25.25h4.5Zm1.5 0v5h4.5a.25.25 0 0 0 .25-.25V9.5Zm0-4V8h5.5a.25.25 0 0 0 .25-.25v-2a.25.25 0 0 0-.25-.25Zm-7 0a.25.25 0 0 0-.25.25v2c0 .138.112.25.25.25h5.5V5.5h-5.5Zm3-4a1.25 1.25 0 0 0 0 2.5h2.309c-.233-.818-.542-1.401-.878-1.793-.43-.502-.915-.707-1.431-.707ZM8.941 4h2.309a1.25 1.25 0 0 0 0-2.5c-.516 0-1 .205-1.43.707-.337.392-.646.975-.879 1.793Z"></path>
</svg>
        </span>
      
        <span data-view-component="true" class="ActionListItem-label">
          Marketplace
</span></a>
  
</li>

</ul>  </nav-list>
</nav>

        <div data-view-component="true" class="my-3 d-flex flex-justify-center height-full">
          <svg style="box-sizing: content-box; color: var(--color-icon-primary);" width="16" height="16" viewBox="0 0 16 16" fill="none" data-view-component="true" class="anim-rotate">
  <circle cx="8" cy="8" r="7" stroke="currentColor" stroke-opacity="0.25" stroke-width="2" vector-effect="non-scaling-stroke" fill="none" />
  <path d="M15 8a7.002 7.002 0 00-7-7" stroke="currentColor" stroke-width="2" stroke-linecap="round" vector-effect="non-scaling-stroke" />
</svg>
</div>
</div>
      <div data-view-component="true" class="flex-1"></div>


      <div data-view-component="true" class="px-2">      <p class="color-fg-subtle text-small text-light">&copy; 2024 GitHub, Inc.</p>

      <div data-view-component="true" class="d-flex flex-wrap text-small text-light">
          <a target="_blank" href="https://github.com/about" data-view-component="true" class="Link mr-2">About</a>
          <a target="_blank" href="https://github.blog" data-view-component="true" class="Link mr-2">Blog</a>
          <a target="_blank" href="https://docs.github.com/site-policy/github-terms/github-terms-of-service" data-view-component="true" class="Link mr-2">Terms</a>
          <a target="_blank" href="https://docs.github.com/site-policy/privacy-policies/github-privacy-statement" data-view-component="true" class="Link mr-2">Privacy</a>
          <a target="_blank" href="https://github.com/security" data-view-component="true" class="Link mr-2">Security</a>
          <a target="_blank" href="https://www.githubstatus.com/" data-view-component="true" class="Link mr-3">Status</a>

</div></div>
</div>
      </scrollable-region>
      
</dialog></dialog-helper>

  </include-fragment>
</deferred-side-panel>

        <a
          class="AppHeader-logo ml-2"
          href="https://github.com/"
          data-hotkey="g d"
          aria-label="Homepage "
          data-turbo="false"
          data-analytics-event="{&quot;category&quot;:&quot;Header&quot;,&quot;action&quot;:&quot;go to dashboard&quot;,&quot;label&quot;:&quot;icon:logo&quot;}"
        >
          <svg height="32" aria-hidden="true" viewBox="0 0 16 16" version="1.1" width="32" data-view-component="true" class="octicon octicon-mark-github v-align-middle color-fg-default">
    <path d="M8 0c4.42 0 8 3.58 8 8a8.013 8.013 0 0 1-5.45 7.59c-.4.08-.55-.17-.55-.38 0-.27.01-1.13.01-2.2 0-.75-.25-1.23-.54-1.48 1.78-.2 3.65-.88 3.65-3.95 0-.88-.31-1.59-.82-2.15.08-.2.36-1.02-.08-2.12 0 0-.67-.22-2.2.82-.64-.18-1.32-.27-2-.27-.68 0-1.36.09-2 .27-1.53-1.03-2.2-.82-2.2-.82-.44 1.1-.16 1.92-.08 2.12-.51.56-.82 1.28-.82 2.15 0 3.06 1.86 3.75 3.64 3.95-.23.2-.44.55-.51 1.07-.46.21-1.61.55-2.33-.66-.15-.24-.6-.83-1.23-.82-.67.01-.27.38.01.53.34.19.73.9.82 1.13.16.45.68 1.31 2.69.94 0 .67.01 1.3.01 1.49 0 .21-.15.45-.55.38A7.995 7.995 0 0 1 0 8c0-4.42 3.58-8 8-8Z"></path>
</svg>
        </a>

          <div class="AppHeader-context" >
  <div class="AppHeader-context-compact">
      <button aria-expanded="false" aria-haspopup="dialog" aria-label="Page context: Mogady / BBC_arabic_Analysis" id="dialog-show-context-region-dialog" data-show-dialog-id="context-region-dialog" type="button" data-view-component="true" class="AppHeader-context-compact-trigger Truncate Button--secondary Button--medium Button box-shadow-none">  <span class="Button-content">
    <span class="Button-label"><span class="AppHeader-context-compact-lead">
                <span class="AppHeader-context-compact-parentItem">Mogady</span>
                <span class="no-wrap">&nbsp;/</span>

            </span>

            <strong class="AppHeader-context-compact-mainItem d-flex flex-items-center Truncate" >
  <span class="Truncate-text ">BBC_arabic_Analysis</span>

</strong></span>
  </span>
</button>

<dialog-helper>
  <dialog id="context-region-dialog" aria-modal="true" aria-labelledby="context-region-dialog-title" aria-describedby="context-region-dialog-description" data-view-component="true" class="Overlay Overlay-whenNarrow Overlay--size-medium Overlay--motion-scaleFade">
    <div data-view-component="true" class="Overlay-header">
  <div class="Overlay-headerContentWrap">
    <div class="Overlay-titleWrap">
      <h1 class="Overlay-title " id="context-region-dialog-title">
        Navigate back to
      </h1>
    </div>
    <div class="Overlay-actionWrap">
      <button data-close-dialog-id="context-region-dialog" aria-label="Close" type="button" data-view-component="true" class="close-button Overlay-closeButton"><svg aria-hidden="true" height="16" viewBox="0 0 16 16" version="1.1" width="16" data-view-component="true" class="octicon octicon-x">
    <path d="M3.72 3.72a.75.75 0 0 1 1.06 0L8 6.94l3.22-3.22a.749.749 0 0 1 1.275.326.749.749 0 0 1-.215.734L9.06 8l3.22 3.22a.749.749 0 0 1-.326 1.275.749.749 0 0 1-.734-.215L8 9.06l-3.22 3.22a.751.751 0 0 1-1.042-.018.751.751 0 0 1-.018-1.042L6.94 8 3.72 4.78a.75.75 0 0 1 0-1.06Z"></path>
</svg></button>
    </div>
  </div>
</div>
      <scrollable-region data-labelled-by="context-region-dialog-title">
        <div data-view-component="true" class="Overlay-body">          <ul role="list" class="list-style-none" >
    <li>
      <a data-analytics-event="{&quot;category&quot;:&quot;SiteHeaderComponent&quot;,&quot;action&quot;:&quot;context_region_crumb&quot;,&quot;label&quot;:&quot;Mogady&quot;,&quot;screen_size&quot;:&quot;compact&quot;}" href="/Mogady" data-view-component="true" class="Link--primary Truncate d-flex flex-items-center py-1">
        <span class="AppHeader-context-item-label Truncate-text ">
            <svg aria-hidden="true" height="12" viewBox="0 0 16 16" version="1.1" width="12" data-view-component="true" class="octicon octicon-person mr-1">
    <path d="M10.561 8.073a6.005 6.005 0 0 1 3.432 5.142.75.75 0 1 1-1.498.07 4.5 4.5 0 0 0-8.99 0 .75.75 0 0 1-1.498-.07 6.004 6.004 0 0 1 3.431-5.142 3.999 3.999 0 1 1 5.123 0ZM10.5 5a2.5 2.5 0 1 0-5 0 2.5 2.5 0 0 0 5 0Z"></path>
</svg>

          Mogady
        </span>

</a>
    </li>
    <li>
      <a data-analytics-event="{&quot;category&quot;:&quot;SiteHeaderComponent&quot;,&quot;action&quot;:&quot;context_region_crumb&quot;,&quot;label&quot;:&quot;BBC_arabic_Analysis&quot;,&quot;screen_size&quot;:&quot;compact&quot;}" href="/Mogady/BBC_arabic_Analysis" data-view-component="true" class="Link--primary Truncate d-flex flex-items-center py-1">
        <span class="AppHeader-context-item-label Truncate-text ">
            <svg aria-hidden="true" height="12" viewBox="0 0 16 16" version="1.1" width="12" data-view-component="true" class="octicon octicon-repo mr-1">
    <path d="M2 2.5A2.5 2.5 0 0 1 4.5 0h8.75a.75.75 0 0 1 .75.75v12.5a.75.75 0 0 1-.75.75h-2.5a.75.75 0 0 1 0-1.5h1.75v-2h-8a1 1 0 0 0-.714 1.7.75.75 0 1 1-1.072 1.05A2.495 2.495 0 0 1 2 11.5Zm10.5-1h-8a1 1 0 0 0-1 1v6.708A2.486 2.486 0 0 1 4.5 9h8ZM5 12.25a.25.25 0 0 1 .25-.25h3.5a.25.25 0 0 1 .25.25v3.25a.25.25 0 0 1-.4.2l-1.45-1.087a.249.249 0 0 0-.3 0L5.4 15.7a.25.25 0 0 1-.4-.2Z"></path>
</svg>

          BBC_arabic_Analysis
        </span>

</a>
    </li>
</ul>

</div>
      </scrollable-region>
      
</dialog></dialog-helper>
  </div>

  <div class="AppHeader-context-full">
    <nav role="navigation" aria-label="Page context">
      <ul role="list" class="list-style-none" >
    <li>
      <a data-analytics-event="{&quot;category&quot;:&quot;SiteHeaderComponent&quot;,&quot;action&quot;:&quot;context_region_crumb&quot;,&quot;label&quot;:&quot;Mogady&quot;,&quot;screen_size&quot;:&quot;full&quot;}" data-hovercard-type="user" data-hovercard-url="/users/Mogady/hovercard" data-octo-click="hovercard-link-click" data-octo-dimensions="link_type:self" href="/Mogady" data-view-component="true" class="AppHeader-context-item">
        <span class="AppHeader-context-item-label  ">

          Mogady
        </span>

</a>
        <span class="AppHeader-context-item-separator">/</span>
    </li>
    <li>
      <a data-analytics-event="{&quot;category&quot;:&quot;SiteHeaderComponent&quot;,&quot;action&quot;:&quot;context_region_crumb&quot;,&quot;label&quot;:&quot;BBC_arabic_Analysis&quot;,&quot;screen_size&quot;:&quot;full&quot;}" href="/Mogady/BBC_arabic_Analysis" data-view-component="true" class="AppHeader-context-item">
        <span class="AppHeader-context-item-label  ">

          BBC_arabic_Analysis
        </span>

</a>
    </li>
</ul>

    </nav>
  </div>
</div>

      </div>
      <div class="AppHeader-globalBar-end">
          <div class="AppHeader-search" >
              


<qbsearch-input class="search-input" data-scope="repo:Mogady/BBC_arabic_Analysis" data-custom-scopes-path="/search/custom_scopes" data-delete-custom-scopes-csrf="gacudL-sROLeKZY_yy0PyfIX-6AfYVMw3TKJH-1-vCKP5_l5rHTOg_SmJzu_eoos-5PXKdPMdoFZYqHv-GSGWQ" data-max-custom-scopes="10" data-header-redesign-enabled="true" data-initial-value="" data-blackbird-suggestions-path="/search/suggestions" data-jump-to-suggestions-path="/_graphql/GetSuggestedNavigationDestinations" data-current-repository="Mogady/BBC_arabic_Analysis" data-current-org="" data-current-owner="Mogady" data-logged-in="true" data-copilot-chat-enabled="false" data-blackbird-indexed-repo-csrf="<input type=&quot;hidden&quot; value=&quot;00jMVteXey1bei8s8ZMa39SNLBn2_1mig-bwnqsM0fl-nojLEO7-h64taWBAko2P36w8ys3VBgOIPMT0Va4qgA&quot; data-csrf=&quot;true&quot; />">
  <div
    class="search-input-container search-with-dialog position-relative d-flex flex-row flex-items-center height-auto color-bg-transparent border-0 color-fg-subtle mx-0"
    data-action="click:qbsearch-input#searchInputContainerClicked"
  >
      
            <button type="button" data-action="click:qbsearch-input#handleExpand" class="AppHeader-button AppHeader-search-whenNarrow" aria-label="Search or jump to…" aria-expanded="false" aria-haspopup="dialog">
            <svg aria-hidden="true" height="16" viewBox="0 0 16 16" version="1.1" width="16" data-view-component="true" class="octicon octicon-search">
    <path d="M10.68 11.74a6 6 0 0 1-7.922-8.982 6 6 0 0 1 8.982 7.922l3.04 3.04a.749.749 0 0 1-.326 1.275.749.749 0 0 1-.734-.215ZM11.5 7a4.499 4.499 0 1 0-8.997 0A4.499 4.499 0 0 0 11.5 7Z"></path>
</svg>
          </button>


<div class="AppHeader-search-whenRegular">
  <div class="AppHeader-search-wrap AppHeader-search-wrap--hasTrailing">
    <div class="AppHeader-search-control">
      <label
        for="AppHeader-searchInput"
        aria-label="Search or jump to…"
        class="AppHeader-search-visual--leading"
      >
        <svg aria-hidden="true" height="16" viewBox="0 0 16 16" version="1.1" width="16" data-view-component="true" class="octicon octicon-search">
    <path d="M10.68 11.74a6 6 0 0 1-7.922-8.982 6 6 0 0 1 8.982 7.922l3.04 3.04a.749.749 0 0 1-.326 1.275.749.749 0 0 1-.734-.215ZM11.5 7a4.499 4.499 0 1 0-8.997 0A4.499 4.499 0 0 0 11.5 7Z"></path>
</svg>
      </label>

                <button
            type="button"
            data-target="qbsearch-input.inputButton"
            data-action="click:qbsearch-input#handleExpand"
            class="AppHeader-searchButton form-control input-contrast text-left color-fg-subtle no-wrap"
            data-hotkey="s,/"
            data-analytics-event="{&quot;category&quot;:&quot;Global navigation&quot;,&quot;action&quot;:&quot;SEARCH&quot;,&quot;label&quot;:null}"
            aria-describedby="search-error-message-flash"
          >
            <div class="overflow-hidden">
              <span id="qb-input-query" data-target="qbsearch-input.inputButtonText">
                  Type <kbd class="AppHeader-search-kbd">/</kbd> to search
              </span>
            </div>
          </button>

    </div>


      <button type="button" id="AppHeader-commandPalette-button" class="AppHeader-search-action--trailing js-activate-command-palette" data-analytics-event="{&quot;category&quot;:&quot;SiteHeaderComponent&quot;,&quot;action&quot;:&quot;command_palette&quot;,&quot;label&quot;:&quot;open command palette&quot;}">
        <svg aria-hidden="true" height="16" viewBox="0 0 16 16" version="1.1" width="16" data-view-component="true" class="octicon octicon-command-palette">
    <path d="m6.354 8.04-4.773 4.773a.75.75 0 1 0 1.061 1.06L7.945 8.57a.75.75 0 0 0 0-1.06L2.642 2.206a.75.75 0 0 0-1.06 1.061L6.353 8.04ZM8.75 11.5a.75.75 0 0 0 0 1.5h5.5a.75.75 0 0 0 0-1.5h-5.5Z"></path>
</svg>
      </button>

      <tool-tip id="tooltip-86080ab6-7d20-463f-aedf-57ab8bce4d2b" for="AppHeader-commandPalette-button" popover="manual" data-direction="s" data-type="label" data-view-component="true" class="sr-only position-absolute">Command palette</tool-tip>
  </div>
</div>

    <input type="hidden" name="type" class="js-site-search-type-field">

    
<div class="Overlay--hidden " data-modal-dialog-overlay>
  <modal-dialog data-action="close:qbsearch-input#handleClose cancel:qbsearch-input#handleClose" data-target="qbsearch-input.searchSuggestionsDialog" role="dialog" id="search-suggestions-dialog" aria-modal="true" aria-labelledby="search-suggestions-dialog-header" data-view-component="true" class="Overlay Overlay--width-medium Overlay--height-auto">
      <h1 id="search-suggestions-dialog-header" class="sr-only">Search code, repositories, users, issues, pull requests...</h1>
    <div class="Overlay-body Overlay-body--paddingNone">
      
          <div data-view-component="true">        <div class="search-suggestions position-absolute width-full color-shadow-large border color-fg-default color-bg-default overflow-hidden d-flex flex-column query-builder-container"
          style="border-radius: 12px;"
          data-target="qbsearch-input.queryBuilderContainer"
          hidden
        >
          <!-- '"` --><!-- </textarea></xmp> --></option></form><form id="query-builder-test-form" action="" accept-charset="UTF-8" method="get">
  <query-builder data-target="qbsearch-input.queryBuilder" id="query-builder-query-builder-test" data-filter-key=":" data-view-component="true" class="QueryBuilder search-query-builder">
    <div class="FormControl FormControl--fullWidth">
      <label id="query-builder-test-label" for="query-builder-test" class="FormControl-label sr-only">
        Search
      </label>
      <div
        class="QueryBuilder-StyledInput width-fit "
        data-target="query-builder.styledInput"
      >
          <span id="query-builder-test-leadingvisual-wrap" class="FormControl-input-leadingVisualWrap QueryBuilder-leadingVisualWrap">
            <svg aria-hidden="true" height="16" viewBox="0 0 16 16" version="1.1" width="16" data-view-component="true" class="octicon octicon-search FormControl-input-leadingVisual">
    <path d="M10.68 11.74a6 6 0 0 1-7.922-8.982 6 6 0 0 1 8.982 7.922l3.04 3.04a.749.749 0 0 1-.326 1.275.749.749 0 0 1-.734-.215ZM11.5 7a4.499 4.499 0 1 0-8.997 0A4.499 4.499 0 0 0 11.5 7Z"></path>
</svg>
          </span>
        <div data-target="query-builder.styledInputContainer" class="QueryBuilder-StyledInputContainer">
          <div
            aria-hidden="true"
            class="QueryBuilder-StyledInputContent"
            data-target="query-builder.styledInputContent"
          ></div>
          <div class="QueryBuilder-InputWrapper">
            <div aria-hidden="true" class="QueryBuilder-Sizer" data-target="query-builder.sizer"></div>
            <input id="query-builder-test" name="query-builder-test" value="" autocomplete="off" type="text" role="combobox" spellcheck="false" aria-expanded="false" aria-describedby="validation-d78d0b06-3b51-48e4-b4c4-a7ff66e9a26d" data-target="query-builder.input" data-action="
          input:query-builder#inputChange
          blur:query-builder#inputBlur
          keydown:query-builder#inputKeydown
          focus:query-builder#inputFocus
        " data-view-component="true" class="FormControl-input QueryBuilder-Input FormControl-medium" />
          </div>
        </div>
          <span class="sr-only" id="query-builder-test-clear">Clear</span>
          <button role="button" id="query-builder-test-clear-button" aria-labelledby="query-builder-test-clear query-builder-test-label" data-target="query-builder.clearButton" data-action="
                click:query-builder#clear
                focus:query-builder#clearButtonFocus
                blur:query-builder#clearButtonBlur
              " variant="small" hidden="hidden" type="button" data-view-component="true" class="Button Button--iconOnly Button--invisible Button--medium mr-1 px-2 py-0 d-flex flex-items-center rounded-1 color-fg-muted">  <svg aria-hidden="true" height="16" viewBox="0 0 16 16" version="1.1" width="16" data-view-component="true" class="octicon octicon-x-circle-fill Button-visual">
    <path d="M2.343 13.657A8 8 0 1 1 13.658 2.343 8 8 0 0 1 2.343 13.657ZM6.03 4.97a.751.751 0 0 0-1.042.018.751.751 0 0 0-.018 1.042L6.94 8 4.97 9.97a.749.749 0 0 0 .326 1.275.749.749 0 0 0 .734-.215L8 9.06l1.97 1.97a.749.749 0 0 0 1.275-.326.749.749 0 0 0-.215-.734L9.06 8l1.97-1.97a.749.749 0 0 0-.326-1.275.749.749 0 0 0-.734.215L8 6.94Z"></path>
</svg>
</button>

      </div>
      <template id="search-icon">
  <svg aria-hidden="true" height="16" viewBox="0 0 16 16" version="1.1" width="16" data-view-component="true" class="octicon octicon-search">
    <path d="M10.68 11.74a6 6 0 0 1-7.922-8.982 6 6 0 0 1 8.982 7.922l3.04 3.04a.749.749 0 0 1-.326 1.275.749.749 0 0 1-.734-.215ZM11.5 7a4.499 4.499 0 1 0-8.997 0A4.499 4.499 0 0 0 11.5 7Z"></path>
</svg>
</template>

<template id="code-icon">
  <svg aria-hidden="true" height="16" viewBox="0 0 16 16" version="1.1" width="16" data-view-component="true" class="octicon octicon-code">
    <path d="m11.28 3.22 4.25 4.25a.75.75 0 0 1 0 1.06l-4.25 4.25a.749.749 0 0 1-1.275-.326.749.749 0 0 1 .215-.734L13.94 8l-3.72-3.72a.749.749 0 0 1 .326-1.275.749.749 0 0 1 .734.215Zm-6.56 0a.751.751 0 0 1 1.042.018.751.751 0 0 1 .018 1.042L2.06 8l3.72 3.72a.749.749 0 0 1-.326 1.275.749.749 0 0 1-.734-.215L.47 8.53a.75.75 0 0 1 0-1.06Z"></path>
</svg>
</template>

<template id="file-code-icon">
  <svg aria-hidden="true" height="16" viewBox="0 0 16 16" version="1.1" width="16" data-view-component="true" class="octicon octicon-file-code">
    <path d="M4 1.75C4 .784 4.784 0 5.75 0h5.586c.464 0 .909.184 1.237.513l2.914 2.914c.329.328.513.773.513 1.237v8.586A1.75 1.75 0 0 1 14.25 15h-9a.75.75 0 0 1 0-1.5h9a.25.25 0 0 0 .25-.25V6h-2.75A1.75 1.75 0 0 1 10 4.25V1.5H5.75a.25.25 0 0 0-.25.25v2.5a.75.75 0 0 1-1.5 0Zm1.72 4.97a.75.75 0 0 1 1.06 0l2 2a.75.75 0 0 1 0 1.06l-2 2a.749.749 0 0 1-1.275-.326.749.749 0 0 1 .215-.734l1.47-1.47-1.47-1.47a.75.75 0 0 1 0-1.06ZM3.28 7.78 1.81 9.25l1.47 1.47a.751.751 0 0 1-.018 1.042.751.751 0 0 1-1.042.018l-2-2a.75.75 0 0 1 0-1.06l2-2a.751.751 0 0 1 1.042.018.751.751 0 0 1 .018 1.042Zm8.22-6.218V4.25c0 .138.112.25.25.25h2.688l-.011-.013-2.914-2.914-.013-.011Z"></path>
</svg>
</template>

<template id="history-icon">
  <svg aria-hidden="true" height="16" viewBox="0 0 16 16" version="1.1" width="16" data-view-component="true" class="octicon octicon-history">
    <path d="m.427 1.927 1.215 1.215a8.002 8.002 0 1 1-1.6 5.685.75.75 0 1 1 1.493-.154 6.5 6.5 0 1 0 1.18-4.458l1.358 1.358A.25.25 0 0 1 3.896 6H.25A.25.25 0 0 1 0 5.75V2.104a.25.25 0 0 1 .427-.177ZM7.75 4a.75.75 0 0 1 .75.75v2.992l2.028.812a.75.75 0 0 1-.557 1.392l-2.5-1A.751.751 0 0 1 7 8.25v-3.5A.75.75 0 0 1 7.75 4Z"></path>
</svg>
</template>

<template id="repo-icon">
  <svg aria-hidden="true" height="16" viewBox="0 0 16 16" version="1.1" width="16" data-view-component="true" class="octicon octicon-repo">
    <path d="M2 2.5A2.5 2.5 0 0 1 4.5 0h8.75a.75.75 0 0 1 .75.75v12.5a.75.75 0 0 1-.75.75h-2.5a.75.75 0 0 1 0-1.5h1.75v-2h-8a1 1 0 0 0-.714 1.7.75.75 0 1 1-1.072 1.05A2.495 2.495 0 0 1 2 11.5Zm10.5-1h-8a1 1 0 0 0-1 1v6.708A2.486 2.486 0 0 1 4.5 9h8ZM5 12.25a.25.25 0 0 1 .25-.25h3.5a.25.25 0 0 1 .25.25v3.25a.25.25 0 0 1-.4.2l-1.45-1.087a.249.249 0 0 0-.3 0L5.4 15.7a.25.25 0 0 1-.4-.2Z"></path>
</svg>
</template>

<template id="bookmark-icon">
  <svg aria-hidden="true" height="16" viewBox="0 0 16 16" version="1.1" width="16" data-view-component="true" class="octicon octicon-bookmark">
    <path d="M3 2.75C3 1.784 3.784 1 4.75 1h6.5c.966 0 1.75.784 1.75 1.75v11.5a.75.75 0 0 1-1.227.579L8 11.722l-3.773 3.107A.751.751 0 0 1 3 14.25Zm1.75-.25a.25.25 0 0 0-.25.25v9.91l3.023-2.489a.75.75 0 0 1 .954 0l3.023 2.49V2.75a.25.25 0 0 0-.25-.25Z"></path>
</svg>
</template>

<template id="plus-circle-icon">
  <svg aria-hidden="true" height="16" viewBox="0 0 16 16" version="1.1" width="16" data-view-component="true" class="octicon octicon-plus-circle">
    <path d="M8 0a8 8 0 1 1 0 16A8 8 0 0 1 8 0ZM1.5 8a6.5 6.5 0 1 0 13 0 6.5 6.5 0 0 0-13 0Zm7.25-3.25v2.5h2.5a.75.75 0 0 1 0 1.5h-2.5v2.5a.75.75 0 0 1-1.5 0v-2.5h-2.5a.75.75 0 0 1 0-1.5h2.5v-2.5a.75.75 0 0 1 1.5 0Z"></path>
</svg>
</template>

<template id="circle-icon">
  <svg aria-hidden="true" height="16" viewBox="0 0 16 16" version="1.1" width="16" data-view-component="true" class="octicon octicon-dot-fill">
    <path d="M8 4a4 4 0 1 1 0 8 4 4 0 0 1 0-8Z"></path>
</svg>
</template>

<template id="trash-icon">
  <svg aria-hidden="true" height="16" viewBox="0 0 16 16" version="1.1" width="16" data-view-component="true" class="octicon octicon-trash">
    <path d="M11 1.75V3h2.25a.75.75 0 0 1 0 1.5H2.75a.75.75 0 0 1 0-1.5H5V1.75C5 .784 5.784 0 6.75 0h2.5C10.216 0 11 .784 11 1.75ZM4.496 6.675l.66 6.6a.25.25 0 0 0 .249.225h5.19a.25.25 0 0 0 .249-.225l.66-6.6a.75.75 0 0 1 1.492.149l-.66 6.6A1.748 1.748 0 0 1 10.595 15h-5.19a1.75 1.75 0 0 1-1.741-1.575l-.66-6.6a.75.75 0 1 1 1.492-.15ZM6.5 1.75V3h3V1.75a.25.25 0 0 0-.25-.25h-2.5a.25.25 0 0 0-.25.25Z"></path>
</svg>
</template>

<template id="team-icon">
  <svg aria-hidden="true" height="16" viewBox="0 0 16 16" version="1.1" width="16" data-view-component="true" class="octicon octicon-people">
    <path d="M2 5.5a3.5 3.5 0 1 1 5.898 2.549 5.508 5.508 0 0 1 3.034 4.084.75.75 0 1 1-1.482.235 4 4 0 0 0-7.9 0 .75.75 0 0 1-1.482-.236A5.507 5.507 0 0 1 3.102 8.05 3.493 3.493 0 0 1 2 5.5ZM11 4a3.001 3.001 0 0 1 2.22 5.018 5.01 5.01 0 0 1 2.56 3.012.749.749 0 0 1-.885.954.752.752 0 0 1-.549-.514 3.507 3.507 0 0 0-2.522-2.372.75.75 0 0 1-.574-.73v-.352a.75.75 0 0 1 .416-.672A1.5 1.5 0 0 0 11 5.5.75.75 0 0 1 11 4Zm-5.5-.5a2 2 0 1 0-.001 3.999A2 2 0 0 0 5.5 3.5Z"></path>
</svg>
</template>

<template id="project-icon">
  <svg aria-hidden="true" height="16" viewBox="0 0 16 16" version="1.1" width="16" data-view-component="true" class="octicon octicon-project">
    <path d="M1.75 0h12.5C15.216 0 16 .784 16 1.75v12.5A1.75 1.75 0 0 1 14.25 16H1.75A1.75 1.75 0 0 1 0 14.25V1.75C0 .784.784 0 1.75 0ZM1.5 1.75v12.5c0 .138.112.25.25.25h12.5a.25.25 0 0 0 .25-.25V1.75a.25.25 0 0 0-.25-.25H1.75a.25.25 0 0 0-.25.25ZM11.75 3a.75.75 0 0 1 .75.75v7.5a.75.75 0 0 1-1.5 0v-7.5a.75.75 0 0 1 .75-.75Zm-8.25.75a.75.75 0 0 1 1.5 0v5.5a.75.75 0 0 1-1.5 0ZM8 3a.75.75 0 0 1 .75.75v3.5a.75.75 0 0 1-1.5 0v-3.5A.75.75 0 0 1 8 3Z"></path>
</svg>
</template>

<template id="pencil-icon">
  <svg aria-hidden="true" height="16" viewBox="0 0 16 16" version="1.1" width="16" data-view-component="true" class="octicon octicon-pencil">
    <path d="M11.013 1.427a1.75 1.75 0 0 1 2.474 0l1.086 1.086a1.75 1.75 0 0 1 0 2.474l-8.61 8.61c-.21.21-.47.364-.756.445l-3.251.93a.75.75 0 0 1-.927-.928l.929-3.25c.081-.286.235-.547.445-.758l8.61-8.61Zm.176 4.823L9.75 4.81l-6.286 6.287a.253.253 0 0 0-.064.108l-.558 1.953 1.953-.558a.253.253 0 0 0 .108-.064Zm1.238-3.763a.25.25 0 0 0-.354 0L10.811 3.75l1.439 1.44 1.263-1.263a.25.25 0 0 0 0-.354Z"></path>
</svg>
</template>

<template id="copilot-icon">
  <svg aria-hidden="true" height="16" viewBox="0 0 16 16" version="1.1" width="16" data-view-component="true" class="octicon octicon-copilot">
    <path d="M7.998 15.035c-4.562 0-7.873-2.914-7.998-3.749V9.338c.085-.628.677-1.686 1.588-2.065.013-.07.024-.143.036-.218.029-.183.06-.384.126-.612-.201-.508-.254-1.084-.254-1.656 0-.87.128-1.769.693-2.484.579-.733 1.494-1.124 2.724-1.261 1.206-.134 2.262.034 2.944.765.05.053.096.108.139.165.044-.057.094-.112.143-.165.682-.731 1.738-.899 2.944-.765 1.23.137 2.145.528 2.724 1.261.566.715.693 1.614.693 2.484 0 .572-.053 1.148-.254 1.656.066.228.098.429.126.612.012.076.024.148.037.218.924.385 1.522 1.471 1.591 2.095v1.872c0 .766-3.351 3.795-8.002 3.795Zm0-1.485c2.28 0 4.584-1.11 5.002-1.433V7.862l-.023-.116c-.49.21-1.075.291-1.727.291-1.146 0-2.059-.327-2.71-.991A3.222 3.222 0 0 1 8 6.303a3.24 3.24 0 0 1-.544.743c-.65.664-1.563.991-2.71.991-.652 0-1.236-.081-1.727-.291l-.023.116v4.255c.419.323 2.722 1.433 5.002 1.433ZM6.762 2.83c-.193-.206-.637-.413-1.682-.297-1.019.113-1.479.404-1.713.7-.247.312-.369.789-.369 1.554 0 .793.129 1.171.308 1.371.162.181.519.379 1.442.379.853 0 1.339-.235 1.638-.54.315-.322.527-.827.617-1.553.117-.935-.037-1.395-.241-1.614Zm4.155-.297c-1.044-.116-1.488.091-1.681.297-.204.219-.359.679-.242 1.614.091.726.303 1.231.618 1.553.299.305.784.54 1.638.54.922 0 1.28-.198 1.442-.379.179-.2.308-.578.308-1.371 0-.765-.123-1.242-.37-1.554-.233-.296-.693-.587-1.713-.7Z"></path><path d="M6.25 9.037a.75.75 0 0 1 .75.75v1.501a.75.75 0 0 1-1.5 0V9.787a.75.75 0 0 1 .75-.75Zm4.25.75v1.501a.75.75 0 0 1-1.5 0V9.787a.75.75 0 0 1 1.5 0Z"></path>
</svg>
</template>

<template id="workflow-icon">
  <svg aria-hidden="true" height="16" viewBox="0 0 16 16" version="1.1" width="16" data-view-component="true" class="octicon octicon-workflow">
    <path d="M0 1.75C0 .784.784 0 1.75 0h3.5C6.216 0 7 .784 7 1.75v3.5A1.75 1.75 0 0 1 5.25 7H4v4a1 1 0 0 0 1 1h4v-1.25C9 9.784 9.784 9 10.75 9h3.5c.966 0 1.75.784 1.75 1.75v3.5A1.75 1.75 0 0 1 14.25 16h-3.5A1.75 1.75 0 0 1 9 14.25v-.75H5A2.5 2.5 0 0 1 2.5 11V7h-.75A1.75 1.75 0 0 1 0 5.25Zm1.75-.25a.25.25 0 0 0-.25.25v3.5c0 .138.112.25.25.25h3.5a.25.25 0 0 0 .25-.25v-3.5a.25.25 0 0 0-.25-.25Zm9 9a.25.25 0 0 0-.25.25v3.5c0 .138.112.25.25.25h3.5a.25.25 0 0 0 .25-.25v-3.5a.25.25 0 0 0-.25-.25Z"></path>
</svg>
</template>

<template id="book-icon">
  <svg aria-hidden="true" height="16" viewBox="0 0 16 16" version="1.1" width="16" data-view-component="true" class="octicon octicon-book">
    <path d="M0 1.75A.75.75 0 0 1 .75 1h4.253c1.227 0 2.317.59 3 1.501A3.743 3.743 0 0 1 11.006 1h4.245a.75.75 0 0 1 .75.75v10.5a.75.75 0 0 1-.75.75h-4.507a2.25 2.25 0 0 0-1.591.659l-.622.621a.75.75 0 0 1-1.06 0l-.622-.621A2.25 2.25 0 0 0 5.258 13H.75a.75.75 0 0 1-.75-.75Zm7.251 10.324.004-5.073-.002-2.253A2.25 2.25 0 0 0 5.003 2.5H1.5v9h3.757a3.75 3.75 0 0 1 1.994.574ZM8.755 4.75l-.004 7.322a3.752 3.752 0 0 1 1.992-.572H14.5v-9h-3.495a2.25 2.25 0 0 0-2.25 2.25Z"></path>
</svg>
</template>

<template id="code-review-icon">
  <svg aria-hidden="true" height="16" viewBox="0 0 16 16" version="1.1" width="16" data-view-component="true" class="octicon octicon-code-review">
    <path d="M1.75 1h12.5c.966 0 1.75.784 1.75 1.75v8.5A1.75 1.75 0 0 1 14.25 13H8.061l-2.574 2.573A1.458 1.458 0 0 1 3 14.543V13H1.75A1.75 1.75 0 0 1 0 11.25v-8.5C0 1.784.784 1 1.75 1ZM1.5 2.75v8.5c0 .138.112.25.25.25h2a.75.75 0 0 1 .75.75v2.19l2.72-2.72a.749.749 0 0 1 .53-.22h6.5a.25.25 0 0 0 .25-.25v-8.5a.25.25 0 0 0-.25-.25H1.75a.25.25 0 0 0-.25.25Zm5.28 1.72a.75.75 0 0 1 0 1.06L5.31 7l1.47 1.47a.751.751 0 0 1-.018 1.042.751.751 0 0 1-1.042.018l-2-2a.75.75 0 0 1 0-1.06l2-2a.75.75 0 0 1 1.06 0Zm2.44 0a.75.75 0 0 1 1.06 0l2 2a.75.75 0 0 1 0 1.06l-2 2a.751.751 0 0 1-1.042-.018.751.751 0 0 1-.018-1.042L10.69 7 9.22 5.53a.75.75 0 0 1 0-1.06Z"></path>
</svg>
</template>

<template id="codespaces-icon">
  <svg aria-hidden="true" height="16" viewBox="0 0 16 16" version="1.1" width="16" data-view-component="true" class="octicon octicon-codespaces">
    <path d="M0 11.25c0-.966.784-1.75 1.75-1.75h12.5c.966 0 1.75.784 1.75 1.75v3A1.75 1.75 0 0 1 14.25 16H1.75A1.75 1.75 0 0 1 0 14.25Zm2-9.5C2 .784 2.784 0 3.75 0h8.5C13.216 0 14 .784 14 1.75v5a1.75 1.75 0 0 1-1.75 1.75h-8.5A1.75 1.75 0 0 1 2 6.75Zm1.75-.25a.25.25 0 0 0-.25.25v5c0 .138.112.25.25.25h8.5a.25.25 0 0 0 .25-.25v-5a.25.25 0 0 0-.25-.25Zm-2 9.5a.25.25 0 0 0-.25.25v3c0 .138.112.25.25.25h12.5a.25.25 0 0 0 .25-.25v-3a.25.25 0 0 0-.25-.25Z"></path><path d="M7 12.75a.75.75 0 0 1 .75-.75h4.5a.75.75 0 0 1 0 1.5h-4.5a.75.75 0 0 1-.75-.75Zm-4 0a.75.75 0 0 1 .75-.75h.5a.75.75 0 0 1 0 1.5h-.5a.75.75 0 0 1-.75-.75Z"></path>
</svg>
</template>

<template id="comment-icon">
  <svg aria-hidden="true" height="16" viewBox="0 0 16 16" version="1.1" width="16" data-view-component="true" class="octicon octicon-comment">
    <path d="M1 2.75C1 1.784 1.784 1 2.75 1h10.5c.966 0 1.75.784 1.75 1.75v7.5A1.75 1.75 0 0 1 13.25 12H9.06l-2.573 2.573A1.458 1.458 0 0 1 4 13.543V12H2.75A1.75 1.75 0 0 1 1 10.25Zm1.75-.25a.25.25 0 0 0-.25.25v7.5c0 .138.112.25.25.25h2a.75.75 0 0 1 .75.75v2.19l2.72-2.72a.749.749 0 0 1 .53-.22h4.5a.25.25 0 0 0 .25-.25v-7.5a.25.25 0 0 0-.25-.25Z"></path>
</svg>
</template>

<template id="comment-discussion-icon">
  <svg aria-hidden="true" height="16" viewBox="0 0 16 16" version="1.1" width="16" data-view-component="true" class="octicon octicon-comment-discussion">
    <path d="M1.75 1h8.5c.966 0 1.75.784 1.75 1.75v5.5A1.75 1.75 0 0 1 10.25 10H7.061l-2.574 2.573A1.458 1.458 0 0 1 2 11.543V10h-.25A1.75 1.75 0 0 1 0 8.25v-5.5C0 1.784.784 1 1.75 1ZM1.5 2.75v5.5c0 .138.112.25.25.25h1a.75.75 0 0 1 .75.75v2.19l2.72-2.72a.749.749 0 0 1 .53-.22h3.5a.25.25 0 0 0 .25-.25v-5.5a.25.25 0 0 0-.25-.25h-8.5a.25.25 0 0 0-.25.25Zm13 2a.25.25 0 0 0-.25-.25h-.5a.75.75 0 0 1 0-1.5h.5c.966 0 1.75.784 1.75 1.75v5.5A1.75 1.75 0 0 1 14.25 12H14v1.543a1.458 1.458 0 0 1-2.487 1.03L9.22 12.28a.749.749 0 0 1 .326-1.275.749.749 0 0 1 .734.215l2.22 2.22v-2.19a.75.75 0 0 1 .75-.75h1a.25.25 0 0 0 .25-.25Z"></path>
</svg>
</template>

<template id="organization-icon">
  <svg aria-hidden="true" height="16" viewBox="0 0 16 16" version="1.1" width="16" data-view-component="true" class="octicon octicon-organization">
    <path d="M1.75 16A1.75 1.75 0 0 1 0 14.25V1.75C0 .784.784 0 1.75 0h8.5C11.216 0 12 .784 12 1.75v12.5c0 .085-.006.168-.018.25h2.268a.25.25 0 0 0 .25-.25V8.285a.25.25 0 0 0-.111-.208l-1.055-.703a.749.749 0 1 1 .832-1.248l1.055.703c.487.325.779.871.779 1.456v5.965A1.75 1.75 0 0 1 14.25 16h-3.5a.766.766 0 0 1-.197-.026c-.099.017-.2.026-.303.026h-3a.75.75 0 0 1-.75-.75V14h-1v1.25a.75.75 0 0 1-.75.75Zm-.25-1.75c0 .138.112.25.25.25H4v-1.25a.75.75 0 0 1 .75-.75h2.5a.75.75 0 0 1 .75.75v1.25h2.25a.25.25 0 0 0 .25-.25V1.75a.25.25 0 0 0-.25-.25h-8.5a.25.25 0 0 0-.25.25ZM3.75 6h.5a.75.75 0 0 1 0 1.5h-.5a.75.75 0 0 1 0-1.5ZM3 3.75A.75.75 0 0 1 3.75 3h.5a.75.75 0 0 1 0 1.5h-.5A.75.75 0 0 1 3 3.75Zm4 3A.75.75 0 0 1 7.75 6h.5a.75.75 0 0 1 0 1.5h-.5A.75.75 0 0 1 7 6.75ZM7.75 3h.5a.75.75 0 0 1 0 1.5h-.5a.75.75 0 0 1 0-1.5ZM3 9.75A.75.75 0 0 1 3.75 9h.5a.75.75 0 0 1 0 1.5h-.5A.75.75 0 0 1 3 9.75ZM7.75 9h.5a.75.75 0 0 1 0 1.5h-.5a.75.75 0 0 1 0-1.5Z"></path>
</svg>
</template>

<template id="rocket-icon">
  <svg aria-hidden="true" height="16" viewBox="0 0 16 16" version="1.1" width="16" data-view-component="true" class="octicon octicon-rocket">
    <path d="M14.064 0h.186C15.216 0 16 .784 16 1.75v.186a8.752 8.752 0 0 1-2.564 6.186l-.458.459c-.314.314-.641.616-.979.904v3.207c0 .608-.315 1.172-.833 1.49l-2.774 1.707a.749.749 0 0 1-1.11-.418l-.954-3.102a1.214 1.214 0 0 1-.145-.125L3.754 9.816a1.218 1.218 0 0 1-.124-.145L.528 8.717a.749.749 0 0 1-.418-1.11l1.71-2.774A1.748 1.748 0 0 1 3.31 4h3.204c.288-.338.59-.665.904-.979l.459-.458A8.749 8.749 0 0 1 14.064 0ZM8.938 3.623h-.002l-.458.458c-.76.76-1.437 1.598-2.02 2.5l-1.5 2.317 2.143 2.143 2.317-1.5c.902-.583 1.74-1.26 2.499-2.02l.459-.458a7.25 7.25 0 0 0 2.123-5.127V1.75a.25.25 0 0 0-.25-.25h-.186a7.249 7.249 0 0 0-5.125 2.123ZM3.56 14.56c-.732.732-2.334 1.045-3.005 1.148a.234.234 0 0 1-.201-.064.234.234 0 0 1-.064-.201c.103-.671.416-2.273 1.15-3.003a1.502 1.502 0 1 1 2.12 2.12Zm6.94-3.935c-.088.06-.177.118-.266.175l-2.35 1.521.548 1.783 1.949-1.2a.25.25 0 0 0 .119-.213ZM3.678 8.116 5.2 5.766c.058-.09.117-.178.176-.266H3.309a.25.25 0 0 0-.213.119l-1.2 1.95ZM12 5a1 1 0 1 1-2 0 1 1 0 0 1 2 0Z"></path>
</svg>
</template>

<template id="shield-check-icon">
  <svg aria-hidden="true" height="16" viewBox="0 0 16 16" version="1.1" width="16" data-view-component="true" class="octicon octicon-shield-check">
    <path d="m8.533.133 5.25 1.68A1.75 1.75 0 0 1 15 3.48V7c0 1.566-.32 3.182-1.303 4.682-.983 1.498-2.585 2.813-5.032 3.855a1.697 1.697 0 0 1-1.33 0c-2.447-1.042-4.049-2.357-5.032-3.855C1.32 10.182 1 8.566 1 7V3.48a1.75 1.75 0 0 1 1.217-1.667l5.25-1.68a1.748 1.748 0 0 1 1.066 0Zm-.61 1.429.001.001-5.25 1.68a.251.251 0 0 0-.174.237V7c0 1.36.275 2.666 1.057 3.859.784 1.194 2.121 2.342 4.366 3.298a.196.196 0 0 0 .154 0c2.245-.957 3.582-2.103 4.366-3.297C13.225 9.666 13.5 8.358 13.5 7V3.48a.25.25 0 0 0-.174-.238l-5.25-1.68a.25.25 0 0 0-.153 0ZM11.28 6.28l-3.5 3.5a.75.75 0 0 1-1.06 0l-1.5-1.5a.749.749 0 0 1 .326-1.275.749.749 0 0 1 .734.215l.97.97 2.97-2.97a.751.751 0 0 1 1.042.018.751.751 0 0 1 .018 1.042Z"></path>
</svg>
</template>

<template id="heart-icon">
  <svg aria-hidden="true" height="16" viewBox="0 0 16 16" version="1.1" width="16" data-view-component="true" class="octicon octicon-heart">
    <path d="m8 14.25.345.666a.75.75 0 0 1-.69 0l-.008-.004-.018-.01a7.152 7.152 0 0 1-.31-.17 22.055 22.055 0 0 1-3.434-2.414C2.045 10.731 0 8.35 0 5.5 0 2.836 2.086 1 4.25 1 5.797 1 7.153 1.802 8 3.02 8.847 1.802 10.203 1 11.75 1 13.914 1 16 2.836 16 5.5c0 2.85-2.045 5.231-3.885 6.818a22.066 22.066 0 0 1-3.744 2.584l-.018.01-.006.003h-.002ZM4.25 2.5c-1.336 0-2.75 1.164-2.75 3 0 2.15 1.58 4.144 3.365 5.682A20.58 20.58 0 0 0 8 13.393a20.58 20.58 0 0 0 3.135-2.211C12.92 9.644 14.5 7.65 14.5 5.5c0-1.836-1.414-3-2.75-3-1.373 0-2.609.986-3.029 2.456a.749.749 0 0 1-1.442 0C6.859 3.486 5.623 2.5 4.25 2.5Z"></path>
</svg>
</template>

<template id="server-icon">
  <svg aria-hidden="true" height="16" viewBox="0 0 16 16" version="1.1" width="16" data-view-component="true" class="octicon octicon-server">
    <path d="M1.75 1h12.5c.966 0 1.75.784 1.75 1.75v4c0 .372-.116.717-.314 1 .198.283.314.628.314 1v4a1.75 1.75 0 0 1-1.75 1.75H1.75A1.75 1.75 0 0 1 0 12.75v-4c0-.358.109-.707.314-1a1.739 1.739 0 0 1-.314-1v-4C0 1.784.784 1 1.75 1ZM1.5 2.75v4c0 .138.112.25.25.25h12.5a.25.25 0 0 0 .25-.25v-4a.25.25 0 0 0-.25-.25H1.75a.25.25 0 0 0-.25.25Zm.25 5.75a.25.25 0 0 0-.25.25v4c0 .138.112.25.25.25h12.5a.25.25 0 0 0 .25-.25v-4a.25.25 0 0 0-.25-.25ZM7 4.75A.75.75 0 0 1 7.75 4h4.5a.75.75 0 0 1 0 1.5h-4.5A.75.75 0 0 1 7 4.75ZM7.75 10h4.5a.75.75 0 0 1 0 1.5h-4.5a.75.75 0 0 1 0-1.5ZM3 4.75A.75.75 0 0 1 3.75 4h.5a.75.75 0 0 1 0 1.5h-.5A.75.75 0 0 1 3 4.75ZM3.75 10h.5a.75.75 0 0 1 0 1.5h-.5a.75.75 0 0 1 0-1.5Z"></path>
</svg>
</template>

<template id="globe-icon">
  <svg aria-hidden="true" height="16" viewBox="0 0 16 16" version="1.1" width="16" data-view-component="true" class="octicon octicon-globe">
    <path d="M8 0a8 8 0 1 1 0 16A8 8 0 0 1 8 0ZM5.78 8.75a9.64 9.64 0 0 0 1.363 4.177c.255.426.542.832.857 1.215.245-.296.551-.705.857-1.215A9.64 9.64 0 0 0 10.22 8.75Zm4.44-1.5a9.64 9.64 0 0 0-1.363-4.177c-.307-.51-.612-.919-.857-1.215a9.927 9.927 0 0 0-.857 1.215A9.64 9.64 0 0 0 5.78 7.25Zm-5.944 1.5H1.543a6.507 6.507 0 0 0 4.666 5.5c-.123-.181-.24-.365-.352-.552-.715-1.192-1.437-2.874-1.581-4.948Zm-2.733-1.5h2.733c.144-2.074.866-3.756 1.58-4.948.12-.197.237-.381.353-.552a6.507 6.507 0 0 0-4.666 5.5Zm10.181 1.5c-.144 2.074-.866 3.756-1.58 4.948-.12.197-.237.381-.353.552a6.507 6.507 0 0 0 4.666-5.5Zm2.733-1.5a6.507 6.507 0 0 0-4.666-5.5c.123.181.24.365.353.552.714 1.192 1.436 2.874 1.58 4.948Z"></path>
</svg>
</template>

<template id="issue-opened-icon">
  <svg aria-hidden="true" height="16" viewBox="0 0 16 16" version="1.1" width="16" data-view-component="true" class="octicon octicon-issue-opened">
    <path d="M8 9.5a1.5 1.5 0 1 0 0-3 1.5 1.5 0 0 0 0 3Z"></path><path d="M8 0a8 8 0 1 1 0 16A8 8 0 0 1 8 0ZM1.5 8a6.5 6.5 0 1 0 13 0 6.5 6.5 0 0 0-13 0Z"></path>
</svg>
</template>

<template id="device-mobile-icon">
  <svg aria-hidden="true" height="16" viewBox="0 0 16 16" version="1.1" width="16" data-view-component="true" class="octicon octicon-device-mobile">
    <path d="M3.75 0h8.5C13.216 0 14 .784 14 1.75v12.5A1.75 1.75 0 0 1 12.25 16h-8.5A1.75 1.75 0 0 1 2 14.25V1.75C2 .784 2.784 0 3.75 0ZM3.5 1.75v12.5c0 .138.112.25.25.25h8.5a.25.25 0 0 0 .25-.25V1.75a.25.25 0 0 0-.25-.25h-8.5a.25.25 0 0 0-.25.25ZM8 13a1 1 0 1 1 0-2 1 1 0 0 1 0 2Z"></path>
</svg>
</template>

<template id="package-icon">
  <svg aria-hidden="true" height="16" viewBox="0 0 16 16" version="1.1" width="16" data-view-component="true" class="octicon octicon-package">
    <path d="m8.878.392 5.25 3.045c.54.314.872.89.872 1.514v6.098a1.75 1.75 0 0 1-.872 1.514l-5.25 3.045a1.75 1.75 0 0 1-1.756 0l-5.25-3.045A1.75 1.75 0 0 1 1 11.049V4.951c0-.624.332-1.201.872-1.514L7.122.392a1.75 1.75 0 0 1 1.756 0ZM7.875 1.69l-4.63 2.685L8 7.133l4.755-2.758-4.63-2.685a.248.248 0 0 0-.25 0ZM2.5 5.677v5.372c0 .09.047.171.125.216l4.625 2.683V8.432Zm6.25 8.271 4.625-2.683a.25.25 0 0 0 .125-.216V5.677L8.75 8.432Z"></path>
</svg>
</template>

<template id="credit-card-icon">
  <svg aria-hidden="true" height="16" viewBox="0 0 16 16" version="1.1" width="16" data-view-component="true" class="octicon octicon-credit-card">
    <path d="M10.75 9a.75.75 0 0 0 0 1.5h1.5a.75.75 0 0 0 0-1.5h-1.5Z"></path><path d="M0 3.75C0 2.784.784 2 1.75 2h12.5c.966 0 1.75.784 1.75 1.75v8.5A1.75 1.75 0 0 1 14.25 14H1.75A1.75 1.75 0 0 1 0 12.25ZM14.5 6.5h-13v5.75c0 .138.112.25.25.25h12.5a.25.25 0 0 0 .25-.25Zm0-2.75a.25.25 0 0 0-.25-.25H1.75a.25.25 0 0 0-.25.25V5h13Z"></path>
</svg>
</template>

<template id="play-icon">
  <svg aria-hidden="true" height="16" viewBox="0 0 16 16" version="1.1" width="16" data-view-component="true" class="octicon octicon-play">
    <path d="M8 0a8 8 0 1 1 0 16A8 8 0 0 1 8 0ZM1.5 8a6.5 6.5 0 1 0 13 0 6.5 6.5 0 0 0-13 0Zm4.879-2.773 4.264 2.559a.25.25 0 0 1 0 .428l-4.264 2.559A.25.25 0 0 1 6 10.559V5.442a.25.25 0 0 1 .379-.215Z"></path>
</svg>
</template>

<template id="gift-icon">
  <svg aria-hidden="true" height="16" viewBox="0 0 16 16" version="1.1" width="16" data-view-component="true" class="octicon octicon-gift">
    <path d="M2 2.75A2.75 2.75 0 0 1 4.75 0c.983 0 1.873.42 2.57 1.232.268.318.497.668.68 1.042.183-.375.411-.725.68-1.044C9.376.42 10.266 0 11.25 0a2.75 2.75 0 0 1 2.45 4h.55c.966 0 1.75.784 1.75 1.75v2c0 .698-.409 1.301-1 1.582v4.918A1.75 1.75 0 0 1 13.25 16H2.75A1.75 1.75 0 0 1 1 14.25V9.332C.409 9.05 0 8.448 0 7.75v-2C0 4.784.784 4 1.75 4h.55c-.192-.375-.3-.8-.3-1.25ZM7.25 9.5H2.5v4.75c0 .138.112.25.25.25h4.5Zm1.5 0v5h4.5a.25.25 0 0 0 .25-.25V9.5Zm0-4V8h5.5a.25.25 0 0 0 .25-.25v-2a.25.25 0 0 0-.25-.25Zm-7 0a.25.25 0 0 0-.25.25v2c0 .138.112.25.25.25h5.5V5.5h-5.5Zm3-4a1.25 1.25 0 0 0 0 2.5h2.309c-.233-.818-.542-1.401-.878-1.793-.43-.502-.915-.707-1.431-.707ZM8.941 4h2.309a1.25 1.25 0 0 0 0-2.5c-.516 0-1 .205-1.43.707-.337.392-.646.975-.879 1.793Z"></path>
</svg>
</template>

<template id="code-square-icon">
  <svg aria-hidden="true" height="16" viewBox="0 0 16 16" version="1.1" width="16" data-view-component="true" class="octicon octicon-code-square">
    <path d="M0 1.75C0 .784.784 0 1.75 0h12.5C15.216 0 16 .784 16 1.75v12.5A1.75 1.75 0 0 1 14.25 16H1.75A1.75 1.75 0 0 1 0 14.25Zm1.75-.25a.25.25 0 0 0-.25.25v12.5c0 .138.112.25.25.25h12.5a.25.25 0 0 0 .25-.25V1.75a.25.25 0 0 0-.25-.25Zm7.47 3.97a.75.75 0 0 1 1.06 0l2 2a.75.75 0 0 1 0 1.06l-2 2a.749.749 0 0 1-1.275-.326.749.749 0 0 1 .215-.734L10.69 8 9.22 6.53a.75.75 0 0 1 0-1.06ZM6.78 6.53 5.31 8l1.47 1.47a.749.749 0 0 1-.326 1.275.749.749 0 0 1-.734-.215l-2-2a.75.75 0 0 1 0-1.06l2-2a.751.751 0 0 1 1.042.018.751.751 0 0 1 .018 1.042Z"></path>
</svg>
</template>

<template id="device-desktop-icon">
  <svg aria-hidden="true" height="16" viewBox="0 0 16 16" version="1.1" width="16" data-view-component="true" class="octicon octicon-device-desktop">
    <path d="M14.25 1c.966 0 1.75.784 1.75 1.75v7.5A1.75 1.75 0 0 1 14.25 12h-3.727c.099 1.041.52 1.872 1.292 2.757A.752.752 0 0 1 11.25 16h-6.5a.75.75 0 0 1-.565-1.243c.772-.885 1.192-1.716 1.292-2.757H1.75A1.75 1.75 0 0 1 0 10.25v-7.5C0 1.784.784 1 1.75 1ZM1.75 2.5a.25.25 0 0 0-.25.25v7.5c0 .138.112.25.25.25h12.5a.25.25 0 0 0 .25-.25v-7.5a.25.25 0 0 0-.25-.25ZM9.018 12H6.982a5.72 5.72 0 0 1-.765 2.5h3.566a5.72 5.72 0 0 1-.765-2.5Z"></path>
</svg>
</template>

        <div class="position-relative">
                <ul
                  role="listbox"
                  class="ActionListWrap QueryBuilder-ListWrap"
                  aria-label="Suggestions"
                  data-action="
                    combobox-commit:query-builder#comboboxCommit
                    mousedown:query-builder#resultsMousedown
                  "
                  data-target="query-builder.resultsList"
                  data-persist-list=false
                  id="query-builder-test-results"
                ></ul>
        </div>
      <div class="FormControl-inlineValidation" id="validation-d78d0b06-3b51-48e4-b4c4-a7ff66e9a26d" hidden="hidden">
        <span class="FormControl-inlineValidation--visual">
          <svg aria-hidden="true" height="12" viewBox="0 0 12 12" version="1.1" width="12" data-view-component="true" class="octicon octicon-alert-fill">
    <path d="M4.855.708c.5-.896 1.79-.896 2.29 0l4.675 8.351a1.312 1.312 0 0 1-1.146 1.954H1.33A1.313 1.313 0 0 1 .183 9.058ZM7 7V3H5v4Zm-1 3a1 1 0 1 0 0-2 1 1 0 0 0 0 2Z"></path>
</svg>
        </span>
        <span></span>
</div>    </div>
    <div data-target="query-builder.screenReaderFeedback" aria-live="polite" aria-atomic="true" class="sr-only"></div>
</query-builder></form>
          <div class="d-flex flex-row color-fg-muted px-3 text-small color-bg-default search-feedback-prompt">
            <a target="_blank" href="https://docs.github.com/search-github/github-code-search/understanding-github-code-search-syntax" data-view-component="true" class="Link color-fg-accent text-normal ml-2">
              Search syntax tips
</a>            <div class="d-flex flex-1"></div>
              <button data-action="click:qbsearch-input#showFeedbackDialog" type="button" data-view-component="true" class="Button--link Button--medium Button color-fg-accent text-normal ml-2">  <span class="Button-content">
    <span class="Button-label">Give feedback</span>
  </span>
</button>
          </div>
        </div>
</div>

    </div>
</modal-dialog></div>
  </div>
  <div data-action="click:qbsearch-input#retract" class="dark-backdrop position-fixed" hidden data-target="qbsearch-input.darkBackdrop"></div>
  <div class="color-fg-default">
    
<dialog-helper>
  <dialog data-target="qbsearch-input.feedbackDialog" data-action="close:qbsearch-input#handleDialogClose cancel:qbsearch-input#handleDialogClose" id="feedback-dialog" aria-modal="true" aria-labelledby="feedback-dialog-title" aria-describedby="feedback-dialog-description" data-view-component="true" class="Overlay Overlay-whenNarrow Overlay--size-medium Overlay--motion-scaleFade">
    <div data-view-component="true" class="Overlay-header">
  <div class="Overlay-headerContentWrap">
    <div class="Overlay-titleWrap">
      <h1 class="Overlay-title " id="feedback-dialog-title">
        Provide feedback
      </h1>
    </div>
    <div class="Overlay-actionWrap">
      <button data-close-dialog-id="feedback-dialog" aria-label="Close" type="button" data-view-component="true" class="close-button Overlay-closeButton"><svg aria-hidden="true" height="16" viewBox="0 0 16 16" version="1.1" width="16" data-view-component="true" class="octicon octicon-x">
    <path d="M3.72 3.72a.75.75 0 0 1 1.06 0L8 6.94l3.22-3.22a.749.749 0 0 1 1.275.326.749.749 0 0 1-.215.734L9.06 8l3.22 3.22a.749.749 0 0 1-.326 1.275.749.749 0 0 1-.734-.215L8 9.06l-3.22 3.22a.751.751 0 0 1-1.042-.018.751.751 0 0 1-.018-1.042L6.94 8 3.72 4.78a.75.75 0 0 1 0-1.06Z"></path>
</svg></button>
    </div>
  </div>
</div>
      <scrollable-region data-labelled-by="feedback-dialog-title">
        <div data-view-component="true" class="Overlay-body">        <!-- '"` --><!-- </textarea></xmp> --></option></form><form id="code-search-feedback-form" data-turbo="false" action="/search/feedback" accept-charset="UTF-8" method="post"><input type="hidden" name="authenticity_token" value="0N-PsifU4vkRGQN1rNBswu6BQDySbwGkR26ogKwcxP1ixuWkgwnLjVob17qk9eoJm2dPcoMylizAyoXyGtGHRQ" />
          <p>We read every piece of feedback, and take your input very seriously.</p>
          <textarea name="feedback" class="form-control width-full mb-2" style="height: 120px" id="feedback"></textarea>
          <input name="include_email" id="include_email" aria-label="Include my email address so I can be contacted" class="form-control mr-2" type="checkbox">
          <label for="include_email" style="font-weight: normal">Include my email address so I can be contacted</label>
</form></div>
      </scrollable-region>
      <div data-view-component="true" class="Overlay-footer Overlay-footer--alignEnd">          <button data-close-dialog-id="feedback-dialog" type="button" data-view-component="true" class="btn">    Cancel
</button>
          <button form="code-search-feedback-form" data-action="click:qbsearch-input#submitFeedback" type="submit" data-view-component="true" class="btn-primary btn">    Submit feedback
</button>
</div>
</dialog></dialog-helper>

    <custom-scopes data-target="qbsearch-input.customScopesManager">
    
<dialog-helper>
  <dialog data-target="custom-scopes.customScopesModalDialog" data-action="close:qbsearch-input#handleDialogClose cancel:qbsearch-input#handleDialogClose" id="custom-scopes-dialog" aria-modal="true" aria-labelledby="custom-scopes-dialog-title" aria-describedby="custom-scopes-dialog-description" data-view-component="true" class="Overlay Overlay-whenNarrow Overlay--size-medium Overlay--motion-scaleFade">
    <div data-view-component="true" class="Overlay-header Overlay-header--divided">
  <div class="Overlay-headerContentWrap">
    <div class="Overlay-titleWrap">
      <h1 class="Overlay-title " id="custom-scopes-dialog-title">
        Saved searches
      </h1>
        <h2 id="custom-scopes-dialog-description" class="Overlay-description">Use saved searches to filter your results more quickly</h2>
    </div>
    <div class="Overlay-actionWrap">
      <button data-close-dialog-id="custom-scopes-dialog" aria-label="Close" type="button" data-view-component="true" class="close-button Overlay-closeButton"><svg aria-hidden="true" height="16" viewBox="0 0 16 16" version="1.1" width="16" data-view-component="true" class="octicon octicon-x">
    <path d="M3.72 3.72a.75.75 0 0 1 1.06 0L8 6.94l3.22-3.22a.749.749 0 0 1 1.275.326.749.749 0 0 1-.215.734L9.06 8l3.22 3.22a.749.749 0 0 1-.326 1.275.749.749 0 0 1-.734-.215L8 9.06l-3.22 3.22a.751.751 0 0 1-1.042-.018.751.751 0 0 1-.018-1.042L6.94 8 3.72 4.78a.75.75 0 0 1 0-1.06Z"></path>
</svg></button>
    </div>
  </div>
</div>
      <scrollable-region data-labelled-by="custom-scopes-dialog-title">
        <div data-view-component="true" class="Overlay-body">        <div data-target="custom-scopes.customScopesModalDialogFlash"></div>

        <div hidden class="create-custom-scope-form" data-target="custom-scopes.createCustomScopeForm">
        <!-- '"` --><!-- </textarea></xmp> --></option></form><form id="custom-scopes-dialog-form" data-turbo="false" action="/search/custom_scopes" accept-charset="UTF-8" method="post"><input type="hidden" name="authenticity_token" value="BWoVauW1CQJZWXwVUREaKjhXVT1ccBkxx1QpuF4FB3DzeryHG05bkot6sxlK3Z67weMR8Bt3ezAxHYY7g8YdgA" />
          <div data-target="custom-scopes.customScopesModalDialogFlash"></div>

          <input type="hidden" id="custom_scope_id" name="custom_scope_id" data-target="custom-scopes.customScopesIdField">

          <div class="form-group">
            <label for="custom_scope_name">Name</label>
            <auto-check src="/search/custom_scopes/check_name" required>
              <input
                type="text"
                name="custom_scope_name"
                id="custom_scope_name"
                data-target="custom-scopes.customScopesNameField"
                class="form-control"
                autocomplete="off"
                placeholder="github-ruby"
                required
                maxlength="50">
              <input type="hidden" value="Obr9iNhmxO8GIczW1euRYYX8Zua6jtPjb6wCpgwOLMUje5lgZ1AnBprsnuepO2x06Zzjj050HQjLASoyjOiFJg" data-csrf="true" />
            </auto-check>
          </div>

          <div class="form-group">
            <label for="custom_scope_query">Query</label>
            <input
              type="text"
              name="custom_scope_query"
              id="custom_scope_query"
              data-target="custom-scopes.customScopesQueryField"
              class="form-control"
              autocomplete="off"
              placeholder="(repo:mona/a OR repo:mona/b) AND lang:python"
              required
              maxlength="500">
          </div>

          <p class="text-small color-fg-muted">
            To see all available qualifiers, see our <a class="Link--inTextBlock" href="https://docs.github.com/search-github/github-code-search/understanding-github-code-search-syntax">documentation</a>.
          </p>
</form>        </div>

        <div data-target="custom-scopes.manageCustomScopesForm">
          <div data-target="custom-scopes.list"></div>
        </div>

</div>
      </scrollable-region>
      <div data-view-component="true" class="Overlay-footer Overlay-footer--alignEnd Overlay-footer--divided">          <button data-action="click:custom-scopes#customScopesCancel" type="button" data-view-component="true" class="btn">    Cancel
</button>
          <button form="custom-scopes-dialog-form" data-action="click:custom-scopes#customScopesSubmit" data-target="custom-scopes.customScopesSubmitButton" type="submit" data-view-component="true" class="btn-primary btn">    Create saved search
</button>
</div>
</dialog></dialog-helper>
    </custom-scopes>
  </div>
</qbsearch-input><input type="hidden" value="_YKCMfDCBWEpSWi4QlukVKqHJ25qos36PvUSkLARVsGptoAKVXgb8u7MqVOQnKuxnadMJyprvl_vzh_y4mLTmA" data-csrf="true" class="js-data-jump-to-suggestions-path-csrf" />

          </div>

        <div class="AppHeader-actions position-relative">
             <react-partial-anchor>
      <button id="global-create-menu-anchor" aria-label="Create something new" data-target="react-partial-anchor.anchor" type="button" disabled="disabled" data-view-component="true" class="AppHeader-button global-create-button cursor-wait Button--secondary Button--medium Button width-auto color-fg-muted">  <span class="Button-content">
      <span class="Button-visual Button-leadingVisual">
        <svg aria-hidden="true" height="16" viewBox="0 0 16 16" version="1.1" width="16" data-view-component="true" class="octicon octicon-plus">
    <path d="M7.75 2a.75.75 0 0 1 .75.75V7h4.25a.75.75 0 0 1 0 1.5H8.5v4.25a.75.75 0 0 1-1.5 0V8.5H2.75a.75.75 0 0 1 0-1.5H7V2.75A.75.75 0 0 1 7.75 2Z"></path>
</svg>
      </span>
    <span class="Button-label"><svg aria-hidden="true" height="16" viewBox="0 0 16 16" version="1.1" width="16" data-view-component="true" class="octicon octicon-triangle-down">
    <path d="m4.427 7.427 3.396 3.396a.25.25 0 0 0 .354 0l3.396-3.396A.25.25 0 0 0 11.396 7H4.604a.25.25 0 0 0-.177.427Z"></path>
</svg></span>
  </span>
</button><tool-tip id="tooltip-44caff36-9017-4d71-9fb9-4b1ca0dbbd0e" for="global-create-menu-anchor" popover="manual" data-direction="s" data-type="description" data-view-component="true" class="sr-only position-absolute">Create new...</tool-tip>

      <template data-target="react-partial-anchor.template">
        







<script crossorigin="anonymous" defer="defer" type="application/javascript" src="https://github.githubassets.com/assets/vendors-node_modules_primer_react_lib-esm_ActionMenu_ActionMenu_js-node_modules_primer_react_-26b3ec-efc8de1b62a0.js"></script>

<script crossorigin="anonymous" defer="defer" type="application/javascript" src="https://github.githubassets.com/assets/global-create-menu-851cecada666.js"></script>

<react-partial
  partial-name="global-create-menu"
  data-ssr="false"
>
  
  <script type="application/json" data-target="react-partial.embeddedData">{"props":{"createRepo":true,"importRepo":true,"codespaces":true,"gist":true,"createOrg":true,"createProject":false,"createProjectUrl":"/666666rew?tab=projects","createLegacyProject":false,"createIssue":false,"org":null,"owner":"Mogady","repo":"BBC_arabic_Analysis"}}</script>
  <div data-target="react-partial.reactRoot"></div>
</react-partial>

      </template>
    </react-partial-anchor>


          <a href="/issues" data-analytics-event="{&quot;category&quot;:&quot;Global navigation&quot;,&quot;action&quot;:&quot;ISSUES_HEADER&quot;,&quot;label&quot;:null}" id="icon-button-76fad5eb-6d06-40d4-914c-43f3abd3021d" aria-labelledby="tooltip-f83736d9-2ba9-4d3b-b2f6-ac86ba23e3a4" data-view-component="true" class="Button Button--iconOnly Button--secondary Button--medium AppHeader-button color-fg-muted">  <svg aria-hidden="true" height="16" viewBox="0 0 16 16" version="1.1" width="16" data-view-component="true" class="octicon octicon-issue-opened Button-visual">
    <path d="M8 9.5a1.5 1.5 0 1 0 0-3 1.5 1.5 0 0 0 0 3Z"></path><path d="M8 0a8 8 0 1 1 0 16A8 8 0 0 1 8 0ZM1.5 8a6.5 6.5 0 1 0 13 0 6.5 6.5 0 0 0-13 0Z"></path>
</svg>
</a><tool-tip id="tooltip-f83736d9-2ba9-4d3b-b2f6-ac86ba23e3a4" for="icon-button-76fad5eb-6d06-40d4-914c-43f3abd3021d" popover="manual" data-direction="s" data-type="label" data-view-component="true" class="sr-only position-absolute">Issues</tool-tip>

          <a href="/pulls" data-analytics-event="{&quot;category&quot;:&quot;Global navigation&quot;,&quot;action&quot;:&quot;PULL_REQUESTS_HEADER&quot;,&quot;label&quot;:null}" id="icon-button-cc61128a-5889-4579-b458-96a3f411f42c" aria-labelledby="tooltip-eed8ab6a-35de-4799-8a9b-ab04265f9d5c" data-view-component="true" class="Button Button--iconOnly Button--secondary Button--medium AppHeader-button color-fg-muted">  <svg aria-hidden="true" height="16" viewBox="0 0 16 16" version="1.1" width="16" data-view-component="true" class="octicon octicon-git-pull-request Button-visual">
    <path d="M1.5 3.25a2.25 2.25 0 1 1 3 2.122v5.256a2.251 2.251 0 1 1-1.5 0V5.372A2.25 2.25 0 0 1 1.5 3.25Zm5.677-.177L9.573.677A.25.25 0 0 1 10 .854V2.5h1A2.5 2.5 0 0 1 13.5 5v5.628a2.251 2.251 0 1 1-1.5 0V5a1 1 0 0 0-1-1h-1v1.646a.25.25 0 0 1-.427.177L7.177 3.427a.25.25 0 0 1 0-.354ZM3.75 2.5a.75.75 0 1 0 0 1.5.75.75 0 0 0 0-1.5Zm0 9.5a.75.75 0 1 0 0 1.5.75.75 0 0 0 0-1.5Zm8.25.75a.75.75 0 1 0 1.5 0 .75.75 0 0 0-1.5 0Z"></path>
</svg>
</a><tool-tip id="tooltip-eed8ab6a-35de-4799-8a9b-ab04265f9d5c" for="icon-button-cc61128a-5889-4579-b458-96a3f411f42c" popover="manual" data-direction="s" data-type="label" data-view-component="true" class="sr-only position-absolute">Pull requests</tool-tip>

        </div>

        
<notification-indicator data-channel="eyJjIjoibm90aWZpY2F0aW9uLWNoYW5nZWQ6OTUxOTY2MjkiLCJ0IjoxNzE0NTY5OTg1fQ==--0a44c3bdc490604c66132bc0c925c590b8151e63d8a8cb8ad031bec4a2df5ca7" data-indicator-mode="none" data-tooltip-global="You have unread notifications" data-tooltip-unavailable="Notifications are unavailable at the moment." data-tooltip-none="You have no unread notifications" data-header-redesign-enabled="true" data-fetch-indicator-src="/notifications/indicator" data-fetch-indicator-enabled="true" data-view-component="true" class="js-socket-channel">
    <a id="AppHeader-notifications-button" href="/notifications" aria-label="Notifications" data-hotkey="g n" data-target="notification-indicator.link" data-analytics-event="{&quot;category&quot;:&quot;Global navigation&quot;,&quot;action&quot;:&quot;NOTIFICATIONS_HEADER&quot;,&quot;label&quot;:null}" data-view-component="true" class="Button Button--iconOnly Button--secondary Button--medium AppHeader-button  color-fg-muted">  <svg aria-hidden="true" height="16" viewBox="0 0 16 16" version="1.1" width="16" data-view-component="true" class="octicon octicon-inbox Button-visual">
    <path d="M2.8 2.06A1.75 1.75 0 0 1 4.41 1h7.18c.7 0 1.333.417 1.61 1.06l2.74 6.395c.04.093.06.194.06.295v4.5A1.75 1.75 0 0 1 14.25 15H1.75A1.75 1.75 0 0 1 0 13.25v-4.5c0-.101.02-.202.06-.295Zm1.61.44a.25.25 0 0 0-.23.152L1.887 8H4.75a.75.75 0 0 1 .6.3L6.625 10h2.75l1.275-1.7a.75.75 0 0 1 .6-.3h2.863L11.82 2.652a.25.25 0 0 0-.23-.152Zm10.09 7h-2.875l-1.275 1.7a.75.75 0 0 1-.6.3h-3.5a.75.75 0 0 1-.6-.3L4.375 9.5H1.5v3.75c0 .138.112.25.25.25h12.5a.25.25 0 0 0 .25-.25Z"></path>
</svg>
</a>

    <tool-tip data-target="notification-indicator.tooltip" id="tooltip-ae1d6a2e-88ff-46fc-896a-b1ee1ec1319c" for="AppHeader-notifications-button" popover="manual" data-direction="s" data-type="description" data-view-component="true" class="sr-only position-absolute">Notifications</tool-tip>
</notification-indicator>

        

        <div class="AppHeader-user">
          <deferred-side-panel data-url="/_side-panels/user?react_global_nav=false&amp;repository_id=147500619">
  <include-fragment data-target="deferred-side-panel.fragment">
        <user-drawer-side-panel>
      <button aria-label="Open user account menu" data-action="click:deferred-side-panel#loadPanel click:deferred-side-panel#panelOpened" data-show-dialog-id="dialog-f0e4efc7-5344-4a5b-a9f8-25adbd597931" id="dialog-show-dialog-f0e4efc7-5344-4a5b-a9f8-25adbd597931" type="button" data-view-component="true" class="AppHeader-logo Button--invisible Button--medium Button Button--invisible-noVisuals color-bg-transparent p-0">  <span class="Button-content">
    <span class="Button-label"><img src="https://avatars.githubusercontent.com/u/95196629?v=4" alt="" size="32" height="32" width="32" data-view-component="true" class="avatar circle" /></span>
  </span>
</button>

<dialog-helper>
  <dialog data-target="deferred-side-panel.panel" id="dialog-f0e4efc7-5344-4a5b-a9f8-25adbd597931" aria-modal="true" aria-labelledby="dialog-f0e4efc7-5344-4a5b-a9f8-25adbd597931-title" aria-describedby="dialog-f0e4efc7-5344-4a5b-a9f8-25adbd597931-description" data-view-component="true" class="Overlay Overlay-whenNarrow Overlay--size-small-portrait Overlay--motion-scaleFade Overlay--placement-right SidePanel">
    <div styles="flex-direction: row;" data-view-component="true" class="Overlay-header">
  <div class="Overlay-headerContentWrap">
    <div class="Overlay-titleWrap">
      <h1 class="Overlay-title sr-only" id="dialog-f0e4efc7-5344-4a5b-a9f8-25adbd597931-title">
        Account menu
      </h1>
            <div data-view-component="true" class="d-flex">
      <div data-view-component="true" class="AppHeader-logo position-relative">
        <img src="https://avatars.githubusercontent.com/u/95196629?v=4" alt="" size="32" height="32" width="32" data-view-component="true" class="avatar circle" />
</div>        <div data-view-component="true" class="overflow-hidden d-flex width-full">          <div data-view-component="true" class="lh-condensed overflow-hidden d-flex flex-column flex-justify-center ml-2 f5 mr-auto width-full">
            <span data-view-component="true" class="Truncate text-bold">
    <span data-view-component="true" class="Truncate-text">
              666666rew
</span>
</span>            <span data-view-component="true" class="Truncate color-fg-subtle">
    <span data-view-component="true" class="Truncate-text">
              Addison 黃建燁
</span>
</span></div>
            <action-menu data-select-variant="none" data-view-component="true" class="d-sm-none d-md-none d-lg-none">
  <focus-group direction="vertical" mnemonics retain>
    <button id="user-create-menu-button" popovertarget="user-create-menu-overlay" aria-label="Create something new" aria-controls="user-create-menu-list" aria-haspopup="true" type="button" data-view-component="true" class="AppHeader-button global-create-button Button--secondary Button--medium Button width-auto color-fg-muted">  <span class="Button-content">
      <span class="Button-visual Button-leadingVisual">
        <svg aria-hidden="true" height="16" viewBox="0 0 16 16" version="1.1" width="16" data-view-component="true" class="octicon octicon-plus">
    <path d="M7.75 2a.75.75 0 0 1 .75.75V7h4.25a.75.75 0 0 1 0 1.5H8.5v4.25a.75.75 0 0 1-1.5 0V8.5H2.75a.75.75 0 0 1 0-1.5H7V2.75A.75.75 0 0 1 7.75 2Z"></path>
</svg>
      </span>
    <span class="Button-label"><svg aria-hidden="true" height="16" viewBox="0 0 16 16" version="1.1" width="16" data-view-component="true" class="octicon octicon-triangle-down">
    <path d="m4.427 7.427 3.396 3.396a.25.25 0 0 0 .354 0l3.396-3.396A.25.25 0 0 0 11.396 7H4.604a.25.25 0 0 0-.177.427Z"></path>
</svg></span>
  </span>
</button><tool-tip id="tooltip-ac555ef2-daa4-4240-89bd-6e2c1a8707ae" for="user-create-menu-button" popover="manual" data-direction="s" data-type="description" data-view-component="true" class="sr-only position-absolute">Create new...</tool-tip>


<anchored-position id="user-create-menu-overlay" anchor="user-create-menu-button" align="end" side="outside-bottom" anchor-offset="normal" popover="auto" data-view-component="true">
  <div data-view-component="true" class="Overlay Overlay--size-auto">
    
      <div data-view-component="true" class="Overlay-body Overlay-body--paddingNone">          <action-list>
  <div data-view-component="true">
    <ul aria-labelledby="user-create-menu-button" id="user-create-menu-list" role="menu" data-view-component="true" class="ActionListWrap--inset ActionListWrap">
        <li data-analytics-event="{&quot;category&quot;:&quot;SiteHeaderComponent&quot;,&quot;action&quot;:&quot;add_dropdown&quot;,&quot;label&quot;:&quot;new repository&quot;}" data-targets="action-list.items" role="none" data-view-component="true" class="ActionListItem">
    
    
    <a href="/new" tabindex="-1" id="item-841cb64b-bafb-4195-bca0-df49a869cbf3" role="menuitem" data-view-component="true" class="ActionListContent ActionListContent--visual16">
        <span class="ActionListItem-visual ActionListItem-visual--leading">
          <svg aria-hidden="true" height="16" viewBox="0 0 16 16" version="1.1" width="16" data-view-component="true" class="octicon octicon-repo">
    <path d="M2 2.5A2.5 2.5 0 0 1 4.5 0h8.75a.75.75 0 0 1 .75.75v12.5a.75.75 0 0 1-.75.75h-2.5a.75.75 0 0 1 0-1.5h1.75v-2h-8a1 1 0 0 0-.714 1.7.75.75 0 1 1-1.072 1.05A2.495 2.495 0 0 1 2 11.5Zm10.5-1h-8a1 1 0 0 0-1 1v6.708A2.486 2.486 0 0 1 4.5 9h8ZM5 12.25a.25.25 0 0 1 .25-.25h3.5a.25.25 0 0 1 .25.25v3.25a.25.25 0 0 1-.4.2l-1.45-1.087a.249.249 0 0 0-.3 0L5.4 15.7a.25.25 0 0 1-.4-.2Z"></path>
</svg>
        </span>
      
        <span data-view-component="true" class="ActionListItem-label">
                  New repository

</span></a>
  
</li>
        <li data-analytics-event="{&quot;category&quot;:&quot;SiteHeaderComponent&quot;,&quot;action&quot;:&quot;add_dropdown&quot;,&quot;label&quot;:&quot;import repository&quot;}" data-targets="action-list.items" role="none" data-view-component="true" class="ActionListItem">
    
    
    <a href="/new/import" tabindex="-1" id="item-9471d28e-4108-49e8-bb8b-e22a37211863" role="menuitem" data-view-component="true" class="ActionListContent ActionListContent--visual16">
        <span class="ActionListItem-visual ActionListItem-visual--leading">
          <svg aria-hidden="true" height="16" viewBox="0 0 16 16" version="1.1" width="16" data-view-component="true" class="octicon octicon-repo-push">
    <path d="M1 2.5A2.5 2.5 0 0 1 3.5 0h8.75a.75.75 0 0 1 .75.75v3.5a.75.75 0 0 1-1.5 0V1.5h-8a1 1 0 0 0-1 1v6.708A2.493 2.493 0 0 1 3.5 9h3.25a.75.75 0 0 1 0 1.5H3.5a1 1 0 0 0 0 2h5.75a.75.75 0 0 1 0 1.5H3.5A2.5 2.5 0 0 1 1 11.5Zm13.23 7.79h-.001l-1.224-1.224v6.184a.75.75 0 0 1-1.5 0V9.066L10.28 10.29a.75.75 0 0 1-1.06-1.061l2.505-2.504a.75.75 0 0 1 1.06 0L15.29 9.23a.751.751 0 0 1-.018 1.042.751.751 0 0 1-1.042.018Z"></path>
</svg>
        </span>
      
        <span data-view-component="true" class="ActionListItem-label">
                  Import repository

</span></a>
  
</li>
        <li role="presentation" aria-hidden="true" data-view-component="true" class="ActionList-sectionDivider"></li>
        <li data-analytics-event="{&quot;category&quot;:&quot;SiteHeaderComponent&quot;,&quot;action&quot;:&quot;add_dropdown&quot;,&quot;label&quot;:&quot;new codespace&quot;}" data-targets="action-list.items" role="none" data-view-component="true" class="ActionListItem">
    
    
    <a href="/codespaces/new" tabindex="-1" id="item-d4117f97-b593-4ce3-a164-530941c725e2" role="menuitem" data-view-component="true" class="ActionListContent ActionListContent--visual16">
        <span class="ActionListItem-visual ActionListItem-visual--leading">
          <svg aria-hidden="true" height="16" viewBox="0 0 16 16" version="1.1" width="16" data-view-component="true" class="octicon octicon-codespaces">
    <path d="M0 11.25c0-.966.784-1.75 1.75-1.75h12.5c.966 0 1.75.784 1.75 1.75v3A1.75 1.75 0 0 1 14.25 16H1.75A1.75 1.75 0 0 1 0 14.25Zm2-9.5C2 .784 2.784 0 3.75 0h8.5C13.216 0 14 .784 14 1.75v5a1.75 1.75 0 0 1-1.75 1.75h-8.5A1.75 1.75 0 0 1 2 6.75Zm1.75-.25a.25.25 0 0 0-.25.25v5c0 .138.112.25.25.25h8.5a.25.25 0 0 0 .25-.25v-5a.25.25 0 0 0-.25-.25Zm-2 9.5a.25.25 0 0 0-.25.25v3c0 .138.112.25.25.25h12.5a.25.25 0 0 0 .25-.25v-3a.25.25 0 0 0-.25-.25Z"></path><path d="M7 12.75a.75.75 0 0 1 .75-.75h4.5a.75.75 0 0 1 0 1.5h-4.5a.75.75 0 0 1-.75-.75Zm-4 0a.75.75 0 0 1 .75-.75h.5a.75.75 0 0 1 0 1.5h-.5a.75.75 0 0 1-.75-.75Z"></path>
</svg>
        </span>
      
        <span data-view-component="true" class="ActionListItem-label">
                  New codespace

</span></a>
  
</li>
        <li data-analytics-event="{&quot;category&quot;:&quot;SiteHeaderComponent&quot;,&quot;action&quot;:&quot;add_dropdown&quot;,&quot;label&quot;:&quot;new gist&quot;}" data-targets="action-list.items" role="none" data-view-component="true" class="ActionListItem">
    
    
    <a href="https://gist.github.com/" tabindex="-1" id="item-69a45fb1-a065-4448-9e8f-f4c0f9f48a2f" role="menuitem" data-view-component="true" class="ActionListContent ActionListContent--visual16">
        <span class="ActionListItem-visual ActionListItem-visual--leading">
          <svg aria-hidden="true" height="16" viewBox="0 0 16 16" version="1.1" width="16" data-view-component="true" class="octicon octicon-code">
    <path d="m11.28 3.22 4.25 4.25a.75.75 0 0 1 0 1.06l-4.25 4.25a.749.749 0 0 1-1.275-.326.749.749 0 0 1 .215-.734L13.94 8l-3.72-3.72a.749.749 0 0 1 .326-1.275.749.749 0 0 1 .734.215Zm-6.56 0a.751.751 0 0 1 1.042.018.751.751 0 0 1 .018 1.042L2.06 8l3.72 3.72a.749.749 0 0 1-.326 1.275.749.749 0 0 1-.734-.215L.47 8.53a.75.75 0 0 1 0-1.06Z"></path>
</svg>
        </span>
      
        <span data-view-component="true" class="ActionListItem-label">
                  New gist

</span></a>
  
</li>
        <li role="presentation" aria-hidden="true" data-view-component="true" class="ActionList-sectionDivider"></li>
        <li data-targets="action-list.items" role="none" data-view-component="true" class="ActionListItem">
    
    
    <a href="/account/organizations/new" tabindex="-1" data-dont-follow-via-test="true" data-analytics-event="{&quot;category&quot;:&quot;SiteHeaderComponent&quot;,&quot;action&quot;:&quot;add_dropdown&quot;,&quot;label&quot;:&quot;new organization&quot;}" id="item-21f5c697-25cf-480e-807b-eef288c49935" role="menuitem" data-view-component="true" class="ActionListContent ActionListContent--visual16">
        <span class="ActionListItem-visual ActionListItem-visual--leading">
          <svg aria-hidden="true" height="16" viewBox="0 0 16 16" version="1.1" width="16" data-view-component="true" class="octicon octicon-organization">
    <path d="M1.75 16A1.75 1.75 0 0 1 0 14.25V1.75C0 .784.784 0 1.75 0h8.5C11.216 0 12 .784 12 1.75v12.5c0 .085-.006.168-.018.25h2.268a.25.25 0 0 0 .25-.25V8.285a.25.25 0 0 0-.111-.208l-1.055-.703a.749.749 0 1 1 .832-1.248l1.055.703c.487.325.779.871.779 1.456v5.965A1.75 1.75 0 0 1 14.25 16h-3.5a.766.766 0 0 1-.197-.026c-.099.017-.2.026-.303.026h-3a.75.75 0 0 1-.75-.75V14h-1v1.25a.75.75 0 0 1-.75.75Zm-.25-1.75c0 .138.112.25.25.25H4v-1.25a.75.75 0 0 1 .75-.75h2.5a.75.75 0 0 1 .75.75v1.25h2.25a.25.25 0 0 0 .25-.25V1.75a.25.25 0 0 0-.25-.25h-8.5a.25.25 0 0 0-.25.25ZM3.75 6h.5a.75.75 0 0 1 0 1.5h-.5a.75.75 0 0 1 0-1.5ZM3 3.75A.75.75 0 0 1 3.75 3h.5a.75.75 0 0 1 0 1.5h-.5A.75.75 0 0 1 3 3.75Zm4 3A.75.75 0 0 1 7.75 6h.5a.75.75 0 0 1 0 1.5h-.5A.75.75 0 0 1 7 6.75ZM7.75 3h.5a.75.75 0 0 1 0 1.5h-.5a.75.75 0 0 1 0-1.5ZM3 9.75A.75.75 0 0 1 3.75 9h.5a.75.75 0 0 1 0 1.5h-.5A.75.75 0 0 1 3 9.75ZM7.75 9h.5a.75.75 0 0 1 0 1.5h-.5a.75.75 0 0 1 0-1.5Z"></path>
</svg>
        </span>
      
        <span data-view-component="true" class="ActionListItem-label">
                  New organization

</span></a>
  
</li>
</ul>    
</div></action-list>


</div>
      
</div></anchored-position>  </focus-group>
</action-menu>
</div>
</div>
    </div>
    <div class="Overlay-actionWrap">
      <button data-close-dialog-id="dialog-f0e4efc7-5344-4a5b-a9f8-25adbd597931" aria-label="Close" type="button" data-view-component="true" class="close-button Overlay-closeButton"><svg aria-hidden="true" height="16" viewBox="0 0 16 16" version="1.1" width="16" data-view-component="true" class="octicon octicon-x">
    <path d="M3.72 3.72a.75.75 0 0 1 1.06 0L8 6.94l3.22-3.22a.749.749 0 0 1 1.275.326.749.749 0 0 1-.215.734L9.06 8l3.22 3.22a.749.749 0 0 1-.326 1.275.749.749 0 0 1-.734-.215L8 9.06l-3.22 3.22a.751.751 0 0 1-1.042-.018.751.751 0 0 1-.018-1.042L6.94 8 3.72 4.78a.75.75 0 0 1 0-1.06Z"></path>
</svg></button>
    </div>
  </div>
</div>
      <scrollable-region data-labelled-by="dialog-f0e4efc7-5344-4a5b-a9f8-25adbd597931-title">
        <div data-view-component="true" class="Overlay-body d-flex flex-column px-2">    <div data-view-component="true" class="d-flex flex-column mb-3">
        <nav aria-label="User navigation" data-view-component="true" class="ActionList">
  
  <nav-list>
    <ul data-target="nav-list.topLevelList" data-view-component="true" class="ActionListWrap">
        
          
<li data-item-id="" data-targets="nav-list.items" data-view-component="true" class="ActionListItem">
    
    
    <button id="item-cc2b9b25-d521-4e95-86a8-a08bcc3e81b0" type="button" data-view-component="true" class="ActionListContent ActionListContent--visual16">
        <span class="ActionListItem-visual ActionListItem-visual--leading">
          <span data-view-component="true" class="d-flex flex-items-center">    <svg style="box-sizing: content-box; color: var(--color-icon-primary);" width="16" height="16" viewBox="0 0 16 16" fill="none" data-view-component="true" class="anim-rotate">
  <circle cx="8" cy="8" r="7" stroke="currentColor" stroke-opacity="0.25" stroke-width="2" vector-effect="non-scaling-stroke" fill="none" />
  <path d="M15 8a7.002 7.002 0 00-7-7" stroke="currentColor" stroke-width="2" stroke-linecap="round" vector-effect="non-scaling-stroke" />
</svg>
</span>
        </span>
      
        <span data-view-component="true" class="ActionListItem-label">
          

  <span class="color-fg-muted">
    Loading...
  </span>

</span></button>
  
</li>

        
          <li role="presentation" aria-hidden="true" data-view-component="true" class="ActionList-sectionDivider"></li>
        
          
<li data-item-id="" data-targets="nav-list.items" data-view-component="true" class="ActionListItem">
    
    
    <a data-analytics-event="{&quot;category&quot;:&quot;Global navigation&quot;,&quot;action&quot;:&quot;PROFILE&quot;,&quot;label&quot;:null}" id="item-55a4e33d-6430-44aa-9dd4-929a459311c4" href="https://github.com/666666rew" data-view-component="true" class="ActionListContent ActionListContent--visual16">
        <span class="ActionListItem-visual ActionListItem-visual--leading">
          <svg aria-hidden="true" height="16" viewBox="0 0 16 16" version="1.1" width="16" data-view-component="true" class="octicon octicon-person">
    <path d="M10.561 8.073a6.005 6.005 0 0 1 3.432 5.142.75.75 0 1 1-1.498.07 4.5 4.5 0 0 0-8.99 0 .75.75 0 0 1-1.498-.07 6.004 6.004 0 0 1 3.431-5.142 3.999 3.999 0 1 1 5.123 0ZM10.5 5a2.5 2.5 0 1 0-5 0 2.5 2.5 0 0 0 5 0Z"></path>
</svg>
        </span>
      
        <span data-view-component="true" class="ActionListItem-label">
          Your profile
</span></a>
  
</li>

        
          
<li data-item-id="" data-targets="nav-list.items" data-view-component="true" class="ActionListItem">
    
    
    <button id="item-f53dfa70-865c-4258-8e65-2ce13d0b9836" type="button" data-view-component="true" class="ActionListContent ActionListContent--visual16">
        <span class="ActionListItem-visual ActionListItem-visual--leading">
          <span data-view-component="true" class="d-flex flex-items-center">    <svg style="box-sizing: content-box; color: var(--color-icon-primary);" width="16" height="16" viewBox="0 0 16 16" fill="none" data-view-component="true" class="anim-rotate">
  <circle cx="8" cy="8" r="7" stroke="currentColor" stroke-opacity="0.25" stroke-width="2" vector-effect="non-scaling-stroke" fill="none" />
  <path d="M15 8a7.002 7.002 0 00-7-7" stroke="currentColor" stroke-width="2" stroke-linecap="round" vector-effect="non-scaling-stroke" />
</svg>
</span>
        </span>
      
        <span data-view-component="true" class="ActionListItem-label">
          

  <span class="color-fg-muted">
    Loading...
  </span>

</span></button>
  
</li>

        
          <li role="presentation" aria-hidden="true" data-view-component="true" class="ActionList-sectionDivider"></li>
        
          
<li data-item-id="" data-targets="nav-list.items" data-view-component="true" class="ActionListItem">
    
    
    <a data-analytics-event="{&quot;category&quot;:&quot;Global navigation&quot;,&quot;action&quot;:&quot;YOUR_REPOSITORIES&quot;,&quot;label&quot;:null}" id="item-219847b0-9676-4fe7-ae2d-cd512175d3f2" href="/666666rew?tab=repositories" data-view-component="true" class="ActionListContent ActionListContent--visual16">
        <span class="ActionListItem-visual ActionListItem-visual--leading">
          <svg aria-hidden="true" height="16" viewBox="0 0 16 16" version="1.1" width="16" data-view-component="true" class="octicon octicon-repo">
    <path d="M2 2.5A2.5 2.5 0 0 1 4.5 0h8.75a.75.75 0 0 1 .75.75v12.5a.75.75 0 0 1-.75.75h-2.5a.75.75 0 0 1 0-1.5h1.75v-2h-8a1 1 0 0 0-.714 1.7.75.75 0 1 1-1.072 1.05A2.495 2.495 0 0 1 2 11.5Zm10.5-1h-8a1 1 0 0 0-1 1v6.708A2.486 2.486 0 0 1 4.5 9h8ZM5 12.25a.25.25 0 0 1 .25-.25h3.5a.25.25 0 0 1 .25.25v3.25a.25.25 0 0 1-.4.2l-1.45-1.087a.249.249 0 0 0-.3 0L5.4 15.7a.25.25 0 0 1-.4-.2Z"></path>
</svg>
        </span>
      
        <span data-view-component="true" class="ActionListItem-label">
          Your repositories
</span></a>
  
</li>

        
          
<li data-item-id="" data-targets="nav-list.items" data-view-component="true" class="ActionListItem">
    
    
    <a data-analytics-event="{&quot;category&quot;:&quot;Global navigation&quot;,&quot;action&quot;:&quot;YOUR_PROJECTS&quot;,&quot;label&quot;:null}" id="item-09278fab-531b-46e1-a984-76c40bdad140" href="/666666rew?tab=projects" data-view-component="true" class="ActionListContent ActionListContent--visual16">
        <span class="ActionListItem-visual ActionListItem-visual--leading">
          <svg aria-hidden="true" height="16" viewBox="0 0 16 16" version="1.1" width="16" data-view-component="true" class="octicon octicon-project">
    <path d="M1.75 0h12.5C15.216 0 16 .784 16 1.75v12.5A1.75 1.75 0 0 1 14.25 16H1.75A1.75 1.75 0 0 1 0 14.25V1.75C0 .784.784 0 1.75 0ZM1.5 1.75v12.5c0 .138.112.25.25.25h12.5a.25.25 0 0 0 .25-.25V1.75a.25.25 0 0 0-.25-.25H1.75a.25.25 0 0 0-.25.25ZM11.75 3a.75.75 0 0 1 .75.75v7.5a.75.75 0 0 1-1.5 0v-7.5a.75.75 0 0 1 .75-.75Zm-8.25.75a.75.75 0 0 1 1.5 0v5.5a.75.75 0 0 1-1.5 0ZM8 3a.75.75 0 0 1 .75.75v3.5a.75.75 0 0 1-1.5 0v-3.5A.75.75 0 0 1 8 3Z"></path>
</svg>
        </span>
      
        <span data-view-component="true" class="ActionListItem-label">
          Your projects
</span></a>
  
</li>

        
          
<li data-item-id="" data-targets="nav-list.items" data-view-component="true" class="ActionListItem">
    
    
    <button id="item-1a3c5848-9ad4-4227-9dc6-c6f0814e39ef" type="button" data-view-component="true" class="ActionListContent ActionListContent--visual16">
        <span class="ActionListItem-visual ActionListItem-visual--leading">
          <span data-view-component="true" class="d-flex flex-items-center">    <svg style="box-sizing: content-box; color: var(--color-icon-primary);" width="16" height="16" viewBox="0 0 16 16" fill="none" data-view-component="true" class="anim-rotate">
  <circle cx="8" cy="8" r="7" stroke="currentColor" stroke-opacity="0.25" stroke-width="2" vector-effect="non-scaling-stroke" fill="none" />
  <path d="M15 8a7.002 7.002 0 00-7-7" stroke="currentColor" stroke-width="2" stroke-linecap="round" vector-effect="non-scaling-stroke" />
</svg>
</span>
        </span>
      
        <span data-view-component="true" class="ActionListItem-label">
          

  <span class="color-fg-muted">
    Loading...
  </span>

</span></button>
  
</li>

        
          
<li data-item-id="" data-targets="nav-list.items" data-view-component="true" class="ActionListItem">
    
    
    <button id="item-4fb4e6d6-b1de-4540-a433-40f947ab56bd" type="button" data-view-component="true" class="ActionListContent ActionListContent--visual16">
        <span class="ActionListItem-visual ActionListItem-visual--leading">
          <span data-view-component="true" class="d-flex flex-items-center">    <svg style="box-sizing: content-box; color: var(--color-icon-primary);" width="16" height="16" viewBox="0 0 16 16" fill="none" data-view-component="true" class="anim-rotate">
  <circle cx="8" cy="8" r="7" stroke="currentColor" stroke-opacity="0.25" stroke-width="2" vector-effect="non-scaling-stroke" fill="none" />
  <path d="M15 8a7.002 7.002 0 00-7-7" stroke="currentColor" stroke-width="2" stroke-linecap="round" vector-effect="non-scaling-stroke" />
</svg>
</span>
        </span>
      
        <span data-view-component="true" class="ActionListItem-label">
          

  <span class="color-fg-muted">
    Loading...
  </span>

</span></button>
  
</li>

        
          
<li data-item-id="" data-targets="nav-list.items" data-view-component="true" class="ActionListItem">
    
    
    <a data-analytics-event="{&quot;category&quot;:&quot;Global navigation&quot;,&quot;action&quot;:&quot;YOUR_STARS&quot;,&quot;label&quot;:null}" id="item-7339fece-869d-4e56-b363-33cf77eded54" href="/666666rew?tab=stars" data-view-component="true" class="ActionListContent ActionListContent--visual16">
        <span class="ActionListItem-visual ActionListItem-visual--leading">
          <svg aria-hidden="true" height="16" viewBox="0 0 16 16" version="1.1" width="16" data-view-component="true" class="octicon octicon-star">
    <path d="M8 .25a.75.75 0 0 1 .673.418l1.882 3.815 4.21.612a.75.75 0 0 1 .416 1.279l-3.046 2.97.719 4.192a.751.751 0 0 1-1.088.791L8 12.347l-3.766 1.98a.75.75 0 0 1-1.088-.79l.72-4.194L.818 6.374a.75.75 0 0 1 .416-1.28l4.21-.611L7.327.668A.75.75 0 0 1 8 .25Zm0 2.445L6.615 5.5a.75.75 0 0 1-.564.41l-3.097.45 2.24 2.184a.75.75 0 0 1 .216.664l-.528 3.084 2.769-1.456a.75.75 0 0 1 .698 0l2.77 1.456-.53-3.084a.75.75 0 0 1 .216-.664l2.24-2.183-3.096-.45a.75.75 0 0 1-.564-.41L8 2.694Z"></path>
</svg>
        </span>
      
        <span data-view-component="true" class="ActionListItem-label">
          Your stars
</span></a>
  
</li>

        
          
<li data-item-id="" data-targets="nav-list.items" data-view-component="true" class="ActionListItem">
    
    
    <a data-analytics-event="{&quot;category&quot;:&quot;Global navigation&quot;,&quot;action&quot;:&quot;SPONSORS&quot;,&quot;label&quot;:null}" id="item-542b9c06-32d8-49cf-bf9f-62c86a3248d6" href="/sponsors/accounts" data-view-component="true" class="ActionListContent ActionListContent--visual16">
        <span class="ActionListItem-visual ActionListItem-visual--leading">
          <svg aria-hidden="true" height="16" viewBox="0 0 16 16" version="1.1" width="16" data-view-component="true" class="octicon octicon-heart">
    <path d="m8 14.25.345.666a.75.75 0 0 1-.69 0l-.008-.004-.018-.01a7.152 7.152 0 0 1-.31-.17 22.055 22.055 0 0 1-3.434-2.414C2.045 10.731 0 8.35 0 5.5 0 2.836 2.086 1 4.25 1 5.797 1 7.153 1.802 8 3.02 8.847 1.802 10.203 1 11.75 1 13.914 1 16 2.836 16 5.5c0 2.85-2.045 5.231-3.885 6.818a22.066 22.066 0 0 1-3.744 2.584l-.018.01-.006.003h-.002ZM4.25 2.5c-1.336 0-2.75 1.164-2.75 3 0 2.15 1.58 4.144 3.365 5.682A20.58 20.58 0 0 0 8 13.393a20.58 20.58 0 0 0 3.135-2.211C12.92 9.644 14.5 7.65 14.5 5.5c0-1.836-1.414-3-2.75-3-1.373 0-2.609.986-3.029 2.456a.749.749 0 0 1-1.442 0C6.859 3.486 5.623 2.5 4.25 2.5Z"></path>
</svg>
        </span>
      
        <span data-view-component="true" class="ActionListItem-label">
          Your sponsors
</span></a>
  
</li>

        
          
<li data-item-id="" data-targets="nav-list.items" data-view-component="true" class="ActionListItem">
    
    
    <a data-analytics-event="{&quot;category&quot;:&quot;Global navigation&quot;,&quot;action&quot;:&quot;YOUR_GISTS&quot;,&quot;label&quot;:null}" id="item-d2d80e0e-07fd-4e3d-984c-59cd9c861311" href="https://gist.github.com/mine" data-view-component="true" class="ActionListContent ActionListContent--visual16">
        <span class="ActionListItem-visual ActionListItem-visual--leading">
          <svg aria-hidden="true" height="16" viewBox="0 0 16 16" version="1.1" width="16" data-view-component="true" class="octicon octicon-code-square">
    <path d="M0 1.75C0 .784.784 0 1.75 0h12.5C15.216 0 16 .784 16 1.75v12.5A1.75 1.75 0 0 1 14.25 16H1.75A1.75 1.75 0 0 1 0 14.25Zm1.75-.25a.25.25 0 0 0-.25.25v12.5c0 .138.112.25.25.25h12.5a.25.25 0 0 0 .25-.25V1.75a.25.25 0 0 0-.25-.25Zm7.47 3.97a.75.75 0 0 1 1.06 0l2 2a.75.75 0 0 1 0 1.06l-2 2a.749.749 0 0 1-1.275-.326.749.749 0 0 1 .215-.734L10.69 8 9.22 6.53a.75.75 0 0 1 0-1.06ZM6.78 6.53 5.31 8l1.47 1.47a.749.749 0 0 1-.326 1.275.749.749 0 0 1-.734-.215l-2-2a.75.75 0 0 1 0-1.06l2-2a.751.751 0 0 1 1.042.018.751.751 0 0 1 .018 1.042Z"></path>
</svg>
        </span>
      
        <span data-view-component="true" class="ActionListItem-label">
          Your gists
</span></a>
  
</li>

        
          <li role="presentation" aria-hidden="true" data-view-component="true" class="ActionList-sectionDivider"></li>
        
          
<li data-item-id="" data-targets="nav-list.items" data-view-component="true" class="ActionListItem">
    
    
    <button id="item-7713bbb2-1545-471e-afb1-20bb6f5563fd" type="button" data-view-component="true" class="ActionListContent ActionListContent--visual16">
        <span class="ActionListItem-visual ActionListItem-visual--leading">
          <span data-view-component="true" class="d-flex flex-items-center">    <svg style="box-sizing: content-box; color: var(--color-icon-primary);" width="16" height="16" viewBox="0 0 16 16" fill="none" data-view-component="true" class="anim-rotate">
  <circle cx="8" cy="8" r="7" stroke="currentColor" stroke-opacity="0.25" stroke-width="2" vector-effect="non-scaling-stroke" fill="none" />
  <path d="M15 8a7.002 7.002 0 00-7-7" stroke="currentColor" stroke-width="2" stroke-linecap="round" vector-effect="non-scaling-stroke" />
</svg>
</span>
        </span>
      
        <span data-view-component="true" class="ActionListItem-label">
          

  <span class="color-fg-muted">
    Loading...
  </span>

</span></button>
  
</li>

        
          
<li data-item-id="" data-targets="nav-list.items" data-view-component="true" class="ActionListItem">
    
    
    <button id="item-23a76fbb-4f35-4f8c-9f90-40d2192de73e" type="button" data-view-component="true" class="ActionListContent ActionListContent--visual16">
        <span class="ActionListItem-visual ActionListItem-visual--leading">
          <span data-view-component="true" class="d-flex flex-items-center">    <svg style="box-sizing: content-box; color: var(--color-icon-primary);" width="16" height="16" viewBox="0 0 16 16" fill="none" data-view-component="true" class="anim-rotate">
  <circle cx="8" cy="8" r="7" stroke="currentColor" stroke-opacity="0.25" stroke-width="2" vector-effect="non-scaling-stroke" fill="none" />
  <path d="M15 8a7.002 7.002 0 00-7-7" stroke="currentColor" stroke-width="2" stroke-linecap="round" vector-effect="non-scaling-stroke" />
</svg>
</span>
        </span>
      
        <span data-view-component="true" class="ActionListItem-label">
          

  <span class="color-fg-muted">
    Loading...
  </span>

</span></button>
  
</li>

        
          
<li data-item-id="" data-targets="nav-list.items" data-view-component="true" class="ActionListItem">
    
    
    <a data-analytics-event="{&quot;category&quot;:&quot;Global navigation&quot;,&quot;action&quot;:&quot;SETTINGS&quot;,&quot;label&quot;:null}" id="item-6c99597c-d07a-4bbf-993f-e18baa695697" href="/settings/profile" data-view-component="true" class="ActionListContent ActionListContent--visual16">
        <span class="ActionListItem-visual ActionListItem-visual--leading">
          <svg aria-hidden="true" height="16" viewBox="0 0 16 16" version="1.1" width="16" data-view-component="true" class="octicon octicon-gear">
    <path d="M8 0a8.2 8.2 0 0 1 .701.031C9.444.095 9.99.645 10.16 1.29l.288 1.107c.018.066.079.158.212.224.231.114.454.243.668.386.123.082.233.09.299.071l1.103-.303c.644-.176 1.392.021 1.82.63.27.385.506.792.704 1.218.315.675.111 1.422-.364 1.891l-.814.806c-.049.048-.098.147-.088.294.016.257.016.515 0 .772-.01.147.038.246.088.294l.814.806c.475.469.679 1.216.364 1.891a7.977 7.977 0 0 1-.704 1.217c-.428.61-1.176.807-1.82.63l-1.102-.302c-.067-.019-.177-.011-.3.071a5.909 5.909 0 0 1-.668.386c-.133.066-.194.158-.211.224l-.29 1.106c-.168.646-.715 1.196-1.458 1.26a8.006 8.006 0 0 1-1.402 0c-.743-.064-1.289-.614-1.458-1.26l-.289-1.106c-.018-.066-.079-.158-.212-.224a5.738 5.738 0 0 1-.668-.386c-.123-.082-.233-.09-.299-.071l-1.103.303c-.644.176-1.392-.021-1.82-.63a8.12 8.12 0 0 1-.704-1.218c-.315-.675-.111-1.422.363-1.891l.815-.806c.05-.048.098-.147.088-.294a6.214 6.214 0 0 1 0-.772c.01-.147-.038-.246-.088-.294l-.815-.806C.635 6.045.431 5.298.746 4.623a7.92 7.92 0 0 1 .704-1.217c.428-.61 1.176-.807 1.82-.63l1.102.302c.067.019.177.011.3-.071.214-.143.437-.272.668-.386.133-.066.194-.158.211-.224l.29-1.106C6.009.645 6.556.095 7.299.03 7.53.01 7.764 0 8 0Zm-.571 1.525c-.036.003-.108.036-.137.146l-.289 1.105c-.147.561-.549.967-.998 1.189-.173.086-.34.183-.5.29-.417.278-.97.423-1.529.27l-1.103-.303c-.109-.03-.175.016-.195.045-.22.312-.412.644-.573.99-.014.031-.021.11.059.19l.815.806c.411.406.562.957.53 1.456a4.709 4.709 0 0 0 0 .582c.032.499-.119 1.05-.53 1.456l-.815.806c-.081.08-.073.159-.059.19.162.346.353.677.573.989.02.03.085.076.195.046l1.102-.303c.56-.153 1.113-.008 1.53.27.161.107.328.204.501.29.447.222.85.629.997 1.189l.289 1.105c.029.109.101.143.137.146a6.6 6.6 0 0 0 1.142 0c.036-.003.108-.036.137-.146l.289-1.105c.147-.561.549-.967.998-1.189.173-.086.34-.183.5-.29.417-.278.97-.423 1.529-.27l1.103.303c.109.029.175-.016.195-.045.22-.313.411-.644.573-.99.014-.031.021-.11-.059-.19l-.815-.806c-.411-.406-.562-.957-.53-1.456a4.709 4.709 0 0 0 0-.582c-.032-.499.119-1.05.53-1.456l.815-.806c.081-.08.073-.159.059-.19a6.464 6.464 0 0 0-.573-.989c-.02-.03-.085-.076-.195-.046l-1.102.303c-.56.153-1.113.008-1.53-.27a4.44 4.44 0 0 0-.501-.29c-.447-.222-.85-.629-.997-1.189l-.289-1.105c-.029-.11-.101-.143-.137-.146a6.6 6.6 0 0 0-1.142 0ZM11 8a3 3 0 1 1-6 0 3 3 0 0 1 6 0ZM9.5 8a1.5 1.5 0 1 0-3.001.001A1.5 1.5 0 0 0 9.5 8Z"></path>
</svg>
        </span>
      
        <span data-view-component="true" class="ActionListItem-label">
          Settings
</span></a>
  
</li>

        
          <li role="presentation" aria-hidden="true" data-view-component="true" class="ActionList-sectionDivider"></li>
        
          
<li data-item-id="" data-targets="nav-list.items" data-view-component="true" class="ActionListItem">
    
    
    <a data-analytics-event="{&quot;category&quot;:&quot;Global navigation&quot;,&quot;action&quot;:&quot;SUPPORT&quot;,&quot;label&quot;:null}" id="item-b87062c1-1b6f-4a04-8345-b61264e61f86" href="https://support.github.com" data-view-component="true" class="ActionListContent ActionListContent--visual16">
        <span class="ActionListItem-visual ActionListItem-visual--leading">
          <svg aria-hidden="true" height="16" viewBox="0 0 16 16" version="1.1" width="16" data-view-component="true" class="octicon octicon-people">
    <path d="M2 5.5a3.5 3.5 0 1 1 5.898 2.549 5.508 5.508 0 0 1 3.034 4.084.75.75 0 1 1-1.482.235 4 4 0 0 0-7.9 0 .75.75 0 0 1-1.482-.236A5.507 5.507 0 0 1 3.102 8.05 3.493 3.493 0 0 1 2 5.5ZM11 4a3.001 3.001 0 0 1 2.22 5.018 5.01 5.01 0 0 1 2.56 3.012.749.749 0 0 1-.885.954.752.752 0 0 1-.549-.514 3.507 3.507 0 0 0-2.522-2.372.75.75 0 0 1-.574-.73v-.352a.75.75 0 0 1 .416-.672A1.5 1.5 0 0 0 11 5.5.75.75 0 0 1 11 4Zm-5.5-.5a2 2 0 1 0-.001 3.999A2 2 0 0 0 5.5 3.5Z"></path>
</svg>
        </span>
      
        <span data-view-component="true" class="ActionListItem-label">
          GitHub Support
</span></a>
  
</li>

        
          
<li data-item-id="" data-targets="nav-list.items" data-view-component="true" class="ActionListItem">
    
    
    <a data-analytics-event="{&quot;category&quot;:&quot;Global navigation&quot;,&quot;action&quot;:&quot;COMMUNITY&quot;,&quot;label&quot;:null}" id="item-264f9c69-68f4-4525-956c-2fa40484ae31" href="https://community.github.com" data-view-component="true" class="ActionListContent ActionListContent--visual16">
        <span class="ActionListItem-visual ActionListItem-visual--leading">
          <svg aria-hidden="true" height="16" viewBox="0 0 16 16" version="1.1" width="16" data-view-component="true" class="octicon octicon-comment-discussion">
    <path d="M1.75 1h8.5c.966 0 1.75.784 1.75 1.75v5.5A1.75 1.75 0 0 1 10.25 10H7.061l-2.574 2.573A1.458 1.458 0 0 1 2 11.543V10h-.25A1.75 1.75 0 0 1 0 8.25v-5.5C0 1.784.784 1 1.75 1ZM1.5 2.75v5.5c0 .138.112.25.25.25h1a.75.75 0 0 1 .75.75v2.19l2.72-2.72a.749.749 0 0 1 .53-.22h3.5a.25.25 0 0 0 .25-.25v-5.5a.25.25 0 0 0-.25-.25h-8.5a.25.25 0 0 0-.25.25Zm13 2a.25.25 0 0 0-.25-.25h-.5a.75.75 0 0 1 0-1.5h.5c.966 0 1.75.784 1.75 1.75v5.5A1.75 1.75 0 0 1 14.25 12H14v1.543a1.458 1.458 0 0 1-2.487 1.03L9.22 12.28a.749.749 0 0 1 .326-1.275.749.749 0 0 1 .734.215l2.22 2.22v-2.19a.75.75 0 0 1 .75-.75h1a.25.25 0 0 0 .25-.25Z"></path>
</svg>
        </span>
      
        <span data-view-component="true" class="ActionListItem-label">
          GitHub Community
</span></a>
  
</li>

        
          <li role="presentation" aria-hidden="true" data-view-component="true" class="ActionList-sectionDivider"></li>
        
          
<li data-item-id="" data-targets="nav-list.items" data-view-component="true" class="ActionListItem">
    
    
    <a data-analytics-event="{&quot;category&quot;:&quot;Global navigation&quot;,&quot;action&quot;:&quot;LOGOUT&quot;,&quot;label&quot;:null}" id="item-040f8102-ef9f-448c-a5a4-62c049538517" href="/logout" data-view-component="true" class="ActionListContent">
      
        <span data-view-component="true" class="ActionListItem-label">
          Sign out
</span></a>
  
</li>

</ul>  </nav-list>
</nav>


</div>
</div>
      </scrollable-region>
      
</dialog></dialog-helper>
    </user-drawer-side-panel>

  </include-fragment>
</deferred-side-panel>
        </div>

        <div class="position-absolute mt-2">
            
<site-header-logged-in-user-menu>

</site-header-logged-in-user-menu>

        </div>
      </div>
    </div>


      <div class="AppHeader-localBar" >
        <nav data-pjax="#js-repo-pjax-container" aria-label="Repository" data-view-component="true" class="js-repo-nav js-sidenav-container-pjax js-responsive-underlinenav overflow-hidden UnderlineNav">

  <ul data-view-component="true" class="UnderlineNav-body list-style-none">
      <li data-view-component="true" class="d-inline-flex">
  <a id="code-tab" href="/Mogady/BBC_arabic_Analysis" data-tab-item="i0code-tab" data-selected-links="repo_source repo_downloads repo_commits repo_releases repo_tags repo_branches repo_packages repo_deployments repo_attestations /Mogady/BBC_arabic_Analysis" data-pjax="#repo-content-pjax-container" data-turbo-frame="repo-content-turbo-frame" data-hotkey="g c" data-analytics-event="{&quot;category&quot;:&quot;Underline navbar&quot;,&quot;action&quot;:&quot;Click tab&quot;,&quot;label&quot;:&quot;Code&quot;,&quot;target&quot;:&quot;UNDERLINE_NAV.TAB&quot;}" data-view-component="true" class="UnderlineNav-item no-wrap js-responsive-underlinenav-item js-selected-navigation-item">
    
              <svg aria-hidden="true" height="16" viewBox="0 0 16 16" version="1.1" width="16" data-view-component="true" class="octicon octicon-code UnderlineNav-octicon d-none d-sm-inline">
    <path d="m11.28 3.22 4.25 4.25a.75.75 0 0 1 0 1.06l-4.25 4.25a.749.749 0 0 1-1.275-.326.749.749 0 0 1 .215-.734L13.94 8l-3.72-3.72a.749.749 0 0 1 .326-1.275.749.749 0 0 1 .734.215Zm-6.56 0a.751.751 0 0 1 1.042.018.751.751 0 0 1 .018 1.042L2.06 8l3.72 3.72a.749.749 0 0 1-.326 1.275.749.749 0 0 1-.734-.215L.47 8.53a.75.75 0 0 1 0-1.06Z"></path>
</svg>
        <span data-content="Code">Code</span>
          <span id="code-repo-tab-count" data-pjax-replace="" data-turbo-replace="" title="Not available" data-view-component="true" class="Counter"></span>


    
</a></li>
      <li data-view-component="true" class="d-inline-flex">
  <a id="issues-tab" href="/Mogady/BBC_arabic_Analysis/issues" data-tab-item="i1issues-tab" data-selected-links="repo_issues repo_labels repo_milestones /Mogady/BBC_arabic_Analysis/issues" data-pjax="#repo-content-pjax-container" data-turbo-frame="repo-content-turbo-frame" data-hotkey="g i" data-analytics-event="{&quot;category&quot;:&quot;Underline navbar&quot;,&quot;action&quot;:&quot;Click tab&quot;,&quot;label&quot;:&quot;Issues&quot;,&quot;target&quot;:&quot;UNDERLINE_NAV.TAB&quot;}" data-view-component="true" class="UnderlineNav-item no-wrap js-responsive-underlinenav-item js-selected-navigation-item">
    
              <svg aria-hidden="true" height="16" viewBox="0 0 16 16" version="1.1" width="16" data-view-component="true" class="octicon octicon-issue-opened UnderlineNav-octicon d-none d-sm-inline">
    <path d="M8 9.5a1.5 1.5 0 1 0 0-3 1.5 1.5 0 0 0 0 3Z"></path><path d="M8 0a8 8 0 1 1 0 16A8 8 0 0 1 8 0ZM1.5 8a6.5 6.5 0 1 0 13 0 6.5 6.5 0 0 0-13 0Z"></path>
</svg>
        <span data-content="Issues">Issues</span>
          <span id="issues-repo-tab-count" data-pjax-replace="" data-turbo-replace="" title="0" hidden="hidden" data-view-component="true" class="Counter">0</span>


    
</a></li>
      <li data-view-component="true" class="d-inline-flex">
  <a id="pull-requests-tab" href="/Mogady/BBC_arabic_Analysis/pulls" data-tab-item="i2pull-requests-tab" data-selected-links="repo_pulls checks /Mogady/BBC_arabic_Analysis/pulls" data-pjax="#repo-content-pjax-container" data-turbo-frame="repo-content-turbo-frame" data-hotkey="g p" data-analytics-event="{&quot;category&quot;:&quot;Underline navbar&quot;,&quot;action&quot;:&quot;Click tab&quot;,&quot;label&quot;:&quot;Pull requests&quot;,&quot;target&quot;:&quot;UNDERLINE_NAV.TAB&quot;}" data-view-component="true" class="UnderlineNav-item no-wrap js-responsive-underlinenav-item js-selected-navigation-item">
    
              <svg aria-hidden="true" height="16" viewBox="0 0 16 16" version="1.1" width="16" data-view-component="true" class="octicon octicon-git-pull-request UnderlineNav-octicon d-none d-sm-inline">
    <path d="M1.5 3.25a2.25 2.25 0 1 1 3 2.122v5.256a2.251 2.251 0 1 1-1.5 0V5.372A2.25 2.25 0 0 1 1.5 3.25Zm5.677-.177L9.573.677A.25.25 0 0 1 10 .854V2.5h1A2.5 2.5 0 0 1 13.5 5v5.628a2.251 2.251 0 1 1-1.5 0V5a1 1 0 0 0-1-1h-1v1.646a.25.25 0 0 1-.427.177L7.177 3.427a.25.25 0 0 1 0-.354ZM3.75 2.5a.75.75 0 1 0 0 1.5.75.75 0 0 0 0-1.5Zm0 9.5a.75.75 0 1 0 0 1.5.75.75 0 0 0 0-1.5Zm8.25.75a.75.75 0 1 0 1.5 0 .75.75 0 0 0-1.5 0Z"></path>
</svg>
        <span data-content="Pull requests">Pull requests</span>
          <span id="pull-requests-repo-tab-count" data-pjax-replace="" data-turbo-replace="" title="0" hidden="hidden" data-view-component="true" class="Counter">0</span>


    
</a></li>
      <li data-view-component="true" class="d-inline-flex">
  <a id="actions-tab" href="/Mogady/BBC_arabic_Analysis/actions" data-tab-item="i3actions-tab" data-selected-links="repo_actions /Mogady/BBC_arabic_Analysis/actions" data-pjax="#repo-content-pjax-container" data-turbo-frame="repo-content-turbo-frame" data-hotkey="g a" data-analytics-event="{&quot;category&quot;:&quot;Underline navbar&quot;,&quot;action&quot;:&quot;Click tab&quot;,&quot;label&quot;:&quot;Actions&quot;,&quot;target&quot;:&quot;UNDERLINE_NAV.TAB&quot;}" data-view-component="true" class="UnderlineNav-item no-wrap js-responsive-underlinenav-item js-selected-navigation-item">
    
              <svg aria-hidden="true" height="16" viewBox="0 0 16 16" version="1.1" width="16" data-view-component="true" class="octicon octicon-play UnderlineNav-octicon d-none d-sm-inline">
    <path d="M8 0a8 8 0 1 1 0 16A8 8 0 0 1 8 0ZM1.5 8a6.5 6.5 0 1 0 13 0 6.5 6.5 0 0 0-13 0Zm4.879-2.773 4.264 2.559a.25.25 0 0 1 0 .428l-4.264 2.559A.25.25 0 0 1 6 10.559V5.442a.25.25 0 0 1 .379-.215Z"></path>
</svg>
        <span data-content="Actions">Actions</span>
          <span id="actions-repo-tab-count" data-pjax-replace="" data-turbo-replace="" title="Not available" data-view-component="true" class="Counter"></span>


    
</a></li>
      <li data-view-component="true" class="d-inline-flex">
  <a id="projects-tab" href="/Mogady/BBC_arabic_Analysis/projects" data-tab-item="i4projects-tab" data-selected-links="repo_projects new_repo_project repo_project /Mogady/BBC_arabic_Analysis/projects" data-pjax="#repo-content-pjax-container" data-turbo-frame="repo-content-turbo-frame" data-hotkey="g b" data-analytics-event="{&quot;category&quot;:&quot;Underline navbar&quot;,&quot;action&quot;:&quot;Click tab&quot;,&quot;label&quot;:&quot;Projects&quot;,&quot;target&quot;:&quot;UNDERLINE_NAV.TAB&quot;}" data-view-component="true" class="UnderlineNav-item no-wrap js-responsive-underlinenav-item js-selected-navigation-item">
    
              <svg aria-hidden="true" height="16" viewBox="0 0 16 16" version="1.1" width="16" data-view-component="true" class="octicon octicon-table UnderlineNav-octicon d-none d-sm-inline">
    <path d="M0 1.75C0 .784.784 0 1.75 0h12.5C15.216 0 16 .784 16 1.75v12.5A1.75 1.75 0 0 1 14.25 16H1.75A1.75 1.75 0 0 1 0 14.25ZM6.5 6.5v8h7.75a.25.25 0 0 0 .25-.25V6.5Zm8-1.5V1.75a.25.25 0 0 0-.25-.25H6.5V5Zm-13 1.5v7.75c0 .138.112.25.25.25H5v-8ZM5 5V1.5H1.75a.25.25 0 0 0-.25.25V5Z"></path>
</svg>
        <span data-content="Projects">Projects</span>
          <span id="projects-repo-tab-count" data-pjax-replace="" data-turbo-replace="" title="0" hidden="hidden" data-view-component="true" class="Counter">0</span>


    
</a></li>
      <li data-view-component="true" class="d-inline-flex">
  <a id="security-tab" href="/Mogady/BBC_arabic_Analysis/security" data-tab-item="i5security-tab" data-selected-links="security overview alerts policy token_scanning code_scanning /Mogady/BBC_arabic_Analysis/security" data-pjax="#repo-content-pjax-container" data-turbo-frame="repo-content-turbo-frame" data-hotkey="g s" data-analytics-event="{&quot;category&quot;:&quot;Underline navbar&quot;,&quot;action&quot;:&quot;Click tab&quot;,&quot;label&quot;:&quot;Security&quot;,&quot;target&quot;:&quot;UNDERLINE_NAV.TAB&quot;}" data-view-component="true" class="UnderlineNav-item no-wrap js-responsive-underlinenav-item js-selected-navigation-item">
    
              <svg aria-hidden="true" height="16" viewBox="0 0 16 16" version="1.1" width="16" data-view-component="true" class="octicon octicon-shield UnderlineNav-octicon d-none d-sm-inline">
    <path d="M7.467.133a1.748 1.748 0 0 1 1.066 0l5.25 1.68A1.75 1.75 0 0 1 15 3.48V7c0 1.566-.32 3.182-1.303 4.682-.983 1.498-2.585 2.813-5.032 3.855a1.697 1.697 0 0 1-1.33 0c-2.447-1.042-4.049-2.357-5.032-3.855C1.32 10.182 1 8.566 1 7V3.48a1.75 1.75 0 0 1 1.217-1.667Zm.61 1.429a.25.25 0 0 0-.153 0l-5.25 1.68a.25.25 0 0 0-.174.238V7c0 1.358.275 2.666 1.057 3.86.784 1.194 2.121 2.34 4.366 3.297a.196.196 0 0 0 .154 0c2.245-.956 3.582-2.104 4.366-3.298C13.225 9.666 13.5 8.36 13.5 7V3.48a.251.251 0 0 0-.174-.237l-5.25-1.68ZM8.75 4.75v3a.75.75 0 0 1-1.5 0v-3a.75.75 0 0 1 1.5 0ZM9 10.5a1 1 0 1 1-2 0 1 1 0 0 1 2 0Z"></path>
</svg>
        <span data-content="Security">Security</span>
          <include-fragment src="/Mogady/BBC_arabic_Analysis/security/overall-count" accept="text/fragment+html"></include-fragment>

    
</a></li>
      <li data-view-component="true" class="d-inline-flex">
  <a id="insights-tab" href="/Mogady/BBC_arabic_Analysis/pulse" data-tab-item="i6insights-tab" data-selected-links="repo_graphs repo_contributors dependency_graph dependabot_updates pulse people community /Mogady/BBC_arabic_Analysis/pulse" data-pjax="#repo-content-pjax-container" data-turbo-frame="repo-content-turbo-frame" data-analytics-event="{&quot;category&quot;:&quot;Underline navbar&quot;,&quot;action&quot;:&quot;Click tab&quot;,&quot;label&quot;:&quot;Insights&quot;,&quot;target&quot;:&quot;UNDERLINE_NAV.TAB&quot;}" data-view-component="true" class="UnderlineNav-item no-wrap js-responsive-underlinenav-item js-selected-navigation-item">
    
              <svg aria-hidden="true" height="16" viewBox="0 0 16 16" version="1.1" width="16" data-view-component="true" class="octicon octicon-graph UnderlineNav-octicon d-none d-sm-inline">
    <path d="M1.5 1.75V13.5h13.75a.75.75 0 0 1 0 1.5H.75a.75.75 0 0 1-.75-.75V1.75a.75.75 0 0 1 1.5 0Zm14.28 2.53-5.25 5.25a.75.75 0 0 1-1.06 0L7 7.06 4.28 9.78a.751.751 0 0 1-1.042-.018.751.751 0 0 1-.018-1.042l3.25-3.25a.75.75 0 0 1 1.06 0L10 7.94l4.72-4.72a.751.751 0 0 1 1.042.018.751.751 0 0 1 .018 1.042Z"></path>
</svg>
        <span data-content="Insights">Insights</span>
          <span id="insights-repo-tab-count" data-pjax-replace="" data-turbo-replace="" title="Not available" data-view-component="true" class="Counter"></span>


    
</a></li>
</ul>
    <div style="visibility:hidden;" data-view-component="true" class="UnderlineNav-actions js-responsive-underlinenav-overflow position-absolute pr-3 pr-md-4 pr-lg-5 right-0">      <action-menu data-select-variant="none" data-view-component="true">
  <focus-group direction="vertical" mnemonics retain>
    <button id="action-menu-bb50a8f1-27a0-4ba0-a3c5-61dc562d1ac9-button" popovertarget="action-menu-bb50a8f1-27a0-4ba0-a3c5-61dc562d1ac9-overlay" aria-controls="action-menu-bb50a8f1-27a0-4ba0-a3c5-61dc562d1ac9-list" aria-haspopup="true" aria-labelledby="tooltip-8c9bdf83-647d-413d-820e-11d87f0761bf" type="button" data-view-component="true" class="Button Button--iconOnly Button--secondary Button--medium UnderlineNav-item">  <svg aria-hidden="true" height="16" viewBox="0 0 16 16" version="1.1" width="16" data-view-component="true" class="octicon octicon-kebab-horizontal Button-visual">
    <path d="M8 9a1.5 1.5 0 1 0 0-3 1.5 1.5 0 0 0 0 3ZM1.5 9a1.5 1.5 0 1 0 0-3 1.5 1.5 0 0 0 0 3Zm13 0a1.5 1.5 0 1 0 0-3 1.5 1.5 0 0 0 0 3Z"></path>
</svg>
</button><tool-tip id="tooltip-8c9bdf83-647d-413d-820e-11d87f0761bf" for="action-menu-bb50a8f1-27a0-4ba0-a3c5-61dc562d1ac9-button" popover="manual" data-direction="s" data-type="label" data-view-component="true" class="sr-only position-absolute">Additional navigation options</tool-tip>


<anchored-position id="action-menu-bb50a8f1-27a0-4ba0-a3c5-61dc562d1ac9-overlay" anchor="action-menu-bb50a8f1-27a0-4ba0-a3c5-61dc562d1ac9-button" align="start" side="outside-bottom" anchor-offset="normal" popover="auto" data-view-component="true">
  <div data-view-component="true" class="Overlay Overlay--size-auto">
    
      <div data-view-component="true" class="Overlay-body Overlay-body--paddingNone">          <action-list>
  <div data-view-component="true">
    <ul aria-labelledby="action-menu-bb50a8f1-27a0-4ba0-a3c5-61dc562d1ac9-button" id="action-menu-bb50a8f1-27a0-4ba0-a3c5-61dc562d1ac9-list" role="menu" data-view-component="true" class="ActionListWrap--inset ActionListWrap">
        <li hidden="hidden" data-menu-item="i0code-tab" data-targets="action-list.items" role="none" data-view-component="true" class="ActionListItem">
    
    
    <a tabindex="-1" id="item-c8be21c3-9511-47a6-b22d-3eb3e72363b6" href="/Mogady/BBC_arabic_Analysis" role="menuitem" data-view-component="true" class="ActionListContent ActionListContent--visual16">
        <span class="ActionListItem-visual ActionListItem-visual--leading">
          <svg aria-hidden="true" height="16" viewBox="0 0 16 16" version="1.1" width="16" data-view-component="true" class="octicon octicon-code">
    <path d="m11.28 3.22 4.25 4.25a.75.75 0 0 1 0 1.06l-4.25 4.25a.749.749 0 0 1-1.275-.326.749.749 0 0 1 .215-.734L13.94 8l-3.72-3.72a.749.749 0 0 1 .326-1.275.749.749 0 0 1 .734.215Zm-6.56 0a.751.751 0 0 1 1.042.018.751.751 0 0 1 .018 1.042L2.06 8l3.72 3.72a.749.749 0 0 1-.326 1.275.749.749 0 0 1-.734-.215L.47 8.53a.75.75 0 0 1 0-1.06Z"></path>
</svg>
        </span>
      
        <span data-view-component="true" class="ActionListItem-label">
          Code
</span></a>
  
</li>
        <li hidden="hidden" data-menu-item="i1issues-tab" data-targets="action-list.items" role="none" data-view-component="true" class="ActionListItem">
    
    
    <a tabindex="-1" id="item-aef4072b-9396-4292-8b87-0d0821f642ac" href="/Mogady/BBC_arabic_Analysis/issues" role="menuitem" data-view-component="true" class="ActionListContent ActionListContent--visual16">
        <span class="ActionListItem-visual ActionListItem-visual--leading">
          <svg aria-hidden="true" height="16" viewBox="0 0 16 16" version="1.1" width="16" data-view-component="true" class="octicon octicon-issue-opened">
    <path d="M8 9.5a1.5 1.5 0 1 0 0-3 1.5 1.5 0 0 0 0 3Z"></path><path d="M8 0a8 8 0 1 1 0 16A8 8 0 0 1 8 0ZM1.5 8a6.5 6.5 0 1 0 13 0 6.5 6.5 0 0 0-13 0Z"></path>
</svg>
        </span>
      
        <span data-view-component="true" class="ActionListItem-label">
          Issues
</span></a>
  
</li>
        <li hidden="hidden" data-menu-item="i2pull-requests-tab" data-targets="action-list.items" role="none" data-view-component="true" class="ActionListItem">
    
    
    <a tabindex="-1" id="item-8b88c8b3-2334-40dc-8e6e-74ea37d8d62c" href="/Mogady/BBC_arabic_Analysis/pulls" role="menuitem" data-view-component="true" class="ActionListContent ActionListContent--visual16">
        <span class="ActionListItem-visual ActionListItem-visual--leading">
          <svg aria-hidden="true" height="16" viewBox="0 0 16 16" version="1.1" width="16" data-view-component="true" class="octicon octicon-git-pull-request">
    <path d="M1.5 3.25a2.25 2.25 0 1 1 3 2.122v5.256a2.251 2.251 0 1 1-1.5 0V5.372A2.25 2.25 0 0 1 1.5 3.25Zm5.677-.177L9.573.677A.25.25 0 0 1 10 .854V2.5h1A2.5 2.5 0 0 1 13.5 5v5.628a2.251 2.251 0 1 1-1.5 0V5a1 1 0 0 0-1-1h-1v1.646a.25.25 0 0 1-.427.177L7.177 3.427a.25.25 0 0 1 0-.354ZM3.75 2.5a.75.75 0 1 0 0 1.5.75.75 0 0 0 0-1.5Zm0 9.5a.75.75 0 1 0 0 1.5.75.75 0 0 0 0-1.5Zm8.25.75a.75.75 0 1 0 1.5 0 .75.75 0 0 0-1.5 0Z"></path>
</svg>
        </span>
      
        <span data-view-component="true" class="ActionListItem-label">
          Pull requests
</span></a>
  
</li>
        <li hidden="hidden" data-menu-item="i3actions-tab" data-targets="action-list.items" role="none" data-view-component="true" class="ActionListItem">
    
    
    <a tabindex="-1" id="item-490d0982-adbd-48e2-bafc-25d8b7a3801c" href="/Mogady/BBC_arabic_Analysis/actions" role="menuitem" data-view-component="true" class="ActionListContent ActionListContent--visual16">
        <span class="ActionListItem-visual ActionListItem-visual--leading">
          <svg aria-hidden="true" height="16" viewBox="0 0 16 16" version="1.1" width="16" data-view-component="true" class="octicon octicon-play">
    <path d="M8 0a8 8 0 1 1 0 16A8 8 0 0 1 8 0ZM1.5 8a6.5 6.5 0 1 0 13 0 6.5 6.5 0 0 0-13 0Zm4.879-2.773 4.264 2.559a.25.25 0 0 1 0 .428l-4.264 2.559A.25.25 0 0 1 6 10.559V5.442a.25.25 0 0 1 .379-.215Z"></path>
</svg>
        </span>
      
        <span data-view-component="true" class="ActionListItem-label">
          Actions
</span></a>
  
</li>
        <li hidden="hidden" data-menu-item="i4projects-tab" data-targets="action-list.items" role="none" data-view-component="true" class="ActionListItem">
    
    
    <a tabindex="-1" id="item-35d3db13-b824-486c-94e3-6326fe339a2e" href="/Mogady/BBC_arabic_Analysis/projects" role="menuitem" data-view-component="true" class="ActionListContent ActionListContent--visual16">
        <span class="ActionListItem-visual ActionListItem-visual--leading">
          <svg aria-hidden="true" height="16" viewBox="0 0 16 16" version="1.1" width="16" data-view-component="true" class="octicon octicon-table">
    <path d="M0 1.75C0 .784.784 0 1.75 0h12.5C15.216 0 16 .784 16 1.75v12.5A1.75 1.75 0 0 1 14.25 16H1.75A1.75 1.75 0 0 1 0 14.25ZM6.5 6.5v8h7.75a.25.25 0 0 0 .25-.25V6.5Zm8-1.5V1.75a.25.25 0 0 0-.25-.25H6.5V5Zm-13 1.5v7.75c0 .138.112.25.25.25H5v-8ZM5 5V1.5H1.75a.25.25 0 0 0-.25.25V5Z"></path>
</svg>
        </span>
      
        <span data-view-component="true" class="ActionListItem-label">
          Projects
</span></a>
  
</li>
        <li hidden="hidden" data-menu-item="i5security-tab" data-targets="action-list.items" role="none" data-view-component="true" class="ActionListItem">
    
    
    <a tabindex="-1" id="item-8c733b4c-414c-49b9-8637-10291637699c" href="/Mogady/BBC_arabic_Analysis/security" role="menuitem" data-view-component="true" class="ActionListContent ActionListContent--visual16">
        <span class="ActionListItem-visual ActionListItem-visual--leading">
          <svg aria-hidden="true" height="16" viewBox="0 0 16 16" version="1.1" width="16" data-view-component="true" class="octicon octicon-shield">
    <path d="M7.467.133a1.748 1.748 0 0 1 1.066 0l5.25 1.68A1.75 1.75 0 0 1 15 3.48V7c0 1.566-.32 3.182-1.303 4.682-.983 1.498-2.585 2.813-5.032 3.855a1.697 1.697 0 0 1-1.33 0c-2.447-1.042-4.049-2.357-5.032-3.855C1.32 10.182 1 8.566 1 7V3.48a1.75 1.75 0 0 1 1.217-1.667Zm.61 1.429a.25.25 0 0 0-.153 0l-5.25 1.68a.25.25 0 0 0-.174.238V7c0 1.358.275 2.666 1.057 3.86.784 1.194 2.121 2.34 4.366 3.297a.196.196 0 0 0 .154 0c2.245-.956 3.582-2.104 4.366-3.298C13.225 9.666 13.5 8.36 13.5 7V3.48a.251.251 0 0 0-.174-.237l-5.25-1.68ZM8.75 4.75v3a.75.75 0 0 1-1.5 0v-3a.75.75 0 0 1 1.5 0ZM9 10.5a1 1 0 1 1-2 0 1 1 0 0 1 2 0Z"></path>
</svg>
        </span>
      
        <span data-view-component="true" class="ActionListItem-label">
          Security
</span></a>
  
</li>
        <li hidden="hidden" data-menu-item="i6insights-tab" data-targets="action-list.items" role="none" data-view-component="true" class="ActionListItem">
    
    
    <a tabindex="-1" id="item-73bab6c1-c116-49b5-810f-c285aadaffff" href="/Mogady/BBC_arabic_Analysis/pulse" role="menuitem" data-view-component="true" class="ActionListContent ActionListContent--visual16">
        <span class="ActionListItem-visual ActionListItem-visual--leading">
          <svg aria-hidden="true" height="16" viewBox="0 0 16 16" version="1.1" width="16" data-view-component="true" class="octicon octicon-graph">
    <path d="M1.5 1.75V13.5h13.75a.75.75 0 0 1 0 1.5H.75a.75.75 0 0 1-.75-.75V1.75a.75.75 0 0 1 1.5 0Zm14.28 2.53-5.25 5.25a.75.75 0 0 1-1.06 0L7 7.06 4.28 9.78a.751.751 0 0 1-1.042-.018.751.751 0 0 1-.018-1.042l3.25-3.25a.75.75 0 0 1 1.06 0L10 7.94l4.72-4.72a.751.751 0 0 1 1.042.018.751.751 0 0 1 .018 1.042Z"></path>
</svg>
        </span>
      
        <span data-view-component="true" class="ActionListItem-label">
          Insights
</span></a>
  
</li>
</ul>    
</div></action-list>


</div>
      
</div></anchored-position>  </focus-group>
</action-menu></div>
</nav>
      </div>
</header>


      <div hidden="hidden" data-view-component="true" class="js-stale-session-flash stale-session-flash flash flash-warn flash-full mb-3">
  
        <svg aria-hidden="true" height="16" viewBox="0 0 16 16" version="1.1" width="16" data-view-component="true" class="octicon octicon-alert">
    <path d="M6.457 1.047c.659-1.234 2.427-1.234 3.086 0l6.082 11.378A1.75 1.75 0 0 1 14.082 15H1.918a1.75 1.75 0 0 1-1.543-2.575Zm1.763.707a.25.25 0 0 0-.44 0L1.698 13.132a.25.25 0 0 0 .22.368h12.164a.25.25 0 0 0 .22-.368Zm.53 3.996v2.5a.75.75 0 0 1-1.5 0v-2.5a.75.75 0 0 1 1.5 0ZM9 11a1 1 0 1 1-2 0 1 1 0 0 1 2 0Z"></path>
</svg>
        <span class="js-stale-session-flash-signed-in" hidden>You signed in with another tab or window. <a class="Link--inTextBlock" href="">Reload</a> to refresh your session.</span>
        <span class="js-stale-session-flash-signed-out" hidden>You signed out in another tab or window. <a class="Link--inTextBlock" href="">Reload</a> to refresh your session.</span>
        <span class="js-stale-session-flash-switched" hidden>You switched accounts on another tab or window. <a class="Link--inTextBlock" href="">Reload</a> to refresh your session.</span>

    <button id="icon-button-6ef80348-c5eb-442b-840b-3e1595fc0c42" aria-labelledby="tooltip-a1b8da87-a117-4669-aece-0eb81628e23c" type="button" data-view-component="true" class="Button Button--iconOnly Button--invisible Button--medium flash-close js-flash-close">  <svg aria-hidden="true" height="16" viewBox="0 0 16 16" version="1.1" width="16" data-view-component="true" class="octicon octicon-x Button-visual">
    <path d="M3.72 3.72a.75.75 0 0 1 1.06 0L8 6.94l3.22-3.22a.749.749 0 0 1 1.275.326.749.749 0 0 1-.215.734L9.06 8l3.22 3.22a.749.749 0 0 1-.326 1.275.749.749 0 0 1-.734-.215L8 9.06l-3.22 3.22a.751.751 0 0 1-1.042-.018.751.751 0 0 1-.018-1.042L6.94 8 3.72 4.78a.75.75 0 0 1 0-1.06Z"></path>
</svg>
</button><tool-tip id="tooltip-a1b8da87-a117-4669-aece-0eb81628e23c" for="icon-button-6ef80348-c5eb-442b-840b-3e1595fc0c42" popover="manual" data-direction="s" data-type="label" data-view-component="true" class="sr-only position-absolute">Dismiss alert</tool-tip>


  
</div>
          
    </div>

  <div id="start-of-content" class="show-on-focus"></div>








    <div id="js-flash-container" class="flash-container" data-turbo-replace>





  <template class="js-flash-template">
    
<div class="flash flash-full   {{ className }}">
  <div >
    <button autofocus class="flash-close js-flash-close" type="button" aria-label="Dismiss this message">
      <svg aria-hidden="true" height="16" viewBox="0 0 16 16" version="1.1" width="16" data-view-component="true" class="octicon octicon-x">
    <path d="M3.72 3.72a.75.75 0 0 1 1.06 0L8 6.94l3.22-3.22a.749.749 0 0 1 1.275.326.749.749 0 0 1-.215.734L9.06 8l3.22 3.22a.749.749 0 0 1-.326 1.275.749.749 0 0 1-.734-.215L8 9.06l-3.22 3.22a.751.751 0 0 1-1.042-.018.751.751 0 0 1-.018-1.042L6.94 8 3.72 4.78a.75.75 0 0 1 0-1.06Z"></path>
</svg>
    </button>
    <div aria-atomic="true" role="alert" class="js-flash-alert">
      
      <div>{{ message }}</div>

    </div>
  </div>
</div>
  </template>
</div>


    
    <notification-shelf-watcher data-base-url="https://github.com/notifications/beta/shelf" data-channel="eyJjIjoibm90aWZpY2F0aW9uLWNoYW5nZWQ6OTUxOTY2MjkiLCJ0IjoxNzE0NTY5OTg1fQ==--0a44c3bdc490604c66132bc0c925c590b8151e63d8a8cb8ad031bec4a2df5ca7" data-view-component="true" class="js-socket-channel"></notification-shelf-watcher>
  <div hidden data-initial data-target="notification-shelf-watcher.placeholder"></div>





      <details
  class="details-reset details-overlay details-overlay-dark js-command-palette-dialog"
  id="command-palette-pjax-container"
  data-turbo-replace
>
  <summary aria-label="Command palette trigger" tabindex="-1"></summary>
  <details-dialog class="command-palette-details-dialog d-flex flex-column flex-justify-center height-fit" aria-label="Command palette">
    <command-palette
      class="command-palette color-bg-default rounded-3 border color-shadow-small"
      return-to=/Mogady/BBC_arabic_Analysis/blob/master/youtube%20data_analyzer.ipynb
      user-id="95196629"
      activation-hotkey="Mod+k,Mod+Alt+k"
      command-mode-hotkey="Mod+Shift+K"
      data-action="
        command-palette-input-ready:command-palette#inputReady
        command-palette-page-stack-updated:command-palette#updateInputScope
        itemsUpdated:command-palette#itemsUpdated
        keydown:command-palette#onKeydown
        loadingStateChanged:command-palette#loadingStateChanged
        selectedItemChanged:command-palette#selectedItemChanged
        pageFetchError:command-palette#pageFetchError
      ">

        <command-palette-mode
          data-char="#"
            data-scope-types="[&quot;&quot;]"
            data-placeholder="Search issues and pull requests"
        ></command-palette-mode>
        <command-palette-mode
          data-char="#"
            data-scope-types="[&quot;owner&quot;,&quot;repository&quot;]"
            data-placeholder="Search issues, pull requests, discussions, and projects"
        ></command-palette-mode>
        <command-palette-mode
          data-char="!"
            data-scope-types="[&quot;owner&quot;,&quot;repository&quot;]"
            data-placeholder="Search projects"
        ></command-palette-mode>
        <command-palette-mode
          data-char="@"
            data-scope-types="[&quot;&quot;]"
            data-placeholder="Search or jump to a user, organization, or repository"
        ></command-palette-mode>
        <command-palette-mode
          data-char="@"
            data-scope-types="[&quot;owner&quot;]"
            data-placeholder="Search or jump to a repository"
        ></command-palette-mode>
        <command-palette-mode
          data-char="/"
            data-scope-types="[&quot;repository&quot;]"
            data-placeholder="Search files"
        ></command-palette-mode>
        <command-palette-mode
          data-char="?"
        ></command-palette-mode>
        <command-palette-mode
          data-char="&gt;"
            data-placeholder="Run a command"
        ></command-palette-mode>
        <command-palette-mode
          data-char=""
            data-scope-types="[&quot;&quot;]"
            data-placeholder="Search or jump to..."
        ></command-palette-mode>
        <command-palette-mode
          data-char=""
            data-scope-types="[&quot;owner&quot;]"
            data-placeholder="Search or jump to..."
        ></command-palette-mode>
      <command-palette-mode
        class="js-command-palette-default-mode"
        data-char=""
        data-placeholder="Search or jump to..."
      ></command-palette-mode>

      <command-palette-input placeholder="Search or jump to..."

        data-action="
          command-palette-input:command-palette#onInput
          command-palette-select:command-palette#onSelect
          command-palette-descope:command-palette#onDescope
          command-palette-cleared:command-palette#onInputClear
        "
      >
        <div class="js-search-icon d-flex flex-items-center mr-2" style="height: 26px">
          <svg aria-hidden="true" height="16" viewBox="0 0 16 16" version="1.1" width="16" data-view-component="true" class="octicon octicon-search color-fg-muted">
    <path d="M10.68 11.74a6 6 0 0 1-7.922-8.982 6 6 0 0 1 8.982 7.922l3.04 3.04a.749.749 0 0 1-.326 1.275.749.749 0 0 1-.734-.215ZM11.5 7a4.499 4.499 0 1 0-8.997 0A4.499 4.499 0 0 0 11.5 7Z"></path>
</svg>
        </div>
        <div class="js-spinner d-flex flex-items-center mr-2 color-fg-muted" hidden>
          <svg aria-label="Loading" class="anim-rotate" viewBox="0 0 16 16" fill="none" width="16" height="16">
            <circle
              cx="8"
              cy="8"
              r="7"
              stroke="currentColor"
              stroke-opacity="0.25"
              stroke-width="2"
              vector-effect="non-scaling-stroke"
            ></circle>
            <path
              d="M15 8a7.002 7.002 0 00-7-7"
              stroke="currentColor"
              stroke-width="2"
              stroke-linecap="round"
              vector-effect="non-scaling-stroke"
            ></path>
          </svg>
        </div>
        <command-palette-scope >
          <div data-target="command-palette-scope.placeholder" hidden class="color-fg-subtle">/&nbsp;&nbsp;<span class="text-semibold color-fg-default">...</span>&nbsp;&nbsp;/&nbsp;&nbsp;</div>
              <command-palette-token
                data-text="Mogady"
                data-id="MDQ6VXNlcjIwOTI5MzAx"
                data-type="owner"
                data-value="Mogady"
                data-targets="command-palette-scope.tokens"
                class="color-fg-default text-semibold"
                style="white-space:nowrap;line-height:20px;"
                >Mogady<span class="color-fg-subtle text-normal">&nbsp;&nbsp;/&nbsp;&nbsp;</span></command-palette-token>
              <command-palette-token
                data-text="BBC_arabic_Analysis"
                data-id="MDEwOlJlcG9zaXRvcnkxNDc1MDA2MTk="
                data-type="repository"
                data-value="BBC_arabic_Analysis"
                data-targets="command-palette-scope.tokens"
                class="color-fg-default text-semibold"
                style="white-space:nowrap;line-height:20px;"
                >BBC_arabic_Analysis<span class="color-fg-subtle text-normal">&nbsp;&nbsp;/&nbsp;&nbsp;</span></command-palette-token>
        </command-palette-scope>
        <div class="command-palette-input-group flex-1 form-control border-0 box-shadow-none" style="z-index: 0">
          <div class="command-palette-typeahead position-absolute d-flex flex-items-center Truncate">
            <span class="typeahead-segment input-mirror" data-target="command-palette-input.mirror"></span>
            <span class="Truncate-text" data-target="command-palette-input.typeaheadText"></span>
            <span class="typeahead-segment" data-target="command-palette-input.typeaheadPlaceholder"></span>
          </div>
          <input
            class="js-overlay-input typeahead-input d-none"
            disabled
            tabindex="-1"
            aria-label="Hidden input for typeahead"
          >
          <input
            type="text"
            autocomplete="off"
            autocorrect="off"
            autocapitalize="off"
            spellcheck="false"
            class="js-input typeahead-input form-control border-0 box-shadow-none input-block width-full no-focus-indicator"
            aria-label="Command palette input"
            aria-haspopup="listbox"
            aria-expanded="false"
            aria-autocomplete="list"
            aria-controls="command-palette-page-stack"
            role="combobox"
            data-action="
              input:command-palette-input#onInput
              keydown:command-palette-input#onKeydown
            "
          >
        </div>
          <div data-view-component="true" class="position-relative d-inline-block">
    <button aria-keyshortcuts="Meta+Delete" data-action="click:command-palette-input#onClear keypress:command-palette-input#onClear" data-target="command-palette-input.clearButton" id="command-palette-clear-button" hidden="hidden" type="button" data-view-component="true" class="btn-octicon command-palette-input-clear-button">      <svg aria-hidden="true" height="16" viewBox="0 0 16 16" version="1.1" width="16" data-view-component="true" class="octicon octicon-x-circle-fill">
    <path d="M2.343 13.657A8 8 0 1 1 13.658 2.343 8 8 0 0 1 2.343 13.657ZM6.03 4.97a.751.751 0 0 0-1.042.018.751.751 0 0 0-.018 1.042L6.94 8 4.97 9.97a.749.749 0 0 0 .326 1.275.749.749 0 0 0 .734-.215L8 9.06l1.97 1.97a.749.749 0 0 0 1.275-.326.749.749 0 0 0-.215-.734L9.06 8l1.97-1.97a.749.749 0 0 0-.326-1.275.749.749 0 0 0-.734.215L8 6.94Z"></path>
</svg>
</button>    <tool-tip id="tooltip-c1225cb3-eb57-45bc-922f-9881be442246" for="command-palette-clear-button" popover="manual" data-direction="w" data-type="label" data-view-component="true" class="sr-only position-absolute">Clear Command Palette</tool-tip>
</div>
      </command-palette-input>

      <command-palette-page-stack
        data-default-scope-id="MDEwOlJlcG9zaXRvcnkxNDc1MDA2MTk="
        data-default-scope-type="Repository"
        data-action="command-palette-page-octicons-cached:command-palette-page-stack#cacheOcticons"
      >
          <command-palette-tip
            class="color-fg-muted f6 px-3 py-1 my-2"
              data-scope-types="[&quot;&quot;,&quot;owner&quot;,&quot;repository&quot;]"
            data-mode=""
            data-value="">
            <div class="d-flex flex-items-start flex-justify-between">
              <div>
                <span class="text-bold">Tip:</span>
                  Type <kbd class="hx_kbd">#</kbd> to search pull requests
              </div>
              <div class="ml-2 flex-shrink-0">
                Type <kbd class="hx_kbd">?</kbd> for help and tips
              </div>
            </div>
          </command-palette-tip>
          <command-palette-tip
            class="color-fg-muted f6 px-3 py-1 my-2"
              data-scope-types="[&quot;&quot;,&quot;owner&quot;,&quot;repository&quot;]"
            data-mode=""
            data-value="">
            <div class="d-flex flex-items-start flex-justify-between">
              <div>
                <span class="text-bold">Tip:</span>
                  Type <kbd class="hx_kbd">#</kbd> to search issues
              </div>
              <div class="ml-2 flex-shrink-0">
                Type <kbd class="hx_kbd">?</kbd> for help and tips
              </div>
            </div>
          </command-palette-tip>
          <command-palette-tip
            class="color-fg-muted f6 px-3 py-1 my-2"
              data-scope-types="[&quot;owner&quot;,&quot;repository&quot;]"
            data-mode=""
            data-value="">
            <div class="d-flex flex-items-start flex-justify-between">
              <div>
                <span class="text-bold">Tip:</span>
                  Type <kbd class="hx_kbd">#</kbd> to search discussions
              </div>
              <div class="ml-2 flex-shrink-0">
                Type <kbd class="hx_kbd">?</kbd> for help and tips
              </div>
            </div>
          </command-palette-tip>
          <command-palette-tip
            class="color-fg-muted f6 px-3 py-1 my-2"
              data-scope-types="[&quot;owner&quot;,&quot;repository&quot;]"
            data-mode=""
            data-value="">
            <div class="d-flex flex-items-start flex-justify-between">
              <div>
                <span class="text-bold">Tip:</span>
                  Type <kbd class="hx_kbd">!</kbd> to search projects
              </div>
              <div class="ml-2 flex-shrink-0">
                Type <kbd class="hx_kbd">?</kbd> for help and tips
              </div>
            </div>
          </command-palette-tip>
          <command-palette-tip
            class="color-fg-muted f6 px-3 py-1 my-2"
              data-scope-types="[&quot;owner&quot;]"
            data-mode=""
            data-value="">
            <div class="d-flex flex-items-start flex-justify-between">
              <div>
                <span class="text-bold">Tip:</span>
                  Type <kbd class="hx_kbd">@</kbd> to search teams
              </div>
              <div class="ml-2 flex-shrink-0">
                Type <kbd class="hx_kbd">?</kbd> for help and tips
              </div>
            </div>
          </command-palette-tip>
          <command-palette-tip
            class="color-fg-muted f6 px-3 py-1 my-2"
              data-scope-types="[&quot;&quot;]"
            data-mode=""
            data-value="">
            <div class="d-flex flex-items-start flex-justify-between">
              <div>
                <span class="text-bold">Tip:</span>
                  Type <kbd class="hx_kbd">@</kbd> to search people and organizations
              </div>
              <div class="ml-2 flex-shrink-0">
                Type <kbd class="hx_kbd">?</kbd> for help and tips
              </div>
            </div>
          </command-palette-tip>
          <command-palette-tip
            class="color-fg-muted f6 px-3 py-1 my-2"
              data-scope-types="[&quot;&quot;,&quot;owner&quot;,&quot;repository&quot;]"
            data-mode=""
            data-value="">
            <div class="d-flex flex-items-start flex-justify-between">
              <div>
                <span class="text-bold">Tip:</span>
                  Type <kbd class="hx_kbd">&gt;</kbd> to activate command mode
              </div>
              <div class="ml-2 flex-shrink-0">
                Type <kbd class="hx_kbd">?</kbd> for help and tips
              </div>
            </div>
          </command-palette-tip>
          <command-palette-tip
            class="color-fg-muted f6 px-3 py-1 my-2"
              data-scope-types="[&quot;&quot;,&quot;owner&quot;,&quot;repository&quot;]"
            data-mode=""
            data-value="">
            <div class="d-flex flex-items-start flex-justify-between">
              <div>
                <span class="text-bold">Tip:</span>
                  Go to your accessibility settings to change your keyboard shortcuts
              </div>
              <div class="ml-2 flex-shrink-0">
                Type <kbd class="hx_kbd">?</kbd> for help and tips
              </div>
            </div>
          </command-palette-tip>
          <command-palette-tip
            class="color-fg-muted f6 px-3 py-1 my-2"
              data-scope-types="[&quot;&quot;,&quot;owner&quot;,&quot;repository&quot;]"
            data-mode="#"
            data-value="">
            <div class="d-flex flex-items-start flex-justify-between">
              <div>
                <span class="text-bold">Tip:</span>
                  Type author:@me to search your content
              </div>
              <div class="ml-2 flex-shrink-0">
                Type <kbd class="hx_kbd">?</kbd> for help and tips
              </div>
            </div>
          </command-palette-tip>
          <command-palette-tip
            class="color-fg-muted f6 px-3 py-1 my-2"
              data-scope-types="[&quot;&quot;,&quot;owner&quot;,&quot;repository&quot;]"
            data-mode="#"
            data-value="">
            <div class="d-flex flex-items-start flex-justify-between">
              <div>
                <span class="text-bold">Tip:</span>
                  Type is:pr to filter to pull requests
              </div>
              <div class="ml-2 flex-shrink-0">
                Type <kbd class="hx_kbd">?</kbd> for help and tips
              </div>
            </div>
          </command-palette-tip>
          <command-palette-tip
            class="color-fg-muted f6 px-3 py-1 my-2"
              data-scope-types="[&quot;&quot;,&quot;owner&quot;,&quot;repository&quot;]"
            data-mode="#"
            data-value="">
            <div class="d-flex flex-items-start flex-justify-between">
              <div>
                <span class="text-bold">Tip:</span>
                  Type is:issue to filter to issues
              </div>
              <div class="ml-2 flex-shrink-0">
                Type <kbd class="hx_kbd">?</kbd> for help and tips
              </div>
            </div>
          </command-palette-tip>
          <command-palette-tip
            class="color-fg-muted f6 px-3 py-1 my-2"
              data-scope-types="[&quot;owner&quot;,&quot;repository&quot;]"
            data-mode="#"
            data-value="">
            <div class="d-flex flex-items-start flex-justify-between">
              <div>
                <span class="text-bold">Tip:</span>
                  Type is:project to filter to projects
              </div>
              <div class="ml-2 flex-shrink-0">
                Type <kbd class="hx_kbd">?</kbd> for help and tips
              </div>
            </div>
          </command-palette-tip>
          <command-palette-tip
            class="color-fg-muted f6 px-3 py-1 my-2"
              data-scope-types="[&quot;&quot;,&quot;owner&quot;,&quot;repository&quot;]"
            data-mode="#"
            data-value="">
            <div class="d-flex flex-items-start flex-justify-between">
              <div>
                <span class="text-bold">Tip:</span>
                  Type is:open to filter to open content
              </div>
              <div class="ml-2 flex-shrink-0">
                Type <kbd class="hx_kbd">?</kbd> for help and tips
              </div>
            </div>
          </command-palette-tip>
        <command-palette-tip class="mx-3 my-2 flash flash-error d-flex flex-items-center" data-scope-types="*" data-on-error>
          <div>
            <svg aria-hidden="true" height="16" viewBox="0 0 16 16" version="1.1" width="16" data-view-component="true" class="octicon octicon-alert">
    <path d="M6.457 1.047c.659-1.234 2.427-1.234 3.086 0l6.082 11.378A1.75 1.75 0 0 1 14.082 15H1.918a1.75 1.75 0 0 1-1.543-2.575Zm1.763.707a.25.25 0 0 0-.44 0L1.698 13.132a.25.25 0 0 0 .22.368h12.164a.25.25 0 0 0 .22-.368Zm.53 3.996v2.5a.75.75 0 0 1-1.5 0v-2.5a.75.75 0 0 1 1.5 0ZM9 11a1 1 0 1 1-2 0 1 1 0 0 1 2 0Z"></path>
</svg>
          </div>
          <div class="px-2">
            We’ve encountered an error and some results aren't available at this time. Type a new search or try again later.
          </div>
        </command-palette-tip>
        <command-palette-tip class="h4 color-fg-default pl-3 pb-2 pt-3" data-on-empty data-scope-types="*" data-match-mode="[^?]|^$">
          No results matched your search
        </command-palette-tip>

        <div hidden>

            <div data-targets="command-palette-page-stack.localOcticons" data-octicon-id="arrow-right-color-fg-muted">
              <svg height="16" class="octicon octicon-arrow-right color-fg-muted" viewBox="0 0 16 16" version="1.1" width="16" aria-hidden="true"><path d="M8.22 2.97a.75.75 0 0 1 1.06 0l4.25 4.25a.75.75 0 0 1 0 1.06l-4.25 4.25a.751.751 0 0 1-1.042-.018.751.751 0 0 1-.018-1.042l2.97-2.97H3.75a.75.75 0 0 1 0-1.5h7.44L8.22 4.03a.75.75 0 0 1 0-1.06Z"></path></svg>
            </div>
            <div data-targets="command-palette-page-stack.localOcticons" data-octicon-id="arrow-right-color-fg-default">
              <svg height="16" class="octicon octicon-arrow-right color-fg-default" viewBox="0 0 16 16" version="1.1" width="16" aria-hidden="true"><path d="M8.22 2.97a.75.75 0 0 1 1.06 0l4.25 4.25a.75.75 0 0 1 0 1.06l-4.25 4.25a.751.751 0 0 1-1.042-.018.751.751 0 0 1-.018-1.042l2.97-2.97H3.75a.75.75 0 0 1 0-1.5h7.44L8.22 4.03a.75.75 0 0 1 0-1.06Z"></path></svg>
            </div>
            <div data-targets="command-palette-page-stack.localOcticons" data-octicon-id="codespaces-color-fg-muted">
              <svg height="16" class="octicon octicon-codespaces color-fg-muted" viewBox="0 0 16 16" version="1.1" width="16" aria-hidden="true"><path d="M0 11.25c0-.966.784-1.75 1.75-1.75h12.5c.966 0 1.75.784 1.75 1.75v3A1.75 1.75 0 0 1 14.25 16H1.75A1.75 1.75 0 0 1 0 14.25Zm2-9.5C2 .784 2.784 0 3.75 0h8.5C13.216 0 14 .784 14 1.75v5a1.75 1.75 0 0 1-1.75 1.75h-8.5A1.75 1.75 0 0 1 2 6.75Zm1.75-.25a.25.25 0 0 0-.25.25v5c0 .138.112.25.25.25h8.5a.25.25 0 0 0 .25-.25v-5a.25.25 0 0 0-.25-.25Zm-2 9.5a.25.25 0 0 0-.25.25v3c0 .138.112.25.25.25h12.5a.25.25 0 0 0 .25-.25v-3a.25.25 0 0 0-.25-.25Z"></path><path d="M7 12.75a.75.75 0 0 1 .75-.75h4.5a.75.75 0 0 1 0 1.5h-4.5a.75.75 0 0 1-.75-.75Zm-4 0a.75.75 0 0 1 .75-.75h.5a.75.75 0 0 1 0 1.5h-.5a.75.75 0 0 1-.75-.75Z"></path></svg>
            </div>
            <div data-targets="command-palette-page-stack.localOcticons" data-octicon-id="copy-color-fg-muted">
              <svg height="16" class="octicon octicon-copy color-fg-muted" viewBox="0 0 16 16" version="1.1" width="16" aria-hidden="true"><path d="M0 6.75C0 5.784.784 5 1.75 5h1.5a.75.75 0 0 1 0 1.5h-1.5a.25.25 0 0 0-.25.25v7.5c0 .138.112.25.25.25h7.5a.25.25 0 0 0 .25-.25v-1.5a.75.75 0 0 1 1.5 0v1.5A1.75 1.75 0 0 1 9.25 16h-7.5A1.75 1.75 0 0 1 0 14.25Z"></path><path d="M5 1.75C5 .784 5.784 0 6.75 0h7.5C15.216 0 16 .784 16 1.75v7.5A1.75 1.75 0 0 1 14.25 11h-7.5A1.75 1.75 0 0 1 5 9.25Zm1.75-.25a.25.25 0 0 0-.25.25v7.5c0 .138.112.25.25.25h7.5a.25.25 0 0 0 .25-.25v-7.5a.25.25 0 0 0-.25-.25Z"></path></svg>
            </div>
            <div data-targets="command-palette-page-stack.localOcticons" data-octicon-id="dash-color-fg-muted">
              <svg height="16" class="octicon octicon-dash color-fg-muted" viewBox="0 0 16 16" version="1.1" width="16" aria-hidden="true"><path d="M2 7.75A.75.75 0 0 1 2.75 7h10a.75.75 0 0 1 0 1.5h-10A.75.75 0 0 1 2 7.75Z"></path></svg>
            </div>
            <div data-targets="command-palette-page-stack.localOcticons" data-octicon-id="file-color-fg-muted">
              <svg height="16" class="octicon octicon-file color-fg-muted" viewBox="0 0 16 16" version="1.1" width="16" aria-hidden="true"><path d="M2 1.75C2 .784 2.784 0 3.75 0h6.586c.464 0 .909.184 1.237.513l2.914 2.914c.329.328.513.773.513 1.237v9.586A1.75 1.75 0 0 1 13.25 16h-9.5A1.75 1.75 0 0 1 2 14.25Zm1.75-.25a.25.25 0 0 0-.25.25v12.5c0 .138.112.25.25.25h9.5a.25.25 0 0 0 .25-.25V6h-2.75A1.75 1.75 0 0 1 9 4.25V1.5Zm6.75.062V4.25c0 .138.112.25.25.25h2.688l-.011-.013-2.914-2.914-.013-.011Z"></path></svg>
            </div>
            <div data-targets="command-palette-page-stack.localOcticons" data-octicon-id="gear-color-fg-muted">
              <svg height="16" class="octicon octicon-gear color-fg-muted" viewBox="0 0 16 16" version="1.1" width="16" aria-hidden="true"><path d="M8 0a8.2 8.2 0 0 1 .701.031C9.444.095 9.99.645 10.16 1.29l.288 1.107c.018.066.079.158.212.224.231.114.454.243.668.386.123.082.233.09.299.071l1.103-.303c.644-.176 1.392.021 1.82.63.27.385.506.792.704 1.218.315.675.111 1.422-.364 1.891l-.814.806c-.049.048-.098.147-.088.294.016.257.016.515 0 .772-.01.147.038.246.088.294l.814.806c.475.469.679 1.216.364 1.891a7.977 7.977 0 0 1-.704 1.217c-.428.61-1.176.807-1.82.63l-1.102-.302c-.067-.019-.177-.011-.3.071a5.909 5.909 0 0 1-.668.386c-.133.066-.194.158-.211.224l-.29 1.106c-.168.646-.715 1.196-1.458 1.26a8.006 8.006 0 0 1-1.402 0c-.743-.064-1.289-.614-1.458-1.26l-.289-1.106c-.018-.066-.079-.158-.212-.224a5.738 5.738 0 0 1-.668-.386c-.123-.082-.233-.09-.299-.071l-1.103.303c-.644.176-1.392-.021-1.82-.63a8.12 8.12 0 0 1-.704-1.218c-.315-.675-.111-1.422.363-1.891l.815-.806c.05-.048.098-.147.088-.294a6.214 6.214 0 0 1 0-.772c.01-.147-.038-.246-.088-.294l-.815-.806C.635 6.045.431 5.298.746 4.623a7.92 7.92 0 0 1 .704-1.217c.428-.61 1.176-.807 1.82-.63l1.102.302c.067.019.177.011.3-.071.214-.143.437-.272.668-.386.133-.066.194-.158.211-.224l.29-1.106C6.009.645 6.556.095 7.299.03 7.53.01 7.764 0 8 0Zm-.571 1.525c-.036.003-.108.036-.137.146l-.289 1.105c-.147.561-.549.967-.998 1.189-.173.086-.34.183-.5.29-.417.278-.97.423-1.529.27l-1.103-.303c-.109-.03-.175.016-.195.045-.22.312-.412.644-.573.99-.014.031-.021.11.059.19l.815.806c.411.406.562.957.53 1.456a4.709 4.709 0 0 0 0 .582c.032.499-.119 1.05-.53 1.456l-.815.806c-.081.08-.073.159-.059.19.162.346.353.677.573.989.02.03.085.076.195.046l1.102-.303c.56-.153 1.113-.008 1.53.27.161.107.328.204.501.29.447.222.85.629.997 1.189l.289 1.105c.029.109.101.143.137.146a6.6 6.6 0 0 0 1.142 0c.036-.003.108-.036.137-.146l.289-1.105c.147-.561.549-.967.998-1.189.173-.086.34-.183.5-.29.417-.278.97-.423 1.529-.27l1.103.303c.109.029.175-.016.195-.045.22-.313.411-.644.573-.99.014-.031.021-.11-.059-.19l-.815-.806c-.411-.406-.562-.957-.53-1.456a4.709 4.709 0 0 0 0-.582c-.032-.499.119-1.05.53-1.456l.815-.806c.081-.08.073-.159.059-.19a6.464 6.464 0 0 0-.573-.989c-.02-.03-.085-.076-.195-.046l-1.102.303c-.56.153-1.113.008-1.53-.27a4.44 4.44 0 0 0-.501-.29c-.447-.222-.85-.629-.997-1.189l-.289-1.105c-.029-.11-.101-.143-.137-.146a6.6 6.6 0 0 0-1.142 0ZM11 8a3 3 0 1 1-6 0 3 3 0 0 1 6 0ZM9.5 8a1.5 1.5 0 1 0-3.001.001A1.5 1.5 0 0 0 9.5 8Z"></path></svg>
            </div>
            <div data-targets="command-palette-page-stack.localOcticons" data-octicon-id="lock-color-fg-muted">
              <svg height="16" class="octicon octicon-lock color-fg-muted" viewBox="0 0 16 16" version="1.1" width="16" aria-hidden="true"><path d="M4 4a4 4 0 0 1 8 0v2h.25c.966 0 1.75.784 1.75 1.75v5.5A1.75 1.75 0 0 1 12.25 15h-8.5A1.75 1.75 0 0 1 2 13.25v-5.5C2 6.784 2.784 6 3.75 6H4Zm8.25 3.5h-8.5a.25.25 0 0 0-.25.25v5.5c0 .138.112.25.25.25h8.5a.25.25 0 0 0 .25-.25v-5.5a.25.25 0 0 0-.25-.25ZM10.5 6V4a2.5 2.5 0 1 0-5 0v2Z"></path></svg>
            </div>
            <div data-targets="command-palette-page-stack.localOcticons" data-octicon-id="moon-color-fg-muted">
              <svg height="16" class="octicon octicon-moon color-fg-muted" viewBox="0 0 16 16" version="1.1" width="16" aria-hidden="true"><path d="M9.598 1.591a.749.749 0 0 1 .785-.175 7.001 7.001 0 1 1-8.967 8.967.75.75 0 0 1 .961-.96 5.5 5.5 0 0 0 7.046-7.046.75.75 0 0 1 .175-.786Zm1.616 1.945a7 7 0 0 1-7.678 7.678 5.499 5.499 0 1 0 7.678-7.678Z"></path></svg>
            </div>
            <div data-targets="command-palette-page-stack.localOcticons" data-octicon-id="person-color-fg-muted">
              <svg height="16" class="octicon octicon-person color-fg-muted" viewBox="0 0 16 16" version="1.1" width="16" aria-hidden="true"><path d="M10.561 8.073a6.005 6.005 0 0 1 3.432 5.142.75.75 0 1 1-1.498.07 4.5 4.5 0 0 0-8.99 0 .75.75 0 0 1-1.498-.07 6.004 6.004 0 0 1 3.431-5.142 3.999 3.999 0 1 1 5.123 0ZM10.5 5a2.5 2.5 0 1 0-5 0 2.5 2.5 0 0 0 5 0Z"></path></svg>
            </div>
            <div data-targets="command-palette-page-stack.localOcticons" data-octicon-id="pencil-color-fg-muted">
              <svg height="16" class="octicon octicon-pencil color-fg-muted" viewBox="0 0 16 16" version="1.1" width="16" aria-hidden="true"><path d="M11.013 1.427a1.75 1.75 0 0 1 2.474 0l1.086 1.086a1.75 1.75 0 0 1 0 2.474l-8.61 8.61c-.21.21-.47.364-.756.445l-3.251.93a.75.75 0 0 1-.927-.928l.929-3.25c.081-.286.235-.547.445-.758l8.61-8.61Zm.176 4.823L9.75 4.81l-6.286 6.287a.253.253 0 0 0-.064.108l-.558 1.953 1.953-.558a.253.253 0 0 0 .108-.064Zm1.238-3.763a.25.25 0 0 0-.354 0L10.811 3.75l1.439 1.44 1.263-1.263a.25.25 0 0 0 0-.354Z"></path></svg>
            </div>
            <div data-targets="command-palette-page-stack.localOcticons" data-octicon-id="issue-opened-open">
              <svg height="16" class="octicon octicon-issue-opened open" viewBox="0 0 16 16" version="1.1" width="16" aria-hidden="true"><path d="M8 9.5a1.5 1.5 0 1 0 0-3 1.5 1.5 0 0 0 0 3Z"></path><path d="M8 0a8 8 0 1 1 0 16A8 8 0 0 1 8 0ZM1.5 8a6.5 6.5 0 1 0 13 0 6.5 6.5 0 0 0-13 0Z"></path></svg>
            </div>
            <div data-targets="command-palette-page-stack.localOcticons" data-octicon-id="git-pull-request-draft-color-fg-muted">
              <svg height="16" class="octicon octicon-git-pull-request-draft color-fg-muted" viewBox="0 0 16 16" version="1.1" width="16" aria-hidden="true"><path d="M3.25 1A2.25 2.25 0 0 1 4 5.372v5.256a2.251 2.251 0 1 1-1.5 0V5.372A2.251 2.251 0 0 1 3.25 1Zm9.5 14a2.25 2.25 0 1 1 0-4.5 2.25 2.25 0 0 1 0 4.5ZM2.5 3.25a.75.75 0 1 0 1.5 0 .75.75 0 0 0-1.5 0ZM3.25 12a.75.75 0 1 0 0 1.5.75.75 0 0 0 0-1.5Zm9.5 0a.75.75 0 1 0 0 1.5.75.75 0 0 0 0-1.5ZM14 7.5a1.25 1.25 0 1 1-2.5 0 1.25 1.25 0 0 1 2.5 0Zm0-4.25a1.25 1.25 0 1 1-2.5 0 1.25 1.25 0 0 1 2.5 0Z"></path></svg>
            </div>
            <div data-targets="command-palette-page-stack.localOcticons" data-octicon-id="search-color-fg-muted">
              <svg height="16" class="octicon octicon-search color-fg-muted" viewBox="0 0 16 16" version="1.1" width="16" aria-hidden="true"><path d="M10.68 11.74a6 6 0 0 1-7.922-8.982 6 6 0 0 1 8.982 7.922l3.04 3.04a.749.749 0 0 1-.326 1.275.749.749 0 0 1-.734-.215ZM11.5 7a4.499 4.499 0 1 0-8.997 0A4.499 4.499 0 0 0 11.5 7Z"></path></svg>
            </div>
            <div data-targets="command-palette-page-stack.localOcticons" data-octicon-id="sun-color-fg-muted">
              <svg height="16" class="octicon octicon-sun color-fg-muted" viewBox="0 0 16 16" version="1.1" width="16" aria-hidden="true"><path d="M8 12a4 4 0 1 1 0-8 4 4 0 0 1 0 8Zm0-1.5a2.5 2.5 0 1 0 0-5 2.5 2.5 0 0 0 0 5Zm5.657-8.157a.75.75 0 0 1 0 1.061l-1.061 1.06a.749.749 0 0 1-1.275-.326.749.749 0 0 1 .215-.734l1.06-1.06a.75.75 0 0 1 1.06 0Zm-9.193 9.193a.75.75 0 0 1 0 1.06l-1.06 1.061a.75.75 0 1 1-1.061-1.06l1.06-1.061a.75.75 0 0 1 1.061 0ZM8 0a.75.75 0 0 1 .75.75v1.5a.75.75 0 0 1-1.5 0V.75A.75.75 0 0 1 8 0ZM3 8a.75.75 0 0 1-.75.75H.75a.75.75 0 0 1 0-1.5h1.5A.75.75 0 0 1 3 8Zm13 0a.75.75 0 0 1-.75.75h-1.5a.75.75 0 0 1 0-1.5h1.5A.75.75 0 0 1 16 8Zm-8 5a.75.75 0 0 1 .75.75v1.5a.75.75 0 0 1-1.5 0v-1.5A.75.75 0 0 1 8 13Zm3.536-1.464a.75.75 0 0 1 1.06 0l1.061 1.06a.75.75 0 0 1-1.06 1.061l-1.061-1.06a.75.75 0 0 1 0-1.061ZM2.343 2.343a.75.75 0 0 1 1.061 0l1.06 1.061a.751.751 0 0 1-.018 1.042.751.751 0 0 1-1.042.018l-1.06-1.06a.75.75 0 0 1 0-1.06Z"></path></svg>
            </div>
            <div data-targets="command-palette-page-stack.localOcticons" data-octicon-id="sync-color-fg-muted">
              <svg height="16" class="octicon octicon-sync color-fg-muted" viewBox="0 0 16 16" version="1.1" width="16" aria-hidden="true"><path d="M1.705 8.005a.75.75 0 0 1 .834.656 5.5 5.5 0 0 0 9.592 2.97l-1.204-1.204a.25.25 0 0 1 .177-.427h3.646a.25.25 0 0 1 .25.25v3.646a.25.25 0 0 1-.427.177l-1.38-1.38A7.002 7.002 0 0 1 1.05 8.84a.75.75 0 0 1 .656-.834ZM8 2.5a5.487 5.487 0 0 0-4.131 1.869l1.204 1.204A.25.25 0 0 1 4.896 6H1.25A.25.25 0 0 1 1 5.75V2.104a.25.25 0 0 1 .427-.177l1.38 1.38A7.002 7.002 0 0 1 14.95 7.16a.75.75 0 0 1-1.49.178A5.5 5.5 0 0 0 8 2.5Z"></path></svg>
            </div>
            <div data-targets="command-palette-page-stack.localOcticons" data-octicon-id="trash-color-fg-muted">
              <svg height="16" class="octicon octicon-trash color-fg-muted" viewBox="0 0 16 16" version="1.1" width="16" aria-hidden="true"><path d="M11 1.75V3h2.25a.75.75 0 0 1 0 1.5H2.75a.75.75 0 0 1 0-1.5H5V1.75C5 .784 5.784 0 6.75 0h2.5C10.216 0 11 .784 11 1.75ZM4.496 6.675l.66 6.6a.25.25 0 0 0 .249.225h5.19a.25.25 0 0 0 .249-.225l.66-6.6a.75.75 0 0 1 1.492.149l-.66 6.6A1.748 1.748 0 0 1 10.595 15h-5.19a1.75 1.75 0 0 1-1.741-1.575l-.66-6.6a.75.75 0 1 1 1.492-.15ZM6.5 1.75V3h3V1.75a.25.25 0 0 0-.25-.25h-2.5a.25.25 0 0 0-.25.25Z"></path></svg>
            </div>
            <div data-targets="command-palette-page-stack.localOcticons" data-octicon-id="key-color-fg-muted">
              <svg height="16" class="octicon octicon-key color-fg-muted" viewBox="0 0 16 16" version="1.1" width="16" aria-hidden="true"><path d="M10.5 0a5.499 5.499 0 1 1-1.288 10.848l-.932.932a.749.749 0 0 1-.53.22H7v.75a.749.749 0 0 1-.22.53l-.5.5a.749.749 0 0 1-.53.22H5v.75a.749.749 0 0 1-.22.53l-.5.5a.749.749 0 0 1-.53.22h-2A1.75 1.75 0 0 1 0 14.25v-2c0-.199.079-.389.22-.53l4.932-4.932A5.5 5.5 0 0 1 10.5 0Zm-4 5.5c-.001.431.069.86.205 1.269a.75.75 0 0 1-.181.768L1.5 12.56v1.69c0 .138.112.25.25.25h1.69l.06-.06v-1.19a.75.75 0 0 1 .75-.75h1.19l.06-.06v-1.19a.75.75 0 0 1 .75-.75h1.19l1.023-1.025a.75.75 0 0 1 .768-.18A4 4 0 1 0 6.5 5.5ZM11 6a1 1 0 1 1 0-2 1 1 0 0 1 0 2Z"></path></svg>
            </div>
            <div data-targets="command-palette-page-stack.localOcticons" data-octicon-id="comment-discussion-color-fg-muted">
              <svg height="16" class="octicon octicon-comment-discussion color-fg-muted" viewBox="0 0 16 16" version="1.1" width="16" aria-hidden="true"><path d="M1.75 1h8.5c.966 0 1.75.784 1.75 1.75v5.5A1.75 1.75 0 0 1 10.25 10H7.061l-2.574 2.573A1.458 1.458 0 0 1 2 11.543V10h-.25A1.75 1.75 0 0 1 0 8.25v-5.5C0 1.784.784 1 1.75 1ZM1.5 2.75v5.5c0 .138.112.25.25.25h1a.75.75 0 0 1 .75.75v2.19l2.72-2.72a.749.749 0 0 1 .53-.22h3.5a.25.25 0 0 0 .25-.25v-5.5a.25.25 0 0 0-.25-.25h-8.5a.25.25 0 0 0-.25.25Zm13 2a.25.25 0 0 0-.25-.25h-.5a.75.75 0 0 1 0-1.5h.5c.966 0 1.75.784 1.75 1.75v5.5A1.75 1.75 0 0 1 14.25 12H14v1.543a1.458 1.458 0 0 1-2.487 1.03L9.22 12.28a.749.749 0 0 1 .326-1.275.749.749 0 0 1 .734.215l2.22 2.22v-2.19a.75.75 0 0 1 .75-.75h1a.25.25 0 0 0 .25-.25Z"></path></svg>
            </div>
            <div data-targets="command-palette-page-stack.localOcticons" data-octicon-id="bell-color-fg-muted">
              <svg height="16" class="octicon octicon-bell color-fg-muted" viewBox="0 0 16 16" version="1.1" width="16" aria-hidden="true"><path d="M8 16a2 2 0 0 0 1.985-1.75c.017-.137-.097-.25-.235-.25h-3.5c-.138 0-.252.113-.235.25A2 2 0 0 0 8 16ZM3 5a5 5 0 0 1 10 0v2.947c0 .05.015.098.042.139l1.703 2.555A1.519 1.519 0 0 1 13.482 13H2.518a1.516 1.516 0 0 1-1.263-2.36l1.703-2.554A.255.255 0 0 0 3 7.947Zm5-3.5A3.5 3.5 0 0 0 4.5 5v2.947c0 .346-.102.683-.294.97l-1.703 2.556a.017.017 0 0 0-.003.01l.001.006c0 .002.002.004.004.006l.006.004.007.001h10.964l.007-.001.006-.004.004-.006.001-.007a.017.017 0 0 0-.003-.01l-1.703-2.554a1.745 1.745 0 0 1-.294-.97V5A3.5 3.5 0 0 0 8 1.5Z"></path></svg>
            </div>
            <div data-targets="command-palette-page-stack.localOcticons" data-octicon-id="bell-slash-color-fg-muted">
              <svg height="16" class="octicon octicon-bell-slash color-fg-muted" viewBox="0 0 16 16" version="1.1" width="16" aria-hidden="true"><path d="m4.182 4.31.016.011 10.104 7.316.013.01 1.375.996a.75.75 0 1 1-.88 1.214L13.626 13H2.518a1.516 1.516 0 0 1-1.263-2.36l1.703-2.554A.255.255 0 0 0 3 7.947V5.305L.31 3.357a.75.75 0 1 1 .88-1.214Zm7.373 7.19L4.5 6.391v1.556c0 .346-.102.683-.294.97l-1.703 2.556a.017.017 0 0 0-.003.01c0 .005.002.009.005.012l.006.004.007.001ZM8 1.5c-.997 0-1.895.416-2.534 1.086A.75.75 0 1 1 4.38 1.55 5 5 0 0 1 13 5v2.373a.75.75 0 0 1-1.5 0V5A3.5 3.5 0 0 0 8 1.5ZM8 16a2 2 0 0 1-1.985-1.75c-.017-.137.097-.25.235-.25h3.5c.138 0 .252.113.235.25A2 2 0 0 1 8 16Z"></path></svg>
            </div>
            <div data-targets="command-palette-page-stack.localOcticons" data-octicon-id="paintbrush-color-fg-muted">
              <svg height="16" class="octicon octicon-paintbrush color-fg-muted" viewBox="0 0 16 16" version="1.1" width="16" aria-hidden="true"><path d="M11.134 1.535c.7-.509 1.416-.942 2.076-1.155.649-.21 1.463-.267 2.069.34.603.601.568 1.411.368 2.07-.202.668-.624 1.39-1.125 2.096-1.011 1.424-2.496 2.987-3.775 4.249-1.098 1.084-2.132 1.839-3.04 2.3a3.744 3.744 0 0 1-1.055 3.217c-.431.431-1.065.691-1.657.861-.614.177-1.294.287-1.914.357A21.151 21.151 0 0 1 .797 16H.743l.007-.75H.749L.742 16a.75.75 0 0 1-.743-.742l.743-.008-.742.007v-.054a21.25 21.25 0 0 1 .13-2.284c.067-.647.187-1.287.358-1.914.17-.591.43-1.226.86-1.657a3.746 3.746 0 0 1 3.227-1.054c.466-.893 1.225-1.907 2.314-2.982 1.271-1.255 2.833-2.75 4.245-3.777ZM1.62 13.089c-.051.464-.086.929-.104 1.395.466-.018.932-.053 1.396-.104a10.511 10.511 0 0 0 1.668-.309c.526-.151.856-.325 1.011-.48a2.25 2.25 0 1 0-3.182-3.182c-.155.155-.329.485-.48 1.01a10.515 10.515 0 0 0-.309 1.67Zm10.396-10.34c-1.224.89-2.605 2.189-3.822 3.384l1.718 1.718c1.21-1.205 2.51-2.597 3.387-3.833.47-.662.78-1.227.912-1.662.134-.444.032-.551.009-.575h-.001V1.78c-.014-.014-.113-.113-.548.027-.432.14-.995.462-1.655.942Zm-4.832 7.266-.001.001a9.859 9.859 0 0 0 1.63-1.142L7.155 7.216a9.7 9.7 0 0 0-1.161 1.607c.482.302.889.71 1.19 1.192Z"></path></svg>
            </div>

            <command-palette-item-group
              data-group-id="top"
              data-group-title="Top result"
              data-group-hint=""
              data-group-limits="{}"
              data-default-priority="0"
            >
            </command-palette-item-group>
            <command-palette-item-group
              data-group-id="commands"
              data-group-title="Commands"
              data-group-hint="Type &gt; to filter"
              data-group-limits="{&quot;static_items_page&quot;:50,&quot;issue&quot;:50,&quot;pull_request&quot;:50,&quot;discussion&quot;:50}"
              data-default-priority="1"
            >
            </command-palette-item-group>
            <command-palette-item-group
              data-group-id="global_commands"
              data-group-title="Global Commands"
              data-group-hint="Type &gt; to filter"
              data-group-limits="{&quot;issue&quot;:0,&quot;pull_request&quot;:0,&quot;discussion&quot;:0}"
              data-default-priority="2"
            >
            </command-palette-item-group>
            <command-palette-item-group
              data-group-id="this_page"
              data-group-title="This Page"
              data-group-hint=""
              data-group-limits="{}"
              data-default-priority="3"
            >
            </command-palette-item-group>
            <command-palette-item-group
              data-group-id="files"
              data-group-title="Files"
              data-group-hint=""
              data-group-limits="{}"
              data-default-priority="4"
            >
            </command-palette-item-group>
            <command-palette-item-group
              data-group-id="default"
              data-group-title="Default"
              data-group-hint=""
              data-group-limits="{&quot;static_items_page&quot;:50}"
              data-default-priority="5"
            >
            </command-palette-item-group>
            <command-palette-item-group
              data-group-id="pages"
              data-group-title="Pages"
              data-group-hint=""
              data-group-limits="{&quot;repository&quot;:10}"
              data-default-priority="6"
            >
            </command-palette-item-group>
            <command-palette-item-group
              data-group-id="access_policies"
              data-group-title="Access Policies"
              data-group-hint=""
              data-group-limits="{}"
              data-default-priority="7"
            >
            </command-palette-item-group>
            <command-palette-item-group
              data-group-id="organizations"
              data-group-title="Organizations"
              data-group-hint=""
              data-group-limits="{}"
              data-default-priority="8"
            >
            </command-palette-item-group>
            <command-palette-item-group
              data-group-id="repositories"
              data-group-title="Repositories"
              data-group-hint=""
              data-group-limits="{}"
              data-default-priority="9"
            >
            </command-palette-item-group>
            <command-palette-item-group
              data-group-id="references"
              data-group-title="Issues, pull requests, and discussions"
              data-group-hint="Type # to filter"
              data-group-limits="{}"
              data-default-priority="10"
            >
            </command-palette-item-group>
            <command-palette-item-group
              data-group-id="teams"
              data-group-title="Teams"
              data-group-hint=""
              data-group-limits="{}"
              data-default-priority="11"
            >
            </command-palette-item-group>
            <command-palette-item-group
              data-group-id="users"
              data-group-title="Users"
              data-group-hint=""
              data-group-limits="{}"
              data-default-priority="12"
            >
            </command-palette-item-group>
            <command-palette-item-group
              data-group-id="memex_projects"
              data-group-title="Projects"
              data-group-hint=""
              data-group-limits="{}"
              data-default-priority="13"
            >
            </command-palette-item-group>
            <command-palette-item-group
              data-group-id="projects"
              data-group-title="Projects (classic)"
              data-group-hint=""
              data-group-limits="{}"
              data-default-priority="14"
            >
            </command-palette-item-group>
            <command-palette-item-group
              data-group-id="footer"
              data-group-title="Footer"
              data-group-hint=""
              data-group-limits="{}"
              data-default-priority="15"
            >
            </command-palette-item-group>
            <command-palette-item-group
              data-group-id="modes_help"
              data-group-title="Modes"
              data-group-hint=""
              data-group-limits="{}"
              data-default-priority="16"
            >
            </command-palette-item-group>
            <command-palette-item-group
              data-group-id="filters_help"
              data-group-title="Use filters in issues, pull requests, discussions, and projects"
              data-group-hint=""
              data-group-limits="{}"
              data-default-priority="17"
            >
            </command-palette-item-group>

            <command-palette-page
              data-page-title="Mogady"
              data-scope-id="MDQ6VXNlcjIwOTI5MzAx"
              data-scope-type="owner"
              data-targets="command-palette-page-stack.defaultPages"
              hidden
            >
            </command-palette-page>
            <command-palette-page
              data-page-title="BBC_arabic_Analysis"
              data-scope-id="MDEwOlJlcG9zaXRvcnkxNDc1MDA2MTk="
              data-scope-type="repository"
              data-targets="command-palette-page-stack.defaultPages"
              hidden
            >
            </command-palette-page>
        </div>

        <command-palette-page data-is-root>
        </command-palette-page>
          <command-palette-page
            data-page-title="Mogady"
            data-scope-id="MDQ6VXNlcjIwOTI5MzAx"
            data-scope-type="owner"
          >
          </command-palette-page>
          <command-palette-page
            data-page-title="BBC_arabic_Analysis"
            data-scope-id="MDEwOlJlcG9zaXRvcnkxNDc1MDA2MTk="
            data-scope-type="repository"
          >
          </command-palette-page>
      </command-palette-page-stack>

      <server-defined-provider data-type="search-links" data-targets="command-palette.serverDefinedProviderElements"></server-defined-provider>
      <server-defined-provider data-type="help" data-targets="command-palette.serverDefinedProviderElements">
          <command-palette-help
            data-group="modes_help"
              data-prefix="#"
              data-scope-types="[&quot;&quot;]"
          >
            <span data-target="command-palette-help.titleElement">Search for <strong>issues</strong> and <strong>pull requests</strong></span>
              <span data-target="command-palette-help.hintElement">
                <kbd class="hx_kbd">#</kbd>
              </span>
          </command-palette-help>
          <command-palette-help
            data-group="modes_help"
              data-prefix="#"
              data-scope-types="[&quot;owner&quot;,&quot;repository&quot;]"
          >
            <span data-target="command-palette-help.titleElement">Search for <strong>issues, pull requests, discussions,</strong> and <strong>projects</strong></span>
              <span data-target="command-palette-help.hintElement">
                <kbd class="hx_kbd">#</kbd>
              </span>
          </command-palette-help>
          <command-palette-help
            data-group="modes_help"
              data-prefix="@"
              data-scope-types="[&quot;&quot;]"
          >
            <span data-target="command-palette-help.titleElement">Search for <strong>organizations, repositories,</strong> and <strong>users</strong></span>
              <span data-target="command-palette-help.hintElement">
                <kbd class="hx_kbd">@</kbd>
              </span>
          </command-palette-help>
          <command-palette-help
            data-group="modes_help"
              data-prefix="!"
              data-scope-types="[&quot;owner&quot;,&quot;repository&quot;]"
          >
            <span data-target="command-palette-help.titleElement">Search for <strong>projects</strong></span>
              <span data-target="command-palette-help.hintElement">
                <kbd class="hx_kbd">!</kbd>
              </span>
          </command-palette-help>
          <command-palette-help
            data-group="modes_help"
              data-prefix="/"
              data-scope-types="[&quot;repository&quot;]"
          >
            <span data-target="command-palette-help.titleElement">Search for <strong>files</strong></span>
              <span data-target="command-palette-help.hintElement">
                <kbd class="hx_kbd">/</kbd>
              </span>
          </command-palette-help>
          <command-palette-help
            data-group="modes_help"
              data-prefix="&gt;"
          >
            <span data-target="command-palette-help.titleElement">Activate <strong>command mode</strong></span>
              <span data-target="command-palette-help.hintElement">
                <kbd class="hx_kbd">&gt;</kbd>
              </span>
          </command-palette-help>
          <command-palette-help
            data-group="filters_help"
              data-prefix="# author:@me"
          >
            <span data-target="command-palette-help.titleElement">Search your issues, pull requests, and discussions</span>
              <span data-target="command-palette-help.hintElement">
                <kbd class="hx_kbd"># author:@me</kbd>
              </span>
          </command-palette-help>
          <command-palette-help
            data-group="filters_help"
              data-prefix="# author:@me"
          >
            <span data-target="command-palette-help.titleElement">Search your issues, pull requests, and discussions</span>
              <span data-target="command-palette-help.hintElement">
                <kbd class="hx_kbd"># author:@me</kbd>
              </span>
          </command-palette-help>
          <command-palette-help
            data-group="filters_help"
              data-prefix="# is:pr"
          >
            <span data-target="command-palette-help.titleElement">Filter to pull requests</span>
              <span data-target="command-palette-help.hintElement">
                <kbd class="hx_kbd"># is:pr</kbd>
              </span>
          </command-palette-help>
          <command-palette-help
            data-group="filters_help"
              data-prefix="# is:issue"
          >
            <span data-target="command-palette-help.titleElement">Filter to issues</span>
              <span data-target="command-palette-help.hintElement">
                <kbd class="hx_kbd"># is:issue</kbd>
              </span>
          </command-palette-help>
          <command-palette-help
            data-group="filters_help"
              data-prefix="# is:discussion"
              data-scope-types="[&quot;owner&quot;,&quot;repository&quot;]"
          >
            <span data-target="command-palette-help.titleElement">Filter to discussions</span>
              <span data-target="command-palette-help.hintElement">
                <kbd class="hx_kbd"># is:discussion</kbd>
              </span>
          </command-palette-help>
          <command-palette-help
            data-group="filters_help"
              data-prefix="# is:project"
              data-scope-types="[&quot;owner&quot;,&quot;repository&quot;]"
          >
            <span data-target="command-palette-help.titleElement">Filter to projects</span>
              <span data-target="command-palette-help.hintElement">
                <kbd class="hx_kbd"># is:project</kbd>
              </span>
          </command-palette-help>
          <command-palette-help
            data-group="filters_help"
              data-prefix="# is:open"
          >
            <span data-target="command-palette-help.titleElement">Filter to open issues, pull requests, and discussions</span>
              <span data-target="command-palette-help.hintElement">
                <kbd class="hx_kbd"># is:open</kbd>
              </span>
          </command-palette-help>
      </server-defined-provider>

        <server-defined-provider
          data-type="commands"
          data-fetch-debounce="0"
            data-src="/command_palette/commands"
          data-supported-modes="[]"
            data-supports-commands
          
          data-targets="command-palette.serverDefinedProviderElements"
          ></server-defined-provider>
        <server-defined-provider
          data-type="prefetched"
          data-fetch-debounce="0"
            data-src="/command_palette/jump_to_page_navigation"
          data-supported-modes="[&quot;&quot;]"
            data-supported-scope-types="[&quot;&quot;,&quot;owner&quot;,&quot;repository&quot;]"
          
          data-targets="command-palette.serverDefinedProviderElements"
          ></server-defined-provider>
        <server-defined-provider
          data-type="remote"
          data-fetch-debounce="200"
            data-src="/command_palette/issues"
          data-supported-modes="[&quot;#&quot;,&quot;#&quot;]"
            data-supported-scope-types="[&quot;owner&quot;,&quot;repository&quot;,&quot;&quot;]"
          
          data-targets="command-palette.serverDefinedProviderElements"
          ></server-defined-provider>
        <server-defined-provider
          data-type="remote"
          data-fetch-debounce="200"
            data-src="/command_palette/jump_to"
          data-supported-modes="[&quot;@&quot;,&quot;@&quot;]"
            data-supported-scope-types="[&quot;&quot;,&quot;owner&quot;]"
          
          data-targets="command-palette.serverDefinedProviderElements"
          ></server-defined-provider>
        <server-defined-provider
          data-type="remote"
          data-fetch-debounce="200"
            data-src="/command_palette/jump_to_members_only"
          data-supported-modes="[&quot;@&quot;,&quot;@&quot;,&quot;&quot;,&quot;&quot;]"
            data-supported-scope-types="[&quot;&quot;,&quot;owner&quot;]"
          
          data-targets="command-palette.serverDefinedProviderElements"
          ></server-defined-provider>
        <server-defined-provider
          data-type="prefetched"
          data-fetch-debounce="0"
            data-src="/command_palette/jump_to_members_only_prefetched"
          data-supported-modes="[&quot;@&quot;,&quot;@&quot;,&quot;&quot;,&quot;&quot;]"
            data-supported-scope-types="[&quot;&quot;,&quot;owner&quot;]"
          
          data-targets="command-palette.serverDefinedProviderElements"
          ></server-defined-provider>
        <server-defined-provider
          data-type="files"
          data-fetch-debounce="0"
            data-src="/command_palette/files"
          data-supported-modes="[&quot;/&quot;]"
            data-supported-scope-types="[&quot;repository&quot;]"
          
          data-targets="command-palette.serverDefinedProviderElements"
          ></server-defined-provider>
        <server-defined-provider
          data-type="remote"
          data-fetch-debounce="200"
            data-src="/command_palette/discussions"
          data-supported-modes="[&quot;#&quot;]"
            data-supported-scope-types="[&quot;owner&quot;,&quot;repository&quot;]"
          
          data-targets="command-palette.serverDefinedProviderElements"
          ></server-defined-provider>
        <server-defined-provider
          data-type="remote"
          data-fetch-debounce="200"
            data-src="/command_palette/projects"
          data-supported-modes="[&quot;#&quot;,&quot;!&quot;]"
            data-supported-scope-types="[&quot;owner&quot;,&quot;repository&quot;]"
          
          data-targets="command-palette.serverDefinedProviderElements"
          ></server-defined-provider>
        <server-defined-provider
          data-type="prefetched"
          data-fetch-debounce="0"
            data-src="/command_palette/recent_issues"
          data-supported-modes="[&quot;#&quot;,&quot;#&quot;]"
            data-supported-scope-types="[&quot;owner&quot;,&quot;repository&quot;,&quot;&quot;]"
          
          data-targets="command-palette.serverDefinedProviderElements"
          ></server-defined-provider>
        <server-defined-provider
          data-type="remote"
          data-fetch-debounce="200"
            data-src="/command_palette/teams"
          data-supported-modes="[&quot;@&quot;,&quot;&quot;]"
            data-supported-scope-types="[&quot;owner&quot;]"
          
          data-targets="command-palette.serverDefinedProviderElements"
          ></server-defined-provider>
        <server-defined-provider
          data-type="remote"
          data-fetch-debounce="200"
            data-src="/command_palette/name_with_owner_repository"
          data-supported-modes="[&quot;@&quot;,&quot;@&quot;,&quot;&quot;,&quot;&quot;]"
            data-supported-scope-types="[&quot;&quot;,&quot;owner&quot;]"
          
          data-targets="command-palette.serverDefinedProviderElements"
          ></server-defined-provider>
    </command-palette>
  </details-dialog>
</details>

<div class="position-fixed bottom-0 left-0 ml-5 mb-5 js-command-palette-toasts" style="z-index: 1000">
  <div hidden class="Toast Toast--loading">
    <span class="Toast-icon">
      <svg class="Toast--spinner" viewBox="0 0 32 32" width="18" height="18" aria-hidden="true">
        <path
          fill="#959da5"
          d="M16 0 A16 16 0 0 0 16 32 A16 16 0 0 0 16 0 M16 4 A12 12 0 0 1 16 28 A12 12 0 0 1 16 4"
        />
        <path fill="#ffffff" d="M16 0 A16 16 0 0 1 32 16 L28 16 A12 12 0 0 0 16 4z"></path>
      </svg>
    </span>
    <span class="Toast-content"></span>
  </div>

  <div hidden class="anim-fade-in fast Toast Toast--error">
    <span class="Toast-icon">
      <svg aria-hidden="true" height="16" viewBox="0 0 16 16" version="1.1" width="16" data-view-component="true" class="octicon octicon-stop">
    <path d="M4.47.22A.749.749 0 0 1 5 0h6c.199 0 .389.079.53.22l4.25 4.25c.141.14.22.331.22.53v6a.749.749 0 0 1-.22.53l-4.25 4.25A.749.749 0 0 1 11 16H5a.749.749 0 0 1-.53-.22L.22 11.53A.749.749 0 0 1 0 11V5c0-.199.079-.389.22-.53Zm.84 1.28L1.5 5.31v5.38l3.81 3.81h5.38l3.81-3.81V5.31L10.69 1.5ZM8 4a.75.75 0 0 1 .75.75v3.5a.75.75 0 0 1-1.5 0v-3.5A.75.75 0 0 1 8 4Zm0 8a1 1 0 1 1 0-2 1 1 0 0 1 0 2Z"></path>
</svg>
    </span>
    <span class="Toast-content"></span>
  </div>

  <div hidden class="anim-fade-in fast Toast Toast--warning">
    <span class="Toast-icon">
      <svg aria-hidden="true" height="16" viewBox="0 0 16 16" version="1.1" width="16" data-view-component="true" class="octicon octicon-alert">
    <path d="M6.457 1.047c.659-1.234 2.427-1.234 3.086 0l6.082 11.378A1.75 1.75 0 0 1 14.082 15H1.918a1.75 1.75 0 0 1-1.543-2.575Zm1.763.707a.25.25 0 0 0-.44 0L1.698 13.132a.25.25 0 0 0 .22.368h12.164a.25.25 0 0 0 .22-.368Zm.53 3.996v2.5a.75.75 0 0 1-1.5 0v-2.5a.75.75 0 0 1 1.5 0ZM9 11a1 1 0 1 1-2 0 1 1 0 0 1 2 0Z"></path>
</svg>
    </span>
    <span class="Toast-content"></span>
  </div>


  <div hidden class="anim-fade-in fast Toast Toast--success">
    <span class="Toast-icon">
      <svg aria-hidden="true" height="16" viewBox="0 0 16 16" version="1.1" width="16" data-view-component="true" class="octicon octicon-check">
    <path d="M13.78 4.22a.75.75 0 0 1 0 1.06l-7.25 7.25a.75.75 0 0 1-1.06 0L2.22 9.28a.751.751 0 0 1 .018-1.042.751.751 0 0 1 1.042-.018L6 10.94l6.72-6.72a.75.75 0 0 1 1.06 0Z"></path>
</svg>
    </span>
    <span class="Toast-content"></span>
  </div>

  <div hidden class="anim-fade-in fast Toast">
    <span class="Toast-icon">
      <svg aria-hidden="true" height="16" viewBox="0 0 16 16" version="1.1" width="16" data-view-component="true" class="octicon octicon-info">
    <path d="M0 8a8 8 0 1 1 16 0A8 8 0 0 1 0 8Zm8-6.5a6.5 6.5 0 1 0 0 13 6.5 6.5 0 0 0 0-13ZM6.5 7.75A.75.75 0 0 1 7.25 7h1a.75.75 0 0 1 .75.75v2.75h.25a.75.75 0 0 1 0 1.5h-2a.75.75 0 0 1 0-1.5h.25v-2h-.25a.75.75 0 0 1-.75-.75ZM8 6a1 1 0 1 1 0-2 1 1 0 0 1 0 2Z"></path>
</svg>
    </span>
    <span class="Toast-content"></span>
  </div>
</div>


  <div
    class="application-main "
    data-commit-hovercards-enabled
    data-discussion-hovercards-enabled
    data-issue-and-pr-hovercards-enabled
  >
        <div itemscope itemtype="http://schema.org/SoftwareSourceCode" class="">
    <main id="js-repo-pjax-container" >
      
      






    
  <div id="repository-container-header" data-turbo-replace hidden></div>




<turbo-frame id="repo-content-turbo-frame" target="_top" data-turbo-action="advance" class="">
    <div id="repo-content-pjax-container" class="repository-content " >
      <a href="https://github.dev/" class="d-none js-github-dev-shortcut" data-hotkey=".,Mod+Alt+.">Open in github.dev</a>
  <a href="https://github.dev/" class="d-none js-github-dev-new-tab-shortcut" data-hotkey="Shift+.,Shift+&gt;,&gt;" target="_blank" rel="noopener noreferrer">Open in a new github.dev tab</a>
    <a class="d-none" data-hotkey=",,Mod+Alt+," target="_blank" href="/codespaces/new/Mogady/BBC_arabic_Analysis/tree/master?resume=1">Open in codespace</a>




    
      
    





<react-app
  app-name="react-code-view"
  initial-path="/Mogady/BBC_arabic_Analysis/blob/master/youtube%20data_analyzer.ipynb"
  style="min-height: calc(100vh - 64px)" 
  data-ssr="true"
  data-lazy="false"
  data-alternate="false"
>
  
  <script type="application/json" data-target="react-app.embeddedData">{"payload":{"allShortcutsEnabled":true,"fileTree":{"":{"items":[{"name":"Analysis report.pdf","path":"Analysis report.pdf","contentType":"file"},{"name":"README.md","path":"README.md","contentType":"file"},{"name":"Youtube data_acquiring.ipynb","path":"Youtube data_acquiring.ipynb","contentType":"file"},{"name":"clean_data","path":"clean_data","contentType":"file"},{"name":"youtube data_analyzer.ipynb","path":"youtube data_analyzer.ipynb","contentType":"file"}],"totalCount":5}},"fileTreeProcessingTime":8.064609,"foldersToFetch":[],"repo":{"id":147500619,"defaultBranch":"master","name":"BBC_arabic_Analysis","ownerLogin":"Mogady","currentUserCanPush":false,"isFork":false,"isEmpty":false,"createdAt":"2018-09-05T03:26:30.000-07:00","ownerAvatar":"https://avatars.githubusercontent.com/u/20929301?v=4","public":true,"private":false,"isOrgOwned":false},"codeLineWrapEnabled":false,"symbolsExpanded":true,"treeExpanded":false,"refInfo":{"name":"master","listCacheKey":"v0:1536143265.0","canEdit":true,"refType":"branch","currentOid":"ed226284f9c1ad062df93aa815b1e50832b8c81b"},"path":"youtube data_analyzer.ipynb","currentUser":{"id":95196629,"login":"666666rew","userEmail":"dhchiewi8@gmail.com"},"blob":{"rawLines":["{"," \"cells\": [","  {","   \"cell_type\": \"markdown\",","   \"metadata\": {},","   \"source\": [","    \"### ok Now lets start analysis lets import the data \"","   ]","  },","  {","   \"cell_type\": \"code\",","   \"execution_count\": 1,","   \"metadata\": {","    \"collapsed\": true","   },","   \"outputs\": [],","   \"source\": [","    \"import pandas as pa\\n\",","    \"import numpy as np\\n\",","    \"%matplotlib inline\\n\",","    \"import matplotlib.pyplot as plt\\n\",","    \"import seaborn as sns\\n\",","    \"import re\"","   ]","  },","  {","   \"cell_type\": \"code\",","   \"execution_count\": 2,","   \"metadata\": {","    \"collapsed\": true","   },","   \"outputs\": [],","   \"source\": [","    \"df=pa.read_csv('clean_data')\"","   ]","  },","  {","   \"cell_type\": \"code\",","   \"execution_count\": 3,","   \"metadata\": {","    \"collapsed\": true","   },","   \"outputs\": [],","   \"source\": [","    \"del df['Unnamed: 0']\"","   ]","  },","  {","   \"cell_type\": \"code\",","   \"execution_count\": 4,","   \"metadata\": {},","   \"outputs\": [","    {","     \"data\": {","      \"text/html\": [","       \"\u003cdiv\u003e\\n\",","       \"\u003cstyle scoped\u003e\\n\",","       \"    .dataframe tbody tr th:only-of-type {\\n\",","       \"        vertical-align: middle;\\n\",","       \"    }\\n\",","       \"\\n\",","       \"    .dataframe tbody tr th {\\n\",","       \"        vertical-align: top;\\n\",","       \"    }\\n\",","       \"\\n\",","       \"    .dataframe thead th {\\n\",","       \"        text-align: right;\\n\",","       \"    }\\n\",","       \"\u003c/style\u003e\\n\",","       \"\u003ctable border=\\\"1\\\" class=\\\"dataframe\\\"\u003e\\n\",","       \"  \u003cthead\u003e\\n\",","       \"    \u003ctr style=\\\"text-align: right;\\\"\u003e\\n\",","       \"      \u003cth\u003e\u003c/th\u003e\\n\",","       \"      \u003cth\u003ecommentCount\u003c/th\u003e\\n\",","       \"      \u003cth\u003edefaultAudioLanguage\u003c/th\u003e\\n\",","       \"      \u003cth\u003edislikeCount\u003c/th\u003e\\n\",","       \"      \u003cth\u003eduration\u003c/th\u003e\\n\",","       \"      \u003cth\u003efavoriteCount\u003c/th\u003e\\n\",","       \"      \u003cth\u003elikeCount\u003c/th\u003e\\n\",","       \"      \u003cth\u003etage\u003c/th\u003e\\n\",","       \"      \u003cth\u003etitle\u003c/th\u003e\\n\",","       \"      \u003cth\u003eviewCount\u003c/th\u003e\\n\",","       \"      \u003cth\u003edate\u003c/th\u003e\\n\",","       \"      \u003cth\u003etime\u003c/th\u003e\\n\",","       \"    \u003c/tr\u003e\\n\",","       \"  \u003c/thead\u003e\\n\",","       \"  \u003ctbody\u003e\\n\",","       \"    \u003ctr\u003e\\n\",","       \"      \u003cth\u003e0\u003c/th\u003e\\n\",","       \"      \u003ctd\u003e4\u003c/td\u003e\\n\",","       \"      \u003ctd\u003ear\u003c/td\u003e\\n\",","       \"      \u003ctd\u003e3\u003c/td\u003e\\n\",","       \"      \u003ctd\u003e10M\u003c/td\u003e\\n\",","       \"      \u003ctd\u003e0\u003c/td\u003e\\n\",","       \"      \u003ctd\u003e27\u003c/td\u003e\\n\",","       \"      \u003ctd\u003e['بي بي سي', 'بي بي سي عربي', 'بي بي سي العربي...\u003c/td\u003e\\n\",","       \"      \u003ctd\u003eرئيس استوديوهات هارفيل يكشف عن التحضير لصنع في...\u003c/td\u003e\\n\",","       \"      \u003ctd\u003e886\u003c/td\u003e\\n\",","       \"      \u003ctd\u003e2018-07-26\u003c/td\u003e\\n\",","       \"      \u003ctd\u003e07:42:44\u003c/td\u003e\\n\",","       \"    \u003c/tr\u003e\\n\",","       \"    \u003ctr\u003e\\n\",","       \"      \u003cth\u003e1\u003c/th\u003e\\n\",","       \"      \u003ctd\u003e3\u003c/td\u003e\\n\",","       \"      \u003ctd\u003ear\u003c/td\u003e\\n\",","       \"      \u003ctd\u003e5\u003c/td\u003e\\n\",","       \"      \u003ctd\u003e10M\u003c/td\u003e\\n\",","       \"      \u003ctd\u003e0\u003c/td\u003e\\n\",","       \"      \u003ctd\u003e14\u003c/td\u003e\\n\",","       \"      \u003ctd\u003e['بي بي سي', 'بي بي سي عربي', 'بي بي سي العربي...\u003c/td\u003e\\n\",","       \"      \u003ctd\u003eعلي صوفان، عميل الأف بي آي اللبناني الاصل، يتح...\u003c/td\u003e\\n\",","       \"      \u003ctd\u003e790\u003c/td\u003e\\n\",","       \"      \u003ctd\u003e2018-07-23\u003c/td\u003e\\n\",","       \"      \u003ctd\u003e06:07:41\u003c/td\u003e\\n\",","       \"    \u003c/tr\u003e\\n\",","       \"  \u003c/tbody\u003e\\n\",","       \"\u003c/table\u003e\\n\",","       \"\u003c/div\u003e\"","      ],","      \"text/plain\": [","       \"   commentCount defaultAudioLanguage  dislikeCount duration  favoriteCount  \\\\\\n\",","       \"0             4                   ar             3      10M              0   \\n\",","       \"1             3                   ar             5      10M              0   \\n\",","       \"\\n\",","       \"   likeCount                                               tage  \\\\\\n\",","       \"0         27  ['بي بي سي', 'بي بي سي عربي', 'بي بي سي العربي...   \\n\",","       \"1         14  ['بي بي سي', 'بي بي سي عربي', 'بي بي سي العربي...   \\n\",","       \"\\n\",","       \"                                               title  viewCount        date  \\\\\\n\",","       \"0  رئيس استوديوهات هارفيل يكشف عن التحضير لصنع في...        886  2018-07-26   \\n\",","       \"1  علي صوفان، عميل الأف بي آي اللبناني الاصل، يتح...        790  2018-07-23   \\n\",","       \"\\n\",","       \"       time  \\n\",","       \"0  07:42:44  \\n\",","       \"1  06:07:41  \"","      ]","     },","     \"execution_count\": 4,","     \"metadata\": {},","     \"output_type\": \"execute_result\"","    }","   ],","   \"source\": [","    \"df.head(2)\"","   ]","  },","  {","   \"cell_type\": \"code\",","   \"execution_count\": 5,","   \"metadata\": {","    \"collapsed\": true","   },","   \"outputs\": [],","   \"source\": [","    \"df=df.drop(df.index[108])\"","   ]","  },","  {","   \"cell_type\": \"markdown\",","   \"metadata\": {},","   \"source\": [","    \"### First lets look to some statistics\"","   ]","  },","  {","   \"cell_type\": \"code\",","   \"execution_count\": 6,","   \"metadata\": {","    \"collapsed\": true","   },","   \"outputs\": [],","   \"source\": [","    \"#get the top 10 views and comments videos\\n\",","    \"top10active=df.sort_values(by=['viewCount','commentCount'],ascending=False).head(10)\"","   ]","  },","  {","   \"cell_type\": \"code\",","   \"execution_count\": 44,","   \"metadata\": {},","   \"outputs\": [","    {","     \"data\": {","      \"text/html\": [","       \"\u003cdiv\u003e\\n\",","       \"\u003cstyle scoped\u003e\\n\",","       \"    .dataframe tbody tr th:only-of-type {\\n\",","       \"        vertical-align: middle;\\n\",","       \"    }\\n\",","       \"\\n\",","       \"    .dataframe tbody tr th {\\n\",","       \"        vertical-align: top;\\n\",","       \"    }\\n\",","       \"\\n\",","       \"    .dataframe thead th {\\n\",","       \"        text-align: right;\\n\",","       \"    }\\n\",","       \"\u003c/style\u003e\\n\",","       \"\u003ctable border=\\\"1\\\" class=\\\"dataframe\\\"\u003e\\n\",","       \"  \u003cthead\u003e\\n\",","       \"    \u003ctr style=\\\"text-align: right;\\\"\u003e\\n\",","       \"      \u003cth\u003e\u003c/th\u003e\\n\",","       \"      \u003cth\u003ecommentCount\u003c/th\u003e\\n\",","       \"      \u003cth\u003edefaultAudioLanguage\u003c/th\u003e\\n\",","       \"      \u003cth\u003edislikeCount\u003c/th\u003e\\n\",","       \"      \u003cth\u003eduration\u003c/th\u003e\\n\",","       \"      \u003cth\u003efavoriteCount\u003c/th\u003e\\n\",","       \"      \u003cth\u003elikeCount\u003c/th\u003e\\n\",","       \"      \u003cth\u003etage\u003c/th\u003e\\n\",","       \"      \u003cth\u003etitle\u003c/th\u003e\\n\",","       \"      \u003cth\u003eviewCount\u003c/th\u003e\\n\",","       \"      \u003cth\u003edate\u003c/th\u003e\\n\",","       \"      \u003cth\u003etime\u003c/th\u003e\\n\",","       \"    \u003c/tr\u003e\\n\",","       \"  \u003c/thead\u003e\\n\",","       \"  \u003ctbody\u003e\\n\",","       \"    \u003ctr\u003e\\n\",","       \"      \u003cth\u003e251\u003c/th\u003e\\n\",","       \"      \u003ctd\u003e2833\u003c/td\u003e\\n\",","       \"      \u003ctd\u003ear\u003c/td\u003e\\n\",","       \"      \u003ctd\u003e1676\u003c/td\u003e\\n\",","       \"      \u003ctd\u003e2M\u003c/td\u003e\\n\",","       \"      \u003ctd\u003e0\u003c/td\u003e\\n\",","       \"      \u003ctd\u003e15290\u003c/td\u003e\\n\",","       \"      \u003ctd\u003e['بي بي سي', 'بي بي سي عربي', 'بي بي سي العربي...\u003c/td\u003e\\n\",","       \"      \u003ctd\u003eمحطم تمثال صدام حسين نادم على فعلته\u003c/td\u003e\\n\",","       \"      \u003ctd\u003e3639135\u003c/td\u003e\\n\",","       \"      \u003ctd\u003e2016-07-06\u003c/td\u003e\\n\",","       \"      \u003ctd\u003e20:18:17\u003c/td\u003e\\n\",","       \"    \u003c/tr\u003e\\n\",","       \"    \u003ctr\u003e\\n\",","       \"      \u003cth\u003e203\u003c/th\u003e\\n\",","       \"      \u003ctd\u003e545\u003c/td\u003e\\n\",","       \"      \u003ctd\u003ear\u003c/td\u003e\\n\",","       \"      \u003ctd\u003e553\u003c/td\u003e\\n\",","       \"      \u003ctd\u003e3M\u003c/td\u003e\\n\",","       \"      \u003ctd\u003e0\u003c/td\u003e\\n\",","       \"      \u003ctd\u003e5552\u003c/td\u003e\\n\",","       \"      \u003ctd\u003e['بي بي سي', 'بي بي سي عربي', 'بي بي سي العربي...\u003c/td\u003e\\n\",","       \"      \u003ctd\u003eبي بي سي تدخل حي 30 تموز بالموصل برفقة قوات ال...\u003c/td\u003e\\n\",","       \"      \u003ctd\u003e916287\u003c/td\u003e\\n\",","       \"      \u003ctd\u003e2017-05-12\u003c/td\u003e\\n\",","       \"      \u003ctd\u003e10:12:52\u003c/td\u003e\\n\",","       \"    \u003c/tr\u003e\\n\",","       \"    \u003ctr\u003e\\n\",","       \"      \u003cth\u003e210\u003c/th\u003e\\n\",","       \"      \u003ctd\u003e349\u003c/td\u003e\\n\",","       \"      \u003ctd\u003ear\u003c/td\u003e\\n\",","       \"      \u003ctd\u003e541\u003c/td\u003e\\n\",","       \"      \u003ctd\u003e2M\u003c/td\u003e\\n\",","       \"      \u003ctd\u003e0\u003c/td\u003e\\n\",","       \"      \u003ctd\u003e3147\u003c/td\u003e\\n\",","       \"      \u003ctd\u003e['بي بي سي', 'بي بي سي عربي', 'بي بي سي العربي...\u003c/td\u003e\\n\",","       \"      \u003ctd\u003eبي بي سي تزور \\\"حفرة الموت\\\" في الموصل\u003c/td\u003e\\n\",","       \"      \u003ctd\u003e914173\u003c/td\u003e\\n\",","       \"      \u003ctd\u003e2017-03-22\u003c/td\u003e\\n\",","       \"      \u003ctd\u003e10:44:32\u003c/td\u003e\\n\",","       \"    \u003c/tr\u003e\\n\",","       \"    \u003ctr\u003e\\n\",","       \"      \u003cth\u003e209\u003c/th\u003e\\n\",","       \"      \u003ctd\u003e860\u003c/td\u003e\\n\",","       \"      \u003ctd\u003ear\u003c/td\u003e\\n\",","       \"      \u003ctd\u003e484\u003c/td\u003e\\n\",","       \"      \u003ctd\u003e4M\u003c/td\u003e\\n\",","       \"      \u003ctd\u003e0\u003c/td\u003e\\n\",","       \"      \u003ctd\u003e8882\u003c/td\u003e\\n\",","       \"      \u003ctd\u003e['بي بي سي', 'بي بي سي عربي', 'بي بي سي العربي...\u003c/td\u003e\\n\",","       \"      \u003ctd\u003eبي بي سي ترافق قناصة الرد السريع إلى الموصل ال...\u003c/td\u003e\\n\",","       \"      \u003ctd\u003e744778\u003c/td\u003e\\n\",","       \"      \u003ctd\u003e2017-03-23\u003c/td\u003e\\n\",","       \"      \u003ctd\u003e17:40:17\u003c/td\u003e\\n\",","       \"    \u003c/tr\u003e\\n\",","       \"  \u003c/tbody\u003e\\n\",","       \"\u003c/table\u003e\\n\",","       \"\u003c/div\u003e\"","      ],","      \"text/plain\": [","       \"     commentCount defaultAudioLanguage  dislikeCount duration  favoriteCount  \\\\\\n\",","       \"251          2833                   ar          1676       2M              0   \\n\",","       \"203           545                   ar           553       3M              0   \\n\",","       \"210           349                   ar           541       2M              0   \\n\",","       \"209           860                   ar           484       4M              0   \\n\",","       \"\\n\",","       \"     likeCount                                               tage  \\\\\\n\",","       \"251      15290  ['بي بي سي', 'بي بي سي عربي', 'بي بي سي العربي...   \\n\",","       \"203       5552  ['بي بي سي', 'بي بي سي عربي', 'بي بي سي العربي...   \\n\",","       \"210       3147  ['بي بي سي', 'بي بي سي عربي', 'بي بي سي العربي...   \\n\",","       \"209       8882  ['بي بي سي', 'بي بي سي عربي', 'بي بي سي العربي...   \\n\",","       \"\\n\",","       \"                                                 title  viewCount        date  \\\\\\n\",","       \"251                محطم تمثال صدام حسين نادم على فعلته    3639135  2016-07-06   \\n\",","       \"203  بي بي سي تدخل حي 30 تموز بالموصل برفقة قوات ال...     916287  2017-05-12   \\n\",","       \"210               بي بي سي تزور \\\"حفرة الموت\\\" في الموصل     914173  2017-03-22   \\n\",","       \"209  بي بي سي ترافق قناصة الرد السريع إلى الموصل ال...     744778  2017-03-23   \\n\",","       \"\\n\",","       \"         time  \\n\",","       \"251  20:18:17  \\n\",","       \"203  10:12:52  \\n\",","       \"210  10:44:32  \\n\",","       \"209  17:40:17  \"","      ]","     },","     \"execution_count\": 44,","     \"metadata\": {},","     \"output_type\": \"execute_result\"","    }","   ],","   \"source\": [","    \"top10active.head(4)\"","   ]","  },","  {","   \"cell_type\": \"markdown\",","   \"metadata\": {},","   \"source\": [","    \"### lets also see the most liked and the most disliked videos\"","   ]","  },","  {","   \"cell_type\": \"code\",","   \"execution_count\": 8,","   \"metadata\": {","    \"collapsed\": true","   },","   \"outputs\": [],","   \"source\": [","    \"top10likes=df.sort_values(by=['likeCount'],ascending=False).head(10)\\n\",","    \"top10dislikes=df.sort_values(by=['dislikeCount'],ascending=False).head(10)\"","   ]","  },","  {","   \"cell_type\": \"code\",","   \"execution_count\": 11,","   \"metadata\": {},","   \"outputs\": [","    {","     \"data\": {","      \"text/html\": [","       \"\u003cdiv\u003e\\n\",","       \"\u003cstyle scoped\u003e\\n\",","       \"    .dataframe tbody tr th:only-of-type {\\n\",","       \"        vertical-align: middle;\\n\",","       \"    }\\n\",","       \"\\n\",","       \"    .dataframe tbody tr th {\\n\",","       \"        vertical-align: top;\\n\",","       \"    }\\n\",","       \"\\n\",","       \"    .dataframe thead th {\\n\",","       \"        text-align: right;\\n\",","       \"    }\\n\",","       \"\u003c/style\u003e\\n\",","       \"\u003ctable border=\\\"1\\\" class=\\\"dataframe\\\"\u003e\\n\",","       \"  \u003cthead\u003e\\n\",","       \"    \u003ctr style=\\\"text-align: right;\\\"\u003e\\n\",","       \"      \u003cth\u003e\u003c/th\u003e\\n\",","       \"      \u003cth\u003ecommentCount\u003c/th\u003e\\n\",","       \"      \u003cth\u003edefaultAudioLanguage\u003c/th\u003e\\n\",","       \"      \u003cth\u003edislikeCount\u003c/th\u003e\\n\",","       \"      \u003cth\u003eduration\u003c/th\u003e\\n\",","       \"      \u003cth\u003efavoriteCount\u003c/th\u003e\\n\",","       \"      \u003cth\u003elikeCount\u003c/th\u003e\\n\",","       \"      \u003cth\u003etage\u003c/th\u003e\\n\",","       \"      \u003cth\u003etitle\u003c/th\u003e\\n\",","       \"      \u003cth\u003eviewCount\u003c/th\u003e\\n\",","       \"      \u003cth\u003edate\u003c/th\u003e\\n\",","       \"      \u003cth\u003etime\u003c/th\u003e\\n\",","       \"    \u003c/tr\u003e\\n\",","       \"  \u003c/thead\u003e\\n\",","       \"  \u003ctbody\u003e\\n\",","       \"    \u003ctr\u003e\\n\",","       \"      \u003cth\u003e251\u003c/th\u003e\\n\",","       \"      \u003ctd\u003e2833\u003c/td\u003e\\n\",","       \"      \u003ctd\u003ear\u003c/td\u003e\\n\",","       \"      \u003ctd\u003e1676\u003c/td\u003e\\n\",","       \"      \u003ctd\u003e2M\u003c/td\u003e\\n\",","       \"      \u003ctd\u003e0\u003c/td\u003e\\n\",","       \"      \u003ctd\u003e15290\u003c/td\u003e\\n\",","       \"      \u003ctd\u003e['بي بي سي', 'بي بي سي عربي', 'بي بي سي العربي...\u003c/td\u003e\\n\",","       \"      \u003ctd\u003eمحطم تمثال صدام حسين نادم على فعلته\u003c/td\u003e\\n\",","       \"      \u003ctd\u003e3639135\u003c/td\u003e\\n\",","       \"      \u003ctd\u003e2016-07-06\u003c/td\u003e\\n\",","       \"      \u003ctd\u003e20:18:17\u003c/td\u003e\\n\",","       \"    \u003c/tr\u003e\\n\",","       \"    \u003ctr\u003e\\n\",","       \"      \u003cth\u003e200\u003c/th\u003e\\n\",","       \"      \u003ctd\u003e1610\u003c/td\u003e\\n\",","       \"      \u003ctd\u003ear\u003c/td\u003e\\n\",","       \"      \u003ctd\u003e1141\u003c/td\u003e\\n\",","       \"      \u003ctd\u003e5M\u003c/td\u003e\\n\",","       \"      \u003ctd\u003e0\u003c/td\u003e\\n\",","       \"      \u003ctd\u003e13232\u003c/td\u003e\\n\",","       \"      \u003ctd\u003e['بي بي سي', 'بي بي سي عربي', 'بي بي سي العربي...\u003c/td\u003e\\n\",","       \"      \u003ctd\u003eكاميرا بي بي سي تحلق فوق الموصل - فيديو بتقنية...\u003c/td\u003e\\n\",","       \"      \u003ctd\u003e737260\u003c/td\u003e\\n\",","       \"      \u003ctd\u003e2017-06-06\u003c/td\u003e\\n\",","       \"      \u003ctd\u003e09:26:06\u003c/td\u003e\\n\",","       \"    \u003c/tr\u003e\\n\",","       \"  \u003c/tbody\u003e\\n\",","       \"\u003c/table\u003e\\n\",","       \"\u003c/div\u003e\"","      ],","      \"text/plain\": [","       \"     commentCount defaultAudioLanguage  dislikeCount duration  favoriteCount  \\\\\\n\",","       \"251          2833                   ar          1676       2M              0   \\n\",","       \"200          1610                   ar          1141       5M              0   \\n\",","       \"\\n\",","       \"     likeCount                                               tage  \\\\\\n\",","       \"251      15290  ['بي بي سي', 'بي بي سي عربي', 'بي بي سي العربي...   \\n\",","       \"200      13232  ['بي بي سي', 'بي بي سي عربي', 'بي بي سي العربي...   \\n\",","       \"\\n\",","       \"                                                 title  viewCount        date  \\\\\\n\",","       \"251                محطم تمثال صدام حسين نادم على فعلته    3639135  2016-07-06   \\n\",","       \"200  كاميرا بي بي سي تحلق فوق الموصل - فيديو بتقنية...     737260  2017-06-06   \\n\",","       \"\\n\",","       \"         time  \\n\",","       \"251  20:18:17  \\n\",","       \"200  09:26:06  \"","      ]","     },","     \"execution_count\": 11,","     \"metadata\": {},","     \"output_type\": \"execute_result\"","    }","   ],","   \"source\": [","    \"top10likes.head(2)\"","   ]","  },","  {","   \"cell_type\": \"code\",","   \"execution_count\": 12,","   \"metadata\": {},","   \"outputs\": [","    {","     \"data\": {","      \"text/html\": [","       \"\u003cdiv\u003e\\n\",","       \"\u003cstyle scoped\u003e\\n\",","       \"    .dataframe tbody tr th:only-of-type {\\n\",","       \"        vertical-align: middle;\\n\",","       \"    }\\n\",","       \"\\n\",","       \"    .dataframe tbody tr th {\\n\",","       \"        vertical-align: top;\\n\",","       \"    }\\n\",","       \"\\n\",","       \"    .dataframe thead th {\\n\",","       \"        text-align: right;\\n\",","       \"    }\\n\",","       \"\u003c/style\u003e\\n\",","       \"\u003ctable border=\\\"1\\\" class=\\\"dataframe\\\"\u003e\\n\",","       \"  \u003cthead\u003e\\n\",","       \"    \u003ctr style=\\\"text-align: right;\\\"\u003e\\n\",","       \"      \u003cth\u003e\u003c/th\u003e\\n\",","       \"      \u003cth\u003ecommentCount\u003c/th\u003e\\n\",","       \"      \u003cth\u003edefaultAudioLanguage\u003c/th\u003e\\n\",","       \"      \u003cth\u003edislikeCount\u003c/th\u003e\\n\",","       \"      \u003cth\u003eduration\u003c/th\u003e\\n\",","       \"      \u003cth\u003efavoriteCount\u003c/th\u003e\\n\",","       \"      \u003cth\u003elikeCount\u003c/th\u003e\\n\",","       \"      \u003cth\u003etage\u003c/th\u003e\\n\",","       \"      \u003cth\u003etitle\u003c/th\u003e\\n\",","       \"      \u003cth\u003eviewCount\u003c/th\u003e\\n\",","       \"      \u003cth\u003edate\u003c/th\u003e\\n\",","       \"      \u003cth\u003etime\u003c/th\u003e\\n\",","       \"    \u003c/tr\u003e\\n\",","       \"  \u003c/thead\u003e\\n\",","       \"  \u003ctbody\u003e\\n\",","       \"    \u003ctr\u003e\\n\",","       \"      \u003cth\u003e251\u003c/th\u003e\\n\",","       \"      \u003ctd\u003e2833\u003c/td\u003e\\n\",","       \"      \u003ctd\u003ear\u003c/td\u003e\\n\",","       \"      \u003ctd\u003e1676\u003c/td\u003e\\n\",","       \"      \u003ctd\u003e2M\u003c/td\u003e\\n\",","       \"      \u003ctd\u003e0\u003c/td\u003e\\n\",","       \"      \u003ctd\u003e15290\u003c/td\u003e\\n\",","       \"      \u003ctd\u003e['بي بي سي', 'بي بي سي عربي', 'بي بي سي العربي...\u003c/td\u003e\\n\",","       \"      \u003ctd\u003eمحطم تمثال صدام حسين نادم على فعلته\u003c/td\u003e\\n\",","       \"      \u003ctd\u003e3639135\u003c/td\u003e\\n\",","       \"      \u003ctd\u003e2016-07-06\u003c/td\u003e\\n\",","       \"      \u003ctd\u003e20:18:17\u003c/td\u003e\\n\",","       \"    \u003c/tr\u003e\\n\",","       \"    \u003ctr\u003e\\n\",","       \"      \u003cth\u003e244\u003c/th\u003e\\n\",","       \"      \u003ctd\u003e956\u003c/td\u003e\\n\",","       \"      \u003ctd\u003ear\u003c/td\u003e\\n\",","       \"      \u003ctd\u003e1422\u003c/td\u003e\\n\",","       \"      \u003ctd\u003e25M\u003c/td\u003e\\n\",","       \"      \u003ctd\u003e0\u003c/td\u003e\\n\",","       \"      \u003ctd\u003e1536\u003c/td\u003e\\n\",","       \"      \u003ctd\u003e['بي بي سي', 'بي بي سي عربي', 'بي بي سي العربي...\u003c/td\u003e\\n\",","       \"      \u003ctd\u003eمقابلة حصرية: الرئيس اليمني السابق ورئيس المؤت...\u003c/td\u003e\\n\",","       \"      \u003ctd\u003e363439\u003c/td\u003e\\n\",","       \"      \u003ctd\u003e2016-12-08\u003c/td\u003e\\n\",","       \"      \u003ctd\u003e17:25:16\u003c/td\u003e\\n\",","       \"    \u003c/tr\u003e\\n\",","       \"  \u003c/tbody\u003e\\n\",","       \"\u003c/table\u003e\\n\",","       \"\u003c/div\u003e\"","      ],","      \"text/plain\": [","       \"     commentCount defaultAudioLanguage  dislikeCount duration  favoriteCount  \\\\\\n\",","       \"251          2833                   ar          1676       2M              0   \\n\",","       \"244           956                   ar          1422      25M              0   \\n\",","       \"\\n\",","       \"     likeCount                                               tage  \\\\\\n\",","       \"251      15290  ['بي بي سي', 'بي بي سي عربي', 'بي بي سي العربي...   \\n\",","       \"244       1536  ['بي بي سي', 'بي بي سي عربي', 'بي بي سي العربي...   \\n\",","       \"\\n\",","       \"                                                 title  viewCount        date  \\\\\\n\",","       \"251                محطم تمثال صدام حسين نادم على فعلته    3639135  2016-07-06   \\n\",","       \"244  مقابلة حصرية: الرئيس اليمني السابق ورئيس المؤت...     363439  2016-12-08   \\n\",","       \"\\n\",","       \"         time  \\n\",","       \"251  20:18:17  \\n\",","       \"244  17:25:16  \"","      ]","     },","     \"execution_count\": 12,","     \"metadata\": {},","     \"output_type\": \"execute_result\"","    }","   ],","   \"source\": [","    \"top10dislikes.head(2)\"","   ]","  },","  {","   \"cell_type\": \"markdown\",","   \"metadata\": {},","   \"source\": [","    \"### Now i wanna see what is the most topic dependant common words that top10active have\"","   ]","  },","  {","   \"cell_type\": \"code\",","   \"execution_count\": 13,","   \"metadata\": {","    \"collapsed\": true","   },","   \"outputs\": [],","   \"source\": [","    \"import nltk\\n\",","    \"from nltk.stem.lancaster import LancasterStemmer\\n\",","    \"# word stemmer\\n\",","    \"stemmer = LancasterStemmer()\\n\",","    \"def get_words(df):\\n\",","    \"    corpus_words = {}\\n\",","    \"    for text in df['title']:\\n\",","    \"        # tokenize each sentence into words\\n\",","    \"        for word in nltk.word_tokenize(text):\\n\",","    \"            # ignore a some things\\n\",","    \"            if word not in [\\\"؟\\\"]:\\n\",","    \"                # stem and lowercase each word\\n\",","    \"                stemmed_word = stemmer.stem(word.lower())\\n\",","    \"                # have we not seen this word already?\\n\",","    \"                if stemmed_word not in corpus_words:\\n\",","    \"                    corpus_words[stemmed_word] = 1\\n\",","    \"                else:\\n\",","    \"                    corpus_words[stemmed_word] += 1\\n\",","    \"    return corpus_words\"","   ]","  },","  {","   \"cell_type\": \"code\",","   \"execution_count\": 14,","   \"metadata\": {},","   \"outputs\": [","    {","     \"data\": {","      \"text/plain\": [","       \"[('بي', 8), ('الموصل', 5), ('سي', 4), ('في', 3), ('من', 3)]\"","      ]","     },","     \"execution_count\": 14,","     \"metadata\": {},","     \"output_type\": \"execute_result\"","    }","   ],","   \"source\": [","    \"corpus=get_words(top10active)\\n\",","    \"from collections import Counter\\n\",","    \"c = Counter(corpus)\\n\",","    \"c.most_common(5)\"","   ]","  },","  {","   \"cell_type\": \"markdown\",","   \"metadata\": {},","   \"source\": [","    \"#### Away from the other words it seems that topics about \\\"الموصل\\\" got  the biggest views and comments\\n\",","    \"#### lets see the precentage \"","   ]","  },","  {","   \"cell_type\": \"code\",","   \"execution_count\": 45,","   \"metadata\": {},","   \"outputs\": [","    {","     \"name\": \"stdout\",","     \"output_type\": \"stream\",","     \"text\": [","      \"كيف تبدو الموصل مع قرب انتهاء العمليات\\n\",","      \"الموصل: جامع النوري قبل ساعات من تدميره\\n\",","      \"كاميرا بي بي سي تحلق فوق الموصل - فيديو بتقنية 360 درجة\\n\",","      \"أسلحة ووثائق لتنظيم \\\"الدولة الإسلامية\\\" في الموصل\\n\",","      \"بي بي سي ترافق القوات الأمريكية داخل الموصل\\n\",","      \"بي بي سي تدخل حي 30 تموز بالموصل برفقة قوات الفرقة المدرعة\\n\",","      \"بي بي سي ترصد قصف القوات العراقية قناص \\\"داعش\\\" داخل مسجد في الموصل القديمة\\n\",","      \"السلطات العراقية تواجه صعوبة في استيعاب نازحين من الموصل\\n\",","      \"وحدة خاصة للطائرات المسيرة للرد على هجمات تنظيم \\\"الدولة الإسلامية\\\" في الموصل\\n\",","      \"بي بي سي ترافق قناصة الرد السريع إلى الموصل القديمة\\n\",","      \"بي بي سي تزور \\\"حفرة الموت\\\" في الموصل\\n\",","      \"ضباط من الجيش العراقي السابق يحاربون إلى جانب تنظيم الدولة الاسلامية في الموصل\\n\",","      \"بي بي سي ترصد الدمار الذي لحق بمدينة الموصل ومتحفها\\n\",","      \"ما هي آخر التطورات في معركة الموصل؟\\n\",","      \"أطفال دون وثائق ولدوا في الموصل بينما كان تنظيم الدولة يسيطر عليها\\n\",","      \"معارك الموصل تتحول إلى حرب شوارع وقودها المدنيون\\n\",","      \"الموصل بعد شهر من المعارك\\n\",","      \"مسيحيو الموصل بين سوء الأوضاع وحلم العودة\\n\"","     ]","    }","   ],","   \"source\": [","    \"reg=r'.*الموصل.*'\\n\",","    \"views=0\\n\",","    \"comments=0\\n\",","    \"for title in df['title']:\\n\",","    \"    if re.match(reg,title):\\n\",","    \"        print(title)\\n\",","    \"        views+=df[df['title']==title]['viewCount'].values[0]\\n\",","    \"        comments+=df[df['title']==title]['commentCount'].values[0]\"","   ]","  },","  {","   \"cell_type\": \"code\",","   \"execution_count\": 18,","   \"metadata\": {},","   \"outputs\": [","    {","     \"name\": \"stdout\",","     \"output_type\": \"stream\",","     \"text\": [","      \"precentage of الموصل topics for total view is 35.881912653388234\\n\",","      \"precentage of الموصل topics for total comments is 29.117982331148472\\n\"","     ]","    }","   ],","   \"source\": [","    \"totals_views=df['viewCount'].sum()\\n\",","    \"total_comments=df['commentCount'].sum()\\n\",","    \"print(\\\"precentage of الموصل topics for total view is\\\",(views/totals_views)*100)\\n\",","    \"print(\\\"precentage of الموصل topics for total comments is\\\",(comments/total_comments)*100)\"","   ]","  },","  {","   \"cell_type\": \"markdown\",","   \"metadata\": {},","   \"source\": [","    \"#### this is actually big precentage for around 280 videos \"","   ]","  },","  {","   \"cell_type\": \"markdown\",","   \"metadata\": {},","   \"source\": [","    \"### now lets look at the performance of the channel with respect to time\"","   ]","  },","  {","   \"cell_type\": \"code\",","   \"execution_count\": 47,","   \"metadata\": {},","   \"outputs\": [","    {","     \"name\": \"stderr\",","     \"output_type\": \"stream\",","     \"text\": [","      \"/home/mogady/anaconda3/lib/python3.6/site-packages/seaborn/categorical.py:1428: FutureWarning: remove_na is deprecated and is a private function. Do not use.\\n\",","      \"  stat_data = remove_na(group_data)\\n\"","     ]","    },","    {","     \"data\": {","      \"text/plain\": [","       \"\u003cmatplotlib.text.Text at 0x7fcc5288a6a0\u003e\"","      ]","     },","     \"execution_count\": 47,","     \"metadata\": {},","     \"output_type\": \"execute_result\"","    },","    {","     \"data\": {","      \"image/png\": \"iVBORw0KGgoAAAANSUhEUgAAAg0AAAF4CAYAAADXH8p7AAAABHNCSVQICAgIfAhkiAAAAAlwSFlz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\\n\",","      \"text/plain\": [","       \"\u003cmatplotlib.figure.Figure at 0x7fcc52b0eb00\u003e\"","      ]","     },","     \"metadata\": {},","     \"output_type\": \"display_data\"","    }","   ],","   \"source\": [","    \"df['date'] = pa.to_datetime(df['date'])\\n\",","    \"df['mnth_yr'] =pa.to_datetime(df['date']).dt.to_period('m')\\n\",","    \"times=df.sort_values(by='mnth_yr',ascending=False).groupby('mnth_yr')['viewCount'].sum()\\n\",","    \"times=times.sort_index()\\n\",","    \"g=sns.pointplot(x=times.keys(),y=times.values,linestyles=\\\"-\\\",markers='o')\\n\",","    \"g.set_xticklabels(labels=times.keys(),rotation=70,)\\n\",","    \"g.set_xlabel(\\\"date\\\")\\n\",","    \"g.set_ylabel(\\\"view Count\\\")\"","   ]","  },","  {","   \"cell_type\": \"markdown\",","   \"metadata\": {},","   \"source\": [","    \"#### away from the fact that this video about \\\"محطم تمثال صدام حسين\\\" having very big views, we can see that at start of 2017 the channel got very good activity \"","   ]","  },","  {","   \"cell_type\": \"markdown\",","   \"metadata\": {},","   \"source\": [","    \"### Now i want to explore variables that might affect the views of video\\n\",","    \"#### 1-duration of video \\n\",","    \"#### 2-title writing style\"","   ]","  },","  {","   \"cell_type\": \"code\",","   \"execution_count\": 26,","   \"metadata\": {},","   \"outputs\": [","    {","     \"data\": {","      \"text/plain\": [","       \"\u003cmatplotlib.axes._subplots.AxesSubplot at 0x7fcc52da57b8\u003e\"","      ]","     },","     \"execution_count\": 26,","     \"metadata\": {},","     \"output_type\": \"execute_result\"","    },","    {","     \"data\": {","      \"image/png\": \"iVBORw0KGgoAAAANSUhEUgAAAfsAAAFjCAYAAAA6vqL8AAAABHNCSVQICAgIfAhkiAAAAAlwSFlz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\\nYII=\\n\",","      \"text/plain\": [","       \"\u003cmatplotlib.figure.Figure at 0x7fcc52dba780\u003e\"","      ]","     },","     \"metadata\": {},","     \"output_type\": \"display_data\"","    }","   ],","   \"source\": [","    \"df.groupby('duration')['viewCount'].sum().sort_values(ascending=False).plot(kind='bar')\"","   ]","  },","  {","   \"cell_type\": \"markdown\",","   \"metadata\": {},","   \"source\": [","    \"#### this graph shows the relation between the duration of the video and the number of views as we can see and as expected the less the duration the more views it got we see videos from range(1M~5M) got the most views\"","   ]","  },","  {","   \"cell_type\": \"markdown\",","   \"metadata\": {},","   \"source\": [","    \"### Now lets see the title i will explore two things \\n\",","    \"#### -first if the title start with question does that attract users to watch or not ?\\n\",","    \"#### -second if the there is an Analogy(تشبيه) in the title does that attract ?\"","   ]","  },","  {","   \"cell_type\": \"code\",","   \"execution_count\": 36,","   \"metadata\": {","    \"collapsed\": true","   },","   \"outputs\": [],","   \"source\": [","    \"def calssf_quo(text):\\n\",","    \"    words=text.split()\\n\",","    \"    if words[0] in ['كيف','هل','لماذا','من','ماذا','من','ما']:\\n\",","    \"        return \\\"Question\\\"\\n\",","    \"    elif re.search(r'.*\\\\?|.*\\\\؟',words[-1]):\\n\",","    \"        return \\\"Question\\\"\\n\",","    \"    else: \\n\",","    \"        return \\\"Not Question\\\"\"","   ]","  },","  {","   \"cell_type\": \"code\",","   \"execution_count\": 34,","   \"metadata\": {},","   \"outputs\": [","    {","     \"name\": \"stdout\",","     \"output_type\": \"stream\",","     \"text\": [","      \"فيلم \\\"صدمة ورعب\\\": لماذا صدّق الاعلام الامريكي تبريرات ادارة بوش الكاذبة لاجتياح العراق؟\\n\",","      \"Question mark\\n\"","     ]","    }","   ],","   \"source\": [","    \"import re\\n\",","    \"text='فيلم \\\"صدمة ورعب\\\": لماذا صدّق الاعلام الامريكي تبريرات ادارة بوش الكاذبة لاجتياح العراق؟'\\n\",","    \"words=text.split()\\n\",","    \"if(re.search(r'.*\\\\?|.*\\\\؟',words[-1])):\\n\",","    \"    print(text)\\n\",","    \"    print('Question mark')\"","   ]","  },","  {","   \"cell_type\": \"code\",","   \"execution_count\": 37,","   \"metadata\": {},","   \"outputs\": [],","   \"source\": [","    \"df['question']=df['title'].apply(lambda x:calssf_quo(x))\"","   ]","  },","  {","   \"cell_type\": \"code\",","   \"execution_count\": 48,","   \"metadata\": {","    \"scrolled\": true","   },","   \"outputs\": [","    {","     \"data\": {","      \"text/plain\": [","       \"\u003cmatplotlib.text.Text at 0x7fcc5269d908\u003e\"","      ]","     },","     \"execution_count\": 48,","     \"metadata\": {},","     \"output_type\": \"execute_result\"","    },","    {","     \"data\": {","      \"image/png\": \"iVBORw0KGgoAAAANSUhEUgAAAf0AAAGICAYAAABLIzn6AAAABHNCSVQICAgIfAhkiAAAAAlwSFlz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\\nKH0AAAyC0gcAwCAofQAADILSBwDAIP4XCyvat258IawAAAAASUVORK5CYII=\\n\",","      \"text/plain\": [","       \"\u003cmatplotlib.figure.Figure at 0x7fcc52982ba8\u003e\"","      ]","     },","     \"metadata\": {},","     \"output_type\": \"display_data\"","    }","   ],","   \"source\": [","    \"graph=df.groupby('question')['viewCount'].mean().plot(kind='bar')\\n\",","    \"graph.set_ylabel(\\\"Mean(view Count)\\\")\"","   ]","  },","  {","   \"cell_type\": \"code\",","   \"execution_count\": 39,","   \"metadata\": {},","   \"outputs\": [","    {","     \"name\": \"stderr\",","     \"output_type\": \"stream\",","     \"text\": [","      \"/home/mogady/anaconda3/lib/python3.6/site-packages/seaborn/categorical.py:1428: FutureWarning: remove_na is deprecated and is a private function. Do not use.\\n\",","      \"  stat_data = remove_na(group_data)\\n\"","     ]","    },","    {","     \"data\": {","      \"text/plain\": [","       \"\u003cmatplotlib.axes._subplots.AxesSubplot at 0x7fcc52b31588\u003e\"","      ]","     },","     \"execution_count\": 39,","     \"metadata\": {},","     \"output_type\": \"execute_result\"","    },","    {","     \"data\": {","      \"image/png\": \"iVBORw0KGgoAAAANSUhEUgAAAfIAAAFYCAYAAACoFn5YAAAABHNCSVQICAgIfAhkiAAAAAlwSFlz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\\n\",","      \"text/plain\": [","       \"\u003cmatplotlib.figure.Figure at 0x7fcc52aa9cc0\u003e\"","      ]","     },","     \"metadata\": {},","     \"output_type\": \"display_data\"","    }","   ],","   \"source\": [","    \"sns.countplot(x='question',data=df)\"","   ]","  },","  {","   \"cell_type\": \"markdown\",","   \"metadata\": {},","   \"source\": [","    \"#### we see from the two graphs above that videos with question style dosn't improve the views count it actually  might be bad for it (user might feel boring)\"","   ]","  },","  {","   \"cell_type\": \"code\",","   \"execution_count\": 28,","   \"metadata\": {},","   \"outputs\": [","    {","     \"data\": {","      \"text/plain\": [","       \"['\\\"صدمة ورعب\\\"']\"","      ]","     },","     \"execution_count\": 28,","     \"metadata\": {},","     \"output_type\": \"execute_result\"","    }","   ],","   \"source\": [","    \"text='فيلم \\\"صدمة ورعب\\\": لماذا صدّق الاعلام الامريكي تبريرات ادارة بوش الكاذبة لاجتياح العراق؟'\\n\",","    \"re.findall(r'\\\".+\\\"',text)\"","   ]","  },","  {","   \"cell_type\": \"code\",","   \"execution_count\": 29,","   \"metadata\": {},","   \"outputs\": [],","   \"source\": [","    \"df['quotations']=df['title'].apply(lambda x:re.findall(r'\\\".+\\\"',x))\"","   ]","  },","  {","   \"cell_type\": \"code\",","   \"execution_count\": 30,","   \"metadata\": {},","   \"outputs\": [],","   \"source\": [","    \"df['quotations']=df['quotations'].apply(lambda x:\\\"quo\\\" if len(x)\u003e0 else \\\"no quo\\\")\"","   ]","  },","  {","   \"cell_type\": \"code\",","   \"execution_count\": 31,","   \"metadata\": {},","   \"outputs\": [","    {","     \"data\": {","      \"text/html\": [","       \"\u003cdiv\u003e\\n\",","       \"\u003cstyle scoped\u003e\\n\",","       \"    .dataframe tbody tr th:only-of-type {\\n\",","       \"        vertical-align: middle;\\n\",","       \"    }\\n\",","       \"\\n\",","       \"    .dataframe tbody tr th {\\n\",","       \"        vertical-align: top;\\n\",","       \"    }\\n\",","       \"\\n\",","       \"    .dataframe thead th {\\n\",","       \"        text-align: right;\\n\",","       \"    }\\n\",","       \"\u003c/style\u003e\\n\",","       \"\u003ctable border=\\\"1\\\" class=\\\"dataframe\\\"\u003e\\n\",","       \"  \u003cthead\u003e\\n\",","       \"    \u003ctr style=\\\"text-align: right;\\\"\u003e\\n\",","       \"      \u003cth\u003e\u003c/th\u003e\\n\",","       \"      \u003cth\u003ecommentCount\u003c/th\u003e\\n\",","       \"      \u003cth\u003edefaultAudioLanguage\u003c/th\u003e\\n\",","       \"      \u003cth\u003edislikeCount\u003c/th\u003e\\n\",","       \"      \u003cth\u003eduration\u003c/th\u003e\\n\",","       \"      \u003cth\u003efavoriteCount\u003c/th\u003e\\n\",","       \"      \u003cth\u003elikeCount\u003c/th\u003e\\n\",","       \"      \u003cth\u003etage\u003c/th\u003e\\n\",","       \"      \u003cth\u003etitle\u003c/th\u003e\\n\",","       \"      \u003cth\u003eviewCount\u003c/th\u003e\\n\",","       \"      \u003cth\u003edate\u003c/th\u003e\\n\",","       \"      \u003cth\u003etime\u003c/th\u003e\\n\",","       \"      \u003cth\u003emnth_yr\u003c/th\u003e\\n\",","       \"      \u003cth\u003equotations\u003c/th\u003e\\n\",","       \"    \u003c/tr\u003e\\n\",","       \"  \u003c/thead\u003e\\n\",","       \"  \u003ctbody\u003e\\n\",","       \"    \u003ctr\u003e\\n\",","       \"      \u003cth\u003e0\u003c/th\u003e\\n\",","       \"      \u003ctd\u003e4\u003c/td\u003e\\n\",","       \"      \u003ctd\u003ear\u003c/td\u003e\\n\",","       \"      \u003ctd\u003e3\u003c/td\u003e\\n\",","       \"      \u003ctd\u003e10M\u003c/td\u003e\\n\",","       \"      \u003ctd\u003e0\u003c/td\u003e\\n\",","       \"      \u003ctd\u003e27\u003c/td\u003e\\n\",","       \"      \u003ctd\u003e['بي بي سي', 'بي بي سي عربي', 'بي بي سي العربي...\u003c/td\u003e\\n\",","       \"      \u003ctd\u003eرئيس استوديوهات هارفيل يكشف عن التحضير لصنع في...\u003c/td\u003e\\n\",","       \"      \u003ctd\u003e886\u003c/td\u003e\\n\",","       \"      \u003ctd\u003e2018-07-26\u003c/td\u003e\\n\",","       \"      \u003ctd\u003e07:42:44\u003c/td\u003e\\n\",","       \"      \u003ctd\u003e2018-07\u003c/td\u003e\\n\",","       \"      \u003ctd\u003eno quo\u003c/td\u003e\\n\",","       \"    \u003c/tr\u003e\\n\",","       \"    \u003ctr\u003e\\n\",","       \"      \u003cth\u003e1\u003c/th\u003e\\n\",","       \"      \u003ctd\u003e3\u003c/td\u003e\\n\",","       \"      \u003ctd\u003ear\u003c/td\u003e\\n\",","       \"      \u003ctd\u003e5\u003c/td\u003e\\n\",","       \"      \u003ctd\u003e10M\u003c/td\u003e\\n\",","       \"      \u003ctd\u003e0\u003c/td\u003e\\n\",","       \"      \u003ctd\u003e14\u003c/td\u003e\\n\",","       \"      \u003ctd\u003e['بي بي سي', 'بي بي سي عربي', 'بي بي سي العربي...\u003c/td\u003e\\n\",","       \"      \u003ctd\u003eعلي صوفان، عميل الأف بي آي اللبناني الاصل، يتح...\u003c/td\u003e\\n\",","       \"      \u003ctd\u003e790\u003c/td\u003e\\n\",","       \"      \u003ctd\u003e2018-07-23\u003c/td\u003e\\n\",","       \"      \u003ctd\u003e06:07:41\u003c/td\u003e\\n\",","       \"      \u003ctd\u003e2018-07\u003c/td\u003e\\n\",","       \"      \u003ctd\u003eno quo\u003c/td\u003e\\n\",","       \"    \u003c/tr\u003e\\n\",","       \"    \u003ctr\u003e\\n\",","       \"      \u003cth\u003e2\u003c/th\u003e\\n\",","       \"      \u003ctd\u003e8\u003c/td\u003e\\n\",","       \"      \u003ctd\u003ear\u003c/td\u003e\\n\",","       \"      \u003ctd\u003e6\u003c/td\u003e\\n\",","       \"      \u003ctd\u003e10M\u003c/td\u003e\\n\",","       \"      \u003ctd\u003e0\u003c/td\u003e\\n\",","       \"      \u003ctd\u003e44\u003c/td\u003e\\n\",","       \"      \u003ctd\u003e['بي بي سي', 'بي بي سي عربي', 'بي بي سي العربي...\u003c/td\u003e\\n\",","       \"      \u003ctd\u003eهل حقا أن النجم الاسباني انطونيو بانديراس ينحد...\u003c/td\u003e\\n\",","       \"      \u003ctd\u003e2580\u003c/td\u003e\\n\",","       \"      \u003ctd\u003e2018-07-19\u003c/td\u003e\\n\",","       \"      \u003ctd\u003e12:40:12\u003c/td\u003e\\n\",","       \"      \u003ctd\u003e2018-07\u003c/td\u003e\\n\",","       \"      \u003ctd\u003eno quo\u003c/td\u003e\\n\",","       \"    \u003c/tr\u003e\\n\",","       \"    \u003ctr\u003e\\n\",","       \"      \u003cth\u003e3\u003c/th\u003e\\n\",","       \"      \u003ctd\u003e26\u003c/td\u003e\\n\",","       \"      \u003ctd\u003ear\u003c/td\u003e\\n\",","       \"      \u003ctd\u003e5\u003c/td\u003e\\n\",","       \"      \u003ctd\u003e9M\u003c/td\u003e\\n\",","       \"      \u003ctd\u003e0\u003c/td\u003e\\n\",","       \"      \u003ctd\u003e92\u003c/td\u003e\\n\",","       \"      \u003ctd\u003e['بي بي سي', 'بي بي سي عربي', 'روب راينر', 'صد...\u003c/td\u003e\\n\",","       \"      \u003ctd\u003eفيلم \\\"صدمة ورعب\\\": لماذا صدّق الاعلام الامريكي ...\u003c/td\u003e\\n\",","       \"      \u003ctd\u003e3027\u003c/td\u003e\\n\",","       \"      \u003ctd\u003e2018-07-16\u003c/td\u003e\\n\",","       \"      \u003ctd\u003e10:07:10\u003c/td\u003e\\n\",","       \"      \u003ctd\u003e2018-07\u003c/td\u003e\\n\",","       \"      \u003ctd\u003equo\u003c/td\u003e\\n\",","       \"    \u003c/tr\u003e\\n\",","       \"    \u003ctr\u003e\\n\",","       \"      \u003cth\u003e4\u003c/th\u003e\\n\",","       \"      \u003ctd\u003e1\u003c/td\u003e\\n\",","       \"      \u003ctd\u003ear\u003c/td\u003e\\n\",","       \"      \u003ctd\u003e4\u003c/td\u003e\\n\",","       \"      \u003ctd\u003e10M\u003c/td\u003e\\n\",","       \"      \u003ctd\u003e0\u003c/td\u003e\\n\",","       \"      \u003ctd\u003e23\u003c/td\u003e\\n\",","       \"      \u003ctd\u003e['بي بي سي عربي', 'بي بي سي اخبار', 'حسام عاصي...\u003c/td\u003e\\n\",","       \"      \u003ctd\u003eهل عملاء السي آي آى الذين يسربون معلومات سرية ...\u003c/td\u003e\\n\",","       \"      \u003ctd\u003e760\u003c/td\u003e\\n\",","       \"      \u003ctd\u003e2018-07-12\u003c/td\u003e\\n\",","       \"      \u003ctd\u003e09:01:37\u003c/td\u003e\\n\",","       \"      \u003ctd\u003e2018-07\u003c/td\u003e\\n\",","       \"      \u003ctd\u003eno quo\u003c/td\u003e\\n\",","       \"    \u003c/tr\u003e\\n\",","       \"    \u003ctr\u003e\\n\",","       \"      \u003cth\u003e5\u003c/th\u003e\\n\",","       \"      \u003ctd\u003e5\u003c/td\u003e\\n\",","       \"      \u003ctd\u003ear\u003c/td\u003e\\n\",","       \"      \u003ctd\u003e5\u003c/td\u003e\\n\",","       \"      \u003ctd\u003e10M\u003c/td\u003e\\n\",","       \"      \u003ctd\u003e0\u003c/td\u003e\\n\",","       \"      \u003ctd\u003e54\u003c/td\u003e\\n\",","       \"      \u003ctd\u003e['بي بي سي', 'بي بي سي عربي', 'حسام عاصي', 'هو...\u003c/td\u003e\\n\",","       \"      \u003ctd\u003eهل يمكن لاستوديوهات هوليوود أن تبقى على قيد ال...\u003c/td\u003e\\n\",","       \"      \u003ctd\u003e2581\u003c/td\u003e\\n\",","       \"      \u003ctd\u003e2018-07-09\u003c/td\u003e\\n\",","       \"      \u003ctd\u003e05:08:55\u003c/td\u003e\\n\",","       \"      \u003ctd\u003e2018-07\u003c/td\u003e\\n\",","       \"      \u003ctd\u003eno quo\u003c/td\u003e\\n\",","       \"    \u003c/tr\u003e\\n\",","       \"    \u003ctr\u003e\\n\",","       \"      \u003cth\u003e6\u003c/th\u003e\\n\",","       \"      \u003ctd\u003e5\u003c/td\u003e\\n\",","       \"      \u003ctd\u003ear\u003c/td\u003e\\n\",","       \"      \u003ctd\u003e7\u003c/td\u003e\\n\",","       \"      \u003ctd\u003e10M\u003c/td\u003e\\n\",","       \"      \u003ctd\u003e0\u003c/td\u003e\\n\",","       \"      \u003ctd\u003e40\u003c/td\u003e\\n\",","       \"      \u003ctd\u003e['بي بي سي', 'بي بي سي عربي', 'بي بي سي العربي...\u003c/td\u003e\\n\",","       \"      \u003ctd\u003eلماذا كانت 2017 الاسوأ لهوليوود والافضل للعرب ...\u003c/td\u003e\\n\",","       \"      \u003ctd\u003e1972\u003c/td\u003e\\n\",","       \"      \u003ctd\u003e2018-07-04\u003c/td\u003e\\n\",","       \"      \u003ctd\u003e05:28:38\u003c/td\u003e\\n\",","       \"      \u003ctd\u003e2018-07\u003c/td\u003e\\n\",","       \"      \u003ctd\u003eno quo\u003c/td\u003e\\n\",","       \"    \u003c/tr\u003e\\n\",","       \"    \u003ctr\u003e\\n\",","       \"      \u003cth\u003e7\u003c/th\u003e\\n\",","       \"      \u003ctd\u003e9\u003c/td\u003e\\n\",","       \"      \u003ctd\u003ear\u003c/td\u003e\\n\",","       \"      \u003ctd\u003e4\u003c/td\u003e\\n\",","       \"      \u003ctd\u003e10M\u003c/td\u003e\\n\",","       \"      \u003ctd\u003e0\u003c/td\u003e\\n\",","       \"      \u003ctd\u003e49\u003c/td\u003e\\n\",","       \"      \u003ctd\u003e['بي بي سي', 'بي بي سي عربي', 'بي بي سي العربي...\u003c/td\u003e\\n\",","       \"      \u003ctd\u003eمن هم السينمائيون العرب الذين تلقوا دعوات للان...\u003c/td\u003e\\n\",","       \"      \u003ctd\u003e1865\u003c/td\u003e\\n\",","       \"      \u003ctd\u003e2018-07-02\u003c/td\u003e\\n\",","       \"      \u003ctd\u003e06:14:14\u003c/td\u003e\\n\",","       \"      \u003ctd\u003e2018-07\u003c/td\u003e\\n\",","       \"      \u003ctd\u003eno quo\u003c/td\u003e\\n\",","       \"    \u003c/tr\u003e\\n\",","       \"    \u003ctr\u003e\\n\",","       \"      \u003cth\u003e8\u003c/th\u003e\\n\",","       \"      \u003ctd\u003e11\u003c/td\u003e\\n\",","       \"      \u003ctd\u003ear\u003c/td\u003e\\n\",","       \"      \u003ctd\u003e6\u003c/td\u003e\\n\",","       \"      \u003ctd\u003e10M\u003c/td\u003e\\n\",","       \"      \u003ctd\u003e0\u003c/td\u003e\\n\",","       \"      \u003ctd\u003e32\u003c/td\u003e\\n\",","       \"      \u003ctd\u003e['بي بي سي', 'بي بي سي عربي', 'اخبار البي بي س...\u003c/td\u003e\\n\",","       \"      \u003ctd\u003eكيف تنبأ الكاتب لورنس رايت باحداث سبتمبر ١١ في...\u003c/td\u003e\\n\",","       \"      \u003ctd\u003e1210\u003c/td\u003e\\n\",","       \"      \u003ctd\u003e2018-06-28\u003c/td\u003e\\n\",","       \"      \u003ctd\u003e06:25:53\u003c/td\u003e\\n\",","       \"      \u003ctd\u003e2018-06\u003c/td\u003e\\n\",","       \"      \u003ctd\u003equo\u003c/td\u003e\\n\",","       \"    \u003c/tr\u003e\\n\",","       \"    \u003ctr\u003e\\n\",","       \"      \u003cth\u003e9\u003c/th\u003e\\n\",","       \"      \u003ctd\u003e1\u003c/td\u003e\\n\",","       \"      \u003ctd\u003ear\u003c/td\u003e\\n\",","       \"      \u003ctd\u003e1\u003c/td\u003e\\n\",","       \"      \u003ctd\u003e10M\u003c/td\u003e\\n\",","       \"      \u003ctd\u003e0\u003c/td\u003e\\n\",","       \"      \u003ctd\u003e5\u003c/td\u003e\\n\",","       \"      \u003ctd\u003e['بي بي سي', 'بي بي سي عربي', 'بي بي سي العربي...\u003c/td\u003e\\n\",","       \"      \u003ctd\u003eلماذا فشل سولو-قصة حرب نجوم في شباك التذاكر؟\u003c/td\u003e\\n\",","       \"      \u003ctd\u003e548\u003c/td\u003e\\n\",","       \"      \u003ctd\u003e2018-06-26\u003c/td\u003e\\n\",","       \"      \u003ctd\u003e06:31:37\u003c/td\u003e\\n\",","       \"      \u003ctd\u003e2018-06\u003c/td\u003e\\n\",","       \"      \u003ctd\u003eno quo\u003c/td\u003e\\n\",","       \"    \u003c/tr\u003e\\n\",","       \"    \u003ctr\u003e\\n\",","       \"      \u003cth\u003e10\u003c/th\u003e\\n\",","       \"      \u003ctd\u003e15\u003c/td\u003e\\n\",","       \"      \u003ctd\u003ear\u003c/td\u003e\\n\",","       \"      \u003ctd\u003e1\u003c/td\u003e\\n\",","       \"      \u003ctd\u003e10M\u003c/td\u003e\\n\",","       \"      \u003ctd\u003e0\u003c/td\u003e\\n\",","       \"      \u003ctd\u003e91\u003c/td\u003e\\n\",","       \"      \u003ctd\u003e['بي بي سي', 'بي بي سي عربي', 'بي بي سي العربي...\u003c/td\u003e\\n\",","       \"      \u003ctd\u003eاليكس غيبني، اهم مخرج وثائقي امريكي، يتحدث عن ...\u003c/td\u003e\\n\",","       \"      \u003ctd\u003e2401\u003c/td\u003e\\n\",","       \"      \u003ctd\u003e2018-06-25\u003c/td\u003e\\n\",","       \"      \u003ctd\u003e06:59:49\u003c/td\u003e\\n\",","       \"      \u003ctd\u003e2018-06\u003c/td\u003e\\n\",","       \"      \u003ctd\u003eno quo\u003c/td\u003e\\n\",","       \"    \u003c/tr\u003e\\n\",","       \"    \u003ctr\u003e\\n\",","       \"      \u003cth\u003e11\u003c/th\u003e\\n\",","       \"      \u003ctd\u003e5\u003c/td\u003e\\n\",","       \"      \u003ctd\u003ear\u003c/td\u003e\\n\",","       \"      \u003ctd\u003e5\u003c/td\u003e\\n\",","       \"      \u003ctd\u003e10M\u003c/td\u003e\\n\",","       \"      \u003ctd\u003e0\u003c/td\u003e\\n\",","       \"      \u003ctd\u003e18\u003c/td\u003e\\n\",","       \"      \u003ctd\u003e['بي بي سي', 'بي بي سي عربي', 'بي بي سي العربي...\u003c/td\u003e\\n\",","       \"      \u003ctd\u003eهيفاء المنصور: من السعودية الى هوليوود\u003c/td\u003e\\n\",","       \"      \u003ctd\u003e926\u003c/td\u003e\\n\",","       \"      \u003ctd\u003e2018-06-19\u003c/td\u003e\\n\",","       \"      \u003ctd\u003e10:01:42\u003c/td\u003e\\n\",","       \"      \u003ctd\u003e2018-06\u003c/td\u003e\\n\",","       \"      \u003ctd\u003eno quo\u003c/td\u003e\\n\",","       \"    \u003c/tr\u003e\\n\",","       \"    \u003ctr\u003e\\n\",","       \"      \u003cth\u003e12\u003c/th\u003e\\n\",","       \"      \u003ctd\u003e2\u003c/td\u003e\\n\",","       \"      \u003ctd\u003ear\u003c/td\u003e\\n\",","       \"      \u003ctd\u003e3\u003c/td\u003e\\n\",","       \"      \u003ctd\u003e9M\u003c/td\u003e\\n\",","       \"      \u003ctd\u003e0\u003c/td\u003e\\n\",","       \"      \u003ctd\u003e12\u003c/td\u003e\\n\",","       \"      \u003ctd\u003e['بي بي سي', 'بي بي سي عربي', 'بي بي سي العربي...\u003c/td\u003e\\n\",","       \"      \u003ctd\u003eهل ستعود نجمة لعبة العروش ايمليا كلارك الى فيل...\u003c/td\u003e\\n\",","       \"      \u003ctd\u003e853\u003c/td\u003e\\n\",","       \"      \u003ctd\u003e2018-06-20\u003c/td\u003e\\n\",","       \"      \u003ctd\u003e17:09:44\u003c/td\u003e\\n\",","       \"      \u003ctd\u003e2018-06\u003c/td\u003e\\n\",","       \"      \u003ctd\u003eno quo\u003c/td\u003e\\n\",","       \"    \u003c/tr\u003e\\n\",","       \"    \u003ctr\u003e\\n\",","       \"      \u003cth\u003e13\u003c/th\u003e\\n\",","       \"      \u003ctd\u003e2\u003c/td\u003e\\n\",","       \"      \u003ctd\u003ear\u003c/td\u003e\\n\",","       \"      \u003ctd\u003e8\u003c/td\u003e\\n\",","       \"      \u003ctd\u003e\u0026lt;1M\u003c/td\u003e\\n\",","       \"      \u003ctd\u003e0\u003c/td\u003e\\n\",","       \"      \u003ctd\u003e13\u003c/td\u003e\\n\",","       \"      \u003ctd\u003e['بي بي سي', 'بي بي سي عربي', 'بي بي سي العربي...\u003c/td\u003e\\n\",","       \"      \u003ctd\u003eماذا تريد النساء في هوليوود؟\u003c/td\u003e\\n\",","       \"      \u003ctd\u003e993\u003c/td\u003e\\n\",","       \"      \u003ctd\u003e2018-06-22\u003c/td\u003e\\n\",","       \"      \u003ctd\u003e16:39:18\u003c/td\u003e\\n\",","       \"      \u003ctd\u003e2018-06\u003c/td\u003e\\n\",","       \"      \u003ctd\u003eno quo\u003c/td\u003e\\n\",","       \"    \u003c/tr\u003e\\n\",","       \"    \u003ctr\u003e\\n\",","       \"      \u003cth\u003e14\u003c/th\u003e\\n\",","       \"      \u003ctd\u003e1\u003c/td\u003e\\n\",","       \"      \u003ctd\u003ear\u003c/td\u003e\\n\",","       \"      \u003ctd\u003e2\u003c/td\u003e\\n\",","       \"      \u003ctd\u003e\u0026lt;1M\u003c/td\u003e\\n\",","       \"      \u003ctd\u003e0\u003c/td\u003e\\n\",","       \"      \u003ctd\u003e20\u003c/td\u003e\\n\",","       \"      \u003ctd\u003e['بي بي سي', 'بي بي سي عربي', 'بي بي سي العربي...\u003c/td\u003e\\n\",","       \"      \u003ctd\u003eصندوق النغم مع ناهد نجار وون هو تشونغ\u003c/td\u003e\\n\",","       \"      \u003ctd\u003e1794\u003c/td\u003e\\n\",","       \"      \u003ctd\u003e2018-02-22\u003c/td\u003e\\n\",","       \"      \u003ctd\u003e15:47:07\u003c/td\u003e\\n\",","       \"      \u003ctd\u003e2018-02\u003c/td\u003e\\n\",","       \"      \u003ctd\u003eno quo\u003c/td\u003e\\n\",","       \"    \u003c/tr\u003e\\n\",","       \"    \u003ctr\u003e\\n\",","       \"      \u003cth\u003e15\u003c/th\u003e\\n\",","       \"      \u003ctd\u003e2\u003c/td\u003e\\n\",","       \"      \u003ctd\u003ear\u003c/td\u003e\\n\",","       \"      \u003ctd\u003e6\u003c/td\u003e\\n\",","       \"      \u003ctd\u003e1M\u003c/td\u003e\\n\",","       \"      \u003ctd\u003e0\u003c/td\u003e\\n\",","       \"      \u003ctd\u003e12\u003c/td\u003e\\n\",","       \"      \u003ctd\u003e['بي بي سي', 'بي بي سي عربي', 'بي بي سي العربي...\u003c/td\u003e\\n\",","       \"      \u003ctd\u003eصندوق النغم: فنان كوري يغني بالعربي\u003c/td\u003e\\n\",","       \"      \u003ctd\u003e1273\u003c/td\u003e\\n\",","       \"      \u003ctd\u003e2018-02-22\u003c/td\u003e\\n\",","       \"      \u003ctd\u003e15:53:49\u003c/td\u003e\\n\",","       \"      \u003ctd\u003e2018-02\u003c/td\u003e\\n\",","       \"      \u003ctd\u003eno quo\u003c/td\u003e\\n\",","       \"    \u003c/tr\u003e\\n\",","       \"    \u003ctr\u003e\\n\",","       \"      \u003cth\u003e16\u003c/th\u003e\\n\",","       \"      \u003ctd\u003e3\u003c/td\u003e\\n\",","       \"      \u003ctd\u003een-GB\u003c/td\u003e\\n\",","       \"      \u003ctd\u003e44\u003c/td\u003e\\n\",","       \"      \u003ctd\u003e\u0026lt;1M\u003c/td\u003e\\n\",","       \"      \u003ctd\u003e0\u003c/td\u003e\\n\",","       \"      \u003ctd\u003e51\u003c/td\u003e\\n\",","       \"      \u003ctd\u003e['Royal Opera House', 'London', 'opera', 'musi...\u003c/td\u003e\\n\",","       \"      \u003ctd\u003eCarmen Cinema Trailer\u003c/td\u003e\\n\",","       \"      \u003ctd\u003e28571\u003c/td\u003e\\n\",","       \"      \u003ctd\u003e2018-01-09\u003c/td\u003e\\n\",","       \"      \u003ctd\u003e12:58:11\u003c/td\u003e\\n\",","       \"      \u003ctd\u003e2018-01\u003c/td\u003e\\n\",","       \"      \u003ctd\u003eno quo\u003c/td\u003e\\n\",","       \"    \u003c/tr\u003e\\n\",","       \"    \u003ctr\u003e\\n\",","       \"      \u003cth\u003e17\u003c/th\u003e\\n\",","       \"      \u003ctd\u003e0\u003c/td\u003e\\n\",","       \"      \u003ctd\u003ear\u003c/td\u003e\\n\",","       \"      \u003ctd\u003e2\u003c/td\u003e\\n\",","       \"      \u003ctd\u003e25M\u003c/td\u003e\\n\",","       \"      \u003ctd\u003e0\u003c/td\u003e\\n\",","       \"      \u003ctd\u003e21\u003c/td\u003e\\n\",","       \"      \u003ctd\u003e['بي بي سي', 'بي بي سي عربي', 'بي بي سي العربي...\u003c/td\u003e\\n\",","       \"      \u003ctd\u003eالموسم الثاني من برنامج مصاريف: الحلقة الأولى\u003c/td\u003e\\n\",","       \"      \u003ctd\u003e1527\u003c/td\u003e\\n\",","       \"      \u003ctd\u003e2017-10-25\u003c/td\u003e\\n\",","       \"      \u003ctd\u003e17:31:16\u003c/td\u003e\\n\",","       \"      \u003ctd\u003e2017-10\u003c/td\u003e\\n\",","       \"      \u003ctd\u003eno quo\u003c/td\u003e\\n\",","       \"    \u003c/tr\u003e\\n\",","       \"    \u003ctr\u003e\\n\",","       \"      \u003cth\u003e18\u003c/th\u003e\\n\",","       \"      \u003ctd\u003e123\u003c/td\u003e\\n\",","       \"      \u003ctd\u003ear\u003c/td\u003e\\n\",","       \"      \u003ctd\u003e37\u003c/td\u003e\\n\",","       \"      \u003ctd\u003e6M\u003c/td\u003e\\n\",","       \"      \u003ctd\u003e0\u003c/td\u003e\\n\",","       \"      \u003ctd\u003e154\u003c/td\u003e\\n\",","       \"      \u003ctd\u003e['بي بي سي', 'بي بي سي عربي', 'بي بي سي العربي...\u003c/td\u003e\\n\",","       \"      \u003ctd\u003eبي_بي_سي_ترندينغ | تصريحات عبد القادر #مساهل ت...\u003c/td\u003e\\n\",","       \"      \u003ctd\u003e36631\u003c/td\u003e\\n\",","       \"      \u003ctd\u003e2017-10-23\u003c/td\u003e\\n\",","       \"      \u003ctd\u003e17:58:52\u003c/td\u003e\\n\",","       \"      \u003ctd\u003e2017-10\u003c/td\u003e\\n\",","       \"      \u003ctd\u003eno quo\u003c/td\u003e\\n\",","       \"    \u003c/tr\u003e\\n\",","       \"    \u003ctr\u003e\\n\",","       \"      \u003cth\u003e19\u003c/th\u003e\\n\",","       \"      \u003ctd\u003e1\u003c/td\u003e\\n\",","       \"      \u003ctd\u003ear\u003c/td\u003e\\n\",","       \"      \u003ctd\u003e4\u003c/td\u003e\\n\",","       \"      \u003ctd\u003e4M\u003c/td\u003e\\n\",","       \"      \u003ctd\u003e0\u003c/td\u003e\\n\",","       \"      \u003ctd\u003e14\u003c/td\u003e\\n\",","       \"      \u003ctd\u003e['بي بي سي', 'بي بي سي عربي', 'بي بي سي العربي...\u003c/td\u003e\\n\",","       \"      \u003ctd\u003eبي_بي_سي_ترندينغ | افراج السلطات البحرينية عن ...\u003c/td\u003e\\n\",","       \"      \u003ctd\u003e1461\u003c/td\u003e\\n\",","       \"      \u003ctd\u003e2017-10-23\u003c/td\u003e\\n\",","       \"      \u003ctd\u003e17:25:32\u003c/td\u003e\\n\",","       \"      \u003ctd\u003e2017-10\u003c/td\u003e\\n\",","       \"      \u003ctd\u003eno quo\u003c/td\u003e\\n\",","       \"    \u003c/tr\u003e\\n\",","       \"    \u003ctr\u003e\\n\",","       \"      \u003cth\u003e20\u003c/th\u003e\\n\",","       \"      \u003ctd\u003e0\u003c/td\u003e\\n\",","       \"      \u003ctd\u003ear\u003c/td\u003e\\n\",","       \"      \u003ctd\u003e1\u003c/td\u003e\\n\",","       \"      \u003ctd\u003e5M\u003c/td\u003e\\n\",","       \"      \u003ctd\u003e0\u003c/td\u003e\\n\",","       \"      \u003ctd\u003e10\u003c/td\u003e\\n\",","       \"      \u003ctd\u003e['بي بي سي', 'بي بي سي عربي', 'بي بي سي العربي...\u003c/td\u003e\\n\",","       \"      \u003ctd\u003eبي_بي_سي_ترندينغ | محاولة انتحار في أصفهان؛ وا...\u003c/td\u003e\\n\",","       \"      \u003ctd\u003e1085\u003c/td\u003e\\n\",","       \"      \u003ctd\u003e2017-10-23\u003c/td\u003e\\n\",","       \"      \u003ctd\u003e17:30:03\u003c/td\u003e\\n\",","       \"      \u003ctd\u003e2017-10\u003c/td\u003e\\n\",","       \"      \u003ctd\u003eno quo\u003c/td\u003e\\n\",","       \"    \u003c/tr\u003e\\n\",","       \"    \u003ctr\u003e\\n\",","       \"      \u003cth\u003e21\u003c/th\u003e\\n\",","       \"      \u003ctd\u003e1\u003c/td\u003e\\n\",","       \"      \u003ctd\u003ear\u003c/td\u003e\\n\",","       \"      \u003ctd\u003e2\u003c/td\u003e\\n\",","       \"      \u003ctd\u003e4M\u003c/td\u003e\\n\",","       \"      \u003ctd\u003e0\u003c/td\u003e\\n\",","       \"      \u003ctd\u003e17\u003c/td\u003e\\n\",","       \"      \u003ctd\u003e['بي بي سي', 'بي بي سي عربي', 'بي بي سي العربي...\u003c/td\u003e\\n\",","       \"      \u003ctd\u003eبي_بي_سي_ترندينغ | تأهل نادي #الأهلي المصري لن...\u003c/td\u003e\\n\",","       \"      \u003ctd\u003e1815\u003c/td\u003e\\n\",","       \"      \u003ctd\u003e2017-10-23\u003c/td\u003e\\n\",","       \"      \u003ctd\u003e17:44:07\u003c/td\u003e\\n\",","       \"      \u003ctd\u003e2017-10\u003c/td\u003e\\n\",","       \"      \u003ctd\u003eno quo\u003c/td\u003e\\n\",","       \"    \u003c/tr\u003e\\n\",","       \"    \u003ctr\u003e\\n\",","       \"      \u003cth\u003e22\u003c/th\u003e\\n\",","       \"      \u003ctd\u003e10\u003c/td\u003e\\n\",","       \"      \u003ctd\u003ear\u003c/td\u003e\\n\",","       \"      \u003ctd\u003e24\u003c/td\u003e\\n\",","       \"      \u003ctd\u003e29M\u003c/td\u003e\\n\",","       \"      \u003ctd\u003e0\u003c/td\u003e\\n\",","       \"      \u003ctd\u003e108\u003c/td\u003e\\n\",","       \"      \u003ctd\u003e['بي بي سي', 'بي بي سي عربي', 'بي بي سي العربي...\u003c/td\u003e\\n\",","       \"      \u003ctd\u003e#بي_بي_سي_ترندينغ | جدل جديد بين المغرب والجزا...\u003c/td\u003e\\n\",","       \"      \u003ctd\u003e9785\u003c/td\u003e\\n\",","       \"      \u003ctd\u003e2017-10-23\u003c/td\u003e\\n\",","       \"      \u003ctd\u003e15:33:01\u003c/td\u003e\\n\",","       \"      \u003ctd\u003e2017-10\u003c/td\u003e\\n\",","       \"      \u003ctd\u003eno quo\u003c/td\u003e\\n\",","       \"    \u003c/tr\u003e\\n\",","       \"    \u003ctr\u003e\\n\",","       \"      \u003cth\u003e23\u003c/th\u003e\\n\",","       \"      \u003ctd\u003e12\u003c/td\u003e\\n\",","       \"      \u003ctd\u003ear\u003c/td\u003e\\n\",","       \"      \u003ctd\u003e13\u003c/td\u003e\\n\",","       \"      \u003ctd\u003e5M\u003c/td\u003e\\n\",","       \"      \u003ctd\u003e0\u003c/td\u003e\\n\",","       \"      \u003ctd\u003e21\u003c/td\u003e\\n\",","       \"      \u003ctd\u003e['بي بي سي', 'بي بي سي عربي', 'بي بي سي العربي...\u003c/td\u003e\\n\",","       \"      \u003ctd\u003eبي_بي_سي_ترندينغ | #الامارات تعلن عن وزارة #ال...\u003c/td\u003e\\n\",","       \"      \u003ctd\u003e2828\u003c/td\u003e\\n\",","       \"      \u003ctd\u003e2017-10-20\u003c/td\u003e\\n\",","       \"      \u003ctd\u003e17:09:35\u003c/td\u003e\\n\",","       \"      \u003ctd\u003e2017-10\u003c/td\u003e\\n\",","       \"      \u003ctd\u003eno quo\u003c/td\u003e\\n\",","       \"    \u003c/tr\u003e\\n\",","       \"    \u003ctr\u003e\\n\",","       \"      \u003cth\u003e24\u003c/th\u003e\\n\",","       \"      \u003ctd\u003e1\u003c/td\u003e\\n\",","       \"      \u003ctd\u003ear\u003c/td\u003e\\n\",","       \"      \u003ctd\u003e2\u003c/td\u003e\\n\",","       \"      \u003ctd\u003e2M\u003c/td\u003e\\n\",","       \"      \u003ctd\u003e0\u003c/td\u003e\\n\",","       \"      \u003ctd\u003e16\u003c/td\u003e\\n\",","       \"      \u003ctd\u003e['بي بي سي', 'بي بي سي عربي', 'بي بي سي العربي...\u003c/td\u003e\\n\",","       \"      \u003ctd\u003eبي_بي_سي_ترندينغ | أسماء وجمل للتوك توك في #مص...\u003c/td\u003e\\n\",","       \"      \u003ctd\u003e1458\u003c/td\u003e\\n\",","       \"      \u003ctd\u003e2017-10-20\u003c/td\u003e\\n\",","       \"      \u003ctd\u003e17:07:56\u003c/td\u003e\\n\",","       \"      \u003ctd\u003e2017-10\u003c/td\u003e\\n\",","       \"      \u003ctd\u003eno quo\u003c/td\u003e\\n\",","       \"    \u003c/tr\u003e\\n\",","       \"    \u003ctr\u003e\\n\",","       \"      \u003cth\u003e25\u003c/th\u003e\\n\",","       \"      \u003ctd\u003e2\u003c/td\u003e\\n\",","       \"      \u003ctd\u003ear\u003c/td\u003e\\n\",","       \"      \u003ctd\u003e1\u003c/td\u003e\\n\",","       \"      \u003ctd\u003e3M\u003c/td\u003e\\n\",","       \"      \u003ctd\u003e0\u003c/td\u003e\\n\",","       \"      \u003ctd\u003e6\u003c/td\u003e\\n\",","       \"      \u003ctd\u003e['بي بي سي', 'بي بي سي عربي', 'بي بي سي العربي...\u003c/td\u003e\\n\",","       \"      \u003ctd\u003eبي_بي_سي_ترندينغ | نمران سوريان يكملان رحلتهما...\u003c/td\u003e\\n\",","       \"      \u003ctd\u003e813\u003c/td\u003e\\n\",","       \"      \u003ctd\u003e2017-10-20\u003c/td\u003e\\n\",","       \"      \u003ctd\u003e17:06:05\u003c/td\u003e\\n\",","       \"      \u003ctd\u003e2017-10\u003c/td\u003e\\n\",","       \"      \u003ctd\u003eno quo\u003c/td\u003e\\n\",","       \"    \u003c/tr\u003e\\n\",","       \"    \u003ctr\u003e\\n\",","       \"      \u003cth\u003e26\u003c/th\u003e\\n\",","       \"      \u003ctd\u003e1\u003c/td\u003e\\n\",","       \"      \u003ctd\u003ear\u003c/td\u003e\\n\",","       \"      \u003ctd\u003e2\u003c/td\u003e\\n\",","       \"      \u003ctd\u003e4M\u003c/td\u003e\\n\",","       \"      \u003ctd\u003e0\u003c/td\u003e\\n\",","       \"      \u003ctd\u003e12\u003c/td\u003e\\n\",","       \"      \u003ctd\u003e['بي بي سي', 'بي بي سي عربي', 'بي بي سي العربي...\u003c/td\u003e\\n\",","       \"      \u003ctd\u003e#SEXTING بي_بي_سي_ترندينغ | ما هو الـ \\\"سيكستينغ\\\"؟\u003c/td\u003e\\n\",","       \"      \u003ctd\u003e1104\u003c/td\u003e\\n\",","       \"      \u003ctd\u003e2017-10-20\u003c/td\u003e\\n\",","       \"      \u003ctd\u003e17:03:54\u003c/td\u003e\\n\",","       \"      \u003ctd\u003e2017-10\u003c/td\u003e\\n\",","       \"      \u003ctd\u003equo\u003c/td\u003e\\n\",","       \"    \u003c/tr\u003e\\n\",","       \"    \u003ctr\u003e\\n\",","       \"      \u003cth\u003e27\u003c/th\u003e\\n\",","       \"      \u003ctd\u003e4\u003c/td\u003e\\n\",","       \"      \u003ctd\u003ear\u003c/td\u003e\\n\",","       \"      \u003ctd\u003e3\u003c/td\u003e\\n\",","       \"      \u003ctd\u003e7M\u003c/td\u003e\\n\",","       \"      \u003ctd\u003e0\u003c/td\u003e\\n\",","       \"      \u003ctd\u003e21\u003c/td\u003e\\n\",","       \"      \u003ctd\u003e['بي بي سي', 'بي بي سي عربي', 'بي بي سي العربي...\u003c/td\u003e\\n\",","       \"      \u003ctd\u003eبي_بي_سي_ترندينغ | جدل حول كتاب تحت عنوان #فيس...\u003c/td\u003e\\n\",","       \"      \u003ctd\u003e1652\u003c/td\u003e\\n\",","       \"      \u003ctd\u003e2017-10-20\u003c/td\u003e\\n\",","       \"      \u003ctd\u003e17:00:03\u003c/td\u003e\\n\",","       \"      \u003ctd\u003e2017-10\u003c/td\u003e\\n\",","       \"      \u003ctd\u003eno quo\u003c/td\u003e\\n\",","       \"    \u003c/tr\u003e\\n\",","       \"    \u003ctr\u003e\\n\",","       \"      \u003cth\u003e28\u003c/th\u003e\\n\",","       \"      \u003ctd\u003e4\u003c/td\u003e\\n\",","       \"      \u003ctd\u003ear\u003c/td\u003e\\n\",","       \"      \u003ctd\u003e6\u003c/td\u003e\\n\",","       \"      \u003ctd\u003e5M\u003c/td\u003e\\n\",","       \"      \u003ctd\u003e0\u003c/td\u003e\\n\",","       \"      \u003ctd\u003e41\u003c/td\u003e\\n\",","       \"      \u003ctd\u003e['بي بي سي', 'بي بي سي عربي', 'بي بي سي العربي...\u003c/td\u003e\\n\",","       \"      \u003ctd\u003eبي_بي_سي_ترندينغ | قصف مدفعي على الطريق بين #ك...\u003c/td\u003e\\n\",","       \"      \u003ctd\u003e4133\u003c/td\u003e\\n\",","       \"      \u003ctd\u003e2017-10-20\u003c/td\u003e\\n\",","       \"      \u003ctd\u003e16:55:11\u003c/td\u003e\\n\",","       \"      \u003ctd\u003e2017-10\u003c/td\u003e\\n\",","       \"      \u003ctd\u003eno quo\u003c/td\u003e\\n\",","       \"    \u003c/tr\u003e\\n\",","       \"    \u003ctr\u003e\\n\",","       \"      \u003cth\u003e29\u003c/th\u003e\\n\",","       \"      \u003ctd\u003e2\u003c/td\u003e\\n\",","       \"      \u003ctd\u003ear\u003c/td\u003e\\n\",","       \"      \u003ctd\u003e8\u003c/td\u003e\\n\",","       \"      \u003ctd\u003e29M\u003c/td\u003e\\n\",","       \"      \u003ctd\u003e0\u003c/td\u003e\\n\",","       \"      \u003ctd\u003e71\u003c/td\u003e\\n\",","       \"      \u003ctd\u003e['بي بي سي', 'بي بي سي عربي', 'بي بي سي العربي...\u003c/td\u003e\\n\",","       \"      \u003ctd\u003eبي_بي_سي_ترندينغ | وزارة مثيرة للجدل في الإمار...\u003c/td\u003e\\n\",","       \"      \u003ctd\u003e3000\u003c/td\u003e\\n\",","       \"      \u003ctd\u003e2017-10-20\u003c/td\u003e\\n\",","       \"      \u003ctd\u003e15:33:12\u003c/td\u003e\\n\",","       \"      \u003ctd\u003e2017-10\u003c/td\u003e\\n\",","       \"      \u003ctd\u003eno quo\u003c/td\u003e\\n\",","       \"    \u003c/tr\u003e\\n\",","       \"    \u003ctr\u003e\\n\",","       \"      \u003cth\u003e...\u003c/th\u003e\\n\",","       \"      \u003ctd\u003e...\u003c/td\u003e\\n\",","       \"      \u003ctd\u003e...\u003c/td\u003e\\n\",","       \"      \u003ctd\u003e...\u003c/td\u003e\\n\",","       \"      \u003ctd\u003e...\u003c/td\u003e\\n\",","       \"      \u003ctd\u003e...\u003c/td\u003e\\n\",","       \"      \u003ctd\u003e...\u003c/td\u003e\\n\",","       \"      \u003ctd\u003e...\u003c/td\u003e\\n\",","       \"      \u003ctd\u003e...\u003c/td\u003e\\n\",","       \"      \u003ctd\u003e...\u003c/td\u003e\\n\",","       \"      \u003ctd\u003e...\u003c/td\u003e\\n\",","       \"      \u003ctd\u003e...\u003c/td\u003e\\n\",","       \"      \u003ctd\u003e...\u003c/td\u003e\\n\",","       \"      \u003ctd\u003e...\u003c/td\u003e\\n\",","       \"    \u003c/tr\u003e\\n\",","       \"    \u003ctr\u003e\\n\",","       \"      \u003cth\u003e249\u003c/th\u003e\\n\",","       \"      \u003ctd\u003e11\u003c/td\u003e\\n\",","       \"      \u003ctd\u003ear\u003c/td\u003e\\n\",","       \"      \u003ctd\u003e20\u003c/td\u003e\\n\",","       \"      \u003ctd\u003e16M\u003c/td\u003e\\n\",","       \"      \u003ctd\u003e0\u003c/td\u003e\\n\",","       \"      \u003ctd\u003e42\u003c/td\u003e\\n\",","       \"      \u003ctd\u003e['بي بي سي', 'بي بي سي عربي', 'بي بي سي العربي...\u003c/td\u003e\\n\",","       \"      \u003ctd\u003eلقاء خاص رئيس الوزراء اليمني احمد عُبيد بن دغر\u003c/td\u003e\\n\",","       \"      \u003ctd\u003e7212\u003c/td\u003e\\n\",","       \"      \u003ctd\u003e2016-08-17\u003c/td\u003e\\n\",","       \"      \u003ctd\u003e08:57:01\u003c/td\u003e\\n\",","       \"      \u003ctd\u003e2016-08\u003c/td\u003e\\n\",","       \"      \u003ctd\u003eno quo\u003c/td\u003e\\n\",","       \"    \u003c/tr\u003e\\n\",","       \"    \u003ctr\u003e\\n\",","       \"      \u003cth\u003e250\u003c/th\u003e\\n\",","       \"      \u003ctd\u003e41\u003c/td\u003e\\n\",","       \"      \u003ctd\u003ear\u003c/td\u003e\\n\",","       \"      \u003ctd\u003e21\u003c/td\u003e\\n\",","       \"      \u003ctd\u003e27M\u003c/td\u003e\\n\",","       \"      \u003ctd\u003e0\u003c/td\u003e\\n\",","       \"      \u003ctd\u003e471\u003c/td\u003e\\n\",","       \"      \u003ctd\u003e['بي بي سي', 'بي بي سي عربي', 'بي بي سي العربي...\u003c/td\u003e\\n\",","       \"      \u003ctd\u003eلقاء خاص مع المستشار هشام جنينة الرئيس السابق ...\u003c/td\u003e\\n\",","       \"      \u003ctd\u003e46632\u003c/td\u003e\\n\",","       \"      \u003ctd\u003e2016-07-22\u003c/td\u003e\\n\",","       \"      \u003ctd\u003e11:42:04\u003c/td\u003e\\n\",","       \"      \u003ctd\u003e2016-07\u003c/td\u003e\\n\",","       \"      \u003ctd\u003eno quo\u003c/td\u003e\\n\",","       \"    \u003c/tr\u003e\\n\",","       \"    \u003ctr\u003e\\n\",","       \"      \u003cth\u003e251\u003c/th\u003e\\n\",","       \"      \u003ctd\u003e2833\u003c/td\u003e\\n\",","       \"      \u003ctd\u003ear\u003c/td\u003e\\n\",","       \"      \u003ctd\u003e1676\u003c/td\u003e\\n\",","       \"      \u003ctd\u003e2M\u003c/td\u003e\\n\",","       \"      \u003ctd\u003e0\u003c/td\u003e\\n\",","       \"      \u003ctd\u003e15290\u003c/td\u003e\\n\",","       \"      \u003ctd\u003e['بي بي سي', 'بي بي سي عربي', 'بي بي سي العربي...\u003c/td\u003e\\n\",","       \"      \u003ctd\u003eمحطم تمثال صدام حسين نادم على فعلته\u003c/td\u003e\\n\",","       \"      \u003ctd\u003e3639135\u003c/td\u003e\\n\",","       \"      \u003ctd\u003e2016-07-06\u003c/td\u003e\\n\",","       \"      \u003ctd\u003e20:18:17\u003c/td\u003e\\n\",","       \"      \u003ctd\u003e2016-07\u003c/td\u003e\\n\",","       \"      \u003ctd\u003eno quo\u003c/td\u003e\\n\",","       \"    \u003c/tr\u003e\\n\",","       \"    \u003ctr\u003e\\n\",","       \"      \u003cth\u003e252\u003c/th\u003e\\n\",","       \"      \u003ctd\u003e103\u003c/td\u003e\\n\",","       \"      \u003ctd\u003ear\u003c/td\u003e\\n\",","       \"      \u003ctd\u003e79\u003c/td\u003e\\n\",","       \"      \u003ctd\u003e10M\u003c/td\u003e\\n\",","       \"      \u003ctd\u003e0\u003c/td\u003e\\n\",","       \"      \u003ctd\u003e106\u003c/td\u003e\\n\",","       \"      \u003ctd\u003e['بي بي سي', 'بي بي سي عربي', 'بي بي سي العربي...\u003c/td\u003e\\n\",","       \"      \u003ctd\u003eالمالكي لبي بي سي: لا مانع من العودة مجددا لرئ...\u003c/td\u003e\\n\",","       \"      \u003ctd\u003e12937\u003c/td\u003e\\n\",","       \"      \u003ctd\u003e2016-07-03\u003c/td\u003e\\n\",","       \"      \u003ctd\u003e14:45:11\u003c/td\u003e\\n\",","       \"      \u003ctd\u003e2016-07\u003c/td\u003e\\n\",","       \"      \u003ctd\u003eno quo\u003c/td\u003e\\n\",","       \"    \u003c/tr\u003e\\n\",","       \"    \u003ctr\u003e\\n\",","       \"      \u003cth\u003e253\u003c/th\u003e\\n\",","       \"      \u003ctd\u003e3\u003c/td\u003e\\n\",","       \"      \u003ctd\u003ear\u003c/td\u003e\\n\",","       \"      \u003ctd\u003e6\u003c/td\u003e\\n\",","       \"      \u003ctd\u003e26M\u003c/td\u003e\\n\",","       \"      \u003ctd\u003e0\u003c/td\u003e\\n\",","       \"      \u003ctd\u003e13\u003c/td\u003e\\n\",","       \"      \u003ctd\u003e['بي بي سي', 'بي بي سي عربي', 'بي بي سي العربي...\u003c/td\u003e\\n\",","       \"      \u003ctd\u003eمقابلة خاصة مع الرئيس العراقي فؤاد معصوم\u003c/td\u003e\\n\",","       \"      \u003ctd\u003e3024\u003c/td\u003e\\n\",","       \"      \u003ctd\u003e2016-06-13\u003c/td\u003e\\n\",","       \"      \u003ctd\u003e16:21:47\u003c/td\u003e\\n\",","       \"      \u003ctd\u003e2016-06\u003c/td\u003e\\n\",","       \"      \u003ctd\u003eno quo\u003c/td\u003e\\n\",","       \"    \u003c/tr\u003e\\n\",","       \"    \u003ctr\u003e\\n\",","       \"      \u003cth\u003e254\u003c/th\u003e\\n\",","       \"      \u003ctd\u003e1\u003c/td\u003e\\n\",","       \"      \u003ctd\u003ear\u003c/td\u003e\\n\",","       \"      \u003ctd\u003e3\u003c/td\u003e\\n\",","       \"      \u003ctd\u003e8M\u003c/td\u003e\\n\",","       \"      \u003ctd\u003e0\u003c/td\u003e\\n\",","       \"      \u003ctd\u003e17\u003c/td\u003e\\n\",","       \"      \u003ctd\u003e['بي بي سي', 'بي بي سي عربي', 'بي بي سي العربي...\u003c/td\u003e\\n\",","       \"      \u003ctd\u003eلقاء خاص - وزير الخارجية المصري سامح شكري\u003c/td\u003e\\n\",","       \"      \u003ctd\u003e2756\u003c/td\u003e\\n\",","       \"      \u003ctd\u003e2016-05-31\u003c/td\u003e\\n\",","       \"      \u003ctd\u003e13:15:40\u003c/td\u003e\\n\",","       \"      \u003ctd\u003e2016-05\u003c/td\u003e\\n\",","       \"      \u003ctd\u003eno quo\u003c/td\u003e\\n\",","       \"    \u003c/tr\u003e\\n\",","       \"    \u003ctr\u003e\\n\",","       \"      \u003cth\u003e255\u003c/th\u003e\\n\",","       \"      \u003ctd\u003e77\u003c/td\u003e\\n\",","       \"      \u003ctd\u003ear\u003c/td\u003e\\n\",","       \"      \u003ctd\u003e106\u003c/td\u003e\\n\",","       \"      \u003ctd\u003e1M\u003c/td\u003e\\n\",","       \"      \u003ctd\u003e0\u003c/td\u003e\\n\",","       \"      \u003ctd\u003e90\u003c/td\u003e\\n\",","       \"      \u003ctd\u003e['بي بي سي', 'بي بي سي عربي', 'بي بي سي العربي...\u003c/td\u003e\\n\",","       \"      \u003ctd\u003eمن هي دينا علي التي تحدت نظام الولاية السعودي؟\u003c/td\u003e\\n\",","       \"      \u003ctd\u003e15012\u003c/td\u003e\\n\",","       \"      \u003ctd\u003e2017-04-12\u003c/td\u003e\\n\",","       \"      \u003ctd\u003e16:21:34\u003c/td\u003e\\n\",","       \"      \u003ctd\u003e2017-04\u003c/td\u003e\\n\",","       \"      \u003ctd\u003eno quo\u003c/td\u003e\\n\",","       \"    \u003c/tr\u003e\\n\",","       \"    \u003ctr\u003e\\n\",","       \"      \u003cth\u003e256\u003c/th\u003e\\n\",","       \"      \u003ctd\u003e13\u003c/td\u003e\\n\",","       \"      \u003ctd\u003ear\u003c/td\u003e\\n\",","       \"      \u003ctd\u003e14\u003c/td\u003e\\n\",","       \"      \u003ctd\u003e1M\u003c/td\u003e\\n\",","       \"      \u003ctd\u003e0\u003c/td\u003e\\n\",","       \"      \u003ctd\u003e54\u003c/td\u003e\\n\",","       \"      \u003ctd\u003e['بي بي سي', 'بي بي سي عربي', 'بي بي سي العربي...\u003c/td\u003e\\n\",","       \"      \u003ctd\u003eمن هو محمود أحمدي نجاد؟\u003c/td\u003e\\n\",","       \"      \u003ctd\u003e8670\u003c/td\u003e\\n\",","       \"      \u003ctd\u003e2017-04-12\u003c/td\u003e\\n\",","       \"      \u003ctd\u003e16:13:16\u003c/td\u003e\\n\",","       \"      \u003ctd\u003e2017-04\u003c/td\u003e\\n\",","       \"      \u003ctd\u003eno quo\u003c/td\u003e\\n\",","       \"    \u003c/tr\u003e\\n\",","       \"    \u003ctr\u003e\\n\",","       \"      \u003cth\u003e257\u003c/th\u003e\\n\",","       \"      \u003ctd\u003e2\u003c/td\u003e\\n\",","       \"      \u003ctd\u003ear\u003c/td\u003e\\n\",","       \"      \u003ctd\u003e1\u003c/td\u003e\\n\",","       \"      \u003ctd\u003e1M\u003c/td\u003e\\n\",","       \"      \u003ctd\u003e0\u003c/td\u003e\\n\",","       \"      \u003ctd\u003e12\u003c/td\u003e\\n\",","       \"      \u003ctd\u003e['بي بي سي', 'بي بي سي عربي', 'بي بي سي العربي...\u003c/td\u003e\\n\",","       \"      \u003ctd\u003eمن هي تشيلسي مانينغ؟\u003c/td\u003e\\n\",","       \"      \u003ctd\u003e2082\u003c/td\u003e\\n\",","       \"      \u003ctd\u003e2017-01-18\u003c/td\u003e\\n\",","       \"      \u003ctd\u003e16:04:28\u003c/td\u003e\\n\",","       \"      \u003ctd\u003e2017-01\u003c/td\u003e\\n\",","       \"      \u003ctd\u003eno quo\u003c/td\u003e\\n\",","       \"    \u003c/tr\u003e\\n\",","       \"    \u003ctr\u003e\\n\",","       \"      \u003cth\u003e258\u003c/th\u003e\\n\",","       \"      \u003ctd\u003e6\u003c/td\u003e\\n\",","       \"      \u003ctd\u003ear\u003c/td\u003e\\n\",","       \"      \u003ctd\u003e5\u003c/td\u003e\\n\",","       \"      \u003ctd\u003e2M\u003c/td\u003e\\n\",","       \"      \u003ctd\u003e0\u003c/td\u003e\\n\",","       \"      \u003ctd\u003e79\u003c/td\u003e\\n\",","       \"      \u003ctd\u003e['بي بي سي', 'بي بي سي عربي', 'بي بي سي العربي...\u003c/td\u003e\\n\",","       \"      \u003ctd\u003eأبرز ما ميز مرحلة فيدل كاسترو\u003c/td\u003e\\n\",","       \"      \u003ctd\u003e8017\u003c/td\u003e\\n\",","       \"      \u003ctd\u003e2016-11-26\u003c/td\u003e\\n\",","       \"      \u003ctd\u003e14:16:22\u003c/td\u003e\\n\",","       \"      \u003ctd\u003e2016-11\u003c/td\u003e\\n\",","       \"      \u003ctd\u003eno quo\u003c/td\u003e\\n\",","       \"    \u003c/tr\u003e\\n\",","       \"    \u003ctr\u003e\\n\",","       \"      \u003cth\u003e259\u003c/th\u003e\\n\",","       \"      \u003ctd\u003e10\u003c/td\u003e\\n\",","       \"      \u003ctd\u003ear\u003c/td\u003e\\n\",","       \"      \u003ctd\u003e6\u003c/td\u003e\\n\",","       \"      \u003ctd\u003e1M\u003c/td\u003e\\n\",","       \"      \u003ctd\u003e0\u003c/td\u003e\\n\",","       \"      \u003ctd\u003e31\u003c/td\u003e\\n\",","       \"      \u003ctd\u003e['بي بي سي', 'بي بي سي عربي', 'بي بي سي العربي...\u003c/td\u003e\\n\",","       \"      \u003ctd\u003eمن هو الرئيس اللبناني الجديد ميشال عون؟\u003c/td\u003e\\n\",","       \"      \u003ctd\u003e6020\u003c/td\u003e\\n\",","       \"      \u003ctd\u003e2016-10-31\u003c/td\u003e\\n\",","       \"      \u003ctd\u003e17:32:57\u003c/td\u003e\\n\",","       \"      \u003ctd\u003e2016-10\u003c/td\u003e\\n\",","       \"      \u003ctd\u003eno quo\u003c/td\u003e\\n\",","       \"    \u003c/tr\u003e\\n\",","       \"    \u003ctr\u003e\\n\",","       \"      \u003cth\u003e260\u003c/th\u003e\\n\",","       \"      \u003ctd\u003e3\u003c/td\u003e\\n\",","       \"      \u003ctd\u003ear\u003c/td\u003e\\n\",","       \"      \u003ctd\u003e7\u003c/td\u003e\\n\",","       \"      \u003ctd\u003e1M\u003c/td\u003e\\n\",","       \"      \u003ctd\u003e0\u003c/td\u003e\\n\",","       \"      \u003ctd\u003e30\u003c/td\u003e\\n\",","       \"      \u003ctd\u003e['بي بي سي', 'بي بي سي عربي', 'بي بي سي العربي...\u003c/td\u003e\\n\",","       \"      \u003ctd\u003eمن هو بوب ديلان الفائز بجائزة نوبل للآداب؟\u003c/td\u003e\\n\",","       \"      \u003ctd\u003e4574\u003c/td\u003e\\n\",","       \"      \u003ctd\u003e2016-10-14\u003c/td\u003e\\n\",","       \"      \u003ctd\u003e15:52:43\u003c/td\u003e\\n\",","       \"      \u003ctd\u003e2016-10\u003c/td\u003e\\n\",","       \"      \u003ctd\u003eno quo\u003c/td\u003e\\n\",","       \"    \u003c/tr\u003e\\n\",","       \"    \u003ctr\u003e\\n\",","       \"      \u003cth\u003e261\u003c/th\u003e\\n\",","       \"      \u003ctd\u003e0\u003c/td\u003e\\n\",","       \"      \u003ctd\u003ear\u003c/td\u003e\\n\",","       \"      \u003ctd\u003e1\u003c/td\u003e\\n\",","       \"      \u003ctd\u003e\u0026lt;1M\u003c/td\u003e\\n\",","       \"      \u003ctd\u003e0\u003c/td\u003e\\n\",","       \"      \u003ctd\u003e21\u003c/td\u003e\\n\",","       \"      \u003ctd\u003e['بي بي سي', 'بي بي سي عربي', 'بي بي سي العربي...\u003c/td\u003e\\n\",","       \"      \u003ctd\u003eمسيرة جوزيه مورينيو مدرب مانشستر يونايتد الجديد\u003c/td\u003e\\n\",","       \"      \u003ctd\u003e3565\u003c/td\u003e\\n\",","       \"      \u003ctd\u003e2016-05-27\u003c/td\u003e\\n\",","       \"      \u003ctd\u003e13:47:46\u003c/td\u003e\\n\",","       \"      \u003ctd\u003e2016-05\u003c/td\u003e\\n\",","       \"      \u003ctd\u003eno quo\u003c/td\u003e\\n\",","       \"    \u003c/tr\u003e\\n\",","       \"    \u003ctr\u003e\\n\",","       \"      \u003cth\u003e262\u003c/th\u003e\\n\",","       \"      \u003ctd\u003e0\u003c/td\u003e\\n\",","       \"      \u003ctd\u003ear\u003c/td\u003e\\n\",","       \"      \u003ctd\u003e3\u003c/td\u003e\\n\",","       \"      \u003ctd\u003e\u0026lt;1M\u003c/td\u003e\\n\",","       \"      \u003ctd\u003e0\u003c/td\u003e\\n\",","       \"      \u003ctd\u003e10\u003c/td\u003e\\n\",","       \"      \u003ctd\u003e['بي بي سي', 'بي بي سي عربي', 'بي بي سي العربي...\u003c/td\u003e\\n\",","       \"      \u003ctd\u003eمن هو بن علي يلدرم الزعيم الجديد للحزب الحاكم ...\u003c/td\u003e\\n\",","       \"      \u003ctd\u003e2749\u003c/td\u003e\\n\",","       \"      \u003ctd\u003e2016-05-24\u003c/td\u003e\\n\",","       \"      \u003ctd\u003e09:55:34\u003c/td\u003e\\n\",","       \"      \u003ctd\u003e2016-05\u003c/td\u003e\\n\",","       \"      \u003ctd\u003eno quo\u003c/td\u003e\\n\",","       \"    \u003c/tr\u003e\\n\",","       \"    \u003ctr\u003e\\n\",","       \"      \u003cth\u003e263\u003c/th\u003e\\n\",","       \"      \u003ctd\u003e38\u003c/td\u003e\\n\",","       \"      \u003ctd\u003ear\u003c/td\u003e\\n\",","       \"      \u003ctd\u003e29\u003c/td\u003e\\n\",","       \"      \u003ctd\u003e9M\u003c/td\u003e\\n\",","       \"      \u003ctd\u003e0\u003c/td\u003e\\n\",","       \"      \u003ctd\u003e78\u003c/td\u003e\\n\",","       \"      \u003ctd\u003e['بي بي سي', 'بي بي سي عربي', 'بي بي سي العربي...\u003c/td\u003e\\n\",","       \"      \u003ctd\u003eعمر البشير في لقاء خاص مع بي بي سي\u003c/td\u003e\\n\",","       \"      \u003ctd\u003e23528\u003c/td\u003e\\n\",","       \"      \u003ctd\u003e2016-04-08\u003c/td\u003e\\n\",","       \"      \u003ctd\u003e10:52:09\u003c/td\u003e\\n\",","       \"      \u003ctd\u003e2016-04\u003c/td\u003e\\n\",","       \"      \u003ctd\u003eno quo\u003c/td\u003e\\n\",","       \"    \u003c/tr\u003e\\n\",","       \"    \u003ctr\u003e\\n\",","       \"      \u003cth\u003e264\u003c/th\u003e\\n\",","       \"      \u003ctd\u003e9\u003c/td\u003e\\n\",","       \"      \u003ctd\u003ear\u003c/td\u003e\\n\",","       \"      \u003ctd\u003e3\u003c/td\u003e\\n\",","       \"      \u003ctd\u003e\u0026lt;1M\u003c/td\u003e\\n\",","       \"      \u003ctd\u003e0\u003c/td\u003e\\n\",","       \"      \u003ctd\u003e209\u003c/td\u003e\\n\",","       \"      \u003ctd\u003e['بي بي سي', 'بي بي سي عربي', 'بي بي سي العربي...\u003c/td\u003e\\n\",","       \"      \u003ctd\u003eمن هي زها حديد؟\u003c/td\u003e\\n\",","       \"      \u003ctd\u003e20285\u003c/td\u003e\\n\",","       \"      \u003ctd\u003e2016-04-01\u003c/td\u003e\\n\",","       \"      \u003ctd\u003e09:13:33\u003c/td\u003e\\n\",","       \"      \u003ctd\u003e2016-04\u003c/td\u003e\\n\",","       \"      \u003ctd\u003eno quo\u003c/td\u003e\\n\",","       \"    \u003c/tr\u003e\\n\",","       \"    \u003ctr\u003e\\n\",","       \"      \u003cth\u003e265\u003c/th\u003e\\n\",","       \"      \u003ctd\u003e3\u003c/td\u003e\\n\",","       \"      \u003ctd\u003ear\u003c/td\u003e\\n\",","       \"      \u003ctd\u003e5\u003c/td\u003e\\n\",","       \"      \u003ctd\u003e2M\u003c/td\u003e\\n\",","       \"      \u003ctd\u003e0\u003c/td\u003e\\n\",","       \"      \u003ctd\u003e8\u003c/td\u003e\\n\",","       \"      \u003ctd\u003e['بي بي سي', 'بي بي سي عربي', 'بي بي سي العربي...\u003c/td\u003e\\n\",","       \"      \u003ctd\u003eمن هو المرشح البحريني سلمان بن إبراهيم آل خليفة؟\u003c/td\u003e\\n\",","       \"      \u003ctd\u003e1639\u003c/td\u003e\\n\",","       \"      \u003ctd\u003e2016-02-23\u003c/td\u003e\\n\",","       \"      \u003ctd\u003e12:00:45\u003c/td\u003e\\n\",","       \"      \u003ctd\u003e2016-02\u003c/td\u003e\\n\",","       \"      \u003ctd\u003eno quo\u003c/td\u003e\\n\",","       \"    \u003c/tr\u003e\\n\",","       \"    \u003ctr\u003e\\n\",","       \"      \u003cth\u003e266\u003c/th\u003e\\n\",","       \"      \u003ctd\u003e10\u003c/td\u003e\\n\",","       \"      \u003ctd\u003ear\u003c/td\u003e\\n\",","       \"      \u003ctd\u003e11\u003c/td\u003e\\n\",","       \"      \u003ctd\u003e1M\u003c/td\u003e\\n\",","       \"      \u003ctd\u003e0\u003c/td\u003e\\n\",","       \"      \u003ctd\u003e43\u003c/td\u003e\\n\",","       \"      \u003ctd\u003e['بي بي سي', 'بي بي سي عربي', 'بي بي سي العربي...\u003c/td\u003e\\n\",","       \"      \u003ctd\u003eمن هو بطرس بطرس غالي؟\u003c/td\u003e\\n\",","       \"      \u003ctd\u003e7644\u003c/td\u003e\\n\",","       \"      \u003ctd\u003e2016-02-16\u003c/td\u003e\\n\",","       \"      \u003ctd\u003e19:52:31\u003c/td\u003e\\n\",","       \"      \u003ctd\u003e2016-02\u003c/td\u003e\\n\",","       \"      \u003ctd\u003eno quo\u003c/td\u003e\\n\",","       \"    \u003c/tr\u003e\\n\",","       \"    \u003ctr\u003e\\n\",","       \"      \u003cth\u003e267\u003c/th\u003e\\n\",","       \"      \u003ctd\u003e3\u003c/td\u003e\\n\",","       \"      \u003ctd\u003ear\u003c/td\u003e\\n\",","       \"      \u003ctd\u003e4\u003c/td\u003e\\n\",","       \"      \u003ctd\u003e1M\u003c/td\u003e\\n\",","       \"      \u003ctd\u003e0\u003c/td\u003e\\n\",","       \"      \u003ctd\u003e27\u003c/td\u003e\\n\",","       \"      \u003ctd\u003e['بي بي سي', 'بي بي سي عربي', 'بي بي سي العربي...\u003c/td\u003e\\n\",","       \"      \u003ctd\u003eمن هي هيلاري رودهام كلينتون؟\u003c/td\u003e\\n\",","       \"      \u003ctd\u003e3389\u003c/td\u003e\\n\",","       \"      \u003ctd\u003e2016-02-02\u003c/td\u003e\\n\",","       \"      \u003ctd\u003e18:16:57\u003c/td\u003e\\n\",","       \"      \u003ctd\u003e2016-02\u003c/td\u003e\\n\",","       \"      \u003ctd\u003eno quo\u003c/td\u003e\\n\",","       \"    \u003c/tr\u003e\\n\",","       \"    \u003ctr\u003e\\n\",","       \"      \u003cth\u003e268\u003c/th\u003e\\n\",","       \"      \u003ctd\u003e12\u003c/td\u003e\\n\",","       \"      \u003ctd\u003ear\u003c/td\u003e\\n\",","       \"      \u003ctd\u003e13\u003c/td\u003e\\n\",","       \"      \u003ctd\u003e1M\u003c/td\u003e\\n\",","       \"      \u003ctd\u003e0\u003c/td\u003e\\n\",","       \"      \u003ctd\u003e39\u003c/td\u003e\\n\",","       \"      \u003ctd\u003e['بي بي سي', 'بي بي سي عربي', 'بي بي سي العربي...\u003c/td\u003e\\n\",","       \"      \u003ctd\u003eنبذة عن الملك السعودي الراحل عبد الله بن عبد ا...\u003c/td\u003e\\n\",","       \"      \u003ctd\u003e2522\u003c/td\u003e\\n\",","       \"      \u003ctd\u003e2016-01-23\u003c/td\u003e\\n\",","       \"      \u003ctd\u003e11:03:04\u003c/td\u003e\\n\",","       \"      \u003ctd\u003e2016-01\u003c/td\u003e\\n\",","       \"      \u003ctd\u003eno quo\u003c/td\u003e\\n\",","       \"    \u003c/tr\u003e\\n\",","       \"    \u003ctr\u003e\\n\",","       \"      \u003cth\u003e269\u003c/th\u003e\\n\",","       \"      \u003ctd\u003e0\u003c/td\u003e\\n\",","       \"      \u003ctd\u003ear\u003c/td\u003e\\n\",","       \"      \u003ctd\u003e1\u003c/td\u003e\\n\",","       \"      \u003ctd\u003e1M\u003c/td\u003e\\n\",","       \"      \u003ctd\u003e0\u003c/td\u003e\\n\",","       \"      \u003ctd\u003e8\u003c/td\u003e\\n\",","       \"      \u003ctd\u003e['بي بي سي', 'بي بي سي عربي', 'بي بي سي العربي...\u003c/td\u003e\\n\",","       \"      \u003ctd\u003eمن هي أول امرأة تفوز برئاسة تايوان؟\u003c/td\u003e\\n\",","       \"      \u003ctd\u003e1130\u003c/td\u003e\\n\",","       \"      \u003ctd\u003e2016-01-19\u003c/td\u003e\\n\",","       \"      \u003ctd\u003e10:45:07\u003c/td\u003e\\n\",","       \"      \u003ctd\u003e2016-01\u003c/td\u003e\\n\",","       \"      \u003ctd\u003eno quo\u003c/td\u003e\\n\",","       \"    \u003c/tr\u003e\\n\",","       \"    \u003ctr\u003e\\n\",","       \"      \u003cth\u003e270\u003c/th\u003e\\n\",","       \"      \u003ctd\u003e9\u003c/td\u003e\\n\",","       \"      \u003ctd\u003ear\u003c/td\u003e\\n\",","       \"      \u003ctd\u003e6\u003c/td\u003e\\n\",","       \"      \u003ctd\u003e2M\u003c/td\u003e\\n\",","       \"      \u003ctd\u003e0\u003c/td\u003e\\n\",","       \"      \u003ctd\u003e32\u003c/td\u003e\\n\",","       \"      \u003ctd\u003e['بي بي سي', 'بي بي سي عربي', 'بي بي سي العربي...\u003c/td\u003e\\n\",","       \"      \u003ctd\u003eمن هو الأمير علي بن الحسين المرشح لرئاسة الفيفا؟\u003c/td\u003e\\n\",","       \"      \u003ctd\u003e3651\u003c/td\u003e\\n\",","       \"      \u003ctd\u003e2016-01-12\u003c/td\u003e\\n\",","       \"      \u003ctd\u003e07:44:08\u003c/td\u003e\\n\",","       \"      \u003ctd\u003e2016-01\u003c/td\u003e\\n\",","       \"      \u003ctd\u003eno quo\u003c/td\u003e\\n\",","       \"    \u003c/tr\u003e\\n\",","       \"    \u003ctr\u003e\\n\",","       \"      \u003cth\u003e271\u003c/th\u003e\\n\",","       \"      \u003ctd\u003e45\u003c/td\u003e\\n\",","       \"      \u003ctd\u003ear\u003c/td\u003e\\n\",","       \"      \u003ctd\u003e101\u003c/td\u003e\\n\",","       \"      \u003ctd\u003e\u0026lt;1M\u003c/td\u003e\\n\",","       \"      \u003ctd\u003e0\u003c/td\u003e\\n\",","       \"      \u003ctd\u003e54\u003c/td\u003e\\n\",","       \"      \u003ctd\u003e['بي بي سي', 'بي بي سي عربي', 'بي بي سي العربي...\u003c/td\u003e\\n\",","       \"      \u003ctd\u003eمن هو الشيخ نمر النمر\u003c/td\u003e\\n\",","       \"      \u003ctd\u003e14292\u003c/td\u003e\\n\",","       \"      \u003ctd\u003e2016-01-04\u003c/td\u003e\\n\",","       \"      \u003ctd\u003e13:05:57\u003c/td\u003e\\n\",","       \"      \u003ctd\u003e2016-01\u003c/td\u003e\\n\",","       \"      \u003ctd\u003eno quo\u003c/td\u003e\\n\",","       \"    \u003c/tr\u003e\\n\",","       \"    \u003ctr\u003e\\n\",","       \"      \u003cth\u003e272\u003c/th\u003e\\n\",","       \"      \u003ctd\u003e11\u003c/td\u003e\\n\",","       \"      \u003ctd\u003ear\u003c/td\u003e\\n\",","       \"      \u003ctd\u003e12\u003c/td\u003e\\n\",","       \"      \u003ctd\u003e2M\u003c/td\u003e\\n\",","       \"      \u003ctd\u003e0\u003c/td\u003e\\n\",","       \"      \u003ctd\u003e126\u003c/td\u003e\\n\",","       \"      \u003ctd\u003e['بي بي سي', 'بي بي سي عربي', 'بي بي سي العربي...\u003c/td\u003e\\n\",","       \"      \u003ctd\u003eنبذة عن الملك السعودي الراحل عبد الله بن عبد ا...\u003c/td\u003e\\n\",","       \"      \u003ctd\u003e20004\u003c/td\u003e\\n\",","       \"      \u003ctd\u003e2015-01-23\u003c/td\u003e\\n\",","       \"      \u003ctd\u003e12:52:22\u003c/td\u003e\\n\",","       \"      \u003ctd\u003e2015-01\u003c/td\u003e\\n\",","       \"      \u003ctd\u003eno quo\u003c/td\u003e\\n\",","       \"    \u003c/tr\u003e\\n\",","       \"    \u003ctr\u003e\\n\",","       \"      \u003cth\u003e273\u003c/th\u003e\\n\",","       \"      \u003ctd\u003e0\u003c/td\u003e\\n\",","       \"      \u003ctd\u003ear\u003c/td\u003e\\n\",","       \"      \u003ctd\u003e1\u003c/td\u003e\\n\",","       \"      \u003ctd\u003e2M\u003c/td\u003e\\n\",","       \"      \u003ctd\u003e0\u003c/td\u003e\\n\",","       \"      \u003ctd\u003e8\u003c/td\u003e\\n\",","       \"      \u003ctd\u003e['بي بي سي', 'بي بي سي عربي', 'بي بي سي العربي...\u003c/td\u003e\\n\",","       \"      \u003ctd\u003eما الذي حدث في 2015 بعيدا عن السياسة والإرهاب؟\u003c/td\u003e\\n\",","       \"      \u003ctd\u003e1887\u003c/td\u003e\\n\",","       \"      \u003ctd\u003e2015-12-30\u003c/td\u003e\\n\",","       \"      \u003ctd\u003e18:59:06\u003c/td\u003e\\n\",","       \"      \u003ctd\u003e2015-12\u003c/td\u003e\\n\",","       \"      \u003ctd\u003eno quo\u003c/td\u003e\\n\",","       \"    \u003c/tr\u003e\\n\",","       \"    \u003ctr\u003e\\n\",","       \"      \u003cth\u003e274\u003c/th\u003e\\n\",","       \"      \u003ctd\u003e0\u003c/td\u003e\\n\",","       \"      \u003ctd\u003ear\u003c/td\u003e\\n\",","       \"      \u003ctd\u003e1\u003c/td\u003e\\n\",","       \"      \u003ctd\u003e2M\u003c/td\u003e\\n\",","       \"      \u003ctd\u003e0\u003c/td\u003e\\n\",","       \"      \u003ctd\u003e7\u003c/td\u003e\\n\",","       \"      \u003ctd\u003e['بي بي سي', 'بي بي سي عربي', 'بي بي سي العربي...\u003c/td\u003e\\n\",","       \"      \u003ctd\u003eكيف كان العام 2015 لعالم الرياضة؟\u003c/td\u003e\\n\",","       \"      \u003ctd\u003e773\u003c/td\u003e\\n\",","       \"      \u003ctd\u003e2015-12-30\u003c/td\u003e\\n\",","       \"      \u003ctd\u003e19:00:47\u003c/td\u003e\\n\",","       \"      \u003ctd\u003e2015-12\u003c/td\u003e\\n\",","       \"      \u003ctd\u003eno quo\u003c/td\u003e\\n\",","       \"    \u003c/tr\u003e\\n\",","       \"    \u003ctr\u003e\\n\",","       \"      \u003cth\u003e275\u003c/th\u003e\\n\",","       \"      \u003ctd\u003e0\u003c/td\u003e\\n\",","       \"      \u003ctd\u003ear\u003c/td\u003e\\n\",","       \"      \u003ctd\u003e3\u003c/td\u003e\\n\",","       \"      \u003ctd\u003e3M\u003c/td\u003e\\n\",","       \"      \u003ctd\u003e0\u003c/td\u003e\\n\",","       \"      \u003ctd\u003e21\u003c/td\u003e\\n\",","       \"      \u003ctd\u003e['بي بي سي', 'بي بي سي عربي', 'بي بي سي العربي...\u003c/td\u003e\\n\",","       \"      \u003ctd\u003eكيف تغير حال اليمن في 2015 ؟\u003c/td\u003e\\n\",","       \"      \u003ctd\u003e2559\u003c/td\u003e\\n\",","       \"      \u003ctd\u003e2015-12-30\u003c/td\u003e\\n\",","       \"      \u003ctd\u003e19:16:24\u003c/td\u003e\\n\",","       \"      \u003ctd\u003e2015-12\u003c/td\u003e\\n\",","       \"      \u003ctd\u003eno quo\u003c/td\u003e\\n\",","       \"    \u003c/tr\u003e\\n\",","       \"    \u003ctr\u003e\\n\",","       \"      \u003cth\u003e276\u003c/th\u003e\\n\",","       \"      \u003ctd\u003e7\u003c/td\u003e\\n\",","       \"      \u003ctd\u003ear\u003c/td\u003e\\n\",","       \"      \u003ctd\u003e5\u003c/td\u003e\\n\",","       \"      \u003ctd\u003e1M\u003c/td\u003e\\n\",","       \"      \u003ctd\u003e0\u003c/td\u003e\\n\",","       \"      \u003ctd\u003e11\u003c/td\u003e\\n\",","       \"      \u003ctd\u003e['بي بي سي', 'بي بي سي عربي', 'بي بي سي العربي...\u003c/td\u003e\\n\",","       \"      \u003ctd\u003eهجمات تنظيم \\\"الدولة الإسلامية\\\" في ٢٠١٥\u003c/td\u003e\\n\",","       \"      \u003ctd\u003e2211\u003c/td\u003e\\n\",","       \"      \u003ctd\u003e2015-12-30\u003c/td\u003e\\n\",","       \"      \u003ctd\u003e19:24:30\u003c/td\u003e\\n\",","       \"      \u003ctd\u003e2015-12\u003c/td\u003e\\n\",","       \"      \u003ctd\u003equo\u003c/td\u003e\\n\",","       \"    \u003c/tr\u003e\\n\",","       \"    \u003ctr\u003e\\n\",","       \"      \u003cth\u003e277\u003c/th\u003e\\n\",","       \"      \u003ctd\u003e4\u003c/td\u003e\\n\",","       \"      \u003ctd\u003ear\u003c/td\u003e\\n\",","       \"      \u003ctd\u003e8\u003c/td\u003e\\n\",","       \"      \u003ctd\u003e4M\u003c/td\u003e\\n\",","       \"      \u003ctd\u003e0\u003c/td\u003e\\n\",","       \"      \u003ctd\u003e7\u003c/td\u003e\\n\",","       \"      \u003ctd\u003e['بي بي سي', 'بي بي سي عربي', 'بي بي سي العربي...\u003c/td\u003e\\n\",","       \"      \u003ctd\u003eكيف تأثر أداء الحكومة العراقية بالتدخلات الإقل...\u003c/td\u003e\\n\",","       \"      \u003ctd\u003e703\u003c/td\u003e\\n\",","       \"      \u003ctd\u003e2015-12-30\u003c/td\u003e\\n\",","       \"      \u003ctd\u003e19:29:34\u003c/td\u003e\\n\",","       \"      \u003ctd\u003e2015-12\u003c/td\u003e\\n\",","       \"      \u003ctd\u003eno quo\u003c/td\u003e\\n\",","       \"    \u003c/tr\u003e\\n\",","       \"    \u003ctr\u003e\\n\",","       \"      \u003cth\u003e278\u003c/th\u003e\\n\",","       \"      \u003ctd\u003e1\u003c/td\u003e\\n\",","       \"      \u003ctd\u003ear\u003c/td\u003e\\n\",","       \"      \u003ctd\u003e2\u003c/td\u003e\\n\",","       \"      \u003ctd\u003e1M\u003c/td\u003e\\n\",","       \"      \u003ctd\u003e0\u003c/td\u003e\\n\",","       \"      \u003ctd\u003e4\u003c/td\u003e\\n\",","       \"      \u003ctd\u003e['بي بي سي', 'بي بي سي عربي', 'بي بي سي العربي...\u003c/td\u003e\\n\",","       \"      \u003ctd\u003eأهم أحداث ٢٠١٥ التي تفاعل معها متابعونا عبر مو...\u003c/td\u003e\\n\",","       \"      \u003ctd\u003e920\u003c/td\u003e\\n\",","       \"      \u003ctd\u003e2015-12-31\u003c/td\u003e\\n\",","       \"      \u003ctd\u003e15:23:46\u003c/td\u003e\\n\",","       \"      \u003ctd\u003e2015-12\u003c/td\u003e\\n\",","       \"      \u003ctd\u003eno quo\u003c/td\u003e\\n\",","       \"    \u003c/tr\u003e\\n\",","       \"  \u003c/tbody\u003e\\n\",","       \"\u003c/table\u003e\\n\",","       \"\u003cp\u003e278 rows × 13 columns\u003c/p\u003e\\n\",","       \"\u003c/div\u003e\"","      ],","      \"text/plain\": [","       \"     commentCount defaultAudioLanguage  dislikeCount duration  favoriteCount  \\\\\\n\",","       \"0               4                   ar             3      10M              0   \\n\",","       \"1               3                   ar             5      10M              0   \\n\",","       \"2               8                   ar             6      10M              0   \\n\",","       \"3              26                   ar             5       9M              0   \\n\",","       \"4               1                   ar             4      10M              0   \\n\",","       \"5               5                   ar             5      10M              0   \\n\",","       \"6               5                   ar             7      10M              0   \\n\",","       \"7               9                   ar             4      10M              0   \\n\",","       \"8              11                   ar             6      10M              0   \\n\",","       \"9               1                   ar             1      10M              0   \\n\",","       \"10             15                   ar             1      10M              0   \\n\",","       \"11              5                   ar             5      10M              0   \\n\",","       \"12              2                   ar             3       9M              0   \\n\",","       \"13              2                   ar             8      \u003c1M              0   \\n\",","       \"14              1                   ar             2      \u003c1M              0   \\n\",","       \"15              2                   ar             6       1M              0   \\n\",","       \"16              3                en-GB            44      \u003c1M              0   \\n\",","       \"17              0                   ar             2      25M              0   \\n\",","       \"18            123                   ar            37       6M              0   \\n\",","       \"19              1                   ar             4       4M              0   \\n\",","       \"20              0                   ar             1       5M              0   \\n\",","       \"21              1                   ar             2       4M              0   \\n\",","       \"22             10                   ar            24      29M              0   \\n\",","       \"23             12                   ar            13       5M              0   \\n\",","       \"24              1                   ar             2       2M              0   \\n\",","       \"25              2                   ar             1       3M              0   \\n\",","       \"26              1                   ar             2       4M              0   \\n\",","       \"27              4                   ar             3       7M              0   \\n\",","       \"28              4                   ar             6       5M              0   \\n\",","       \"29              2                   ar             8      29M              0   \\n\",","       \"..            ...                  ...           ...      ...            ...   \\n\",","       \"249            11                   ar            20      16M              0   \\n\",","       \"250            41                   ar            21      27M              0   \\n\",","       \"251          2833                   ar          1676       2M              0   \\n\",","       \"252           103                   ar            79      10M              0   \\n\",","       \"253             3                   ar             6      26M              0   \\n\",","       \"254             1                   ar             3       8M              0   \\n\",","       \"255            77                   ar           106       1M              0   \\n\",","       \"256            13                   ar            14       1M              0   \\n\",","       \"257             2                   ar             1       1M              0   \\n\",","       \"258             6                   ar             5       2M              0   \\n\",","       \"259            10                   ar             6       1M              0   \\n\",","       \"260             3                   ar             7       1M              0   \\n\",","       \"261             0                   ar             1      \u003c1M              0   \\n\",","       \"262             0                   ar             3      \u003c1M              0   \\n\",","       \"263            38                   ar            29       9M              0   \\n\",","       \"264             9                   ar             3      \u003c1M              0   \\n\",","       \"265             3                   ar             5       2M              0   \\n\",","       \"266            10                   ar            11       1M              0   \\n\",","       \"267             3                   ar             4       1M              0   \\n\",","       \"268            12                   ar            13       1M              0   \\n\",","       \"269             0                   ar             1       1M              0   \\n\",","       \"270             9                   ar             6       2M              0   \\n\",","       \"271            45                   ar           101      \u003c1M              0   \\n\",","       \"272            11                   ar            12       2M              0   \\n\",","       \"273             0                   ar             1       2M              0   \\n\",","       \"274             0                   ar             1       2M              0   \\n\",","       \"275             0                   ar             3       3M              0   \\n\",","       \"276             7                   ar             5       1M              0   \\n\",","       \"277             4                   ar             8       4M              0   \\n\",","       \"278             1                   ar             2       1M              0   \\n\",","       \"\\n\",","       \"     likeCount                                               tage  \\\\\\n\",","       \"0           27  ['بي بي سي', 'بي بي سي عربي', 'بي بي سي العربي...   \\n\",","       \"1           14  ['بي بي سي', 'بي بي سي عربي', 'بي بي سي العربي...   \\n\",","       \"2           44  ['بي بي سي', 'بي بي سي عربي', 'بي بي سي العربي...   \\n\",","       \"3           92  ['بي بي سي', 'بي بي سي عربي', 'روب راينر', 'صد...   \\n\",","       \"4           23  ['بي بي سي عربي', 'بي بي سي اخبار', 'حسام عاصي...   \\n\",","       \"5           54  ['بي بي سي', 'بي بي سي عربي', 'حسام عاصي', 'هو...   \\n\",","       \"6           40  ['بي بي سي', 'بي بي سي عربي', 'بي بي سي العربي...   \\n\",","       \"7           49  ['بي بي سي', 'بي بي سي عربي', 'بي بي سي العربي...   \\n\",","       \"8           32  ['بي بي سي', 'بي بي سي عربي', 'اخبار البي بي س...   \\n\",","       \"9            5  ['بي بي سي', 'بي بي سي عربي', 'بي بي سي العربي...   \\n\",","       \"10          91  ['بي بي سي', 'بي بي سي عربي', 'بي بي سي العربي...   \\n\",","       \"11          18  ['بي بي سي', 'بي بي سي عربي', 'بي بي سي العربي...   \\n\",","       \"12          12  ['بي بي سي', 'بي بي سي عربي', 'بي بي سي العربي...   \\n\",","       \"13          13  ['بي بي سي', 'بي بي سي عربي', 'بي بي سي العربي...   \\n\",","       \"14          20  ['بي بي سي', 'بي بي سي عربي', 'بي بي سي العربي...   \\n\",","       \"15          12  ['بي بي سي', 'بي بي سي عربي', 'بي بي سي العربي...   \\n\",","       \"16          51  ['Royal Opera House', 'London', 'opera', 'musi...   \\n\",","       \"17          21  ['بي بي سي', 'بي بي سي عربي', 'بي بي سي العربي...   \\n\",","       \"18         154  ['بي بي سي', 'بي بي سي عربي', 'بي بي سي العربي...   \\n\",","       \"19          14  ['بي بي سي', 'بي بي سي عربي', 'بي بي سي العربي...   \\n\",","       \"20          10  ['بي بي سي', 'بي بي سي عربي', 'بي بي سي العربي...   \\n\",","       \"21          17  ['بي بي سي', 'بي بي سي عربي', 'بي بي سي العربي...   \\n\",","       \"22         108  ['بي بي سي', 'بي بي سي عربي', 'بي بي سي العربي...   \\n\",","       \"23          21  ['بي بي سي', 'بي بي سي عربي', 'بي بي سي العربي...   \\n\",","       \"24          16  ['بي بي سي', 'بي بي سي عربي', 'بي بي سي العربي...   \\n\",","       \"25           6  ['بي بي سي', 'بي بي سي عربي', 'بي بي سي العربي...   \\n\",","       \"26          12  ['بي بي سي', 'بي بي سي عربي', 'بي بي سي العربي...   \\n\",","       \"27          21  ['بي بي سي', 'بي بي سي عربي', 'بي بي سي العربي...   \\n\",","       \"28          41  ['بي بي سي', 'بي بي سي عربي', 'بي بي سي العربي...   \\n\",","       \"29          71  ['بي بي سي', 'بي بي سي عربي', 'بي بي سي العربي...   \\n\",","       \"..         ...                                                ...   \\n\",","       \"249         42  ['بي بي سي', 'بي بي سي عربي', 'بي بي سي العربي...   \\n\",","       \"250        471  ['بي بي سي', 'بي بي سي عربي', 'بي بي سي العربي...   \\n\",","       \"251      15290  ['بي بي سي', 'بي بي سي عربي', 'بي بي سي العربي...   \\n\",","       \"252        106  ['بي بي سي', 'بي بي سي عربي', 'بي بي سي العربي...   \\n\",","       \"253         13  ['بي بي سي', 'بي بي سي عربي', 'بي بي سي العربي...   \\n\",","       \"254         17  ['بي بي سي', 'بي بي سي عربي', 'بي بي سي العربي...   \\n\",","       \"255         90  ['بي بي سي', 'بي بي سي عربي', 'بي بي سي العربي...   \\n\",","       \"256         54  ['بي بي سي', 'بي بي سي عربي', 'بي بي سي العربي...   \\n\",","       \"257         12  ['بي بي سي', 'بي بي سي عربي', 'بي بي سي العربي...   \\n\",","       \"258         79  ['بي بي سي', 'بي بي سي عربي', 'بي بي سي العربي...   \\n\",","       \"259         31  ['بي بي سي', 'بي بي سي عربي', 'بي بي سي العربي...   \\n\",","       \"260         30  ['بي بي سي', 'بي بي سي عربي', 'بي بي سي العربي...   \\n\",","       \"261         21  ['بي بي سي', 'بي بي سي عربي', 'بي بي سي العربي...   \\n\",","       \"262         10  ['بي بي سي', 'بي بي سي عربي', 'بي بي سي العربي...   \\n\",","       \"263         78  ['بي بي سي', 'بي بي سي عربي', 'بي بي سي العربي...   \\n\",","       \"264        209  ['بي بي سي', 'بي بي سي عربي', 'بي بي سي العربي...   \\n\",","       \"265          8  ['بي بي سي', 'بي بي سي عربي', 'بي بي سي العربي...   \\n\",","       \"266         43  ['بي بي سي', 'بي بي سي عربي', 'بي بي سي العربي...   \\n\",","       \"267         27  ['بي بي سي', 'بي بي سي عربي', 'بي بي سي العربي...   \\n\",","       \"268         39  ['بي بي سي', 'بي بي سي عربي', 'بي بي سي العربي...   \\n\",","       \"269          8  ['بي بي سي', 'بي بي سي عربي', 'بي بي سي العربي...   \\n\",","       \"270         32  ['بي بي سي', 'بي بي سي عربي', 'بي بي سي العربي...   \\n\",","       \"271         54  ['بي بي سي', 'بي بي سي عربي', 'بي بي سي العربي...   \\n\",","       \"272        126  ['بي بي سي', 'بي بي سي عربي', 'بي بي سي العربي...   \\n\",","       \"273          8  ['بي بي سي', 'بي بي سي عربي', 'بي بي سي العربي...   \\n\",","       \"274          7  ['بي بي سي', 'بي بي سي عربي', 'بي بي سي العربي...   \\n\",","       \"275         21  ['بي بي سي', 'بي بي سي عربي', 'بي بي سي العربي...   \\n\",","       \"276         11  ['بي بي سي', 'بي بي سي عربي', 'بي بي سي العربي...   \\n\",","       \"277          7  ['بي بي سي', 'بي بي سي عربي', 'بي بي سي العربي...   \\n\",","       \"278          4  ['بي بي سي', 'بي بي سي عربي', 'بي بي سي العربي...   \\n\",","       \"\\n\",","       \"                                                 title  viewCount       date  \\\\\\n\",","       \"0    رئيس استوديوهات هارفيل يكشف عن التحضير لصنع في...        886 2018-07-26   \\n\",","       \"1    علي صوفان، عميل الأف بي آي اللبناني الاصل، يتح...        790 2018-07-23   \\n\",","       \"2    هل حقا أن النجم الاسباني انطونيو بانديراس ينحد...       2580 2018-07-19   \\n\",","       \"3    فيلم \\\"صدمة ورعب\\\": لماذا صدّق الاعلام الامريكي ...       3027 2018-07-16   \\n\",","       \"4    هل عملاء السي آي آى الذين يسربون معلومات سرية ...        760 2018-07-12   \\n\",","       \"5    هل يمكن لاستوديوهات هوليوود أن تبقى على قيد ال...       2581 2018-07-09   \\n\",","       \"6    لماذا كانت 2017 الاسوأ لهوليوود والافضل للعرب ...       1972 2018-07-04   \\n\",","       \"7    من هم السينمائيون العرب الذين تلقوا دعوات للان...       1865 2018-07-02   \\n\",","       \"8    كيف تنبأ الكاتب لورنس رايت باحداث سبتمبر ١١ في...       1210 2018-06-28   \\n\",","       \"9         لماذا فشل سولو-قصة حرب نجوم في شباك التذاكر؟        548 2018-06-26   \\n\",","       \"10   اليكس غيبني، اهم مخرج وثائقي امريكي، يتحدث عن ...       2401 2018-06-25   \\n\",","       \"11              هيفاء المنصور: من السعودية الى هوليوود        926 2018-06-19   \\n\",","       \"12   هل ستعود نجمة لعبة العروش ايمليا كلارك الى فيل...        853 2018-06-20   \\n\",","       \"13                        ماذا تريد النساء في هوليوود؟        993 2018-06-22   \\n\",","       \"14               صندوق النغم مع ناهد نجار وون هو تشونغ       1794 2018-02-22   \\n\",","       \"15                 صندوق النغم: فنان كوري يغني بالعربي       1273 2018-02-22   \\n\",","       \"16                               Carmen Cinema Trailer      28571 2018-01-09   \\n\",","       \"17       الموسم الثاني من برنامج مصاريف: الحلقة الأولى       1527 2017-10-25   \\n\",","       \"18   بي_بي_سي_ترندينغ | تصريحات عبد القادر #مساهل ت...      36631 2017-10-23   \\n\",","       \"19   بي_بي_سي_ترندينغ | افراج السلطات البحرينية عن ...       1461 2017-10-23   \\n\",","       \"20   بي_بي_سي_ترندينغ | محاولة انتحار في أصفهان؛ وا...       1085 2017-10-23   \\n\",","       \"21   بي_بي_سي_ترندينغ | تأهل نادي #الأهلي المصري لن...       1815 2017-10-23   \\n\",","       \"22   #بي_بي_سي_ترندينغ | جدل جديد بين المغرب والجزا...       9785 2017-10-23   \\n\",","       \"23   بي_بي_سي_ترندينغ | #الامارات تعلن عن وزارة #ال...       2828 2017-10-20   \\n\",","       \"24   بي_بي_سي_ترندينغ | أسماء وجمل للتوك توك في #مص...       1458 2017-10-20   \\n\",","       \"25   بي_بي_سي_ترندينغ | نمران سوريان يكملان رحلتهما...        813 2017-10-20   \\n\",","       \"26   #SEXTING بي_بي_سي_ترندينغ | ما هو الـ \\\"سيكستينغ\\\"؟       1104 2017-10-20   \\n\",","       \"27   بي_بي_سي_ترندينغ | جدل حول كتاب تحت عنوان #فيس...       1652 2017-10-20   \\n\",","       \"28   بي_بي_سي_ترندينغ | قصف مدفعي على الطريق بين #ك...       4133 2017-10-20   \\n\",","       \"29   بي_بي_سي_ترندينغ | وزارة مثيرة للجدل في الإمار...       3000 2017-10-20   \\n\",","       \"..                                                 ...        ...        ...   \\n\",","       \"249     لقاء خاص رئيس الوزراء اليمني احمد عُبيد بن دغر       7212 2016-08-17   \\n\",","       \"250  لقاء خاص مع المستشار هشام جنينة الرئيس السابق ...      46632 2016-07-22   \\n\",","       \"251                محطم تمثال صدام حسين نادم على فعلته    3639135 2016-07-06   \\n\",","       \"252  المالكي لبي بي سي: لا مانع من العودة مجددا لرئ...      12937 2016-07-03   \\n\",","       \"253           مقابلة خاصة مع الرئيس العراقي فؤاد معصوم       3024 2016-06-13   \\n\",","       \"254          لقاء خاص - وزير الخارجية المصري سامح شكري       2756 2016-05-31   \\n\",","       \"255     من هي دينا علي التي تحدت نظام الولاية السعودي؟      15012 2017-04-12   \\n\",","       \"256                            من هو محمود أحمدي نجاد؟       8670 2017-04-12   \\n\",","       \"257                               من هي تشيلسي مانينغ؟       2082 2017-01-18   \\n\",","       \"258                      أبرز ما ميز مرحلة فيدل كاسترو       8017 2016-11-26   \\n\",","       \"259            من هو الرئيس اللبناني الجديد ميشال عون؟       6020 2016-10-31   \\n\",","       \"260         من هو بوب ديلان الفائز بجائزة نوبل للآداب؟       4574 2016-10-14   \\n\",","       \"261    مسيرة جوزيه مورينيو مدرب مانشستر يونايتد الجديد       3565 2016-05-27   \\n\",","       \"262  من هو بن علي يلدرم الزعيم الجديد للحزب الحاكم ...       2749 2016-05-24   \\n\",","       \"263                 عمر البشير في لقاء خاص مع بي بي سي      23528 2016-04-08   \\n\",","       \"264                                    من هي زها حديد؟      20285 2016-04-01   \\n\",","       \"265   من هو المرشح البحريني سلمان بن إبراهيم آل خليفة؟       1639 2016-02-23   \\n\",","       \"266                              من هو بطرس بطرس غالي؟       7644 2016-02-16   \\n\",","       \"267                       من هي هيلاري رودهام كلينتون؟       3389 2016-02-02   \\n\",","       \"268  نبذة عن الملك السعودي الراحل عبد الله بن عبد ا...       2522 2016-01-23   \\n\",","       \"269                من هي أول امرأة تفوز برئاسة تايوان؟       1130 2016-01-19   \\n\",","       \"270   من هو الأمير علي بن الحسين المرشح لرئاسة الفيفا؟       3651 2016-01-12   \\n\",","       \"271                              من هو الشيخ نمر النمر      14292 2016-01-04   \\n\",","       \"272  نبذة عن الملك السعودي الراحل عبد الله بن عبد ا...      20004 2015-01-23   \\n\",","       \"273     ما الذي حدث في 2015 بعيدا عن السياسة والإرهاب؟       1887 2015-12-30   \\n\",","       \"274                  كيف كان العام 2015 لعالم الرياضة؟        773 2015-12-30   \\n\",","       \"275                       كيف تغير حال اليمن في 2015 ؟       2559 2015-12-30   \\n\",","       \"276             هجمات تنظيم \\\"الدولة الإسلامية\\\" في ٢٠١٥       2211 2015-12-30   \\n\",","       \"277  كيف تأثر أداء الحكومة العراقية بالتدخلات الإقل...        703 2015-12-30   \\n\",","       \"278  أهم أحداث ٢٠١٥ التي تفاعل معها متابعونا عبر مو...        920 2015-12-31   \\n\",","       \"\\n\",","       \"         time mnth_yr quotations  \\n\",","       \"0    07:42:44 2018-07     no quo  \\n\",","       \"1    06:07:41 2018-07     no quo  \\n\",","       \"2    12:40:12 2018-07     no quo  \\n\",","       \"3    10:07:10 2018-07        quo  \\n\",","       \"4    09:01:37 2018-07     no quo  \\n\",","       \"5    05:08:55 2018-07     no quo  \\n\",","       \"6    05:28:38 2018-07     no quo  \\n\",","       \"7    06:14:14 2018-07     no quo  \\n\",","       \"8    06:25:53 2018-06        quo  \\n\",","       \"9    06:31:37 2018-06     no quo  \\n\",","       \"10   06:59:49 2018-06     no quo  \\n\",","       \"11   10:01:42 2018-06     no quo  \\n\",","       \"12   17:09:44 2018-06     no quo  \\n\",","       \"13   16:39:18 2018-06     no quo  \\n\",","       \"14   15:47:07 2018-02     no quo  \\n\",","       \"15   15:53:49 2018-02     no quo  \\n\",","       \"16   12:58:11 2018-01     no quo  \\n\",","       \"17   17:31:16 2017-10     no quo  \\n\",","       \"18   17:58:52 2017-10     no quo  \\n\",","       \"19   17:25:32 2017-10     no quo  \\n\",","       \"20   17:30:03 2017-10     no quo  \\n\",","       \"21   17:44:07 2017-10     no quo  \\n\",","       \"22   15:33:01 2017-10     no quo  \\n\",","       \"23   17:09:35 2017-10     no quo  \\n\",","       \"24   17:07:56 2017-10     no quo  \\n\",","       \"25   17:06:05 2017-10     no quo  \\n\",","       \"26   17:03:54 2017-10        quo  \\n\",","       \"27   17:00:03 2017-10     no quo  \\n\",","       \"28   16:55:11 2017-10     no quo  \\n\",","       \"29   15:33:12 2017-10     no quo  \\n\",","       \"..        ...     ...        ...  \\n\",","       \"249  08:57:01 2016-08     no quo  \\n\",","       \"250  11:42:04 2016-07     no quo  \\n\",","       \"251  20:18:17 2016-07     no quo  \\n\",","       \"252  14:45:11 2016-07     no quo  \\n\",","       \"253  16:21:47 2016-06     no quo  \\n\",","       \"254  13:15:40 2016-05     no quo  \\n\",","       \"255  16:21:34 2017-04     no quo  \\n\",","       \"256  16:13:16 2017-04     no quo  \\n\",","       \"257  16:04:28 2017-01     no quo  \\n\",","       \"258  14:16:22 2016-11     no quo  \\n\",","       \"259  17:32:57 2016-10     no quo  \\n\",","       \"260  15:52:43 2016-10     no quo  \\n\",","       \"261  13:47:46 2016-05     no quo  \\n\",","       \"262  09:55:34 2016-05     no quo  \\n\",","       \"263  10:52:09 2016-04     no quo  \\n\",","       \"264  09:13:33 2016-04     no quo  \\n\",","       \"265  12:00:45 2016-02     no quo  \\n\",","       \"266  19:52:31 2016-02     no quo  \\n\",","       \"267  18:16:57 2016-02     no quo  \\n\",","       \"268  11:03:04 2016-01     no quo  \\n\",","       \"269  10:45:07 2016-01     no quo  \\n\",","       \"270  07:44:08 2016-01     no quo  \\n\",","       \"271  13:05:57 2016-01     no quo  \\n\",","       \"272  12:52:22 2015-01     no quo  \\n\",","       \"273  18:59:06 2015-12     no quo  \\n\",","       \"274  19:00:47 2015-12     no quo  \\n\",","       \"275  19:16:24 2015-12     no quo  \\n\",","       \"276  19:24:30 2015-12        quo  \\n\",","       \"277  19:29:34 2015-12     no quo  \\n\",","       \"278  15:23:46 2015-12     no quo  \\n\",","       \"\\n\",","       \"[278 rows x 13 columns]\"","      ]","     },","     \"execution_count\": 31,","     \"metadata\": {},","     \"output_type\": \"execute_result\"","    }","   ],","   \"source\": [","    \"df\"","   ]","  },","  {","   \"cell_type\": \"code\",","   \"execution_count\": 40,","   \"metadata\": {},","   \"outputs\": [","    {","     \"name\": \"stderr\",","     \"output_type\": \"stream\",","     \"text\": [","      \"/home/mogady/anaconda3/lib/python3.6/site-packages/seaborn/categorical.py:1468: FutureWarning: remove_na is deprecated and is a private function. Do not use.\\n\",","      \"  stat_data = remove_na(group_data[hue_mask])\\n\"","     ]","    },","    {","     \"data\": {","      \"text/plain\": [","       \"\u003cmatplotlib.axes._subplots.AxesSubplot at 0x7fcc52a9ff98\u003e\"","      ]","     },","     \"execution_count\": 40,","     \"metadata\": {},","     \"output_type\": \"execute_result\"","    },","    {","     \"data\": {","      \"image/png\": \"iVBORw0KGgoAAAANSUhEUgAAAgMAAAFYCAYAAADOev/+AAAABHNCSVQICAgIfAhkiAAAAAlwSFlz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\\n\",","      \"text/plain\": [","       \"\u003cmatplotlib.figure.Figure at 0x7fcc52a43630\u003e\"","      ]","     },","     \"metadata\": {},","     \"output_type\": \"display_data\"","    }","   ],","   \"source\": [","    \"sns.barplot(x='quotations',y='viewCount',hue='question',data=df)\"","   ]","  },","  {","   \"cell_type\": \"code\",","   \"execution_count\": 137,","   \"metadata\": {},","   \"outputs\": [","    {","     \"name\": \"stderr\",","     \"output_type\": \"stream\",","     \"text\": [","      \"/home/mogady/anaconda3/lib/python3.6/site-packages/seaborn/categorical.py:1428: FutureWarning: remove_na is deprecated and is a private function. Do not use.\\n\",","      \"  stat_data = remove_na(group_data)\\n\"","     ]","    },","    {","     \"data\": {","      \"text/plain\": [","       \"\u003cmatplotlib.axes._subplots.AxesSubplot at 0x7f209040dc50\u003e\"","      ]","     },","     \"execution_count\": 137,","     \"metadata\": {},","     \"output_type\": \"execute_result\"","    },","    {","     \"data\": {","      \"image/png\": \"iVBORw0KGgoAAAANSUhEUgAAAYMAAAEGCAYAAACHGfl5AAAABHNCSVQICAgIfAhkiAAAAAlwSFlz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\\nhGEgScIwkCQB/w+VQworpwldegAAAABJRU5ErkJggg==\\n\",","      \"text/plain\": [","       \"\u003cmatplotlib.figure.Figure at 0x7f2090741390\u003e\"","      ]","     },","     \"metadata\": {},","     \"output_type\": \"display_data\"","    }","   ],","   \"source\": [","    \"sns.countplot(x='quotations',data=df)\"","   ]","  },","  {","   \"cell_type\": \"markdown\",","   \"metadata\": {},","   \"source\": [","    \"#### from the two graphs above we can see that with the low number of videos that have title with Analogy(تشبيه) it have number of views more than the title with ordinary style\"","   ]","  }"," ],"," \"metadata\": {","  \"kernelspec\": {","   \"display_name\": \"Python 3\",","   \"language\": \"python\",","   \"name\": \"python3\"","  },","  \"language_info\": {","   \"codemirror_mode\": {","    \"name\": \"ipython\",","    \"version\": 3","   },","   \"file_extension\": \".py\",","   \"mimetype\": \"text/x-python\",","   \"name\": \"python\",","   \"nbconvert_exporter\": \"python\",","   \"pygments_lexer\": \"ipython3\",","   \"version\": \"3.6.1\"","  }"," },"," \"nbformat\": 4,"," \"nbformat_minor\": 2","}"],"stylingDirectives":null,"colorizedLines":null,"csv":null,"csvError":null,"dependabotInfo":{"showConfigurationBanner":false,"configFilePath":null,"networkDependabotPath":"/Mogady/BBC_arabic_Analysis/network/updates","dismissConfigurationNoticePath":"/settings/dismiss-notice/dependabot_configuration_notice","configurationNoticeDismissed":false},"displayName":"youtube data_analyzer.ipynb","displayUrl":"https://notebooks.githubusercontent.com/view/ipynb?browser=safari\u0026bypass_fastly=true\u0026color_mode=auto\u0026commit=ed226284f9c1ad062df93aa815b1e50832b8c81b\u0026device=unknown_device\u0026docs_host=https%3A%2F%2Fdocs.github.com\u0026enc_url=68747470733a2f2f7261772e67697468756275736572636f6e74656e742e636f6d2f4d6f676164792f4242435f6172616269635f416e616c797369732f656432323632383466396331616430363264663933616138313562316535303833326238633831622f796f7574756265253230646174615f616e616c797a65722e6970796e62\u0026logged_in=true\u0026nwo=Mogady%2FBBC_arabic_Analysis\u0026path=youtube+data_analyzer.ipynb\u0026platform=mac\u0026repository_id=147500619\u0026repository_type=Repository\u0026version=16","headerInfo":{"blobSize":"201 KB","deleteTooltip":"Fork this repository and delete the file","editTooltip":"Fork this repository and edit the file","ghDesktopPath":"x-github-client://openRepo/https://github.com/Mogady/BBC_arabic_Analysis?branch=master\u0026filepath=youtube%20data_analyzer.ipynb","isGitLfs":false,"onBranch":true,"shortPath":"2ab9ef5","siteNavLoginPath":"/login?return_to=https%3A%2F%2Fgithub.com%2FMogady%2FBBC_arabic_Analysis%2Fblob%2Fmaster%2Fyoutube%2520data_analyzer.ipynb","isCSV":false,"isRichtext":false,"toc":null,"lineInfo":{"truncatedLoc":"2339","truncatedSloc":"2339"},"mode":"file"},"image":false,"isCodeownersFile":null,"isPlain":false,"isValidLegacyIssueTemplate":false,"issueTemplate":null,"discussionTemplate":null,"language":"Jupyter Notebook","languageID":185,"large":false,"planSupportInfo":{"repoIsFork":null,"repoOwnedByCurrentUser":null,"requestFullPath":"/Mogady/BBC_arabic_Analysis/blob/master/youtube%20data_analyzer.ipynb","showFreeOrgGatedFeatureMessage":null,"showPlanSupportBanner":null,"upgradeDataAttributes":null,"upgradePath":null},"publishBannersInfo":{"dismissActionNoticePath":"/settings/dismiss-notice/publish_action_from_dockerfile","releasePath":"/Mogady/BBC_arabic_Analysis/releases/new?marketplace=true","showPublishActionBanner":false},"rawBlobUrl":"https://github.com/Mogady/BBC_arabic_Analysis/raw/master/youtube%20data_analyzer.ipynb","renderImageOrRaw":false,"richText":null,"renderedFileInfo":{"identityUUID":"266c4d5c-648d-47a6-b44a-f5377fba8e3a","renderFileType":"ipynb","size":205805},"shortPath":null,"symbolsEnabled":true,"tabSize":8,"topBannersInfo":{"overridingGlobalFundingFile":false,"globalPreferredFundingPath":null,"showInvalidCitationWarning":false,"citationHelpUrl":"https://docs.github.com/github/creating-cloning-and-archiving-repositories/creating-a-repository-on-github/about-citation-files","actionsOnboardingTip":null},"truncated":false,"viewable":true,"workflowRedirectUrl":null,"symbols":{"timed_out":false,"not_analyzed":true,"symbols":[]}},"copilotInfo":{"documentationUrl":"https://docs.github.com/copilot/overview-of-github-copilot/about-github-copilot-for-individuals","notices":{"codeViewPopover":{"dismissed":false,"dismissPath":"/settings/dismiss-notice/code_view_copilot_popover"}},"userAccess":{"hasSubscriptionEnded":false,"orgHasCFBAccess":false,"userHasCFIAccess":false,"userHasOrgs":false,"userIsOrgAdmin":false,"userIsOrgMember":false,"business":null,"featureRequestInfo":null}},"copilotAccessAllowed":false,"csrf_tokens":{"/Mogady/BBC_arabic_Analysis/branches":{"post":"JOmVCuA6rdgjYYMKX3AQfYFugznKUcyT4JYJYEDeEQOmM1Rk8_d6aig2pHZEO25jUJDPk8Y9n2kfBYrZEuiHPw"},"/repos/preferences":{"post":"PRsI5I3Wq3njxdTDE1LFYylg9g41ihrB7tLoUZvQA1WJGWm02dy-DEx5bQW7xOBBaAhzRXeVkHTAsY7-FbzsVQ"}}},"title":"BBC_arabic_Analysis/youtube data_analyzer.ipynb at master · Mogady/BBC_arabic_Analysis","appPayload":{"helpUrl":"https://docs.github.com","findFileWorkerPath":"/assets-cdn/worker/find-file-worker-a007d7f370d6.js","findInFileWorkerPath":"/assets-cdn/worker/find-in-file-worker-d0f0ff069004.js","githubDevUrl":"https://github.dev/","enabled_features":{"code_nav_ui_events":false,"react_blob_overlay":false,"copilot_conversational_ux_embedding_update":false,"copilot_smell_icebreaker_ux":true,"copilot_workspace":false}}}</script>
  <div data-target="react-app.reactRoot"><style data-styled="true" data-styled-version="5.3.6">.jUriTl{font-weight:600;font-size:32px;margin:0;display:-webkit-box;display:-webkit-flex;display:-ms-flexbox;display:flex;font-size:14px;}/*!sc*/
.cgQnMS{font-weight:600;font-size:32px;margin:0;}/*!sc*/
.diwsLq{font-weight:600;font-size:32px;margin:0;font-weight:600;display:inline-block;max-width:100%;font-size:16px;}/*!sc*/
.jAEDJk{font-weight:600;font-size:32px;margin:0;font-weight:600;display:inline-block;max-width:100%;font-size:14px;}/*!sc*/
data-styled.g1[id="Heading__StyledHeading-sc-1c1dgg0-0"]{content:"jUriTl,cgQnMS,diwsLq,jAEDJk,"}/*!sc*/
.fSWWem{padding:0;}/*!sc*/
.kPPmzM{max-width:100%;margin-left:auto;margin-right:auto;display:-webkit-box;display:-webkit-flex;display:-ms-flexbox;display:flex;-webkit-flex-wrap:wrap;-ms-flex-wrap:wrap;flex-wrap:wrap;}/*!sc*/
.cIAPDV{display:-webkit-box;display:-webkit-flex;display:-ms-flexbox;display:flex;-webkit-flex:1 1 100%;-ms-flex:1 1 100%;flex:1 1 100%;-webkit-flex-wrap:wrap;-ms-flex-wrap:wrap;flex-wrap:wrap;max-width:100%;}/*!sc*/
.gvCnwW{width:100%;}/*!sc*/
@media screen and (min-width:544px){.gvCnwW{width:100%;}}/*!sc*/
@media screen and (min-width:768px){.gvCnwW{width:auto;}}/*!sc*/
.coFgrZ{display:none;-webkit-order:1;-ms-flex-order:1;order:1;width:100%;margin-left:0;margin-right:0;-webkit-flex-direction:column;-ms-flex-direction:column;flex-direction:column;margin-bottom:0;min-width:0;}/*!sc*/
@media screen and (min-width:544px){.coFgrZ{-webkit-flex-direction:column;-ms-flex-direction:column;flex-direction:column;}}/*!sc*/
@media screen and (min-width:768px){.coFgrZ{width:auto;margin-top:0 !important;margin-bottom:0 !important;position:-webkit-sticky;position:sticky;top:0px;max-height:var(--sticky-pane-height);-webkit-flex-direction:row;-ms-flex-direction:row;flex-direction:row;margin-right:0;}}/*!sc*/
@media screen and (min-width:769px){.coFgrZ{height:100vh;max-height:100vh !important;}}/*!sc*/
@media print,screen and (max-width:1349px) and (min-width:768px){.coFgrZ{display:none;}}/*!sc*/
.eUyHuk{margin-left:0;margin-right:0;display:none;margin-top:0;}/*!sc*/
@media screen and (min-width:768px){.eUyHuk{margin-left:0 !important;margin-right:0 !important;}}/*!sc*/
.gNdDUH{--pane-min-width:256px;--pane-max-width-diff:511px;--pane-max-width:calc(100vw - var(--pane-max-width-diff));width:100%;padding:0;}/*!sc*/
@media screen and (min-width:544px){}/*!sc*/
@media screen and (min-width:768px){.gNdDUH{width:clamp(var(--pane-min-width),var(--pane-width),var(--pane-max-width));overflow:auto;}}/*!sc*/
@media screen and (min-width:1280px){.gNdDUH{--pane-max-width-diff:959px;}}/*!sc*/
.hAeDYA{height:100%;position:relative;display:none;margin-left:0;}/*!sc*/
.fjdBNx{position:absolute;inset:0 -2px;cursor:col-resize;background-color:transparent;-webkit-transition-delay:0.1s;transition-delay:0.1s;}/*!sc*/
.fjdBNx:hover{background-color:var(--bgColor-neutral-muted,var(--color-neutral-muted,rgba(175,184,193,0.2)));}/*!sc*/
.emFMJu{display:-webkit-box;display:-webkit-flex;display:-ms-flexbox;display:flex;-webkit-flex-direction:column;-ms-flex-direction:column;flex-direction:column;-webkit-order:2;-ms-flex-order:2;order:2;-webkit-flex-basis:0;-ms-flex-preferred-size:0;flex-basis:0;-webkit-box-flex:1;-webkit-flex-grow:1;-ms-flex-positive:1;flex-grow:1;-webkit-flex-shrink:1;-ms-flex-negative:1;flex-shrink:1;min-width:1px;margin-right:auto;}/*!sc*/
@media print{.emFMJu{display:-webkit-box !important;display:-webkit-flex !important;display:-ms-flexbox !important;display:flex !important;}}/*!sc*/
.hlUAHL{width:100%;max-width:100%;margin-left:auto;margin-right:auto;-webkit-box-flex:1;-webkit-flex-grow:1;-ms-flex-positive:1;flex-grow:1;padding:0;}/*!sc*/
.iStsmI{margin-left:auto;margin-right:auto;-webkit-flex-direction:column;-ms-flex-direction:column;flex-direction:column;padding-bottom:40px;max-width:100%;margin-top:0;}/*!sc*/
.eIgvIk{display:inherit;}/*!sc*/
.eVFfWF{width:100%;}/*!sc*/
.fywjmm{display:-webkit-box;display:-webkit-flex;display:-ms-flexbox;display:flex;gap:8px;-webkit-flex-direction:column;-ms-flex-direction:column;flex-direction:column;width:100%;}/*!sc*/
.dyczTK{display:-webkit-box;display:-webkit-flex;display:-ms-flexbox;display:flex;-webkit-align-items:start;-webkit-box-align:start;-ms-flex-align:start;align-items:start;-webkit-box-pack:justify;-webkit-justify-content:space-between;-ms-flex-pack:justify;justify-content:space-between;gap:8px;}/*!sc*/
.cpXcux{display:-webkit-box;display:-webkit-flex;display:-ms-flexbox;display:flex;-webkit-align-items:start;-webkit-box-align:start;-ms-flex-align:start;align-items:start;min-width:0;}/*!sc*/
.iPEkxH{display:block;margin-right:8px;}/*!sc*/
@media screen and (min-width:1360px){.iPEkxH{display:block;}}/*!sc*/
.kkrdEu{-webkit-box-pack:center;-webkit-justify-content:center;-ms-flex-pack:center;justify-content:center;}/*!sc*/
.trpoQ{display:-webkit-box;display:-webkit-flex;display:-ms-flexbox;display:flex;pointer-events:none;}/*!sc*/
.bKgizp{display:-webkit-box;display:-webkit-flex;display:-ms-flexbox;display:flex;width:100%;}/*!sc*/
.iPGYsi{margin-right:4px;color:var(--fgColor-muted,var(--color-fg-muted,#656d76));}/*!sc*/
.dKmYfk{font-size:14px;min-width:0;max-width:125px;overflow:hidden;text-overflow:ellipsis;white-space:nowrap;}/*!sc*/
.ehCeGn{-webkit-align-self:center;-ms-flex-item-align:center;align-self:center;display:-webkit-box;display:-webkit-flex;display:-ms-flexbox;display:flex;padding-left:8px;padding-right:8px;min-width:0;}/*!sc*/
.eTvGbF{display:-webkit-box;display:-webkit-flex;display:-ms-flexbox;display:flex;-webkit-flex-direction:row;-ms-flex-direction:row;flex-direction:row;font-size:16px;min-width:0;-webkit-flex-shrink:1;-ms-flex-negative:1;flex-shrink:1;-webkit-flex-wrap:wrap;-ms-flex-wrap:wrap;flex-wrap:wrap;max-width:100%;-webkit-align-items:center;-webkit-box-align:center;-ms-flex-align:center;align-items:center;}/*!sc*/
.kzRgrI{max-width:100%;}/*!sc*/
.cmAPIB{max-width:100%;list-style:none;display:inline-block;}/*!sc*/
.jwXCBK{display:inline-block;max-width:100%;}/*!sc*/
.gtBUEp{min-height:32px;display:-webkit-box;display:-webkit-flex;display:-ms-flexbox;display:flex;-webkit-align-items:start;-webkit-box-align:start;-ms-flex-align:start;align-items:start;}/*!sc*/
.kfYOBR{margin-left:4px;margin-right:4px;}/*!sc*/
.cNvKlH{margin-right:-6px;}/*!sc*/
.hVZtwF{margin-left:16px;margin-right:16px;}/*!sc*/
.cMYnca{display:-webkit-box;display:-webkit-flex;display:-ms-flexbox;display:flex;-webkit-flex-direction:column;-ms-flex-direction:column;flex-direction:column;}/*!sc*/
.jQCQnS{display:-webkit-box;display:-webkit-flex;display:-ms-flexbox;display:flex;-webkit-flex-direction:column;-ms-flex-direction:column;flex-direction:column;border:1px solid;border-color:var(--borderColor-default,var(--color-border-default,#d0d7de));border-radius:6px;margin-bottom:16px;}/*!sc*/
.eYedVD{display:-webkit-box;display:-webkit-flex;display:-ms-flexbox;display:flex;-webkit-flex-direction:row;-ms-flex-direction:row;flex-direction:row;-webkit-box-pack:justify;-webkit-justify-content:space-between;-ms-flex-pack:justify;justify-content:space-between;-webkit-align-items:center;-webkit-box-align:center;-ms-flex-align:center;align-items:center;gap:8px;min-width:273px;padding-right:8px;padding-left:16px;padding-top:8px;padding-bottom:8px;}/*!sc*/
.lhFvfi{display:-webkit-box;display:-webkit-flex;display:-ms-flexbox;display:flex;-webkit-align-items:center;-webkit-box-align:center;-ms-flex-align:center;align-items:center;}/*!sc*/
.jGfYmh{display:-webkit-box;display:-webkit-flex;display:-ms-flexbox;display:flex;gap:8px;}/*!sc*/
.bqgLjk{display:inherit;}/*!sc*/
@media screen and (min-width:544px){.bqgLjk{display:none;}}/*!sc*/
@media screen and (min-width:768px){.bqgLjk{display:none;}}/*!sc*/
.iJmJly{display:-webkit-box;display:-webkit-flex;display:-ms-flexbox;display:flex;-webkit-flex-direction:row;-ms-flex-direction:row;flex-direction:row;}/*!sc*/
.jACbi{width:100%;height:-webkit-fit-content;height:-moz-fit-content;height:fit-content;min-width:0;margin-right:0;}/*!sc*/
.gIJuDf{height:40px;padding-left:4px;padding-bottom:16px;}/*!sc*/
.fleZSW{-webkit-align-items:center;-webkit-box-align:center;-ms-flex-align:center;align-items:center;}/*!sc*/
.BnySK{font-size:12px;-webkit-flex:auto;-ms-flex:auto;flex:auto;padding-right:16px;color:var(--fgColor-muted,var(--color-fg-muted,#656d76));min-width:0;}/*!sc*/
.VHzRk{top:0px;z-index:4;background:var(--bgColor-default,var(--color-canvas-default));position:-webkit-sticky;position:sticky;}/*!sc*/
.ePiodO{display:-webkit-box;display:-webkit-flex;display:-ms-flexbox;display:flex;-webkit-flex-direction:column;-ms-flex-direction:column;flex-direction:column;width:100%;position:absolute;}/*!sc*/
.kQJlnf{display:none;min-width:0;padding-top:8px;padding-bottom:8px;}/*!sc*/
.nSWSp{display:-webkit-box;display:-webkit-flex;display:-ms-flexbox;display:flex;-webkit-align-items:center;-webkit-box-align:center;-ms-flex-align:center;align-items:center;overflow:hidden;margin-left:8px;margin-right:8px;-webkit-flex-direction:row;-ms-flex-direction:row;flex-direction:row;-webkit-box-pack:justify;-webkit-justify-content:space-between;-ms-flex-pack:justify;justify-content:space-between;width:100%;}/*!sc*/
.doiYd{margin-left:4px;margin-right:8px;}/*!sc*/
.jKPiSV{text-overflow:ellipsis;overflow:hidden;display:-webkit-box;display:-webkit-flex;display:-ms-flexbox;display:flex;}/*!sc*/
.iZJewz{display:-webkit-box;display:-webkit-flex;display:-ms-flexbox;display:flex;-webkit-flex-direction:row;-ms-flex-direction:row;flex-direction:row;font-size:14px;min-width:0;-webkit-flex-shrink:1;-ms-flex-negative:1;flex-shrink:1;-webkit-flex-wrap:wrap;-ms-flex-wrap:wrap;flex-wrap:wrap;max-width:100%;-webkit-align-items:center;-webkit-box-align:center;-ms-flex-align:center;align-items:center;}/*!sc*/
.jfjHXm{padding-left:8px;padding-top:8px;padding-bottom:8px;display:-webkit-box;display:-webkit-flex;display:-ms-flexbox;display:flex;-webkit-flex:1;-ms-flex:1;flex:1;-webkit-align-items:center;-webkit-box-align:center;-ms-flex-align:center;align-items:center;-webkit-box-pack:justify;-webkit-justify-content:space-between;-ms-flex-pack:justify;justify-content:space-between;background-color:var(--bgColor-muted,var(--color-canvas-subtle,#f6f8fa));border:1px solid var(--borderColor-default,var(--color-border-default));border-radius:6px 6px 0px 0px;}/*!sc*/
.bfkNRF{display:-webkit-box;display:-webkit-flex;display:-ms-flexbox;display:flex;-webkit-align-items:center;-webkit-box-align:center;-ms-flex-align:center;align-items:center;gap:8px;min-width:0;}/*!sc*/
.fXBLEV{display:block;position:relative;-webkit-box-flex:1;-webkit-flex-grow:1;-ms-flex-positive:1;flex-grow:1;margin-top:-1px;margin-bottom:-1px;--separator-color:transparent;}/*!sc*/
.fXBLEV:not(:last-child){margin-right:1px;}/*!sc*/
.fXBLEV:not(:last-child):after{background-color:var(--separator-color);content:"";position:absolute;right:-2px;top:8px;bottom:8px;width:1px;}/*!sc*/
.fXBLEV:focus-within:has(:focus-visible){--separator-color:transparent;}/*!sc*/
.fXBLEV:first-child{margin-left:-1px;}/*!sc*/
.fXBLEV:last-child{margin-right:-1px;}/*!sc*/
.gMPsNT{display:block;position:relative;-webkit-box-flex:1;-webkit-flex-grow:1;-ms-flex-positive:1;flex-grow:1;margin-top:-1px;margin-bottom:-1px;--separator-color:var(--borderColor-default,var(--color-border-default,#d0d7de));}/*!sc*/
.gMPsNT:not(:last-child){margin-right:1px;}/*!sc*/
.gMPsNT:not(:last-child):after{background-color:var(--separator-color);content:"";position:absolute;right:-2px;top:8px;bottom:8px;width:1px;}/*!sc*/
.gMPsNT:focus-within:has(:focus-visible){--separator-color:transparent;}/*!sc*/
.gMPsNT:first-child{margin-left:-1px;}/*!sc*/
.gMPsNT:last-child{margin-right:-1px;}/*!sc*/
.iBylDf{display:-webkit-box;display:-webkit-flex;display:-ms-flexbox;display:flex;-webkit-align-items:center;-webkit-box-align:center;-ms-flex-align:center;align-items:center;gap:8px;margin-right:8px;}/*!sc*/
.kSGBPx{gap:8px;}/*!sc*/
.ytOJl{border:1px solid;border-top:none;border-color:var(--borderColor-default,var(--color-border-default,#d0d7de));border-radius:0px 0px 6px 6px;min-width:273px;}/*!sc*/
.eJsjkT{background-color:var(--bgColor-default,var(--color-canvas-default));border:0px;border-width:0;border-radius:0px 0px 6px 6px;padding:0;min-width:0;margin-top:46px;overflow:auto;}/*!sc*/
.aZrVR{position:fixed;top:0;right:0;height:100%;width:15px;-webkit-transition:-webkit-transform 0.3s;-webkit-transition:transform 0.3s;transition:transform 0.3s;z-index:1;}/*!sc*/
.aZrVR:hover{-webkit-transform:scaleX(1.5);-ms-transform:scaleX(1.5);transform:scaleX(1.5);}/*!sc*/
.bAzdCq{display:-webkit-box;display:-webkit-flex;display:-ms-flexbox;display:flex;-webkit-flex-direction:column;-ms-flex-direction:column;flex-direction:column;-webkit-align-items:center;-webkit-box-align:center;-ms-flex-align:center;align-items:center;padding-top:16px;padding-bottom:16px;}/*!sc*/
data-styled.g2[id="Box-sc-g0xbh4-0"]{content:"fSWWem,kPPmzM,cIAPDV,gvCnwW,coFgrZ,eUyHuk,gNdDUH,hAeDYA,fjdBNx,emFMJu,hlUAHL,iStsmI,eIgvIk,eVFfWF,fywjmm,dyczTK,cpXcux,iPEkxH,kkrdEu,trpoQ,bKgizp,iPGYsi,dKmYfk,ehCeGn,eTvGbF,kzRgrI,cmAPIB,jwXCBK,gtBUEp,kfYOBR,cNvKlH,hVZtwF,cMYnca,jQCQnS,eYedVD,lhFvfi,jGfYmh,bqgLjk,iJmJly,jACbi,gIJuDf,fleZSW,BnySK,VHzRk,ePiodO,kQJlnf,nSWSp,doiYd,jKPiSV,iZJewz,jfjHXm,bfkNRF,fXBLEV,gMPsNT,iBylDf,kSGBPx,ytOJl,eJsjkT,aZrVR,bAzdCq,"}/*!sc*/
body[data-page-layout-dragging="true"]{cursor:col-resize;}/*!sc*/
body[data-page-layout-dragging="true"] *{-webkit-user-select:none;-moz-user-select:none;-ms-user-select:none;user-select:none;}/*!sc*/
data-styled.g3[id="sc-global-gbKrvU1"]{content:"sc-global-gbKrvU1,"}/*!sc*/
.bOMzPg{min-width:0;}/*!sc*/
.fIsVJr{padding-left:4px;padding-right:4px;font-weight:400;color:var(--fgColor-muted,var(--color-fg-muted,#656d76));font-size:16px;}/*!sc*/
.dALsKK{color:var(--fgColor-default,var(--color-fg-default,#1F2328));}/*!sc*/
.cYjMDB{padding-left:4px;padding-right:4px;font-weight:400;color:var(--fgColor-muted,var(--color-fg-muted,#656d76));font-size:14px;}/*!sc*/
data-styled.g6[id="Text-sc-17v1xeu-0"]{content:"bOMzPg,fIsVJr,dALsKK,gPDEWA,cYjMDB,"}/*!sc*/
.ipyMWB{color:var(--fgColor-accent,var(--color-accent-fg,#0969da));-webkit-text-decoration:none;text-decoration:none;font-weight:600;}/*!sc*/
[data-a11y-link-underlines='true'] .Link__StyledLink-sc-14289xe-0[data-inline='true']{-webkit-text-decoration:underline;text-decoration:underline;}/*!sc*/
.ipyMWB:hover{-webkit-text-decoration:underline;text-decoration:underline;}/*!sc*/
.ipyMWB:is(button){display:inline-block;padding:0;font-size:inherit;white-space:nowrap;cursor:pointer;-webkit-user-select:none;-moz-user-select:none;-ms-user-select:none;user-select:none;background-color:transparent;border:0;-webkit-appearance:none;-moz-appearance:none;appearance:none;}/*!sc*/
.dheQRw{color:var(--fgColor-accent,var(--color-accent-fg,#0969da));-webkit-text-decoration:none;text-decoration:none;}/*!sc*/
[data-a11y-link-underlines='true'] .Link__StyledLink-sc-14289xe-0[data-inline='true']{-webkit-text-decoration:underline;text-decoration:underline;}/*!sc*/
.dheQRw:hover{-webkit-text-decoration:underline;text-decoration:underline;}/*!sc*/
.dheQRw:is(button){display:inline-block;padding:0;font-size:inherit;white-space:nowrap;cursor:pointer;-webkit-user-select:none;-moz-user-select:none;-ms-user-select:none;user-select:none;background-color:transparent;border:0;-webkit-appearance:none;-moz-appearance:none;appearance:none;}/*!sc*/
data-styled.g8[id="Link__StyledLink-sc-14289xe-0"]{content:"ipyMWB,dheQRw,"}/*!sc*/
.blmaBs{border-radius:6px;border:1px solid;border-color:transparent;font-family:inherit;font-weight:500;font-size:14px;cursor:pointer;-webkit-appearance:none;-moz-appearance:none;appearance:none;-webkit-user-select:none;-moz-user-select:none;-ms-user-select:none;user-select:none;-webkit-text-decoration:none;text-decoration:none;text-align:center;display:-webkit-box;display:-webkit-flex;display:-ms-flexbox;display:flex;-webkit-align-items:center;-webkit-box-align:center;-ms-flex-align:center;align-items:center;-webkit-box-pack:justify;-webkit-justify-content:space-between;-ms-flex-pack:justify;justify-content:space-between;height:32px;padding:0 12px;gap:8px;min-width:-webkit-max-content;min-width:-moz-max-content;min-width:max-content;-webkit-transition:80ms cubic-bezier(0.65,0,0.35,1);transition:80ms cubic-bezier(0.65,0,0.35,1);-webkit-transition-property:color,fill,background-color,border-color;transition-property:color,fill,background-color,border-color;color:var(--button-default-fgColor-rest,var(--color-btn-text,#24292f));background-color:transparent;box-shadow:none;}/*!sc*/
.blmaBs:focus:not(:disabled){box-shadow:none;outline:2px solid var(--fgColor-accent,var(--color-accent-fg,#0969da));outline-offset:-2px;}/*!sc*/
.blmaBs:focus:not(:disabled):not(:focus-visible){outline:solid 1px transparent;}/*!sc*/
.blmaBs:focus-visible:not(:disabled){box-shadow:none;outline:2px solid var(--fgColor-accent,var(--color-accent-fg,#0969da));outline-offset:-2px;}/*!sc*/
.blmaBs[href]{display:-webkit-inline-box;display:-webkit-inline-flex;display:-ms-inline-flexbox;display:inline-flex;}/*!sc*/
.blmaBs[href]:hover{-webkit-text-decoration:none;text-decoration:none;}/*!sc*/
.blmaBs:hover{-webkit-transition-duration:80ms;transition-duration:80ms;}/*!sc*/
.blmaBs:active{-webkit-transition:none;transition:none;}/*!sc*/
.blmaBs[data-inactive]{cursor:auto;}/*!sc*/
.blmaBs:disabled{cursor:not-allowed;box-shadow:none;color:var(--fgColor-disabled,var(--color-primer-fg-disabled,#8c959f));}/*!sc*/
.blmaBs:disabled [data-component=ButtonCounter],.blmaBs:disabled [data-component="leadingVisual"],.blmaBs:disabled [data-component="trailingAction"]{color:inherit;}/*!sc*/
@media (forced-colors:active){.blmaBs:focus{outline:solid 1px transparent;}}/*!sc*/
.blmaBs [data-component=ButtonCounter]{font-size:12px;}/*!sc*/
.blmaBs[data-component=IconButton]{display:inline-grid;padding:unset;place-content:center;width:32px;min-width:unset;}/*!sc*/
.blmaBs[data-size="small"]{padding:0 8px;height:28px;gap:4px;font-size:12px;}/*!sc*/
.blmaBs[data-size="small"] [data-component="text"]{line-height:calc(20 / 12);}/*!sc*/
.blmaBs[data-size="small"] [data-component=ButtonCounter]{font-size:12px;}/*!sc*/
.blmaBs[data-size="small"] [data-component="buttonContent"] > :not(:last-child){margin-right:4px;}/*!sc*/
.blmaBs[data-size="small"][data-component=IconButton]{width:28px;padding:unset;}/*!sc*/
.blmaBs[data-size="large"]{padding:0 16px;height:40px;gap:8px;}/*!sc*/
.blmaBs[data-size="large"] [data-component="buttonContent"] > :not(:last-child){margin-right:8px;}/*!sc*/
.blmaBs[data-size="large"][data-component=IconButton]{width:40px;padding:unset;}/*!sc*/
.blmaBs[data-block="block"]{width:100%;}/*!sc*/
.blmaBs[data-inactive]:not([disabled]){background-color:var(--button-inactive-bgColor,var(--button-inactive-bgColor-rest,var(--color-btn-inactive-bg,#eaeef2)));border-color:var(--button-inactive-bgColor,var(--button-inactive-bgColor-rest,var(--color-btn-inactive-bg,#eaeef2)));color:var(--button-inactive-fgColor,var(--button-inactive-fgColor-rest,var(--color-btn-inactive-text,#57606a)));}/*!sc*/
.blmaBs[data-inactive]:not([disabled]):focus-visible{box-shadow:none;}/*!sc*/
.blmaBs [data-component="leadingVisual"]{grid-area:leadingVisual;color:var(--fgColor-muted,var(--color-fg-muted,#656d76));}/*!sc*/
.blmaBs [data-component="text"]{grid-area:text;line-height:calc(20/14);white-space:nowrap;}/*!sc*/
.blmaBs [data-component="trailingVisual"]{grid-area:trailingVisual;}/*!sc*/
.blmaBs [data-component="trailingAction"]{margin-right:-4px;color:var(--fgColor-muted,var(--color-fg-muted,#656d76));}/*!sc*/
.blmaBs [data-component="buttonContent"]{-webkit-flex:1 0 auto;-ms-flex:1 0 auto;flex:1 0 auto;display:grid;grid-template-areas:"leadingVisual text trailingVisual";grid-template-columns:min-content minmax(0,auto) min-content;-webkit-align-items:center;-webkit-box-align:center;-ms-flex-align:center;align-items:center;-webkit-align-content:center;-ms-flex-line-pack:center;align-content:center;}/*!sc*/
.blmaBs [data-component="buttonContent"] > :not(:last-child){margin-right:8px;}/*!sc*/
.blmaBs:hover:not([disabled]){background-color:var(--control-transparent-bgColor-hover,var(--color-action-list-item-default-hover-bg,rgba(208,215,222,0.32)));}/*!sc*/
.blmaBs:active:not([disabled]){background-color:var(--control-transparent-bgColor-active,var(--color-action-list-item-default-active-bg,rgba(208,215,222,0.48)));}/*!sc*/
.blmaBs[aria-expanded=true]{background-color:var(--control-transparent-bgColor-selected,var(--color-action-list-item-default-selected-bg,rgba(208,215,222,0.24)));}/*!sc*/
.blmaBs[data-component="IconButton"][data-no-visuals]{color:var(--fgColor-muted,var(--color-fg-muted,#656d76));}/*!sc*/
.blmaBs[data-no-visuals]{color:var(--fgColor-accent,var(--color-accent-fg,#0969da));}/*!sc*/
.blmaBs:has([data-component="ButtonCounter"]){color:var(--button-default-fgColor-rest,var(--color-btn-text,#24292f));}/*!sc*/
.blmaBs:disabled[data-no-visuals]{color:var(--fgColor-disabled,var(--color-primer-fg-disabled,#8c959f));}/*!sc*/
.blmaBs:disabled[data-no-visuals] [data-component=ButtonCounter]{color:inherit;}/*!sc*/
.blmaBs{color:var(--fgColor-muted,var(--color-fg-muted,#656d76));padding-left:8px;padding-right:8px;display:none;}/*!sc*/
@media screen and (max-width:768px){.blmaBs{display:block;}}/*!sc*/
.hkJzmn{border-radius:6px;border:1px solid;border-color:transparent;font-family:inherit;font-weight:500;font-size:14px;cursor:pointer;-webkit-appearance:none;-moz-appearance:none;appearance:none;-webkit-user-select:none;-moz-user-select:none;-ms-user-select:none;user-select:none;-webkit-text-decoration:none;text-decoration:none;text-align:center;display:-webkit-box;display:-webkit-flex;display:-ms-flexbox;display:flex;-webkit-align-items:center;-webkit-box-align:center;-ms-flex-align:center;align-items:center;-webkit-box-pack:justify;-webkit-justify-content:space-between;-ms-flex-pack:justify;justify-content:space-between;height:32px;padding:0 12px;gap:8px;min-width:-webkit-max-content;min-width:-moz-max-content;min-width:max-content;-webkit-transition:80ms cubic-bezier(0.65,0,0.35,1);transition:80ms cubic-bezier(0.65,0,0.35,1);-webkit-transition-property:color,fill,background-color,border-color;transition-property:color,fill,background-color,border-color;color:var(--button-default-fgColor-rest,var(--color-btn-text,#24292f));background-color:transparent;box-shadow:none;}/*!sc*/
.hkJzmn:focus:not(:disabled){box-shadow:none;outline:2px solid var(--fgColor-accent,var(--color-accent-fg,#0969da));outline-offset:-2px;}/*!sc*/
.hkJzmn:focus:not(:disabled):not(:focus-visible){outline:solid 1px transparent;}/*!sc*/
.hkJzmn:focus-visible:not(:disabled){box-shadow:none;outline:2px solid var(--fgColor-accent,var(--color-accent-fg,#0969da));outline-offset:-2px;}/*!sc*/
.hkJzmn[href]{display:-webkit-inline-box;display:-webkit-inline-flex;display:-ms-inline-flexbox;display:inline-flex;}/*!sc*/
.hkJzmn[href]:hover{-webkit-text-decoration:none;text-decoration:none;}/*!sc*/
.hkJzmn:hover{-webkit-transition-duration:80ms;transition-duration:80ms;}/*!sc*/
.hkJzmn:active{-webkit-transition:none;transition:none;}/*!sc*/
.hkJzmn[data-inactive]{cursor:auto;}/*!sc*/
.hkJzmn:disabled{cursor:not-allowed;box-shadow:none;color:var(--fgColor-disabled,var(--color-primer-fg-disabled,#8c959f));}/*!sc*/
.hkJzmn:disabled [data-component=ButtonCounter],.hkJzmn:disabled [data-component="leadingVisual"],.hkJzmn:disabled [data-component="trailingAction"]{color:inherit;}/*!sc*/
@media (forced-colors:active){.hkJzmn:focus{outline:solid 1px transparent;}}/*!sc*/
.hkJzmn [data-component=ButtonCounter]{font-size:12px;}/*!sc*/
.hkJzmn[data-component=IconButton]{display:inline-grid;padding:unset;place-content:center;width:32px;min-width:unset;}/*!sc*/
.hkJzmn[data-size="small"]{padding:0 8px;height:28px;gap:4px;font-size:12px;}/*!sc*/
.hkJzmn[data-size="small"] [data-component="text"]{line-height:calc(20 / 12);}/*!sc*/
.hkJzmn[data-size="small"] [data-component=ButtonCounter]{font-size:12px;}/*!sc*/
.hkJzmn[data-size="small"] [data-component="buttonContent"] > :not(:last-child){margin-right:4px;}/*!sc*/
.hkJzmn[data-size="small"][data-component=IconButton]{width:28px;padding:unset;}/*!sc*/
.hkJzmn[data-size="large"]{padding:0 16px;height:40px;gap:8px;}/*!sc*/
.hkJzmn[data-size="large"] [data-component="buttonContent"] > :not(:last-child){margin-right:8px;}/*!sc*/
.hkJzmn[data-size="large"][data-component=IconButton]{width:40px;padding:unset;}/*!sc*/
.hkJzmn[data-block="block"]{width:100%;}/*!sc*/
.hkJzmn[data-inactive]:not([disabled]){background-color:var(--button-inactive-bgColor,var(--button-inactive-bgColor-rest,var(--color-btn-inactive-bg,#eaeef2)));border-color:var(--button-inactive-bgColor,var(--button-inactive-bgColor-rest,var(--color-btn-inactive-bg,#eaeef2)));color:var(--button-inactive-fgColor,var(--button-inactive-fgColor-rest,var(--color-btn-inactive-text,#57606a)));}/*!sc*/
.hkJzmn[data-inactive]:not([disabled]):focus-visible{box-shadow:none;}/*!sc*/
.hkJzmn [data-component="leadingVisual"]{grid-area:leadingVisual;color:var(--fgColor-muted,var(--color-fg-muted,#656d76));}/*!sc*/
.hkJzmn [data-component="text"]{grid-area:text;line-height:calc(20/14);white-space:nowrap;}/*!sc*/
.hkJzmn [data-component="trailingVisual"]{grid-area:trailingVisual;}/*!sc*/
.hkJzmn [data-component="trailingAction"]{margin-right:-4px;color:var(--fgColor-muted,var(--color-fg-muted,#656d76));}/*!sc*/
.hkJzmn [data-component="buttonContent"]{-webkit-flex:1 0 auto;-ms-flex:1 0 auto;flex:1 0 auto;display:grid;grid-template-areas:"leadingVisual text trailingVisual";grid-template-columns:min-content minmax(0,auto) min-content;-webkit-align-items:center;-webkit-box-align:center;-ms-flex-align:center;align-items:center;-webkit-align-content:center;-ms-flex-line-pack:center;align-content:center;}/*!sc*/
.hkJzmn [data-component="buttonContent"] > :not(:last-child){margin-right:8px;}/*!sc*/
.hkJzmn:hover:not([disabled]){background-color:var(--control-transparent-bgColor-hover,var(--color-action-list-item-default-hover-bg,rgba(208,215,222,0.32)));}/*!sc*/
.hkJzmn:active:not([disabled]){background-color:var(--control-transparent-bgColor-active,var(--color-action-list-item-default-active-bg,rgba(208,215,222,0.48)));}/*!sc*/
.hkJzmn[aria-expanded=true]{background-color:var(--control-transparent-bgColor-selected,var(--color-action-list-item-default-selected-bg,rgba(208,215,222,0.24)));}/*!sc*/
.hkJzmn[data-component="IconButton"][data-no-visuals]{color:var(--fgColor-muted,var(--color-fg-muted,#656d76));}/*!sc*/
.hkJzmn[data-no-visuals]{color:var(--fgColor-muted,var(--color-fg-muted,#656d76));height:32px;position:relative;}/*!sc*/
@media screen and (max-width:768px){.hkJzmn[data-no-visuals]{display:none;}}/*!sc*/
.hkJzmn:has([data-component="ButtonCounter"]){color:var(--button-default-fgColor-rest,var(--color-btn-text,#24292f));}/*!sc*/
.hkJzmn:disabled[data-no-visuals]{color:var(--fgColor-disabled,var(--color-primer-fg-disabled,#8c959f));}/*!sc*/
.hkJzmn:disabled[data-no-visuals] [data-component=ButtonCounter]{color:inherit;}/*!sc*/
.hILMMl{border-radius:6px;border:1px solid;border-color:var(--button-default-borderColor-rest,var(--button-default-borderColor-rest,var(--color-btn-border,rgba(31,35,40,0.15))));font-family:inherit;font-weight:500;font-size:14px;cursor:pointer;-webkit-appearance:none;-moz-appearance:none;appearance:none;-webkit-user-select:none;-moz-user-select:none;-ms-user-select:none;user-select:none;-webkit-text-decoration:none;text-decoration:none;text-align:center;display:-webkit-box;display:-webkit-flex;display:-ms-flexbox;display:flex;-webkit-align-items:center;-webkit-box-align:center;-ms-flex-align:center;align-items:center;-webkit-box-pack:justify;-webkit-justify-content:space-between;-ms-flex-pack:justify;justify-content:space-between;height:32px;padding:0 12px;gap:8px;min-width:-webkit-max-content;min-width:-moz-max-content;min-width:max-content;-webkit-transition:80ms cubic-bezier(0.65,0,0.35,1);transition:80ms cubic-bezier(0.65,0,0.35,1);-webkit-transition-property:color,fill,background-color,border-color;transition-property:color,fill,background-color,border-color;color:var(--button-default-fgColor-rest,var(--color-btn-text,#24292f));background-color:var(--button-default-bgColor-rest,var(--color-btn-bg,#f6f8fa));box-shadow:var(--button-default-shadow-resting,var(--color-btn-shadow,0 1px 0 rgba(31,35,40,0.04))),var(--button-default-shadow-inset,var(--color-btn-inset-shadow,inset 0 1px 0 rgba(255,255,255,0.25)));}/*!sc*/
.hILMMl:focus:not(:disabled){box-shadow:none;outline:2px solid var(--fgColor-accent,var(--color-accent-fg,#0969da));outline-offset:-2px;}/*!sc*/
.hILMMl:focus:not(:disabled):not(:focus-visible){outline:solid 1px transparent;}/*!sc*/
.hILMMl:focus-visible:not(:disabled){box-shadow:none;outline:2px solid var(--fgColor-accent,var(--color-accent-fg,#0969da));outline-offset:-2px;}/*!sc*/
.hILMMl[href]{display:-webkit-inline-box;display:-webkit-inline-flex;display:-ms-inline-flexbox;display:inline-flex;}/*!sc*/
.hILMMl[href]:hover{-webkit-text-decoration:none;text-decoration:none;}/*!sc*/
.hILMMl:hover{-webkit-transition-duration:80ms;transition-duration:80ms;}/*!sc*/
.hILMMl:active{-webkit-transition:none;transition:none;}/*!sc*/
.hILMMl[data-inactive]{cursor:auto;}/*!sc*/
.hILMMl:disabled{cursor:not-allowed;box-shadow:none;color:var(--fgColor-disabled,var(--color-primer-fg-disabled,#8c959f));border-color:var(--button-default-borderColor-disabled,var(--button-default-borderColor-rest,var(--color-btn-border,rgba(31,35,40,0.15))));background-color:var(--button-default-bgColor-disabled,var(--control-bgColor-disabled,var(--color-input-disabled-bg,rgba(175,184,193,0.2))));}/*!sc*/
.hILMMl:disabled [data-component=ButtonCounter]{color:inherit;}/*!sc*/
@media (forced-colors:active){.hILMMl:focus{outline:solid 1px transparent;}}/*!sc*/
.hILMMl [data-component=ButtonCounter]{font-size:12px;background-color:var(--buttonCounter-default-bgColor-rest,var(--color-btn-counter-bg,rgba(31,35,40,0.08)));}/*!sc*/
.hILMMl[data-component=IconButton]{display:inline-grid;padding:unset;place-content:center;width:32px;min-width:unset;}/*!sc*/
.hILMMl[data-size="small"]{padding:0 8px;height:28px;gap:4px;font-size:12px;}/*!sc*/
.hILMMl[data-size="small"] [data-component="text"]{line-height:calc(20 / 12);}/*!sc*/
.hILMMl[data-size="small"] [data-component=ButtonCounter]{font-size:12px;}/*!sc*/
.hILMMl[data-size="small"] [data-component="buttonContent"] > :not(:last-child){margin-right:4px;}/*!sc*/
.hILMMl[data-size="small"][data-component=IconButton]{width:28px;padding:unset;}/*!sc*/
.hILMMl[data-size="large"]{padding:0 16px;height:40px;gap:8px;}/*!sc*/
.hILMMl[data-size="large"] [data-component="buttonContent"] > :not(:last-child){margin-right:8px;}/*!sc*/
.hILMMl[data-size="large"][data-component=IconButton]{width:40px;padding:unset;}/*!sc*/
.hILMMl[data-block="block"]{width:100%;}/*!sc*/
.hILMMl[data-inactive]:not([disabled]){background-color:var(--button-inactive-bgColor,var(--button-inactive-bgColor-rest,var(--color-btn-inactive-bg,#eaeef2)));border-color:var(--button-inactive-bgColor,var(--button-inactive-bgColor-rest,var(--color-btn-inactive-bg,#eaeef2)));color:var(--button-inactive-fgColor,var(--button-inactive-fgColor-rest,var(--color-btn-inactive-text,#57606a)));}/*!sc*/
.hILMMl[data-inactive]:not([disabled]):focus-visible{box-shadow:none;}/*!sc*/
.hILMMl [data-component="leadingVisual"]{grid-area:leadingVisual;}/*!sc*/
.hILMMl [data-component="text"]{grid-area:text;line-height:calc(20/14);white-space:nowrap;}/*!sc*/
.hILMMl [data-component="trailingVisual"]{grid-area:trailingVisual;}/*!sc*/
.hILMMl [data-component="trailingAction"]{margin-right:-4px;}/*!sc*/
.hILMMl [data-component="buttonContent"]{-webkit-flex:1 0 auto;-ms-flex:1 0 auto;flex:1 0 auto;display:grid;grid-template-areas:"leadingVisual text trailingVisual";grid-template-columns:min-content minmax(0,auto) min-content;-webkit-align-items:center;-webkit-box-align:center;-ms-flex-align:center;align-items:center;-webkit-align-content:center;-ms-flex-line-pack:center;align-content:center;}/*!sc*/
.hILMMl [data-component="buttonContent"] > :not(:last-child){margin-right:8px;}/*!sc*/
.hILMMl:hover:not([disabled]):not([data-inactive]){background-color:var(--button-default-bgColor-hover,var(--color-btn-hover-bg,#f3f4f6));border-color:var(--button-default-borderColor-hover,var(--button-default-borderColor-hover,var(--color-btn-hover-border,rgba(31,35,40,0.15))));}/*!sc*/
.hILMMl:active:not([disabled]):not([data-inactive]){background-color:var(--button-default-bgColor-active,var(--color-btn-active-bg,hsla(220,14%,93%,1)));border-color:var(--button-default-borderColor-active,var(--button-default-borderColor-active,var(--color-btn-active-border,rgba(31,35,40,0.15))));}/*!sc*/
.hILMMl[aria-expanded=true]{background-color:var(--button-default-bgColor-active,var(--color-btn-active-bg,hsla(220,14%,93%,1)));border-color:var(--button-default-borderColor-active,var(--button-default-borderColor-active,var(--color-btn-active-border,rgba(31,35,40,0.15))));}/*!sc*/
.hILMMl [data-component="leadingVisual"],.hILMMl [data-component="trailingVisual"],.hILMMl [data-component="trailingAction"]{color:var(--button-color,var(--fgColor-muted,var(--color-fg-muted,#656d76)));}/*!sc*/
.hILMMl[data-component="IconButton"][data-no-visuals]{color:var(--fgColor-muted,var(--color-fg-muted,#656d76));}/*!sc*/
.hILMMl{display:-webkit-box;display:-webkit-flex;display:-ms-flexbox;display:flex;}/*!sc*/
.hILMMl svg{color:var(--fgColor-muted,var(--color-fg-muted,#656d76));}/*!sc*/
.hILMMl > span{width:inherit;}/*!sc*/
.ivbpoP{border-radius:6px;border:1px solid;border-color:transparent;font-family:inherit;font-weight:500;font-size:14px;cursor:pointer;-webkit-appearance:none;-moz-appearance:none;appearance:none;-webkit-user-select:none;-moz-user-select:none;-ms-user-select:none;user-select:none;-webkit-text-decoration:none;text-decoration:none;text-align:center;display:-webkit-box;display:-webkit-flex;display:-ms-flexbox;display:flex;-webkit-align-items:center;-webkit-box-align:center;-ms-flex-align:center;align-items:center;-webkit-box-pack:justify;-webkit-justify-content:space-between;-ms-flex-pack:justify;justify-content:space-between;height:32px;padding:0 12px;gap:8px;min-width:-webkit-max-content;min-width:-moz-max-content;min-width:max-content;-webkit-transition:80ms cubic-bezier(0.65,0,0.35,1);transition:80ms cubic-bezier(0.65,0,0.35,1);-webkit-transition-property:color,fill,background-color,border-color;transition-property:color,fill,background-color,border-color;color:var(--button-default-fgColor-rest,var(--color-btn-text,#24292f));background-color:transparent;box-shadow:none;}/*!sc*/
.ivbpoP:focus:not(:disabled){box-shadow:none;outline:2px solid var(--fgColor-accent,var(--color-accent-fg,#0969da));outline-offset:-2px;}/*!sc*/
.ivbpoP:focus:not(:disabled):not(:focus-visible){outline:solid 1px transparent;}/*!sc*/
.ivbpoP:focus-visible:not(:disabled){box-shadow:none;outline:2px solid var(--fgColor-accent,var(--color-accent-fg,#0969da));outline-offset:-2px;}/*!sc*/
.ivbpoP[href]{display:-webkit-inline-box;display:-webkit-inline-flex;display:-ms-inline-flexbox;display:inline-flex;}/*!sc*/
.ivbpoP[href]:hover{-webkit-text-decoration:none;text-decoration:none;}/*!sc*/
.ivbpoP:hover{-webkit-transition-duration:80ms;transition-duration:80ms;}/*!sc*/
.ivbpoP:active{-webkit-transition:none;transition:none;}/*!sc*/
.ivbpoP[data-inactive]{cursor:auto;}/*!sc*/
.ivbpoP:disabled{cursor:not-allowed;box-shadow:none;color:var(--fgColor-disabled,var(--color-primer-fg-disabled,#8c959f));}/*!sc*/
.ivbpoP:disabled [data-component=ButtonCounter],.ivbpoP:disabled [data-component="leadingVisual"],.ivbpoP:disabled [data-component="trailingAction"]{color:inherit;}/*!sc*/
@media (forced-colors:active){.ivbpoP:focus{outline:solid 1px transparent;}}/*!sc*/
.ivbpoP [data-component=ButtonCounter]{font-size:12px;}/*!sc*/
.ivbpoP[data-component=IconButton]{display:inline-grid;padding:unset;place-content:center;width:32px;min-width:unset;}/*!sc*/
.ivbpoP[data-size="small"]{padding:0 8px;height:28px;gap:4px;font-size:12px;}/*!sc*/
.ivbpoP[data-size="small"] [data-component="text"]{line-height:calc(20 / 12);}/*!sc*/
.ivbpoP[data-size="small"] [data-component=ButtonCounter]{font-size:12px;}/*!sc*/
.ivbpoP[data-size="small"] [data-component="buttonContent"] > :not(:last-child){margin-right:4px;}/*!sc*/
.ivbpoP[data-size="small"][data-component=IconButton]{width:28px;padding:unset;}/*!sc*/
.ivbpoP[data-size="large"]{padding:0 16px;height:40px;gap:8px;}/*!sc*/
.ivbpoP[data-size="large"] [data-component="buttonContent"] > :not(:last-child){margin-right:8px;}/*!sc*/
.ivbpoP[data-size="large"][data-component=IconButton]{width:40px;padding:unset;}/*!sc*/
.ivbpoP[data-block="block"]{width:100%;}/*!sc*/
.ivbpoP[data-inactive]:not([disabled]){background-color:var(--button-inactive-bgColor,var(--button-inactive-bgColor-rest,var(--color-btn-inactive-bg,#eaeef2)));border-color:var(--button-inactive-bgColor,var(--button-inactive-bgColor-rest,var(--color-btn-inactive-bg,#eaeef2)));color:var(--button-inactive-fgColor,var(--button-inactive-fgColor-rest,var(--color-btn-inactive-text,#57606a)));}/*!sc*/
.ivbpoP[data-inactive]:not([disabled]):focus-visible{box-shadow:none;}/*!sc*/
.ivbpoP [data-component="leadingVisual"]{grid-area:leadingVisual;color:var(--fgColor-muted,var(--color-fg-muted,#656d76));}/*!sc*/
.ivbpoP [data-component="text"]{grid-area:text;line-height:calc(20/14);white-space:nowrap;}/*!sc*/
.ivbpoP [data-component="trailingVisual"]{grid-area:trailingVisual;}/*!sc*/
.ivbpoP [data-component="trailingAction"]{margin-right:-4px;color:var(--fgColor-muted,var(--color-fg-muted,#656d76));}/*!sc*/
.ivbpoP [data-component="buttonContent"]{-webkit-flex:1 0 auto;-ms-flex:1 0 auto;flex:1 0 auto;display:grid;grid-template-areas:"leadingVisual text trailingVisual";grid-template-columns:min-content minmax(0,auto) min-content;-webkit-align-items:center;-webkit-box-align:center;-ms-flex-align:center;align-items:center;-webkit-align-content:center;-ms-flex-line-pack:center;align-content:center;}/*!sc*/
.ivbpoP [data-component="buttonContent"] > :not(:last-child){margin-right:8px;}/*!sc*/
.ivbpoP:hover:not([disabled]){background-color:var(--control-transparent-bgColor-hover,var(--color-action-list-item-default-hover-bg,rgba(208,215,222,0.32)));}/*!sc*/
.ivbpoP:active:not([disabled]){background-color:var(--control-transparent-bgColor-active,var(--color-action-list-item-default-active-bg,rgba(208,215,222,0.48)));}/*!sc*/
.ivbpoP[aria-expanded=true]{background-color:var(--control-transparent-bgColor-selected,var(--color-action-list-item-default-selected-bg,rgba(208,215,222,0.24)));}/*!sc*/
.ivbpoP[data-component="IconButton"][data-no-visuals]{color:var(--fgColor-muted,var(--color-fg-muted,#656d76));}/*!sc*/
.ivbpoP[data-no-visuals]{color:var(--fgColor-accent,var(--color-accent-fg,#0969da));}/*!sc*/
.ivbpoP:has([data-component="ButtonCounter"]){color:var(--button-default-fgColor-rest,var(--color-btn-text,#24292f));}/*!sc*/
.ivbpoP:disabled[data-no-visuals]{color:var(--fgColor-disabled,var(--color-primer-fg-disabled,#8c959f));}/*!sc*/
.ivbpoP:disabled[data-no-visuals] [data-component=ButtonCounter]{color:inherit;}/*!sc*/
.ivbpoP[data-size="small"][data-no-visuals]{margin-left:8px;}/*!sc*/
.hviaoI{border-radius:6px;border:1px solid;border-color:var(--button-default-borderColor-rest,var(--button-default-borderColor-rest,var(--color-btn-border,rgba(31,35,40,0.15))));font-family:inherit;font-weight:500;font-size:14px;cursor:pointer;-webkit-appearance:none;-moz-appearance:none;appearance:none;-webkit-user-select:none;-moz-user-select:none;-ms-user-select:none;user-select:none;-webkit-text-decoration:none;text-decoration:none;text-align:center;display:-webkit-box;display:-webkit-flex;display:-ms-flexbox;display:flex;-webkit-align-items:center;-webkit-box-align:center;-ms-flex-align:center;align-items:center;-webkit-box-pack:justify;-webkit-justify-content:space-between;-ms-flex-pack:justify;justify-content:space-between;height:32px;padding:0 12px;gap:8px;min-width:-webkit-max-content;min-width:-moz-max-content;min-width:max-content;-webkit-transition:80ms cubic-bezier(0.65,0,0.35,1);transition:80ms cubic-bezier(0.65,0,0.35,1);-webkit-transition-property:color,fill,background-color,border-color;transition-property:color,fill,background-color,border-color;color:var(--button-default-fgColor-rest,var(--color-btn-text,#24292f));background-color:var(--button-default-bgColor-rest,var(--color-btn-bg,#f6f8fa));box-shadow:var(--button-default-shadow-resting,var(--color-btn-shadow,0 1px 0 rgba(31,35,40,0.04))),var(--button-default-shadow-inset,var(--color-btn-inset-shadow,inset 0 1px 0 rgba(255,255,255,0.25)));}/*!sc*/
.hviaoI:focus:not(:disabled){box-shadow:none;outline:2px solid var(--fgColor-accent,var(--color-accent-fg,#0969da));outline-offset:-2px;}/*!sc*/
.hviaoI:focus:not(:disabled):not(:focus-visible){outline:solid 1px transparent;}/*!sc*/
.hviaoI:focus-visible:not(:disabled){box-shadow:none;outline:2px solid var(--fgColor-accent,var(--color-accent-fg,#0969da));outline-offset:-2px;}/*!sc*/
.hviaoI[href]{display:-webkit-inline-box;display:-webkit-inline-flex;display:-ms-inline-flexbox;display:inline-flex;}/*!sc*/
.hviaoI[href]:hover{-webkit-text-decoration:none;text-decoration:none;}/*!sc*/
.hviaoI:hover{-webkit-transition-duration:80ms;transition-duration:80ms;}/*!sc*/
.hviaoI:active{-webkit-transition:none;transition:none;}/*!sc*/
.hviaoI[data-inactive]{cursor:auto;}/*!sc*/
.hviaoI:disabled{cursor:not-allowed;box-shadow:none;color:var(--fgColor-disabled,var(--color-primer-fg-disabled,#8c959f));border-color:var(--button-default-borderColor-disabled,var(--button-default-borderColor-rest,var(--color-btn-border,rgba(31,35,40,0.15))));background-color:var(--button-default-bgColor-disabled,var(--control-bgColor-disabled,var(--color-input-disabled-bg,rgba(175,184,193,0.2))));}/*!sc*/
.hviaoI:disabled [data-component=ButtonCounter]{color:inherit;}/*!sc*/
@media (forced-colors:active){.hviaoI:focus{outline:solid 1px transparent;}}/*!sc*/
.hviaoI [data-component=ButtonCounter]{font-size:12px;background-color:var(--buttonCounter-default-bgColor-rest,var(--color-btn-counter-bg,rgba(31,35,40,0.08)));}/*!sc*/
.hviaoI[data-component=IconButton]{display:inline-grid;padding:unset;place-content:center;width:32px;min-width:unset;}/*!sc*/
.hviaoI[data-size="small"]{padding:0 8px;height:28px;gap:4px;font-size:12px;}/*!sc*/
.hviaoI[data-size="small"] [data-component="text"]{line-height:calc(20 / 12);}/*!sc*/
.hviaoI[data-size="small"] [data-component=ButtonCounter]{font-size:12px;}/*!sc*/
.hviaoI[data-size="small"] [data-component="buttonContent"] > :not(:last-child){margin-right:4px;}/*!sc*/
.hviaoI[data-size="small"][data-component=IconButton]{width:28px;padding:unset;}/*!sc*/
.hviaoI[data-size="large"]{padding:0 16px;height:40px;gap:8px;}/*!sc*/
.hviaoI[data-size="large"] [data-component="buttonContent"] > :not(:last-child){margin-right:8px;}/*!sc*/
.hviaoI[data-size="large"][data-component=IconButton]{width:40px;padding:unset;}/*!sc*/
.hviaoI[data-block="block"]{width:100%;}/*!sc*/
.hviaoI[data-inactive]:not([disabled]){background-color:var(--button-inactive-bgColor,var(--button-inactive-bgColor-rest,var(--color-btn-inactive-bg,#eaeef2)));border-color:var(--button-inactive-bgColor,var(--button-inactive-bgColor-rest,var(--color-btn-inactive-bg,#eaeef2)));color:var(--button-inactive-fgColor,var(--button-inactive-fgColor-rest,var(--color-btn-inactive-text,#57606a)));}/*!sc*/
.hviaoI[data-inactive]:not([disabled]):focus-visible{box-shadow:none;}/*!sc*/
.hviaoI [data-component="leadingVisual"]{grid-area:leadingVisual;}/*!sc*/
.hviaoI [data-component="text"]{grid-area:text;line-height:calc(20/14);white-space:nowrap;}/*!sc*/
.hviaoI [data-component="trailingVisual"]{grid-area:trailingVisual;}/*!sc*/
.hviaoI [data-component="trailingAction"]{margin-right:-4px;}/*!sc*/
.hviaoI [data-component="buttonContent"]{-webkit-flex:1 0 auto;-ms-flex:1 0 auto;flex:1 0 auto;display:grid;grid-template-areas:"leadingVisual text trailingVisual";grid-template-columns:min-content minmax(0,auto) min-content;-webkit-align-items:center;-webkit-box-align:center;-ms-flex-align:center;align-items:center;-webkit-align-content:center;-ms-flex-line-pack:center;align-content:center;}/*!sc*/
.hviaoI [data-component="buttonContent"] > :not(:last-child){margin-right:8px;}/*!sc*/
.hviaoI:hover:not([disabled]):not([data-inactive]){background-color:var(--button-default-bgColor-hover,var(--color-btn-hover-bg,#f3f4f6));border-color:var(--button-default-borderColor-hover,var(--button-default-borderColor-hover,var(--color-btn-hover-border,rgba(31,35,40,0.15))));}/*!sc*/
.hviaoI:active:not([disabled]):not([data-inactive]){background-color:var(--button-default-bgColor-active,var(--color-btn-active-bg,hsla(220,14%,93%,1)));border-color:var(--button-default-borderColor-active,var(--button-default-borderColor-active,var(--color-btn-active-border,rgba(31,35,40,0.15))));}/*!sc*/
.hviaoI[aria-expanded=true]{background-color:var(--button-default-bgColor-active,var(--color-btn-active-bg,hsla(220,14%,93%,1)));border-color:var(--button-default-borderColor-active,var(--button-default-borderColor-active,var(--color-btn-active-border,rgba(31,35,40,0.15))));}/*!sc*/
.hviaoI [data-component="leadingVisual"],.hviaoI [data-component="trailingVisual"],.hviaoI [data-component="trailingAction"]{color:var(--button-color,var(--fgColor-muted,var(--color-fg-muted,#656d76)));}/*!sc*/
.hviaoI[data-component="IconButton"][data-no-visuals]{color:var(--fgColor-muted,var(--color-fg-muted,#656d76));}/*!sc*/
.hviaoI[data-no-visuals]{border-top-left-radius:0;border-bottom-left-radius:0;display:none;}/*!sc*/
.jXTShb{border-radius:6px;border:1px solid;border-color:var(--button-default-borderColor-rest,var(--button-default-borderColor-rest,var(--color-btn-border,rgba(31,35,40,0.15))));font-family:inherit;font-weight:500;font-size:14px;cursor:pointer;-webkit-appearance:none;-moz-appearance:none;appearance:none;-webkit-user-select:none;-moz-user-select:none;-ms-user-select:none;user-select:none;-webkit-text-decoration:none;text-decoration:none;text-align:center;display:-webkit-box;display:-webkit-flex;display:-ms-flexbox;display:flex;-webkit-align-items:center;-webkit-box-align:center;-ms-flex-align:center;align-items:center;-webkit-box-pack:justify;-webkit-justify-content:space-between;-ms-flex-pack:justify;justify-content:space-between;height:32px;padding:0 12px;gap:8px;min-width:-webkit-max-content;min-width:-moz-max-content;min-width:max-content;-webkit-transition:80ms cubic-bezier(0.65,0,0.35,1);transition:80ms cubic-bezier(0.65,0,0.35,1);-webkit-transition-property:color,fill,background-color,border-color;transition-property:color,fill,background-color,border-color;color:var(--button-default-fgColor-rest,var(--color-btn-text,#24292f));background-color:var(--button-default-bgColor-rest,var(--color-btn-bg,#f6f8fa));box-shadow:var(--button-default-shadow-resting,var(--color-btn-shadow,0 1px 0 rgba(31,35,40,0.04))),var(--button-default-shadow-inset,var(--color-btn-inset-shadow,inset 0 1px 0 rgba(255,255,255,0.25)));}/*!sc*/
.jXTShb:focus:not(:disabled){box-shadow:none;outline:2px solid var(--fgColor-accent,var(--color-accent-fg,#0969da));outline-offset:-2px;}/*!sc*/
.jXTShb:focus:not(:disabled):not(:focus-visible){outline:solid 1px transparent;}/*!sc*/
.jXTShb:focus-visible:not(:disabled){box-shadow:none;outline:2px solid var(--fgColor-accent,var(--color-accent-fg,#0969da));outline-offset:-2px;}/*!sc*/
.jXTShb[href]{display:-webkit-inline-box;display:-webkit-inline-flex;display:-ms-inline-flexbox;display:inline-flex;}/*!sc*/
.jXTShb[href]:hover{-webkit-text-decoration:none;text-decoration:none;}/*!sc*/
.jXTShb:hover{-webkit-transition-duration:80ms;transition-duration:80ms;}/*!sc*/
.jXTShb:active{-webkit-transition:none;transition:none;}/*!sc*/
.jXTShb[data-inactive]{cursor:auto;}/*!sc*/
.jXTShb:disabled{cursor:not-allowed;box-shadow:none;color:var(--fgColor-disabled,var(--color-primer-fg-disabled,#8c959f));border-color:var(--button-default-borderColor-disabled,var(--button-default-borderColor-rest,var(--color-btn-border,rgba(31,35,40,0.15))));background-color:var(--button-default-bgColor-disabled,var(--control-bgColor-disabled,var(--color-input-disabled-bg,rgba(175,184,193,0.2))));}/*!sc*/
.jXTShb:disabled [data-component=ButtonCounter]{color:inherit;}/*!sc*/
@media (forced-colors:active){.jXTShb:focus{outline:solid 1px transparent;}}/*!sc*/
.jXTShb [data-component=ButtonCounter]{font-size:12px;background-color:var(--buttonCounter-default-bgColor-rest,var(--color-btn-counter-bg,rgba(31,35,40,0.08)));}/*!sc*/
.jXTShb[data-component=IconButton]{display:inline-grid;padding:unset;place-content:center;width:32px;min-width:unset;}/*!sc*/
.jXTShb[data-size="small"]{padding:0 8px;height:28px;gap:4px;font-size:12px;}/*!sc*/
.jXTShb[data-size="small"] [data-component="text"]{line-height:calc(20 / 12);}/*!sc*/
.jXTShb[data-size="small"] [data-component=ButtonCounter]{font-size:12px;}/*!sc*/
.jXTShb[data-size="small"] [data-component="buttonContent"] > :not(:last-child){margin-right:4px;}/*!sc*/
.jXTShb[data-size="small"][data-component=IconButton]{width:28px;padding:unset;}/*!sc*/
.jXTShb[data-size="large"]{padding:0 16px;height:40px;gap:8px;}/*!sc*/
.jXTShb[data-size="large"] [data-component="buttonContent"] > :not(:last-child){margin-right:8px;}/*!sc*/
.jXTShb[data-size="large"][data-component=IconButton]{width:40px;padding:unset;}/*!sc*/
.jXTShb[data-block="block"]{width:100%;}/*!sc*/
.jXTShb[data-inactive]:not([disabled]){background-color:var(--button-inactive-bgColor,var(--button-inactive-bgColor-rest,var(--color-btn-inactive-bg,#eaeef2)));border-color:var(--button-inactive-bgColor,var(--button-inactive-bgColor-rest,var(--color-btn-inactive-bg,#eaeef2)));color:var(--button-inactive-fgColor,var(--button-inactive-fgColor-rest,var(--color-btn-inactive-text,#57606a)));}/*!sc*/
.jXTShb[data-inactive]:not([disabled]):focus-visible{box-shadow:none;}/*!sc*/
.jXTShb [data-component="leadingVisual"]{grid-area:leadingVisual;}/*!sc*/
.jXTShb [data-component="text"]{grid-area:text;line-height:calc(20/14);white-space:nowrap;}/*!sc*/
.jXTShb [data-component="trailingVisual"]{grid-area:trailingVisual;}/*!sc*/
.jXTShb [data-component="trailingAction"]{margin-right:-4px;}/*!sc*/
.jXTShb [data-component="buttonContent"]{-webkit-flex:1 0 auto;-ms-flex:1 0 auto;flex:1 0 auto;display:grid;grid-template-areas:"leadingVisual text trailingVisual";grid-template-columns:min-content minmax(0,auto) min-content;-webkit-align-items:center;-webkit-box-align:center;-ms-flex-align:center;align-items:center;-webkit-align-content:center;-ms-flex-line-pack:center;align-content:center;}/*!sc*/
.jXTShb [data-component="buttonContent"] > :not(:last-child){margin-right:8px;}/*!sc*/
.jXTShb:hover:not([disabled]):not([data-inactive]){background-color:var(--button-default-bgColor-hover,var(--color-btn-hover-bg,#f3f4f6));border-color:var(--button-default-borderColor-hover,var(--button-default-borderColor-hover,var(--color-btn-hover-border,rgba(31,35,40,0.15))));}/*!sc*/
.jXTShb:active:not([disabled]):not([data-inactive]){background-color:var(--button-default-bgColor-active,var(--color-btn-active-bg,hsla(220,14%,93%,1)));border-color:var(--button-default-borderColor-active,var(--button-default-borderColor-active,var(--color-btn-active-border,rgba(31,35,40,0.15))));}/*!sc*/
.jXTShb[aria-expanded=true]{background-color:var(--button-default-bgColor-active,var(--color-btn-active-bg,hsla(220,14%,93%,1)));border-color:var(--button-default-borderColor-active,var(--button-default-borderColor-active,var(--color-btn-active-border,rgba(31,35,40,0.15))));}/*!sc*/
.jXTShb [data-component="leadingVisual"],.jXTShb [data-component="trailingVisual"],.jXTShb [data-component="trailingAction"]{color:var(--button-color,var(--fgColor-muted,var(--color-fg-muted,#656d76)));}/*!sc*/
.jXTShb[data-component="IconButton"][data-no-visuals]{color:var(--fgColor-muted,var(--color-fg-muted,#656d76));}/*!sc*/
.jXTShb[data-no-visuals]{color:var(--fgColor-muted,var(--color-fg-muted,#656d76));}/*!sc*/
.fAkXQN{border-radius:6px;border:1px solid;border-color:transparent;font-family:inherit;font-weight:500;font-size:14px;cursor:pointer;-webkit-appearance:none;-moz-appearance:none;appearance:none;-webkit-user-select:none;-moz-user-select:none;-ms-user-select:none;user-select:none;-webkit-text-decoration:none;text-decoration:none;text-align:center;display:-webkit-box;display:-webkit-flex;display:-ms-flexbox;display:flex;-webkit-align-items:center;-webkit-box-align:center;-ms-flex-align:center;align-items:center;-webkit-box-pack:justify;-webkit-justify-content:space-between;-ms-flex-pack:justify;justify-content:space-between;height:32px;padding:0 12px;gap:8px;min-width:-webkit-max-content;min-width:-moz-max-content;min-width:max-content;-webkit-transition:80ms cubic-bezier(0.65,0,0.35,1);transition:80ms cubic-bezier(0.65,0,0.35,1);-webkit-transition-property:color,fill,background-color,border-color;transition-property:color,fill,background-color,border-color;color:var(--fgColor-default,var(--color-fg-default,#1F2328));background-color:transparent;box-shadow:none;}/*!sc*/
.fAkXQN:focus:not(:disabled){box-shadow:none;outline:2px solid var(--fgColor-accent,var(--color-accent-fg,#0969da));outline-offset:-2px;}/*!sc*/
.fAkXQN:focus:not(:disabled):not(:focus-visible){outline:solid 1px transparent;}/*!sc*/
.fAkXQN:focus-visible:not(:disabled){box-shadow:none;outline:2px solid var(--fgColor-accent,var(--color-accent-fg,#0969da));outline-offset:-2px;}/*!sc*/
.fAkXQN[href]{display:-webkit-inline-box;display:-webkit-inline-flex;display:-ms-inline-flexbox;display:inline-flex;}/*!sc*/
.fAkXQN[href]:hover{-webkit-text-decoration:none;text-decoration:none;}/*!sc*/
.fAkXQN:hover{-webkit-transition-duration:80ms;transition-duration:80ms;}/*!sc*/
.fAkXQN:active{-webkit-transition:none;transition:none;}/*!sc*/
.fAkXQN[data-inactive]{cursor:auto;}/*!sc*/
.fAkXQN:disabled{cursor:not-allowed;box-shadow:none;color:var(--fgColor-disabled,var(--color-primer-fg-disabled,#8c959f));}/*!sc*/
.fAkXQN:disabled [data-component=ButtonCounter],.fAkXQN:disabled [data-component="leadingVisual"],.fAkXQN:disabled [data-component="trailingAction"]{color:inherit;}/*!sc*/
@media (forced-colors:active){.fAkXQN:focus{outline:solid 1px transparent;}}/*!sc*/
.fAkXQN [data-component=ButtonCounter]{font-size:12px;}/*!sc*/
.fAkXQN[data-component=IconButton]{display:inline-grid;padding:unset;place-content:center;width:32px;min-width:unset;}/*!sc*/
.fAkXQN[data-size="small"]{padding:0 8px;height:28px;gap:4px;font-size:12px;}/*!sc*/
.fAkXQN[data-size="small"] [data-component="text"]{line-height:calc(20 / 12);}/*!sc*/
.fAkXQN[data-size="small"] [data-component=ButtonCounter]{font-size:12px;}/*!sc*/
.fAkXQN[data-size="small"] [data-component="buttonContent"] > :not(:last-child){margin-right:4px;}/*!sc*/
.fAkXQN[data-size="small"][data-component=IconButton]{width:28px;padding:unset;}/*!sc*/
.fAkXQN[data-size="large"]{padding:0 16px;height:40px;gap:8px;}/*!sc*/
.fAkXQN[data-size="large"] [data-component="buttonContent"] > :not(:last-child){margin-right:8px;}/*!sc*/
.fAkXQN[data-size="large"][data-component=IconButton]{width:40px;padding:unset;}/*!sc*/
.fAkXQN[data-block="block"]{width:100%;}/*!sc*/
.fAkXQN[data-inactive]:not([disabled]){background-color:var(--button-inactive-bgColor,var(--button-inactive-bgColor-rest,var(--color-btn-inactive-bg,#eaeef2)));border-color:var(--button-inactive-bgColor,var(--button-inactive-bgColor-rest,var(--color-btn-inactive-bg,#eaeef2)));color:var(--button-inactive-fgColor,var(--button-inactive-fgColor-rest,var(--color-btn-inactive-text,#57606a)));}/*!sc*/
.fAkXQN[data-inactive]:not([disabled]):focus-visible{box-shadow:none;}/*!sc*/
.fAkXQN [data-component="leadingVisual"]{grid-area:leadingVisual;color:var(--fgColor-muted,var(--color-fg-muted,#656d76));}/*!sc*/
.fAkXQN [data-component="text"]{grid-area:text;line-height:calc(20/14);white-space:nowrap;}/*!sc*/
.fAkXQN [data-component="trailingVisual"]{grid-area:trailingVisual;}/*!sc*/
.fAkXQN [data-component="trailingAction"]{margin-right:-4px;color:var(--fgColor-muted,var(--color-fg-muted,#656d76));}/*!sc*/
.fAkXQN [data-component="buttonContent"]{-webkit-flex:1 0 auto;-ms-flex:1 0 auto;flex:1 0 auto;display:grid;grid-template-areas:"leadingVisual text trailingVisual";grid-template-columns:min-content minmax(0,auto) min-content;-webkit-align-items:center;-webkit-box-align:center;-ms-flex-align:center;align-items:center;-webkit-align-content:center;-ms-flex-line-pack:center;align-content:center;}/*!sc*/
.fAkXQN [data-component="buttonContent"] > :not(:last-child){margin-right:8px;}/*!sc*/
.fAkXQN:hover:not([disabled]){background-color:var(--control-transparent-bgColor-hover,var(--color-action-list-item-default-hover-bg,rgba(208,215,222,0.32)));-webkit-text-decoration:none;text-decoration:none;}/*!sc*/
.fAkXQN:active:not([disabled]){background-color:var(--control-transparent-bgColor-active,var(--color-action-list-item-default-active-bg,rgba(208,215,222,0.48)));-webkit-text-decoration:none;text-decoration:none;}/*!sc*/
.fAkXQN[aria-expanded=true]{background-color:var(--control-transparent-bgColor-selected,var(--color-action-list-item-default-selected-bg,rgba(208,215,222,0.24)));}/*!sc*/
.fAkXQN[data-component="IconButton"][data-no-visuals]{color:var(--fgColor-muted,var(--color-fg-muted,#656d76));}/*!sc*/
.fAkXQN[data-no-visuals]{color:var(--fgColor-accent,var(--color-accent-fg,#0969da));}/*!sc*/
.fAkXQN:has([data-component="ButtonCounter"]){color:var(--button-default-fgColor-rest,var(--color-btn-text,#24292f));}/*!sc*/
.fAkXQN:disabled[data-no-visuals]{color:var(--fgColor-disabled,var(--color-primer-fg-disabled,#8c959f));}/*!sc*/
.fAkXQN:disabled[data-no-visuals] [data-component=ButtonCounter]{color:inherit;}/*!sc*/
.fAkXQN:focus:not([disabled]){-webkit-text-decoration:none;text-decoration:none;}/*!sc*/
.frAFhH{border-radius:6px;border:1px solid;border-color:transparent;font-family:inherit;font-weight:500;font-size:14px;cursor:pointer;-webkit-appearance:none;-moz-appearance:none;appearance:none;-webkit-user-select:none;-moz-user-select:none;-ms-user-select:none;user-select:none;-webkit-text-decoration:none;text-decoration:none;text-align:center;display:-webkit-box;display:-webkit-flex;display:-ms-flexbox;display:flex;-webkit-align-items:center;-webkit-box-align:center;-ms-flex-align:center;align-items:center;-webkit-box-pack:justify;-webkit-justify-content:space-between;-ms-flex-pack:justify;justify-content:space-between;height:32px;padding:0 12px;gap:8px;min-width:-webkit-max-content;min-width:-moz-max-content;min-width:max-content;-webkit-transition:80ms cubic-bezier(0.65,0,0.35,1);transition:80ms cubic-bezier(0.65,0,0.35,1);-webkit-transition-property:color,fill,background-color,border-color;transition-property:color,fill,background-color,border-color;color:var(--button-default-fgColor-rest,var(--color-btn-text,#24292f));background-color:transparent;box-shadow:none;}/*!sc*/
.frAFhH:focus:not(:disabled){box-shadow:none;outline:2px solid var(--fgColor-accent,var(--color-accent-fg,#0969da));outline-offset:-2px;}/*!sc*/
.frAFhH:focus:not(:disabled):not(:focus-visible){outline:solid 1px transparent;}/*!sc*/
.frAFhH:focus-visible:not(:disabled){box-shadow:none;outline:2px solid var(--fgColor-accent,var(--color-accent-fg,#0969da));outline-offset:-2px;}/*!sc*/
.frAFhH[href]{display:-webkit-inline-box;display:-webkit-inline-flex;display:-ms-inline-flexbox;display:inline-flex;}/*!sc*/
.frAFhH[href]:hover{-webkit-text-decoration:none;text-decoration:none;}/*!sc*/
.frAFhH:hover{-webkit-transition-duration:80ms;transition-duration:80ms;}/*!sc*/
.frAFhH:active{-webkit-transition:none;transition:none;}/*!sc*/
.frAFhH[data-inactive]{cursor:auto;}/*!sc*/
.frAFhH:disabled{cursor:not-allowed;box-shadow:none;color:var(--fgColor-disabled,var(--color-primer-fg-disabled,#8c959f));}/*!sc*/
.frAFhH:disabled [data-component=ButtonCounter],.frAFhH:disabled [data-component="leadingVisual"],.frAFhH:disabled [data-component="trailingAction"]{color:inherit;}/*!sc*/
@media (forced-colors:active){.frAFhH:focus{outline:solid 1px transparent;}}/*!sc*/
.frAFhH [data-component=ButtonCounter]{font-size:12px;}/*!sc*/
.frAFhH[data-component=IconButton]{display:inline-grid;padding:unset;place-content:center;width:32px;min-width:unset;}/*!sc*/
.frAFhH[data-size="small"]{padding:0 8px;height:28px;gap:4px;font-size:12px;color:var(--fgColor-default,var(--color-fg-default,#1F2328));display:none;}/*!sc*/
.frAFhH[data-size="small"] [data-component="text"]{line-height:calc(20 / 12);}/*!sc*/
.frAFhH[data-size="small"] [data-component=ButtonCounter]{font-size:12px;}/*!sc*/
.frAFhH[data-size="small"] [data-component="buttonContent"] > :not(:last-child){margin-right:4px;}/*!sc*/
.frAFhH[data-size="small"][data-component=IconButton]{width:28px;padding:unset;}/*!sc*/
@media screen and (min-width:544px){.frAFhH[data-size="small"]{display:none;}}/*!sc*/
@media screen and (min-width:768px){.frAFhH[data-size="small"]{display:none;}}/*!sc*/
@media screen and (min-width:1012px){.frAFhH[data-size="small"]{display:none;}}/*!sc*/
@media screen and (min-width:1280px){.frAFhH[data-size="small"]{display:block;}}/*!sc*/
.frAFhH[data-size="large"]{padding:0 16px;height:40px;gap:8px;}/*!sc*/
.frAFhH[data-size="large"] [data-component="buttonContent"] > :not(:last-child){margin-right:8px;}/*!sc*/
.frAFhH[data-size="large"][data-component=IconButton]{width:40px;padding:unset;}/*!sc*/
.frAFhH[data-block="block"]{width:100%;}/*!sc*/
.frAFhH[data-inactive]:not([disabled]){background-color:var(--button-inactive-bgColor,var(--button-inactive-bgColor-rest,var(--color-btn-inactive-bg,#eaeef2)));border-color:var(--button-inactive-bgColor,var(--button-inactive-bgColor-rest,var(--color-btn-inactive-bg,#eaeef2)));color:var(--button-inactive-fgColor,var(--button-inactive-fgColor-rest,var(--color-btn-inactive-text,#57606a)));}/*!sc*/
.frAFhH[data-inactive]:not([disabled]):focus-visible{box-shadow:none;}/*!sc*/
.frAFhH [data-component="leadingVisual"]{grid-area:leadingVisual;color:var(--fgColor-muted,var(--color-fg-muted,#656d76));}/*!sc*/
.frAFhH [data-component="text"]{grid-area:text;line-height:calc(20/14);white-space:nowrap;}/*!sc*/
.frAFhH [data-component="trailingVisual"]{grid-area:trailingVisual;}/*!sc*/
.frAFhH [data-component="trailingAction"]{margin-right:-4px;color:var(--fgColor-muted,var(--color-fg-muted,#656d76));}/*!sc*/
.frAFhH [data-component="buttonContent"]{-webkit-flex:1 0 auto;-ms-flex:1 0 auto;flex:1 0 auto;display:grid;grid-template-areas:"leadingVisual text trailingVisual";grid-template-columns:min-content minmax(0,auto) min-content;-webkit-align-items:center;-webkit-box-align:center;-ms-flex-align:center;align-items:center;-webkit-align-content:center;-ms-flex-line-pack:center;align-content:center;}/*!sc*/
.frAFhH [data-component="buttonContent"] > :not(:last-child){margin-right:8px;}/*!sc*/
.frAFhH:hover:not([disabled]){background-color:var(--control-transparent-bgColor-hover,var(--color-action-list-item-default-hover-bg,rgba(208,215,222,0.32)));}/*!sc*/
.frAFhH:active:not([disabled]){background-color:var(--control-transparent-bgColor-active,var(--color-action-list-item-default-active-bg,rgba(208,215,222,0.48)));}/*!sc*/
.frAFhH[aria-expanded=true]{background-color:var(--control-transparent-bgColor-selected,var(--color-action-list-item-default-selected-bg,rgba(208,215,222,0.24)));}/*!sc*/
.frAFhH[data-component="IconButton"][data-no-visuals]{color:var(--fgColor-muted,var(--color-fg-muted,#656d76));}/*!sc*/
.frAFhH[data-no-visuals]{color:var(--fgColor-accent,var(--color-accent-fg,#0969da));}/*!sc*/
.frAFhH:has([data-component="ButtonCounter"]){color:var(--button-default-fgColor-rest,var(--color-btn-text,#24292f));}/*!sc*/
.frAFhH:disabled[data-no-visuals]{color:var(--fgColor-disabled,var(--color-primer-fg-disabled,#8c959f));}/*!sc*/
.frAFhH:disabled[data-no-visuals] [data-component=ButtonCounter]{color:inherit;}/*!sc*/
.gfKkfV{border-radius:6px;border:1px solid;border-color:transparent;font-family:inherit;font-weight:500;font-size:14px;cursor:pointer;-webkit-appearance:none;-moz-appearance:none;appearance:none;-webkit-user-select:none;-moz-user-select:none;-ms-user-select:none;user-select:none;-webkit-text-decoration:none;text-decoration:none;text-align:center;display:-webkit-box;display:-webkit-flex;display:-ms-flexbox;display:flex;-webkit-align-items:center;-webkit-box-align:center;-ms-flex-align:center;align-items:center;-webkit-box-pack:justify;-webkit-justify-content:space-between;-ms-flex-pack:justify;justify-content:space-between;height:32px;padding:0 12px;gap:8px;min-width:-webkit-max-content;min-width:-moz-max-content;min-width:max-content;-webkit-transition:80ms cubic-bezier(0.65,0,0.35,1);transition:80ms cubic-bezier(0.65,0,0.35,1);-webkit-transition-property:color,fill,background-color,border-color;transition-property:color,fill,background-color,border-color;color:var(--button-default-fgColor-rest,var(--color-btn-text,#24292f));background-color:transparent;box-shadow:none;}/*!sc*/
.gfKkfV:focus:not(:disabled){box-shadow:none;outline:2px solid var(--fgColor-accent,var(--color-accent-fg,#0969da));outline-offset:-2px;}/*!sc*/
.gfKkfV:focus:not(:disabled):not(:focus-visible){outline:solid 1px transparent;}/*!sc*/
.gfKkfV:focus-visible:not(:disabled){box-shadow:none;outline:2px solid var(--fgColor-accent,var(--color-accent-fg,#0969da));outline-offset:-2px;}/*!sc*/
.gfKkfV[href]{display:-webkit-inline-box;display:-webkit-inline-flex;display:-ms-inline-flexbox;display:inline-flex;}/*!sc*/
.gfKkfV[href]:hover{-webkit-text-decoration:none;text-decoration:none;}/*!sc*/
.gfKkfV:hover{-webkit-transition-duration:80ms;transition-duration:80ms;}/*!sc*/
.gfKkfV:active{-webkit-transition:none;transition:none;}/*!sc*/
.gfKkfV[data-inactive]{cursor:auto;}/*!sc*/
.gfKkfV:disabled{cursor:not-allowed;box-shadow:none;color:var(--fgColor-disabled,var(--color-primer-fg-disabled,#8c959f));}/*!sc*/
.gfKkfV:disabled [data-component=ButtonCounter],.gfKkfV:disabled [data-component="leadingVisual"],.gfKkfV:disabled [data-component="trailingAction"]{color:inherit;}/*!sc*/
@media (forced-colors:active){.gfKkfV:focus{outline:solid 1px transparent;}}/*!sc*/
.gfKkfV [data-component=ButtonCounter]{font-size:12px;}/*!sc*/
.gfKkfV[data-component=IconButton]{display:inline-grid;padding:unset;place-content:center;width:32px;min-width:unset;}/*!sc*/
.gfKkfV[data-size="small"]{padding:0 8px;height:28px;gap:4px;font-size:12px;color:var(--fgColor-default,var(--color-fg-default,#1F2328));margin-left:8px;}/*!sc*/
.gfKkfV[data-size="small"] [data-component="text"]{line-height:calc(20 / 12);}/*!sc*/
.gfKkfV[data-size="small"] [data-component=ButtonCounter]{font-size:12px;}/*!sc*/
.gfKkfV[data-size="small"] [data-component="buttonContent"] > :not(:last-child){margin-right:4px;}/*!sc*/
.gfKkfV[data-size="small"][data-component=IconButton]{width:28px;padding:unset;}/*!sc*/
.gfKkfV[data-size="large"]{padding:0 16px;height:40px;gap:8px;}/*!sc*/
.gfKkfV[data-size="large"] [data-component="buttonContent"] > :not(:last-child){margin-right:8px;}/*!sc*/
.gfKkfV[data-size="large"][data-component=IconButton]{width:40px;padding:unset;}/*!sc*/
.gfKkfV[data-block="block"]{width:100%;}/*!sc*/
.gfKkfV[data-inactive]:not([disabled]){background-color:var(--button-inactive-bgColor,var(--button-inactive-bgColor-rest,var(--color-btn-inactive-bg,#eaeef2)));border-color:var(--button-inactive-bgColor,var(--button-inactive-bgColor-rest,var(--color-btn-inactive-bg,#eaeef2)));color:var(--button-inactive-fgColor,var(--button-inactive-fgColor-rest,var(--color-btn-inactive-text,#57606a)));}/*!sc*/
.gfKkfV[data-inactive]:not([disabled]):focus-visible{box-shadow:none;}/*!sc*/
.gfKkfV [data-component="leadingVisual"]{grid-area:leadingVisual;color:var(--fgColor-muted,var(--color-fg-muted,#656d76));}/*!sc*/
.gfKkfV [data-component="text"]{grid-area:text;line-height:calc(20/14);white-space:nowrap;}/*!sc*/
.gfKkfV [data-component="trailingVisual"]{grid-area:trailingVisual;}/*!sc*/
.gfKkfV [data-component="trailingAction"]{margin-right:-4px;color:var(--fgColor-muted,var(--color-fg-muted,#656d76));}/*!sc*/
.gfKkfV [data-component="buttonContent"]{-webkit-flex:1 0 auto;-ms-flex:1 0 auto;flex:1 0 auto;display:grid;grid-template-areas:"leadingVisual text trailingVisual";grid-template-columns:min-content minmax(0,auto) min-content;-webkit-align-items:center;-webkit-box-align:center;-ms-flex-align:center;align-items:center;-webkit-align-content:center;-ms-flex-line-pack:center;align-content:center;}/*!sc*/
.gfKkfV [data-component="buttonContent"] > :not(:last-child){margin-right:8px;}/*!sc*/
.gfKkfV:hover:not([disabled]){background-color:var(--control-transparent-bgColor-hover,var(--color-action-list-item-default-hover-bg,rgba(208,215,222,0.32)));}/*!sc*/
.gfKkfV:active:not([disabled]){background-color:var(--control-transparent-bgColor-active,var(--color-action-list-item-default-active-bg,rgba(208,215,222,0.48)));}/*!sc*/
.gfKkfV[aria-expanded=true]{background-color:var(--control-transparent-bgColor-selected,var(--color-action-list-item-default-selected-bg,rgba(208,215,222,0.24)));}/*!sc*/
.gfKkfV[data-component="IconButton"][data-no-visuals]{color:var(--fgColor-muted,var(--color-fg-muted,#656d76));}/*!sc*/
.gfKkfV[data-no-visuals]{color:var(--fgColor-accent,var(--color-accent-fg,#0969da));}/*!sc*/
.gfKkfV:has([data-component="ButtonCounter"]){color:var(--button-default-fgColor-rest,var(--color-btn-text,#24292f));}/*!sc*/
.gfKkfV:disabled[data-no-visuals]{color:var(--fgColor-disabled,var(--color-primer-fg-disabled,#8c959f));}/*!sc*/
.gfKkfV:disabled[data-no-visuals] [data-component=ButtonCounter]{color:inherit;}/*!sc*/
.dTgfec{border-radius:6px;border:1px solid;border-color:var(--button-default-borderColor-rest,var(--button-default-borderColor-rest,var(--color-btn-border,rgba(31,35,40,0.15))));font-family:inherit;font-weight:500;font-size:14px;cursor:pointer;-webkit-appearance:none;-moz-appearance:none;appearance:none;-webkit-user-select:none;-moz-user-select:none;-ms-user-select:none;user-select:none;-webkit-text-decoration:none;text-decoration:none;text-align:center;display:-webkit-box;display:-webkit-flex;display:-ms-flexbox;display:flex;-webkit-align-items:center;-webkit-box-align:center;-ms-flex-align:center;align-items:center;-webkit-box-pack:justify;-webkit-justify-content:space-between;-ms-flex-pack:justify;justify-content:space-between;height:32px;padding:0 12px;gap:8px;min-width:-webkit-max-content;min-width:-moz-max-content;min-width:max-content;-webkit-transition:80ms cubic-bezier(0.65,0,0.35,1);transition:80ms cubic-bezier(0.65,0,0.35,1);-webkit-transition-property:color,fill,background-color,border-color;transition-property:color,fill,background-color,border-color;color:var(--button-default-fgColor-rest,var(--color-btn-text,#24292f));background-color:var(--button-default-bgColor-rest,var(--color-btn-bg,#f6f8fa));box-shadow:var(--button-default-shadow-resting,var(--color-btn-shadow,0 1px 0 rgba(31,35,40,0.04))),var(--button-default-shadow-inset,var(--color-btn-inset-shadow,inset 0 1px 0 rgba(255,255,255,0.25)));padding-left:8px;padding-right:8px;}/*!sc*/
.dTgfec:focus:not(:disabled){box-shadow:none;outline:2px solid var(--fgColor-accent,var(--color-accent-fg,#0969da));outline-offset:-2px;}/*!sc*/
.dTgfec:focus:not(:disabled):not(:focus-visible){outline:solid 1px transparent;}/*!sc*/
.dTgfec:focus-visible:not(:disabled){box-shadow:none;outline:2px solid var(--fgColor-accent,var(--color-accent-fg,#0969da));outline-offset:-2px;}/*!sc*/
.dTgfec[href]{display:-webkit-inline-box;display:-webkit-inline-flex;display:-ms-inline-flexbox;display:inline-flex;}/*!sc*/
.dTgfec[href]:hover{-webkit-text-decoration:none;text-decoration:none;}/*!sc*/
.dTgfec:hover{-webkit-transition-duration:80ms;transition-duration:80ms;}/*!sc*/
.dTgfec:active{-webkit-transition:none;transition:none;}/*!sc*/
.dTgfec[data-inactive]{cursor:auto;}/*!sc*/
.dTgfec:disabled{cursor:not-allowed;box-shadow:none;color:var(--fgColor-disabled,var(--color-primer-fg-disabled,#8c959f));border-color:var(--button-default-borderColor-disabled,var(--button-default-borderColor-rest,var(--color-btn-border,rgba(31,35,40,0.15))));background-color:var(--button-default-bgColor-disabled,var(--control-bgColor-disabled,var(--color-input-disabled-bg,rgba(175,184,193,0.2))));}/*!sc*/
.dTgfec:disabled [data-component=ButtonCounter]{color:inherit;}/*!sc*/
@media (forced-colors:active){.dTgfec:focus{outline:solid 1px transparent;}}/*!sc*/
.dTgfec [data-component=ButtonCounter]{font-size:12px;background-color:var(--buttonCounter-default-bgColor-rest,var(--color-btn-counter-bg,rgba(31,35,40,0.08)));}/*!sc*/
.dTgfec[data-component=IconButton]{display:inline-grid;padding:unset;place-content:center;width:32px;min-width:unset;}/*!sc*/
.dTgfec[data-size="small"]{padding:0 8px;height:28px;gap:4px;font-size:12px;}/*!sc*/
.dTgfec[data-size="small"] [data-component="text"]{line-height:calc(20 / 12);}/*!sc*/
.dTgfec[data-size="small"] [data-component=ButtonCounter]{font-size:12px;}/*!sc*/
.dTgfec[data-size="small"] [data-component="buttonContent"] > :not(:last-child){margin-right:4px;}/*!sc*/
.dTgfec[data-size="small"][data-component=IconButton]{width:28px;padding:unset;}/*!sc*/
.dTgfec[data-size="large"]{padding:0 16px;height:40px;gap:8px;}/*!sc*/
.dTgfec[data-size="large"] [data-component="buttonContent"] > :not(:last-child){margin-right:8px;}/*!sc*/
.dTgfec[data-size="large"][data-component=IconButton]{width:40px;padding:unset;}/*!sc*/
.dTgfec[data-block="block"]{width:100%;}/*!sc*/
.dTgfec[data-inactive]:not([disabled]){background-color:var(--button-inactive-bgColor,var(--button-inactive-bgColor-rest,var(--color-btn-inactive-bg,#eaeef2)));border-color:var(--button-inactive-bgColor,var(--button-inactive-bgColor-rest,var(--color-btn-inactive-bg,#eaeef2)));color:var(--button-inactive-fgColor,var(--button-inactive-fgColor-rest,var(--color-btn-inactive-text,#57606a)));}/*!sc*/
.dTgfec[data-inactive]:not([disabled]):focus-visible{box-shadow:none;}/*!sc*/
.dTgfec [data-component="leadingVisual"]{grid-area:leadingVisual;}/*!sc*/
.dTgfec [data-component="text"]{grid-area:text;line-height:calc(20/14);white-space:nowrap;}/*!sc*/
.dTgfec [data-component="trailingVisual"]{grid-area:trailingVisual;}/*!sc*/
.dTgfec [data-component="trailingAction"]{margin-right:-4px;}/*!sc*/
.dTgfec [data-component="buttonContent"]{-webkit-flex:1 0 auto;-ms-flex:1 0 auto;flex:1 0 auto;display:grid;grid-template-areas:"leadingVisual text trailingVisual";grid-template-columns:min-content minmax(0,auto) min-content;-webkit-align-items:center;-webkit-box-align:center;-ms-flex-align:center;align-items:center;-webkit-align-content:center;-ms-flex-line-pack:center;align-content:center;}/*!sc*/
.dTgfec [data-component="buttonContent"] > :not(:last-child){margin-right:8px;}/*!sc*/
.dTgfec:hover:not([disabled]):not([data-inactive]){background-color:var(--button-default-bgColor-hover,var(--color-btn-hover-bg,#f3f4f6));border-color:var(--button-default-borderColor-hover,var(--button-default-borderColor-hover,var(--color-btn-hover-border,rgba(31,35,40,0.15))));}/*!sc*/
.dTgfec:active:not([disabled]):not([data-inactive]){background-color:var(--button-default-bgColor-active,var(--color-btn-active-bg,hsla(220,14%,93%,1)));border-color:var(--button-default-borderColor-active,var(--button-default-borderColor-active,var(--color-btn-active-border,rgba(31,35,40,0.15))));}/*!sc*/
.dTgfec[aria-expanded=true]{background-color:var(--button-default-bgColor-active,var(--color-btn-active-bg,hsla(220,14%,93%,1)));border-color:var(--button-default-borderColor-active,var(--button-default-borderColor-active,var(--color-btn-active-border,rgba(31,35,40,0.15))));}/*!sc*/
.dTgfec [data-component="leadingVisual"],.dTgfec [data-component="trailingVisual"],.dTgfec [data-component="trailingAction"]{color:var(--button-color,var(--fgColor-muted,var(--color-fg-muted,#656d76)));}/*!sc*/
.dTgfec[data-component="IconButton"][data-no-visuals]{color:var(--fgColor-muted,var(--color-fg-muted,#656d76));}/*!sc*/
.dTgfec linkButtonSx:hover:not([disabled]){-webkit-text-decoration:none;text-decoration:none;}/*!sc*/
.dTgfec linkButtonSx:focus:not([disabled]){-webkit-text-decoration:none;text-decoration:none;}/*!sc*/
.dTgfec linkButtonSx:active:not([disabled]){-webkit-text-decoration:none;text-decoration:none;}/*!sc*/
.pyyxt{border-radius:6px;border:1px solid;border-color:var(--button-default-borderColor-rest,var(--button-default-borderColor-rest,var(--color-btn-border,rgba(31,35,40,0.15))));font-family:inherit;font-weight:500;font-size:14px;cursor:pointer;-webkit-appearance:none;-moz-appearance:none;appearance:none;-webkit-user-select:none;-moz-user-select:none;-ms-user-select:none;user-select:none;-webkit-text-decoration:none;text-decoration:none;text-align:center;display:-webkit-box;display:-webkit-flex;display:-ms-flexbox;display:flex;-webkit-align-items:center;-webkit-box-align:center;-ms-flex-align:center;align-items:center;-webkit-box-pack:justify;-webkit-justify-content:space-between;-ms-flex-pack:justify;justify-content:space-between;height:32px;padding:0 12px;gap:8px;min-width:-webkit-max-content;min-width:-moz-max-content;min-width:max-content;-webkit-transition:80ms cubic-bezier(0.65,0,0.35,1);transition:80ms cubic-bezier(0.65,0,0.35,1);-webkit-transition-property:color,fill,background-color,border-color;transition-property:color,fill,background-color,border-color;color:var(--button-default-fgColor-rest,var(--color-btn-text,#24292f));background-color:var(--button-default-bgColor-rest,var(--color-btn-bg,#f6f8fa));box-shadow:var(--button-default-shadow-resting,var(--color-btn-shadow,0 1px 0 rgba(31,35,40,0.04))),var(--button-default-shadow-inset,var(--color-btn-inset-shadow,inset 0 1px 0 rgba(255,255,255,0.25)));}/*!sc*/
.pyyxt:focus:not(:disabled){box-shadow:none;outline:2px solid var(--fgColor-accent,var(--color-accent-fg,#0969da));outline-offset:-2px;}/*!sc*/
.pyyxt:focus:not(:disabled):not(:focus-visible){outline:solid 1px transparent;}/*!sc*/
.pyyxt:focus-visible:not(:disabled){box-shadow:none;outline:2px solid var(--fgColor-accent,var(--color-accent-fg,#0969da));outline-offset:-2px;}/*!sc*/
.pyyxt[href]{display:-webkit-inline-box;display:-webkit-inline-flex;display:-ms-inline-flexbox;display:inline-flex;}/*!sc*/
.pyyxt[href]:hover{-webkit-text-decoration:none;text-decoration:none;}/*!sc*/
.pyyxt:hover{-webkit-transition-duration:80ms;transition-duration:80ms;}/*!sc*/
.pyyxt:active{-webkit-transition:none;transition:none;}/*!sc*/
.pyyxt[data-inactive]{cursor:auto;}/*!sc*/
.pyyxt:disabled{cursor:not-allowed;box-shadow:none;color:var(--fgColor-disabled,var(--color-primer-fg-disabled,#8c959f));border-color:var(--button-default-borderColor-disabled,var(--button-default-borderColor-rest,var(--color-btn-border,rgba(31,35,40,0.15))));background-color:var(--button-default-bgColor-disabled,var(--control-bgColor-disabled,var(--color-input-disabled-bg,rgba(175,184,193,0.2))));}/*!sc*/
.pyyxt:disabled [data-component=ButtonCounter]{color:inherit;}/*!sc*/
@media (forced-colors:active){.pyyxt:focus{outline:solid 1px transparent;}}/*!sc*/
.pyyxt [data-component=ButtonCounter]{font-size:12px;background-color:var(--buttonCounter-default-bgColor-rest,var(--color-btn-counter-bg,rgba(31,35,40,0.08)));}/*!sc*/
.pyyxt[data-component=IconButton]{display:inline-grid;padding:unset;place-content:center;width:32px;min-width:unset;}/*!sc*/
.pyyxt[data-size="small"]{padding:0 8px;height:28px;gap:4px;font-size:12px;}/*!sc*/
.pyyxt[data-size="small"] [data-component="text"]{line-height:calc(20 / 12);}/*!sc*/
.pyyxt[data-size="small"] [data-component=ButtonCounter]{font-size:12px;}/*!sc*/
.pyyxt[data-size="small"] [data-component="buttonContent"] > :not(:last-child){margin-right:4px;}/*!sc*/
.pyyxt[data-size="small"][data-component=IconButton]{width:28px;padding:unset;}/*!sc*/
.pyyxt[data-size="large"]{padding:0 16px;height:40px;gap:8px;}/*!sc*/
.pyyxt[data-size="large"] [data-component="buttonContent"] > :not(:last-child){margin-right:8px;}/*!sc*/
.pyyxt[data-size="large"][data-component=IconButton]{width:40px;padding:unset;}/*!sc*/
.pyyxt[data-block="block"]{width:100%;}/*!sc*/
.pyyxt[data-inactive]:not([disabled]){background-color:var(--button-inactive-bgColor,var(--button-inactive-bgColor-rest,var(--color-btn-inactive-bg,#eaeef2)));border-color:var(--button-inactive-bgColor,var(--button-inactive-bgColor-rest,var(--color-btn-inactive-bg,#eaeef2)));color:var(--button-inactive-fgColor,var(--button-inactive-fgColor-rest,var(--color-btn-inactive-text,#57606a)));}/*!sc*/
.pyyxt[data-inactive]:not([disabled]):focus-visible{box-shadow:none;}/*!sc*/
.pyyxt [data-component="leadingVisual"]{grid-area:leadingVisual;}/*!sc*/
.pyyxt [data-component="text"]{grid-area:text;line-height:calc(20/14);white-space:nowrap;}/*!sc*/
.pyyxt [data-component="trailingVisual"]{grid-area:trailingVisual;}/*!sc*/
.pyyxt [data-component="trailingAction"]{margin-right:-4px;}/*!sc*/
.pyyxt [data-component="buttonContent"]{-webkit-flex:1 0 auto;-ms-flex:1 0 auto;flex:1 0 auto;display:grid;grid-template-areas:"leadingVisual text trailingVisual";grid-template-columns:min-content minmax(0,auto) min-content;-webkit-align-items:center;-webkit-box-align:center;-ms-flex-align:center;align-items:center;-webkit-align-content:center;-ms-flex-line-pack:center;align-content:center;}/*!sc*/
.pyyxt [data-component="buttonContent"] > :not(:last-child){margin-right:8px;}/*!sc*/
.pyyxt:hover:not([disabled]):not([data-inactive]){background-color:var(--button-default-bgColor-hover,var(--color-btn-hover-bg,#f3f4f6));border-color:var(--button-default-borderColor-hover,var(--button-default-borderColor-hover,var(--color-btn-hover-border,rgba(31,35,40,0.15))));}/*!sc*/
.pyyxt:active:not([disabled]):not([data-inactive]){background-color:var(--button-default-bgColor-active,var(--color-btn-active-bg,hsla(220,14%,93%,1)));border-color:var(--button-default-borderColor-active,var(--button-default-borderColor-active,var(--color-btn-active-border,rgba(31,35,40,0.15))));}/*!sc*/
.pyyxt[aria-expanded=true]{background-color:var(--button-default-bgColor-active,var(--color-btn-active-bg,hsla(220,14%,93%,1)));border-color:var(--button-default-borderColor-active,var(--button-default-borderColor-active,var(--color-btn-active-border,rgba(31,35,40,0.15))));}/*!sc*/
.pyyxt [data-component="leadingVisual"],.pyyxt [data-component="trailingVisual"],.pyyxt [data-component="trailingAction"]{color:var(--button-color,var(--fgColor-muted,var(--color-fg-muted,#656d76)));}/*!sc*/
.pyyxt[data-component="IconButton"][data-no-visuals]{color:var(--fgColor-muted,var(--color-fg-muted,#656d76));}/*!sc*/
.fmvlPZ{border-radius:6px;border:1px solid;border-color:var(--button-default-borderColor-rest,var(--button-default-borderColor-rest,var(--color-btn-border,rgba(31,35,40,0.15))));font-family:inherit;font-weight:500;font-size:14px;cursor:pointer;-webkit-appearance:none;-moz-appearance:none;appearance:none;-webkit-user-select:none;-moz-user-select:none;-ms-user-select:none;user-select:none;-webkit-text-decoration:none;text-decoration:none;text-align:center;display:-webkit-box;display:-webkit-flex;display:-ms-flexbox;display:flex;-webkit-align-items:center;-webkit-box-align:center;-ms-flex-align:center;align-items:center;-webkit-box-pack:justify;-webkit-justify-content:space-between;-ms-flex-pack:justify;justify-content:space-between;height:32px;padding:0 12px;gap:8px;min-width:-webkit-max-content;min-width:-moz-max-content;min-width:max-content;-webkit-transition:80ms cubic-bezier(0.65,0,0.35,1);transition:80ms cubic-bezier(0.65,0,0.35,1);-webkit-transition-property:color,fill,background-color,border-color;transition-property:color,fill,background-color,border-color;color:var(--button-default-fgColor-rest,var(--color-btn-text,#24292f));background-color:var(--button-default-bgColor-rest,var(--color-btn-bg,#f6f8fa));box-shadow:var(--button-default-shadow-resting,var(--color-btn-shadow,0 1px 0 rgba(31,35,40,0.04))),var(--button-default-shadow-inset,var(--color-btn-inset-shadow,inset 0 1px 0 rgba(255,255,255,0.25)));}/*!sc*/
.fmvlPZ:focus:not(:disabled){box-shadow:none;outline:2px solid var(--fgColor-accent,var(--color-accent-fg,#0969da));outline-offset:-2px;}/*!sc*/
.fmvlPZ:focus:not(:disabled):not(:focus-visible){outline:solid 1px transparent;}/*!sc*/
.fmvlPZ:focus-visible:not(:disabled){box-shadow:none;outline:2px solid var(--fgColor-accent,var(--color-accent-fg,#0969da));outline-offset:-2px;}/*!sc*/
.fmvlPZ[href]{display:-webkit-inline-box;display:-webkit-inline-flex;display:-ms-inline-flexbox;display:inline-flex;}/*!sc*/
.fmvlPZ[href]:hover{-webkit-text-decoration:none;text-decoration:none;}/*!sc*/
.fmvlPZ:hover{-webkit-transition-duration:80ms;transition-duration:80ms;}/*!sc*/
.fmvlPZ:active{-webkit-transition:none;transition:none;}/*!sc*/
.fmvlPZ[data-inactive]{cursor:auto;}/*!sc*/
.fmvlPZ:disabled{cursor:not-allowed;box-shadow:none;color:var(--fgColor-disabled,var(--color-primer-fg-disabled,#8c959f));border-color:var(--button-default-borderColor-disabled,var(--button-default-borderColor-rest,var(--color-btn-border,rgba(31,35,40,0.15))));background-color:var(--button-default-bgColor-disabled,var(--control-bgColor-disabled,var(--color-input-disabled-bg,rgba(175,184,193,0.2))));}/*!sc*/
.fmvlPZ:disabled [data-component=ButtonCounter]{color:inherit;}/*!sc*/
@media (forced-colors:active){.fmvlPZ:focus{outline:solid 1px transparent;}}/*!sc*/
.fmvlPZ [data-component=ButtonCounter]{font-size:12px;background-color:var(--buttonCounter-default-bgColor-rest,var(--color-btn-counter-bg,rgba(31,35,40,0.08)));}/*!sc*/
.fmvlPZ[data-component=IconButton]{display:inline-grid;padding:unset;place-content:center;width:32px;min-width:unset;}/*!sc*/
.fmvlPZ[data-size="small"]{padding:0 8px;height:28px;gap:4px;font-size:12px;}/*!sc*/
.fmvlPZ[data-size="small"] [data-component="text"]{line-height:calc(20 / 12);}/*!sc*/
.fmvlPZ[data-size="small"] [data-component=ButtonCounter]{font-size:12px;}/*!sc*/
.fmvlPZ[data-size="small"] [data-component="buttonContent"] > :not(:last-child){margin-right:4px;}/*!sc*/
.fmvlPZ[data-size="small"][data-component=IconButton]{width:28px;padding:unset;}/*!sc*/
.fmvlPZ[data-size="large"]{padding:0 16px;height:40px;gap:8px;}/*!sc*/
.fmvlPZ[data-size="large"] [data-component="buttonContent"] > :not(:last-child){margin-right:8px;}/*!sc*/
.fmvlPZ[data-size="large"][data-component=IconButton]{width:40px;padding:unset;}/*!sc*/
.fmvlPZ[data-block="block"]{width:100%;}/*!sc*/
.fmvlPZ[data-inactive]:not([disabled]){background-color:var(--button-inactive-bgColor,var(--button-inactive-bgColor-rest,var(--color-btn-inactive-bg,#eaeef2)));border-color:var(--button-inactive-bgColor,var(--button-inactive-bgColor-rest,var(--color-btn-inactive-bg,#eaeef2)));color:var(--button-inactive-fgColor,var(--button-inactive-fgColor-rest,var(--color-btn-inactive-text,#57606a)));}/*!sc*/
.fmvlPZ[data-inactive]:not([disabled]):focus-visible{box-shadow:none;}/*!sc*/
.fmvlPZ [data-component="leadingVisual"]{grid-area:leadingVisual;}/*!sc*/
.fmvlPZ [data-component="text"]{grid-area:text;line-height:calc(20/14);white-space:nowrap;}/*!sc*/
.fmvlPZ [data-component="trailingVisual"]{grid-area:trailingVisual;}/*!sc*/
.fmvlPZ [data-component="trailingAction"]{margin-right:-4px;}/*!sc*/
.fmvlPZ [data-component="buttonContent"]{-webkit-flex:1 0 auto;-ms-flex:1 0 auto;flex:1 0 auto;display:grid;grid-template-areas:"leadingVisual text trailingVisual";grid-template-columns:min-content minmax(0,auto) min-content;-webkit-align-items:center;-webkit-box-align:center;-ms-flex-align:center;align-items:center;-webkit-align-content:center;-ms-flex-line-pack:center;align-content:center;}/*!sc*/
.fmvlPZ [data-component="buttonContent"] > :not(:last-child){margin-right:8px;}/*!sc*/
.fmvlPZ:hover:not([disabled]):not([data-inactive]){background-color:var(--button-default-bgColor-hover,var(--color-btn-hover-bg,#f3f4f6));border-color:var(--button-default-borderColor-hover,var(--button-default-borderColor-hover,var(--color-btn-hover-border,rgba(31,35,40,0.15))));}/*!sc*/
.fmvlPZ:active:not([disabled]):not([data-inactive]){background-color:var(--button-default-bgColor-active,var(--color-btn-active-bg,hsla(220,14%,93%,1)));border-color:var(--button-default-borderColor-active,var(--button-default-borderColor-active,var(--color-btn-active-border,rgba(31,35,40,0.15))));}/*!sc*/
.fmvlPZ[aria-expanded=true]{background-color:var(--button-default-bgColor-active,var(--color-btn-active-bg,hsla(220,14%,93%,1)));border-color:var(--button-default-borderColor-active,var(--button-default-borderColor-active,var(--color-btn-active-border,rgba(31,35,40,0.15))));}/*!sc*/
.fmvlPZ [data-component="leadingVisual"],.fmvlPZ [data-component="trailingVisual"],.fmvlPZ [data-component="trailingAction"]{color:var(--button-color,var(--fgColor-muted,var(--color-fg-muted,#656d76)));}/*!sc*/
.fmvlPZ[data-component="IconButton"][data-no-visuals]{color:var(--fgColor-muted,var(--color-fg-muted,#656d76));}/*!sc*/
.fmvlPZ[data-size="small"][data-no-visuals]{border-top-left-radius:0;border-bottom-left-radius:0;}/*!sc*/
.bDhqXD{border-radius:6px;border:1px solid;border-color:var(--button-default-borderColor-rest,var(--button-default-borderColor-rest,var(--color-btn-border,rgba(31,35,40,0.15))));font-family:inherit;font-weight:500;font-size:14px;cursor:pointer;-webkit-appearance:none;-moz-appearance:none;appearance:none;-webkit-user-select:none;-moz-user-select:none;-ms-user-select:none;user-select:none;-webkit-text-decoration:none;text-decoration:none;text-align:center;display:-webkit-box;display:-webkit-flex;display:-ms-flexbox;display:flex;-webkit-align-items:center;-webkit-box-align:center;-ms-flex-align:center;align-items:center;-webkit-box-pack:justify;-webkit-justify-content:space-between;-ms-flex-pack:justify;justify-content:space-between;height:32px;padding:0 12px;gap:8px;min-width:-webkit-max-content;min-width:-moz-max-content;min-width:max-content;-webkit-transition:80ms cubic-bezier(0.65,0,0.35,1);transition:80ms cubic-bezier(0.65,0,0.35,1);-webkit-transition-property:color,fill,background-color,border-color;transition-property:color,fill,background-color,border-color;color:var(--button-default-fgColor-rest,var(--color-btn-text,#24292f));background-color:var(--button-default-bgColor-rest,var(--color-btn-bg,#f6f8fa));box-shadow:var(--button-default-shadow-resting,var(--color-btn-shadow,0 1px 0 rgba(31,35,40,0.04))),var(--button-default-shadow-inset,var(--color-btn-inset-shadow,inset 0 1px 0 rgba(255,255,255,0.25)));}/*!sc*/
.bDhqXD:focus:not(:disabled){box-shadow:none;outline:2px solid var(--fgColor-accent,var(--color-accent-fg,#0969da));outline-offset:-2px;}/*!sc*/
.bDhqXD:focus:not(:disabled):not(:focus-visible){outline:solid 1px transparent;}/*!sc*/
.bDhqXD:focus-visible:not(:disabled){box-shadow:none;outline:2px solid var(--fgColor-accent,var(--color-accent-fg,#0969da));outline-offset:-2px;}/*!sc*/
.bDhqXD[href]{display:-webkit-inline-box;display:-webkit-inline-flex;display:-ms-inline-flexbox;display:inline-flex;}/*!sc*/
.bDhqXD[href]:hover{-webkit-text-decoration:none;text-decoration:none;}/*!sc*/
.bDhqXD:hover{-webkit-transition-duration:80ms;transition-duration:80ms;}/*!sc*/
.bDhqXD:active{-webkit-transition:none;transition:none;}/*!sc*/
.bDhqXD[data-inactive]{cursor:auto;}/*!sc*/
.bDhqXD:disabled{cursor:not-allowed;box-shadow:none;color:var(--fgColor-disabled,var(--color-primer-fg-disabled,#8c959f));border-color:var(--button-default-borderColor-disabled,var(--button-default-borderColor-rest,var(--color-btn-border,rgba(31,35,40,0.15))));background-color:var(--button-default-bgColor-disabled,var(--control-bgColor-disabled,var(--color-input-disabled-bg,rgba(175,184,193,0.2))));}/*!sc*/
.bDhqXD:disabled [data-component=ButtonCounter]{color:inherit;}/*!sc*/
@media (forced-colors:active){.bDhqXD:focus{outline:solid 1px transparent;}}/*!sc*/
.bDhqXD [data-component=ButtonCounter]{font-size:12px;background-color:var(--buttonCounter-default-bgColor-rest,var(--color-btn-counter-bg,rgba(31,35,40,0.08)));}/*!sc*/
.bDhqXD[data-component=IconButton]{display:inline-grid;padding:unset;place-content:center;width:32px;min-width:unset;}/*!sc*/
.bDhqXD[data-size="small"]{padding:0 8px;height:28px;gap:4px;font-size:12px;}/*!sc*/
.bDhqXD[data-size="small"] [data-component="text"]{line-height:calc(20 / 12);}/*!sc*/
.bDhqXD[data-size="small"] [data-component=ButtonCounter]{font-size:12px;}/*!sc*/
.bDhqXD[data-size="small"] [data-component="buttonContent"] > :not(:last-child){margin-right:4px;}/*!sc*/
.bDhqXD[data-size="small"][data-component=IconButton]{width:28px;padding:unset;}/*!sc*/
.bDhqXD[data-size="large"]{padding:0 16px;height:40px;gap:8px;}/*!sc*/
.bDhqXD[data-size="large"] [data-component="buttonContent"] > :not(:last-child){margin-right:8px;}/*!sc*/
.bDhqXD[data-size="large"][data-component=IconButton]{width:40px;padding:unset;}/*!sc*/
.bDhqXD[data-block="block"]{width:100%;}/*!sc*/
.bDhqXD[data-inactive]:not([disabled]){background-color:var(--button-inactive-bgColor,var(--button-inactive-bgColor-rest,var(--color-btn-inactive-bg,#eaeef2)));border-color:var(--button-inactive-bgColor,var(--button-inactive-bgColor-rest,var(--color-btn-inactive-bg,#eaeef2)));color:var(--button-inactive-fgColor,var(--button-inactive-fgColor-rest,var(--color-btn-inactive-text,#57606a)));}/*!sc*/
.bDhqXD[data-inactive]:not([disabled]):focus-visible{box-shadow:none;}/*!sc*/
.bDhqXD [data-component="leadingVisual"]{grid-area:leadingVisual;}/*!sc*/
.bDhqXD [data-component="text"]{grid-area:text;line-height:calc(20/14);white-space:nowrap;}/*!sc*/
.bDhqXD [data-component="trailingVisual"]{grid-area:trailingVisual;}/*!sc*/
.bDhqXD [data-component="trailingAction"]{margin-right:-4px;}/*!sc*/
.bDhqXD [data-component="buttonContent"]{-webkit-flex:1 0 auto;-ms-flex:1 0 auto;flex:1 0 auto;display:grid;grid-template-areas:"leadingVisual text trailingVisual";grid-template-columns:min-content minmax(0,auto) min-content;-webkit-align-items:center;-webkit-box-align:center;-ms-flex-align:center;align-items:center;-webkit-align-content:center;-ms-flex-line-pack:center;align-content:center;}/*!sc*/
.bDhqXD [data-component="buttonContent"] > :not(:last-child){margin-right:8px;}/*!sc*/
.bDhqXD:hover:not([disabled]):not([data-inactive]){background-color:var(--button-default-bgColor-hover,var(--color-btn-hover-bg,#f3f4f6));border-color:var(--button-default-borderColor-hover,var(--button-default-borderColor-hover,var(--color-btn-hover-border,rgba(31,35,40,0.15))));}/*!sc*/
.bDhqXD:active:not([disabled]):not([data-inactive]){background-color:var(--button-default-bgColor-active,var(--color-btn-active-bg,hsla(220,14%,93%,1)));border-color:var(--button-default-borderColor-active,var(--button-default-borderColor-active,var(--color-btn-active-border,rgba(31,35,40,0.15))));}/*!sc*/
.bDhqXD[aria-expanded=true]{background-color:var(--button-default-bgColor-active,var(--color-btn-active-bg,hsla(220,14%,93%,1)));border-color:var(--button-default-borderColor-active,var(--button-default-borderColor-active,var(--color-btn-active-border,rgba(31,35,40,0.15))));}/*!sc*/
.bDhqXD [data-component="leadingVisual"],.bDhqXD [data-component="trailingVisual"],.bDhqXD [data-component="trailingAction"]{color:var(--button-color,var(--fgColor-muted,var(--color-fg-muted,#656d76)));}/*!sc*/
.bDhqXD[data-component="IconButton"][data-no-visuals]{color:var(--fgColor-muted,var(--color-fg-muted,#656d76));}/*!sc*/
.bDhqXD[data-size="small"][data-no-visuals]{border-top-right-radius:0;border-bottom-right-radius:0;border-right-width:0;}/*!sc*/
.bDhqXD[data-size="small"][data-no-visuals]:hover:not([disabled]){-webkit-text-decoration:none;text-decoration:none;}/*!sc*/
.bDhqXD[data-size="small"][data-no-visuals]:focus:not([disabled]){-webkit-text-decoration:none;text-decoration:none;}/*!sc*/
.bDhqXD[data-size="small"][data-no-visuals]:active:not([disabled]){-webkit-text-decoration:none;text-decoration:none;}/*!sc*/
.dGDIQc{border-radius:6px;border:1px solid;border-color:transparent;font-family:inherit;font-weight:500;font-size:14px;cursor:pointer;-webkit-appearance:none;-moz-appearance:none;appearance:none;-webkit-user-select:none;-moz-user-select:none;-ms-user-select:none;user-select:none;-webkit-text-decoration:none;text-decoration:none;text-align:center;display:-webkit-box;display:-webkit-flex;display:-ms-flexbox;display:flex;-webkit-align-items:center;-webkit-box-align:center;-ms-flex-align:center;align-items:center;-webkit-box-pack:justify;-webkit-justify-content:space-between;-ms-flex-pack:justify;justify-content:space-between;height:32px;padding:0 12px;gap:8px;min-width:-webkit-max-content;min-width:-moz-max-content;min-width:max-content;-webkit-transition:80ms cubic-bezier(0.65,0,0.35,1);transition:80ms cubic-bezier(0.65,0,0.35,1);-webkit-transition-property:color,fill,background-color,border-color;transition-property:color,fill,background-color,border-color;color:var(--button-default-fgColor-rest,var(--color-btn-text,#24292f));background-color:transparent;box-shadow:none;}/*!sc*/
.dGDIQc:focus:not(:disabled){box-shadow:none;outline:2px solid var(--fgColor-accent,var(--color-accent-fg,#0969da));outline-offset:-2px;}/*!sc*/
.dGDIQc:focus:not(:disabled):not(:focus-visible){outline:solid 1px transparent;}/*!sc*/
.dGDIQc:focus-visible:not(:disabled){box-shadow:none;outline:2px solid var(--fgColor-accent,var(--color-accent-fg,#0969da));outline-offset:-2px;}/*!sc*/
.dGDIQc[href]{display:-webkit-inline-box;display:-webkit-inline-flex;display:-ms-inline-flexbox;display:inline-flex;}/*!sc*/
.dGDIQc[href]:hover{-webkit-text-decoration:none;text-decoration:none;}/*!sc*/
.dGDIQc:hover{-webkit-transition-duration:80ms;transition-duration:80ms;}/*!sc*/
.dGDIQc:active{-webkit-transition:none;transition:none;}/*!sc*/
.dGDIQc[data-inactive]{cursor:auto;}/*!sc*/
.dGDIQc:disabled{cursor:not-allowed;box-shadow:none;color:var(--fgColor-disabled,var(--color-primer-fg-disabled,#8c959f));}/*!sc*/
.dGDIQc:disabled [data-component=ButtonCounter],.dGDIQc:disabled [data-component="leadingVisual"],.dGDIQc:disabled [data-component="trailingAction"]{color:inherit;}/*!sc*/
@media (forced-colors:active){.dGDIQc:focus{outline:solid 1px transparent;}}/*!sc*/
.dGDIQc [data-component=ButtonCounter]{font-size:12px;}/*!sc*/
.dGDIQc[data-component=IconButton]{display:inline-grid;padding:unset;place-content:center;width:32px;min-width:unset;}/*!sc*/
.dGDIQc[data-size="small"]{padding:0 8px;height:28px;gap:4px;font-size:12px;}/*!sc*/
.dGDIQc[data-size="small"] [data-component="text"]{line-height:calc(20 / 12);}/*!sc*/
.dGDIQc[data-size="small"] [data-component=ButtonCounter]{font-size:12px;}/*!sc*/
.dGDIQc[data-size="small"] [data-component="buttonContent"] > :not(:last-child){margin-right:4px;}/*!sc*/
.dGDIQc[data-size="small"][data-component=IconButton]{width:28px;padding:unset;}/*!sc*/
.dGDIQc[data-size="large"]{padding:0 16px;height:40px;gap:8px;}/*!sc*/
.dGDIQc[data-size="large"] [data-component="buttonContent"] > :not(:last-child){margin-right:8px;}/*!sc*/
.dGDIQc[data-size="large"][data-component=IconButton]{width:40px;padding:unset;}/*!sc*/
.dGDIQc[data-block="block"]{width:100%;}/*!sc*/
.dGDIQc[data-inactive]:not([disabled]){background-color:var(--button-inactive-bgColor,var(--button-inactive-bgColor-rest,var(--color-btn-inactive-bg,#eaeef2)));border-color:var(--button-inactive-bgColor,var(--button-inactive-bgColor-rest,var(--color-btn-inactive-bg,#eaeef2)));color:var(--button-inactive-fgColor,var(--button-inactive-fgColor-rest,var(--color-btn-inactive-text,#57606a)));}/*!sc*/
.dGDIQc[data-inactive]:not([disabled]):focus-visible{box-shadow:none;}/*!sc*/
.dGDIQc [data-component="leadingVisual"]{grid-area:leadingVisual;color:var(--fgColor-muted,var(--color-fg-muted,#656d76));}/*!sc*/
.dGDIQc [data-component="text"]{grid-area:text;line-height:calc(20/14);white-space:nowrap;}/*!sc*/
.dGDIQc [data-component="trailingVisual"]{grid-area:trailingVisual;}/*!sc*/
.dGDIQc [data-component="trailingAction"]{margin-right:-4px;color:var(--fgColor-muted,var(--color-fg-muted,#656d76));}/*!sc*/
.dGDIQc [data-component="buttonContent"]{-webkit-flex:1 0 auto;-ms-flex:1 0 auto;flex:1 0 auto;display:grid;grid-template-areas:"leadingVisual text trailingVisual";grid-template-columns:min-content minmax(0,auto) min-content;-webkit-align-items:center;-webkit-box-align:center;-ms-flex-align:center;align-items:center;-webkit-align-content:center;-ms-flex-line-pack:center;align-content:center;}/*!sc*/
.dGDIQc [data-component="buttonContent"] > :not(:last-child){margin-right:8px;}/*!sc*/
.dGDIQc:hover:not([disabled]){background-color:var(--control-transparent-bgColor-hover,var(--color-action-list-item-default-hover-bg,rgba(208,215,222,0.32)));}/*!sc*/
.dGDIQc:active:not([disabled]){background-color:var(--control-transparent-bgColor-active,var(--color-action-list-item-default-active-bg,rgba(208,215,222,0.48)));}/*!sc*/
.dGDIQc[aria-expanded=true]{background-color:var(--control-transparent-bgColor-selected,var(--color-action-list-item-default-selected-bg,rgba(208,215,222,0.24)));}/*!sc*/
.dGDIQc[data-component="IconButton"][data-no-visuals]{color:var(--fgColor-muted,var(--color-fg-muted,#656d76));}/*!sc*/
.dGDIQc[data-no-visuals]{color:var(--fgColor-accent,var(--color-accent-fg,#0969da));}/*!sc*/
.dGDIQc:has([data-component="ButtonCounter"]){color:var(--button-default-fgColor-rest,var(--color-btn-text,#24292f));}/*!sc*/
.dGDIQc:disabled[data-no-visuals]{color:var(--fgColor-disabled,var(--color-primer-fg-disabled,#8c959f));}/*!sc*/
.dGDIQc:disabled[data-no-visuals] [data-component=ButtonCounter]{color:inherit;}/*!sc*/
.dGDIQc[data-size="small"][data-no-visuals]{color:var(--fgColor-muted,var(--color-fg-muted,#656d76));}/*!sc*/
data-styled.g9[id="types__StyledButton-sc-ws60qy-0"]{content:"blmaBs,hkJzmn,hILMMl,ivbpoP,hviaoI,jXTShb,fAkXQN,frAFhH,gfKkfV,dTgfec,pyyxt,fmvlPZ,bDhqXD,dGDIQc,"}/*!sc*/
.gNgnVl{position:relative;display:inline-block;}/*!sc*/
.gNgnVl::after{position:absolute;z-index:1000000;display:none;padding:0.5em 0.75em;font:normal normal 11px/1.5 -apple-system,BlinkMacSystemFont,"Segoe UI","Noto Sans",Helvetica,Arial,sans-serif,"Apple Color Emoji","Segoe UI Emoji";-webkit-font-smoothing:subpixel-antialiased;color:var(--fgColor-onEmphasis,var(--color-fg-on-emphasis,#ffffff));text-align:center;-webkit-text-decoration:none;text-decoration:none;text-shadow:none;text-transform:none;-webkit-letter-spacing:normal;-moz-letter-spacing:normal;-ms-letter-spacing:normal;letter-spacing:normal;word-wrap:break-word;white-space:pre;pointer-events:none;content:attr(aria-label);background:var(--bgColor-emphasis,var(--color-neutral-emphasis-plus,#24292f));border-radius:6px;opacity:0;}/*!sc*/
@-webkit-keyframes tooltip-appear{from{opacity:0;}to{opacity:1;}}/*!sc*/
@keyframes tooltip-appear{from{opacity:0;}to{opacity:1;}}/*!sc*/
.gNgnVl:hover::after,.gNgnVl:active::after,.gNgnVl:focus::after,.gNgnVl:focus-within::after{display:inline-block;-webkit-text-decoration:none;text-decoration:none;-webkit-animation-name:tooltip-appear;animation-name:tooltip-appear;-webkit-animation-duration:0.1s;animation-duration:0.1s;-webkit-animation-fill-mode:forwards;animation-fill-mode:forwards;-webkit-animation-timing-function:ease-in;animation-timing-function:ease-in;-webkit-animation-delay:0s;animation-delay:0s;}/*!sc*/
.gNgnVl.tooltipped-no-delay:hover::after,.gNgnVl.tooltipped-no-delay:active::after,.gNgnVl.tooltipped-no-delay:focus::after,.gNgnVl.tooltipped-no-delay:focus-within::after{-webkit-animation-delay:0s;animation-delay:0s;}/*!sc*/
.gNgnVl.tooltipped-multiline:hover::after,.gNgnVl.tooltipped-multiline:active::after,.gNgnVl.tooltipped-multiline:focus::after,.gNgnVl.tooltipped-multiline:focus-within::after{display:table-cell;}/*!sc*/
.gNgnVl.tooltipped-s::after,.gNgnVl.tooltipped-se::after,.gNgnVl.tooltipped-sw::after{top:100%;right:50%;margin-top:6px;}/*!sc*/
.gNgnVl.tooltipped-se::after{right:auto;left:50%;margin-left:-16px;}/*!sc*/
.gNgnVl.tooltipped-sw::after{margin-right:-16px;}/*!sc*/
.gNgnVl.tooltipped-n::after,.gNgnVl.tooltipped-ne::after,.gNgnVl.tooltipped-nw::after{right:50%;bottom:100%;margin-bottom:6px;}/*!sc*/
.gNgnVl.tooltipped-ne::after{right:auto;left:50%;margin-left:-16px;}/*!sc*/
.gNgnVl.tooltipped-nw::after{margin-right:-16px;}/*!sc*/
.gNgnVl.tooltipped-s::after,.gNgnVl.tooltipped-n::after{-webkit-transform:translateX(50%);-ms-transform:translateX(50%);transform:translateX(50%);}/*!sc*/
.gNgnVl.tooltipped-w::after{right:100%;bottom:50%;margin-right:6px;-webkit-transform:translateY(50%);-ms-transform:translateY(50%);transform:translateY(50%);}/*!sc*/
.gNgnVl.tooltipped-e::after{bottom:50%;left:100%;margin-left:6px;-webkit-transform:translateY(50%);-ms-transform:translateY(50%);transform:translateY(50%);}/*!sc*/
.gNgnVl.tooltipped-multiline::after{width:-webkit-max-content;width:-moz-max-content;width:max-content;max-width:250px;word-wrap:break-word;white-space:pre-line;border-collapse:separate;}/*!sc*/
.gNgnVl.tooltipped-multiline.tooltipped-s::after,.gNgnVl.tooltipped-multiline.tooltipped-n::after{right:auto;left:50%;-webkit-transform:translateX(-50%);-ms-transform:translateX(-50%);transform:translateX(-50%);}/*!sc*/
.gNgnVl.tooltipped-multiline.tooltipped-w::after,.gNgnVl.tooltipped-multiline.tooltipped-e::after{right:100%;}/*!sc*/
.gNgnVl.tooltipped-align-right-2::after{right:0;margin-right:0;}/*!sc*/
.gNgnVl.tooltipped-align-left-2::after{left:0;margin-left:0;}/*!sc*/
data-styled.g14[id="Tooltip__TooltipBase-sc-17tf59c-0"]{content:"gNgnVl,"}/*!sc*/
.fUpWeN{display:inline-block;overflow:hidden;text-overflow:ellipsis;vertical-align:top;white-space:nowrap;max-width:125px;max-width:100%;}/*!sc*/
data-styled.g16[id="Truncate__StyledTruncate-sc-23o1d2-0"]{content:"fUpWeN,"}/*!sc*/
.hPEVNM{-webkit-animation:rotate-keyframes 1s linear infinite;animation:rotate-keyframes 1s linear infinite;}/*!sc*/
@-webkit-keyframes rotate-keyframes{100%{-webkit-transform:rotate(360deg);-ms-transform:rotate(360deg);transform:rotate(360deg);}}/*!sc*/
@keyframes rotate-keyframes{100%{-webkit-transform:rotate(360deg);-ms-transform:rotate(360deg);transform:rotate(360deg);}}/*!sc*/
data-styled.g28[id="Spinner__StyledSpinner-sc-1knt686-0"]{content:"hPEVNM,"}/*!sc*/
.cXNreu{font-size:14px;line-height:20px;color:var(--fgColor-default,var(--color-fg-default,#1F2328));vertical-align:middle;background-color:var(--bgColor-default,var(--color-canvas-default,#ffffff));border:1px solid var(--control-borderColor-rest,var(--borderColor-default,var(--color-border-default,#d0d7de)));border-radius:6px;outline:none;box-shadow:var(--shadow-inset,var(--color-primer-shadow-inset,inset 0 1px 0 rgba(208,215,222,0.2)));display:-webkit-inline-box;display:-webkit-inline-flex;display:-ms-inline-flexbox;display:inline-flex;-webkit-align-items:stretch;-webkit-box-align:stretch;-ms-flex-align:stretch;align-items:stretch;min-height:32px;overflow:hidden;display:-webkit-box;display:-webkit-flex;display:-ms-flexbox;display:flex;min-width:160px;}/*!sc*/
.cXNreu input,.cXNreu textarea{cursor:text;}/*!sc*/
.cXNreu select{cursor:pointer;}/*!sc*/
.cXNreu input::-webkit-input-placeholder,.cXNreu textarea::-webkit-input-placeholder,.cXNreu select::-webkit-input-placeholder{color:var(---control-fgColor-placeholder,var(--fgColor-muted,var(--color-fg-muted,#656d76)));}/*!sc*/
.cXNreu input::-moz-placeholder,.cXNreu textarea::-moz-placeholder,.cXNreu select::-moz-placeholder{color:var(---control-fgColor-placeholder,var(--fgColor-muted,var(--color-fg-muted,#656d76)));}/*!sc*/
.cXNreu input:-ms-input-placeholder,.cXNreu textarea:-ms-input-placeholder,.cXNreu select:-ms-input-placeholder{color:var(---control-fgColor-placeholder,var(--fgColor-muted,var(--color-fg-muted,#656d76)));}/*!sc*/
.cXNreu input::placeholder,.cXNreu textarea::placeholder,.cXNreu select::placeholder{color:var(---control-fgColor-placeholder,var(--fgColor-muted,var(--color-fg-muted,#656d76)));}/*!sc*/
.cXNreu:focus-within{border-color:var(--fgColor-accent,var(--color-accent-fg,#0969da));outline:2px solid var(--fgColor-accent,var(--color-accent-fg,#0969da));outline-offset:-1px;}/*!sc*/
.cXNreu > textarea{padding:12px;}/*!sc*/
@media (min-width:768px){.cXNreu{font-size:14px;}}/*!sc*/
data-styled.g37[id="TextInputWrapper__TextInputBaseWrapper-sc-1mqhpbi-0"]{content:"cXNreu,"}/*!sc*/
.jbzqwE{background-repeat:no-repeat;background-position:right 8px center;padding-left:12px;padding-right:12px;display:-webkit-box;display:-webkit-flex;display:-ms-flexbox;display:flex;min-width:160px;}/*!sc*/
.jbzqwE > :not(:last-child){margin-right:8px;}/*!sc*/
.jbzqwE .TextInput-icon,.jbzqwE .TextInput-action{-webkit-align-self:center;-ms-flex-item-align:center;align-self:center;color:var(--fgColor-muted,var(--color-fg-muted,#656d76));-webkit-flex-shrink:0;-ms-flex-negative:0;flex-shrink:0;}/*!sc*/
.jbzqwE > input,.jbzqwE > select{padding-left:0;padding-right:0;}/*!sc*/
data-styled.g38[id="TextInputWrapper-sc-1mqhpbi-1"]{content:"jbzqwE,"}/*!sc*/
.cDLBls{border:0;font-size:inherit;font-family:inherit;background-color:transparent;-webkit-appearance:none;color:inherit;width:100%;}/*!sc*/
.cDLBls:focus{outline:0;}/*!sc*/
data-styled.g39[id="UnstyledTextInput-sc-14ypya-0"]{content:"cDLBls,"}/*!sc*/
.jEdVkE{--segmented-control-button-inner-padding:12px;--segmented-control-button-bg-inset:4px;--segmented-control-outer-radius:6px;background-color:transparent;border-color:transparent;border-radius:var(--segmented-control-outer-radius);border-width:0;color:currentColor;cursor:pointer;font-family:inherit;font-size:inherit;font-weight:600;padding:0;height:100%;width:100%;}/*!sc*/
.jEdVkE .segmentedControl-content{-webkit-align-items:center;-webkit-box-align:center;-ms-flex-align:center;align-items:center;background-color:var(--controlKnob-bgColor-rest,var(--color-segmented-control-button-bg,#ffffff));border-color:var(--controlKnob-borderColor-rest,var(--color-segmented-control-button-hover-active-selected-border,#8c959f));border-style:solid;border-width:1px;border-radius:var(--segmented-control-outer-radius);display:-webkit-box;display:-webkit-flex;display:-ms-flexbox;display:flex;height:100%;-webkit-box-pack:center;-webkit-justify-content:center;-ms-flex-pack:center;justify-content:center;padding-left:var(--segmented-control-button-inner-padding);padding-right:var(--segmented-control-button-inner-padding);}/*!sc*/
.jEdVkE svg{fill:var(--fgColor-muted,var(--color-fg-muted,#656d76));}/*!sc*/
.jEdVkE:focus:focus-visible:not(:last-child):after{width:0;}/*!sc*/
.jEdVkE .segmentedControl-text:after{content:"Preview";display:block;font-weight:600;height:0;overflow:hidden;pointer-events:none;-webkit-user-select:none;-moz-user-select:none;-ms-user-select:none;user-select:none;visibility:hidden;}/*!sc*/
@media (pointer:coarse){.jEdVkE:before{content:"";position:absolute;left:0;right:0;-webkit-transform:translateY(-50%);-ms-transform:translateY(-50%);transform:translateY(-50%);top:50%;min-height:44px;}}/*!sc*/
.TvbfG{--segmented-control-button-inner-padding:12px;--segmented-control-button-bg-inset:4px;--segmented-control-outer-radius:6px;background-color:transparent;border-color:transparent;border-radius:var(--segmented-control-outer-radius);border-width:0;color:currentColor;cursor:pointer;font-family:inherit;font-size:inherit;font-weight:400;padding:var(--segmented-control-button-bg-inset);height:100%;width:100%;}/*!sc*/
.TvbfG .segmentedControl-content{-webkit-align-items:center;-webkit-box-align:center;-ms-flex-align:center;align-items:center;background-color:transparent;border-color:transparent;border-style:solid;border-width:1px;border-radius:calc(var(--segmented-control-outer-radius) - var(--segmented-control-button-bg-inset) / 2);display:-webkit-box;display:-webkit-flex;display:-ms-flexbox;display:flex;height:100%;-webkit-box-pack:center;-webkit-justify-content:center;-ms-flex-pack:center;justify-content:center;padding-left:calc(var(--segmented-control-button-inner-padding) - var(--segmented-control-button-bg-inset));padding-right:calc(var(--segmented-control-button-inner-padding) - var(--segmented-control-button-bg-inset));}/*!sc*/
.TvbfG svg{fill:var(--fgColor-muted,var(--color-fg-muted,#656d76));}/*!sc*/
.TvbfG:hover .segmentedControl-content{background-color:var(--controlTrack-bgColor-hover,var(--color-segmented-control-button-hover-bg,rgba(175,184,193,0.2)));}/*!sc*/
.TvbfG:active .segmentedControl-content{background-color:var(--controlTrack-bgColor-active,var(--color-segmented-control-button-hover-active-bg,rgba(175,184,193,0.4)));}/*!sc*/
.TvbfG:focus:focus-visible:not(:last-child):after{width:0;}/*!sc*/
.TvbfG .segmentedControl-text:after{content:"Code";display:block;font-weight:600;height:0;overflow:hidden;pointer-events:none;-webkit-user-select:none;-moz-user-select:none;-ms-user-select:none;user-select:none;visibility:hidden;}/*!sc*/
@media (pointer:coarse){.TvbfG:before{content:"";position:absolute;left:0;right:0;-webkit-transform:translateY(-50%);-ms-transform:translateY(-50%);transform:translateY(-50%);top:50%;min-height:44px;}}/*!sc*/
.fIktcg{--segmented-control-button-inner-padding:12px;--segmented-control-button-bg-inset:4px;--segmented-control-outer-radius:6px;background-color:transparent;border-color:transparent;border-radius:var(--segmented-control-outer-radius);border-width:0;color:currentColor;cursor:pointer;font-family:inherit;font-size:inherit;font-weight:400;padding:var(--segmented-control-button-bg-inset);height:100%;width:100%;}/*!sc*/
.fIktcg .segmentedControl-content{-webkit-align-items:center;-webkit-box-align:center;-ms-flex-align:center;align-items:center;background-color:transparent;border-color:transparent;border-style:solid;border-width:1px;border-radius:calc(var(--segmented-control-outer-radius) - var(--segmented-control-button-bg-inset) / 2);display:-webkit-box;display:-webkit-flex;display:-ms-flexbox;display:flex;height:100%;-webkit-box-pack:center;-webkit-justify-content:center;-ms-flex-pack:center;justify-content:center;padding-left:calc(var(--segmented-control-button-inner-padding) - var(--segmented-control-button-bg-inset));padding-right:calc(var(--segmented-control-button-inner-padding) - var(--segmented-control-button-bg-inset));}/*!sc*/
.fIktcg svg{fill:var(--fgColor-muted,var(--color-fg-muted,#656d76));}/*!sc*/
.fIktcg:hover .segmentedControl-content{background-color:var(--controlTrack-bgColor-hover,var(--color-segmented-control-button-hover-bg,rgba(175,184,193,0.2)));}/*!sc*/
.fIktcg:active .segmentedControl-content{background-color:var(--controlTrack-bgColor-active,var(--color-segmented-control-button-hover-active-bg,rgba(175,184,193,0.4)));}/*!sc*/
.fIktcg:focus:focus-visible:not(:last-child):after{width:0;}/*!sc*/
.fIktcg .segmentedControl-text:after{content:"Blame";display:block;font-weight:600;height:0;overflow:hidden;pointer-events:none;-webkit-user-select:none;-moz-user-select:none;-ms-user-select:none;user-select:none;visibility:hidden;}/*!sc*/
@media (pointer:coarse){.fIktcg:before{content:"";position:absolute;left:0;right:0;-webkit-transform:translateY(-50%);-ms-transform:translateY(-50%);transform:translateY(-50%);top:50%;min-height:44px;}}/*!sc*/
data-styled.g69[id="SegmentedControlButton__SegmentedControlButtonStyled-sc-8lkgxl-0"]{content:"jEdVkE,TvbfG,fIktcg,"}/*!sc*/
.huxtnT{background-color:var(--controlTrack-bgColor-rest,var(--color-segmented-control-bg,#eaeef2));border-radius:6px;display:-webkit-inline-box;display:-webkit-inline-flex;display:-ms-inline-flexbox;display:inline-flex;font-size:14px;height:28px;margin:0;padding:0;}/*!sc*/
data-styled.g71[id="SegmentedControl__SegmentedControlList-sc-1rzig82-0"]{content:"huxtnT,"}/*!sc*/
.cjbBGq{display:-webkit-inline-box;display:-webkit-inline-flex;display:-ms-inline-flexbox;display:inline-flex;vertical-align:middle;isolation:isolate;}/*!sc*/
.cjbBGq.cjbBGq > *{margin-inline-end:-1px;position:relative;border-radius:0;}/*!sc*/
.cjbBGq.cjbBGq > *:first-child{border-top-left-radius:6px;border-bottom-left-radius:6px;}/*!sc*/
.cjbBGq.cjbBGq > *:last-child{border-top-right-radius:6px;border-bottom-right-radius:6px;}/*!sc*/
.cjbBGq.cjbBGq > *:focus,.cjbBGq.cjbBGq > *:active,.cjbBGq.cjbBGq > *:hover{z-index:1;}/*!sc*/
data-styled.g87[id="ButtonGroup-sc-1gxhls1-0"]{content:"cjbBGq,"}/*!sc*/
</style><meta data-hydrostats="publish"/> <!-- --> <!-- --> <!-- --> <button hidden="" data-testid="header-permalink-button" data-hotkey-scope="read-only-cursor-text-area"></button><button hidden=""></button><div><div style="--sticky-pane-height:100vh" class="Box-sc-g0xbh4-0 fSWWem"><div class="Box-sc-g0xbh4-0 kPPmzM"><div class="Box-sc-g0xbh4-0 cIAPDV"><div tabindex="0" class="Box-sc-g0xbh4-0 gvCnwW"><div class="Box-sc-g0xbh4-0 coFgrZ"><div class="Box-sc-g0xbh4-0 eUyHuk"></div><div style="--pane-width:320px" class="Box-sc-g0xbh4-0 gNdDUH"></div><div class="Box-sc-g0xbh4-0 hAeDYA"><div role="slider" aria-label="Draggable pane splitter" aria-valuemin="0" aria-valuemax="0" aria-valuenow="0" aria-valuetext="Pane width 0 pixels" tabindex="0" class="Box-sc-g0xbh4-0 fjdBNx"></div></div></div></div><div class="Box-sc-g0xbh4-0 emFMJu"><div class="Box-sc-g0xbh4-0"></div><div class="Box-sc-g0xbh4-0 hlUAHL"><div data-selector="repos-split-pane-content" tabindex="0" class="Box-sc-g0xbh4-0 iStsmI"><div class="Box-sc-g0xbh4-0 eIgvIk"><div class="Box-sc-g0xbh4-0 eVFfWF container"><div class="px-3 pt-3 pb-0" id="StickyHeader"><div class="Box-sc-g0xbh4-0 fywjmm"><div class="Box-sc-g0xbh4-0 dyczTK"><div class="Box-sc-g0xbh4-0 cpXcux react-code-view-header-wrap--narrow"><div class="Box-sc-g0xbh4-0 iPEkxH"><h2 class="Heading__StyledHeading-sc-1c1dgg0-0 jUriTl"><button style="--button-color:fg.muted" type="button" aria-label="Expand file tree" data-testid="expand-file-tree-button-mobile" class="types__StyledButton-sc-ws60qy-0 blmaBs"><span data-component="buttonContent" class="Box-sc-g0xbh4-0 kkrdEu"><span data-component="leadingVisual" class="Box-sc-g0xbh4-0 trpoQ"><svg aria-hidden="true" focusable="false" role="img" class="octicon octicon-arrow-left" viewBox="0 0 16 16" width="16" height="16" fill="currentColor" style="display:inline-block;user-select:none;vertical-align:text-bottom;overflow:visible"><path d="M7.78 12.53a.75.75 0 0 1-1.06 0L2.47 8.28a.75.75 0 0 1 0-1.06l4.25-4.25a.751.751 0 0 1 1.042.018.751.751 0 0 1 .018 1.042L4.81 7h7.44a.75.75 0 0 1 0 1.5H4.81l2.97 2.97a.75.75 0 0 1 0 1.06Z"></path></svg></span><span data-component="text">Files</span></span></button><span role="tooltip" aria-label="Expand file tree" id="expand-button-file-tree-button" class="Tooltip__TooltipBase-sc-17tf59c-0 gNgnVl tooltipped-se"><button data-component="IconButton" type="button" data-testid="expand-file-tree-button" aria-labelledby="expand-button-file-tree-button" aria-expanded="false" aria-controls="repos-file-tree" class="types__StyledButton-sc-ws60qy-0 hkJzmn" data-no-visuals="true"><svg aria-hidden="true" focusable="false" role="img" class="octicon octicon-sidebar-collapse" viewBox="0 0 16 16" width="16" height="16" fill="currentColor" style="display:inline-block;user-select:none;vertical-align:text-bottom;overflow:visible"><path d="M6.823 7.823a.25.25 0 0 1 0 .354l-2.396 2.396A.25.25 0 0 1 4 10.396V5.604a.25.25 0 0 1 .427-.177Z"></path><path d="M1.75 0h12.5C15.216 0 16 .784 16 1.75v12.5A1.75 1.75 0 0 1 14.25 16H1.75A1.75 1.75 0 0 1 0 14.25V1.75C0 .784.784 0 1.75 0ZM1.5 1.75v12.5c0 .138.112.25.25.25H9.5v-13H1.75a.25.25 0 0 0-.25.25ZM11 14.5h3.25a.25.25 0 0 0 .25-.25V1.75a.25.25 0 0 0-.25-.25H11Z"></path></svg></button></span><button hidden="" data-testid="" data-hotkey-scope="read-only-cursor-text-area"></button></h2></div><div class="react-code-view-header-mb--narrow mr-2"><button type="button" id="branch-picker-repos-header-ref-selector-wide" aria-haspopup="true" tabindex="0" aria-label="master branch" data-testid="anchor-button" class="types__StyledButton-sc-ws60qy-0 hILMMl ref-selector-class"><span data-component="buttonContent" class="Box-sc-g0xbh4-0 kkrdEu"><span data-component="text"><div class="Box-sc-g0xbh4-0 bKgizp"><div class="Box-sc-g0xbh4-0 iPGYsi"><svg aria-hidden="true" focusable="false" role="img" class="octicon octicon-git-branch" viewBox="0 0 16 16" width="16" height="16" fill="currentColor" style="display:inline-block;user-select:none;vertical-align:text-bottom;overflow:visible"><path d="M9.5 3.25a2.25 2.25 0 1 1 3 2.122V6A2.5 2.5 0 0 1 10 8.5H6a1 1 0 0 0-1 1v1.128a2.251 2.251 0 1 1-1.5 0V5.372a2.25 2.25 0 1 1 1.5 0v1.836A2.493 2.493 0 0 1 6 7h4a1 1 0 0 0 1-1v-.628A2.25 2.25 0 0 1 9.5 3.25Zm-6 0a.75.75 0 1 0 1.5 0 .75.75 0 0 0-1.5 0Zm8.25-.75a.75.75 0 1 0 0 1.5.75.75 0 0 0 0-1.5ZM4.25 12a.75.75 0 1 0 0 1.5.75.75 0 0 0 0-1.5Z"></path></svg></div><div class="Box-sc-g0xbh4-0 dKmYfk ref-selector-button-text-container"><span class="Text-sc-17v1xeu-0 bOMzPg"> <!-- -->master</span></div></div></span><span data-component="trailingVisual" class="Box-sc-g0xbh4-0 trpoQ"><svg aria-hidden="true" focusable="false" role="img" class="octicon octicon-triangle-down" viewBox="0 0 16 16" width="16" height="16" fill="currentColor" style="display:inline-block;user-select:none;vertical-align:text-bottom;overflow:visible"><path d="m4.427 7.427 3.396 3.396a.25.25 0 0 0 .354 0l3.396-3.396A.25.25 0 0 0 11.396 7H4.604a.25.25 0 0 0-.177.427Z"></path></svg></span></span></button><button hidden="" data-hotkey-scope="read-only-cursor-text-area"></button></div><div class="Box-sc-g0xbh4-0 ehCeGn react-code-view-header-mb--narrow"><div class="Box-sc-g0xbh4-0 eTvGbF"><nav data-testid="breadcrumbs" aria-labelledby="repos-header-breadcrumb-heading" id="repos-header-breadcrumb" class="Box-sc-g0xbh4-0 kzRgrI"><h2 class="Heading__StyledHeading-sc-1c1dgg0-0 cgQnMS sr-only" data-testid="screen-reader-heading" id="repos-header-breadcrumb-heading">Breadcrumbs</h2><ol class="Box-sc-g0xbh4-0 cmAPIB"><li class="Box-sc-g0xbh4-0 jwXCBK"><a sx="[object Object]" data-testid="breadcrumbs-repo-link" class="Link__StyledLink-sc-14289xe-0 ipyMWB" href="/Mogady/BBC_arabic_Analysis/tree/master">BBC_arabic_Analysis</a></li></ol></nav><div data-testid="breadcrumbs-filename" class="Box-sc-g0xbh4-0 jwXCBK"><span aria-hidden="true" class="Text-sc-17v1xeu-0 fIsVJr">/</span><h1 tabindex="-1" id="file-name-id" class="Heading__StyledHeading-sc-1c1dgg0-0 diwsLq">youtube data_analyzer.ipynb</h1></div><button data-component="IconButton" type="button" aria-label="Copy path" data-testid="breadcrumb-copy-path-button" data-size="small" data-no-visuals="true" class="types__StyledButton-sc-ws60qy-0 ivbpoP"><svg aria-hidden="true" focusable="false" role="img" class="octicon octicon-copy" viewBox="0 0 16 16" width="16" height="16" fill="currentColor" style="display:inline-block;user-select:none;vertical-align:text-bottom;overflow:visible"><path d="M0 6.75C0 5.784.784 5 1.75 5h1.5a.75.75 0 0 1 0 1.5h-1.5a.25.25 0 0 0-.25.25v7.5c0 .138.112.25.25.25h7.5a.25.25 0 0 0 .25-.25v-1.5a.75.75 0 0 1 1.5 0v1.5A1.75 1.75 0 0 1 9.25 16h-7.5A1.75 1.75 0 0 1 0 14.25Z"></path><path d="M5 1.75C5 .784 5.784 0 6.75 0h7.5C15.216 0 16 .784 16 1.75v7.5A1.75 1.75 0 0 1 14.25 11h-7.5A1.75 1.75 0 0 1 5 9.25Zm1.75-.25a.25.25 0 0 0-.25.25v7.5c0 .138.112.25.25.25h7.5a.25.25 0 0 0 .25-.25v-7.5a.25.25 0 0 0-.25-.25Z"></path></svg></button></div></div></div><div class="react-code-view-header-element--wide"><div class="Box-sc-g0xbh4-0 gtBUEp"><div class="d-flex gap-2"> <div><div class="Box-sc-g0xbh4-0 kfYOBR"><span class="TextInputWrapper__TextInputBaseWrapper-sc-1mqhpbi-0 TextInputWrapper-sc-1mqhpbi-1 cXNreu jbzqwE TextInput-wrapper" aria-busy="false"><span class="TextInput-icon"><svg aria-hidden="true" focusable="false" role="img" class="octicon octicon-search" viewBox="0 0 16 16" width="16" height="16" fill="currentColor" style="display:inline-block;user-select:none;vertical-align:text-bottom;overflow:visible"><path d="M10.68 11.74a6 6 0 0 1-7.922-8.982 6 6 0 0 1 8.982 7.922l3.04 3.04a.749.749 0 0 1-.326 1.275.749.749 0 0 1-.734-.215ZM11.5 7a4.499 4.499 0 1 0-8.997 0A4.499 4.499 0 0 0 11.5 7Z"></path></svg></span><input type="text" aria-label="Go to file" role="combobox" aria-controls="file-results-list" aria-expanded="false" aria-haspopup="dialog" autoCorrect="off" spellcheck="false" placeholder="Go to file" data-component="input" class="UnstyledTextInput-sc-14ypya-0 cDLBls" value=""/><span class="TextInput-icon"><div class="Box-sc-g0xbh4-0 cNvKlH"><kbd>t</kbd></div></span></span></div><button hidden="" data-testid="" data-hotkey-scope="read-only-cursor-text-area"></button><button hidden=""></button></div><button type="button" data-no-visuals="true" class="types__StyledButton-sc-ws60qy-0 hviaoI"><span data-component="buttonContent" class="Box-sc-g0xbh4-0 kkrdEu"><span data-component="text">Blame</span></span></button><button hidden="" data-testid="" data-hotkey-scope="read-only-cursor-text-area"></button><button data-component="IconButton" type="button" aria-label="More file actions" class="types__StyledButton-sc-ws60qy-0 jXTShb js-blob-dropdown-click" title="More file actions" data-testid="more-file-actions-button-nav-menu-wide" id=":R156d9laeb:" aria-haspopup="true" tabindex="0" data-no-visuals="true"><svg aria-hidden="true" focusable="false" role="img" class="octicon octicon-kebab-horizontal" viewBox="0 0 16 16" width="16" height="16" fill="currentColor" style="display:inline-block;user-select:none;vertical-align:text-bottom;overflow:visible"><path d="M8 9a1.5 1.5 0 1 0 0-3 1.5 1.5 0 0 0 0 3ZM1.5 9a1.5 1.5 0 1 0 0-3 1.5 1.5 0 0 0 0 3Zm13 0a1.5 1.5 0 1 0 0-3 1.5 1.5 0 0 0 0 3Z"></path></svg></button> </div></div></div><div class="react-code-view-header-element--narrow"><div class="Box-sc-g0xbh4-0 gtBUEp"><div class="d-flex gap-2"> <button type="button" data-no-visuals="true" class="types__StyledButton-sc-ws60qy-0 hviaoI"><span data-component="buttonContent" class="Box-sc-g0xbh4-0 kkrdEu"><span data-component="text">Blame</span></span></button><button hidden="" data-testid="" data-hotkey-scope="read-only-cursor-text-area"></button><button data-component="IconButton" type="button" aria-label="More file actions" class="types__StyledButton-sc-ws60qy-0 jXTShb js-blob-dropdown-click" title="More file actions" data-testid="more-file-actions-button-nav-menu-narrow" id=":R157d9laeb:" aria-haspopup="true" tabindex="0" data-no-visuals="true"><svg aria-hidden="true" focusable="false" role="img" class="octicon octicon-kebab-horizontal" viewBox="0 0 16 16" width="16" height="16" fill="currentColor" style="display:inline-block;user-select:none;vertical-align:text-bottom;overflow:visible"><path d="M8 9a1.5 1.5 0 1 0 0-3 1.5 1.5 0 0 0 0 3ZM1.5 9a1.5 1.5 0 1 0 0-3 1.5 1.5 0 0 0 0 3Zm13 0a1.5 1.5 0 1 0 0-3 1.5 1.5 0 0 0 0 3Z"></path></svg></button> </div></div></div></div></div></div></div></div><div class="Box-sc-g0xbh4-0 hVZtwF react-code-view-bottom-padding"> <div class="Box-sc-g0xbh4-0 cMYnca"></div> <!-- --> <!-- --> </div><div class="Box-sc-g0xbh4-0 hVZtwF"> <!-- --> <!-- --> <div class="Box-sc-g0xbh4-0 jQCQnS"><div class="Box-sc-g0xbh4-0 eYedVD"><h2 class="Heading__StyledHeading-sc-1c1dgg0-0 cgQnMS sr-only" data-testid="screen-reader-heading">Latest commit</h2><div style="width:120px" class="Skeleton Skeleton--text" data-testid="loading"> </div><div data-testid="latest-commit-details" class="Box-sc-g0xbh4-0 lhFvfi"></div><div class="Box-sc-g0xbh4-0 jGfYmh"><h2 class="Heading__StyledHeading-sc-1c1dgg0-0 cgQnMS sr-only" data-testid="screen-reader-heading">History</h2><a class="types__StyledButton-sc-ws60qy-0 fAkXQN react-last-commit-history-group" href="/Mogady/BBC_arabic_Analysis/commits/master/youtube%20data_analyzer.ipynb" data-size="small"><span data-component="buttonContent" class="Box-sc-g0xbh4-0 kkrdEu"><span data-component="leadingVisual" class="Box-sc-g0xbh4-0 trpoQ"><svg aria-hidden="true" focusable="false" role="img" class="octicon octicon-history" viewBox="0 0 16 16" width="16" height="16" fill="currentColor" style="display:inline-block;user-select:none;vertical-align:text-bottom;overflow:visible"><path d="m.427 1.927 1.215 1.215a8.002 8.002 0 1 1-1.6 5.685.75.75 0 1 1 1.493-.154 6.5 6.5 0 1 0 1.18-4.458l1.358 1.358A.25.25 0 0 1 3.896 6H.25A.25.25 0 0 1 0 5.75V2.104a.25.25 0 0 1 .427-.177ZM7.75 4a.75.75 0 0 1 .75.75v2.992l2.028.812a.75.75 0 0 1-.557 1.392l-2.5-1A.751.751 0 0 1 7 8.25v-3.5A.75.75 0 0 1 7.75 4Z"></path></svg></span><span data-component="text"><span class="Text-sc-17v1xeu-0 dALsKK">History</span></span></span></a><div class="Box-sc-g0xbh4-0 bqgLjk"></div><span role="tooltip" aria-label="Commit history" id=":R4hlal9laeb:" class="Tooltip__TooltipBase-sc-17tf59c-0 gNgnVl tooltipped-n"><a class="types__StyledButton-sc-ws60qy-0 fAkXQN react-last-commit-history-icon" href="/Mogady/BBC_arabic_Analysis/commits/master/youtube%20data_analyzer.ipynb"><span data-component="buttonContent" class="Box-sc-g0xbh4-0 kkrdEu"><span data-component="leadingVisual" class="Box-sc-g0xbh4-0 trpoQ"><svg aria-hidden="true" focusable="false" role="img" class="octicon octicon-history" viewBox="0 0 16 16" width="16" height="16" fill="currentColor" style="display:inline-block;user-select:none;vertical-align:text-bottom;overflow:visible"><path d="m.427 1.927 1.215 1.215a8.002 8.002 0 1 1-1.6 5.685.75.75 0 1 1 1.493-.154 6.5 6.5 0 1 0 1.18-4.458l1.358 1.358A.25.25 0 0 1 3.896 6H.25A.25.25 0 0 1 0 5.75V2.104a.25.25 0 0 1 .427-.177ZM7.75 4a.75.75 0 0 1 .75.75v2.992l2.028.812a.75.75 0 0 1-.557 1.392l-2.5-1A.751.751 0 0 1 7 8.25v-3.5A.75.75 0 0 1 7.75 4Z"></path></svg></span></span></a></span></div></div></div><div class="Box-sc-g0xbh4-0 iJmJly"><div class="Box-sc-g0xbh4-0 jACbi container"><div class="Box-sc-g0xbh4-0 gIJuDf react-code-size-details-banner"><div class="Box-sc-g0xbh4-0 fleZSW react-code-size-details-banner"><div class="Box-sc-g0xbh4-0 BnySK text-mono"><div title="201 KB" data-testid="blob-size" class="Truncate__StyledTruncate-sc-23o1d2-0 fUpWeN"><span class="Text-sc-17v1xeu-0 gPDEWA">2339 lines (2339 loc) · 201 KB</span></div></div></div><div class="Box-sc-g0xbh4-0 react-code-size-details-banner"><button style="--button-color:fg.default" type="button" id=":R15tal9laeb:" aria-haspopup="true" tabindex="0" data-testid="copilot-popover-button" data-size="small" class="types__StyledButton-sc-ws60qy-0 frAFhH"><span data-component="buttonContent" class="Box-sc-g0xbh4-0 kkrdEu"><span data-component="leadingVisual" class="Box-sc-g0xbh4-0 trpoQ"><svg aria-hidden="true" focusable="false" role="img" class="octicon octicon-copilot" viewBox="0 0 16 16" width="16" height="16" fill="currentColor" style="display:inline-block;user-select:none;vertical-align:text-bottom;overflow:visible"><path d="M7.998 15.035c-4.562 0-7.873-2.914-7.998-3.749V9.338c.085-.628.677-1.686 1.588-2.065.013-.07.024-.143.036-.218.029-.183.06-.384.126-.612-.201-.508-.254-1.084-.254-1.656 0-.87.128-1.769.693-2.484.579-.733 1.494-1.124 2.724-1.261 1.206-.134 2.262.034 2.944.765.05.053.096.108.139.165.044-.057.094-.112.143-.165.682-.731 1.738-.899 2.944-.765 1.23.137 2.145.528 2.724 1.261.566.715.693 1.614.693 2.484 0 .572-.053 1.148-.254 1.656.066.228.098.429.126.612.012.076.024.148.037.218.924.385 1.522 1.471 1.591 2.095v1.872c0 .766-3.351 3.795-8.002 3.795Zm0-1.485c2.28 0 4.584-1.11 5.002-1.433V7.862l-.023-.116c-.49.21-1.075.291-1.727.291-1.146 0-2.059-.327-2.71-.991A3.222 3.222 0 0 1 8 6.303a3.24 3.24 0 0 1-.544.743c-.65.664-1.563.991-2.71.991-.652 0-1.236-.081-1.727-.291l-.023.116v4.255c.419.323 2.722 1.433 5.002 1.433ZM6.762 2.83c-.193-.206-.637-.413-1.682-.297-1.019.113-1.479.404-1.713.7-.247.312-.369.789-.369 1.554 0 .793.129 1.171.308 1.371.162.181.519.379 1.442.379.853 0 1.339-.235 1.638-.54.315-.322.527-.827.617-1.553.117-.935-.037-1.395-.241-1.614Zm4.155-.297c-1.044-.116-1.488.091-1.681.297-.204.219-.359.679-.242 1.614.091.726.303 1.231.618 1.553.299.305.784.54 1.638.54.922 0 1.28-.198 1.442-.379.179-.2.308-.578.308-1.371 0-.765-.123-1.242-.37-1.554-.233-.296-.693-.587-1.713-.7Z"></path><path d="M6.25 9.037a.75.75 0 0 1 .75.75v1.501a.75.75 0 0 1-1.5 0V9.787a.75.75 0 0 1 .75-.75Zm4.25.75v1.501a.75.75 0 0 1-1.5 0V9.787a.75.75 0 0 1 1.5 0Z"></path></svg></span><span data-component="text">Code 55% faster with GitHub Copilot</span></span></button></div></div><div class="Box-sc-g0xbh4-0 VHzRk react-blob-view-header-sticky" id="repos-sticky-header"><div class="Box-sc-g0xbh4-0 ePiodO"><div class="Box-sc-g0xbh4-0 react-blob-sticky-header"><div class="Box-sc-g0xbh4-0 kQJlnf"><div class="Box-sc-g0xbh4-0 nSWSp"><div class="Box-sc-g0xbh4-0 lhFvfi"><div class="Box-sc-g0xbh4-0 doiYd"><button type="button" id="branch-picker-repos-header-ref-selector" aria-haspopup="true" tabindex="0" aria-label="master branch" data-testid="anchor-button" class="types__StyledButton-sc-ws60qy-0 hILMMl ref-selector-class"><span data-component="buttonContent" class="Box-sc-g0xbh4-0 kkrdEu"><span data-component="text"><div class="Box-sc-g0xbh4-0 bKgizp"><div class="Box-sc-g0xbh4-0 iPGYsi"><svg aria-hidden="true" focusable="false" role="img" class="octicon octicon-git-branch" viewBox="0 0 16 16" width="16" height="16" fill="currentColor" style="display:inline-block;user-select:none;vertical-align:text-bottom;overflow:visible"><path d="M9.5 3.25a2.25 2.25 0 1 1 3 2.122V6A2.5 2.5 0 0 1 10 8.5H6a1 1 0 0 0-1 1v1.128a2.251 2.251 0 1 1-1.5 0V5.372a2.25 2.25 0 1 1 1.5 0v1.836A2.493 2.493 0 0 1 6 7h4a1 1 0 0 0 1-1v-.628A2.25 2.25 0 0 1 9.5 3.25Zm-6 0a.75.75 0 1 0 1.5 0 .75.75 0 0 0-1.5 0Zm8.25-.75a.75.75 0 1 0 0 1.5.75.75 0 0 0 0-1.5ZM4.25 12a.75.75 0 1 0 0 1.5.75.75 0 0 0 0-1.5Z"></path></svg></div><div class="Box-sc-g0xbh4-0 dKmYfk ref-selector-button-text-container"><span class="Text-sc-17v1xeu-0 bOMzPg"> <!-- -->master</span></div></div></span><span data-component="trailingVisual" class="Box-sc-g0xbh4-0 trpoQ"><svg aria-hidden="true" focusable="false" role="img" class="octicon octicon-triangle-down" viewBox="0 0 16 16" width="16" height="16" fill="currentColor" style="display:inline-block;user-select:none;vertical-align:text-bottom;overflow:visible"><path d="m4.427 7.427 3.396 3.396a.25.25 0 0 0 .354 0l3.396-3.396A.25.25 0 0 0 11.396 7H4.604a.25.25 0 0 0-.177.427Z"></path></svg></span></span></button><button hidden="" data-hotkey-scope="read-only-cursor-text-area"></button></div><div class="Box-sc-g0xbh4-0 jKPiSV"><div class="Box-sc-g0xbh4-0 iZJewz"><nav data-testid="breadcrumbs" aria-labelledby="sticky-breadcrumb-heading" id="sticky-breadcrumb" class="Box-sc-g0xbh4-0 kzRgrI"><h2 class="Heading__StyledHeading-sc-1c1dgg0-0 cgQnMS sr-only" data-testid="screen-reader-heading" id="sticky-breadcrumb-heading">Breadcrumbs</h2><ol class="Box-sc-g0xbh4-0 cmAPIB"><li class="Box-sc-g0xbh4-0 jwXCBK"><a sx="[object Object]" data-testid="breadcrumbs-repo-link" class="Link__StyledLink-sc-14289xe-0 ipyMWB" href="/Mogady/BBC_arabic_Analysis/tree/master">BBC_arabic_Analysis</a></li></ol></nav><div data-testid="breadcrumbs-filename" class="Box-sc-g0xbh4-0 jwXCBK"><span aria-hidden="true" class="Text-sc-17v1xeu-0 cYjMDB">/</span><h1 tabindex="-1" id="sticky-file-name-id" class="Heading__StyledHeading-sc-1c1dgg0-0 jAEDJk">youtube data_analyzer.ipynb</h1></div></div></div></div><button style="--button-color:fg.default" type="button" data-size="small" class="types__StyledButton-sc-ws60qy-0 gfKkfV"><span data-component="buttonContent" class="Box-sc-g0xbh4-0 kkrdEu"><span data-component="leadingVisual" class="Box-sc-g0xbh4-0 trpoQ"><svg aria-hidden="true" focusable="false" role="img" class="octicon octicon-arrow-up" viewBox="0 0 16 16" width="16" height="16" fill="currentColor" style="display:inline-block;user-select:none;vertical-align:text-bottom;overflow:visible"><path d="M3.47 7.78a.75.75 0 0 1 0-1.06l4.25-4.25a.75.75 0 0 1 1.06 0l4.25 4.25a.751.751 0 0 1-.018 1.042.751.751 0 0 1-1.042.018L9 4.81v7.44a.75.75 0 0 1-1.5 0V4.81L4.53 7.78a.75.75 0 0 1-1.06 0Z"></path></svg></span><span data-component="text">Top</span></span></button></div></div></div><div class="Box-sc-g0xbh4-0 jfjHXm"><h2 class="Heading__StyledHeading-sc-1c1dgg0-0 cgQnMS sr-only" data-testid="screen-reader-heading">File metadata and controls</h2><div class="Box-sc-g0xbh4-0 bfkNRF"><ul aria-label="File view" class="SegmentedControl__SegmentedControlList-sc-1rzig82-0 huxtnT"><li class="Box-sc-g0xbh4-0 fXBLEV"><button aria-current="true" class="SegmentedControlButton__SegmentedControlButtonStyled-sc-8lkgxl-0 jEdVkE"><span class="segmentedControl-content"><div class="Box-sc-g0xbh4-0 segmentedControl-text">Preview</div></span></button></li><li class="Box-sc-g0xbh4-0 gMPsNT"><button aria-current="false" class="SegmentedControlButton__SegmentedControlButtonStyled-sc-8lkgxl-0 TvbfG"><span class="segmentedControl-content"><div class="Box-sc-g0xbh4-0 segmentedControl-text">Code</div></span></button></li><li class="Box-sc-g0xbh4-0 gMPsNT"><button aria-current="false" class="SegmentedControlButton__SegmentedControlButtonStyled-sc-8lkgxl-0 fIktcg"><span class="segmentedControl-content"><div class="Box-sc-g0xbh4-0 segmentedControl-text">Blame</div></span></button></li></ul><button hidden="" data-testid="" data-hotkey-scope="read-only-cursor-text-area"></button><button hidden="" data-testid="" data-hotkey-scope="read-only-cursor-text-area"></button><button hidden="" data-testid="" data-hotkey-scope="read-only-cursor-text-area"></button><div class="Box-sc-g0xbh4-0 fleZSW react-code-size-details-in-header"><div class="Box-sc-g0xbh4-0 BnySK text-mono"><div title="201 KB" data-testid="blob-size" class="Truncate__StyledTruncate-sc-23o1d2-0 fUpWeN"><span class="Text-sc-17v1xeu-0 gPDEWA">2339 lines (2339 loc) · 201 KB</span></div></div></div><div class="Box-sc-g0xbh4-0 react-code-size-details-in-header"><button style="--button-color:fg.default" type="button" id=":R3kptal9laeb:" aria-haspopup="true" tabindex="0" data-testid="copilot-popover-button" data-size="small" class="types__StyledButton-sc-ws60qy-0 frAFhH"><span data-component="buttonContent" class="Box-sc-g0xbh4-0 kkrdEu"><span data-component="leadingVisual" class="Box-sc-g0xbh4-0 trpoQ"><svg aria-hidden="true" focusable="false" role="img" class="octicon octicon-copilot" viewBox="0 0 16 16" width="16" height="16" fill="currentColor" style="display:inline-block;user-select:none;vertical-align:text-bottom;overflow:visible"><path d="M7.998 15.035c-4.562 0-7.873-2.914-7.998-3.749V9.338c.085-.628.677-1.686 1.588-2.065.013-.07.024-.143.036-.218.029-.183.06-.384.126-.612-.201-.508-.254-1.084-.254-1.656 0-.87.128-1.769.693-2.484.579-.733 1.494-1.124 2.724-1.261 1.206-.134 2.262.034 2.944.765.05.053.096.108.139.165.044-.057.094-.112.143-.165.682-.731 1.738-.899 2.944-.765 1.23.137 2.145.528 2.724 1.261.566.715.693 1.614.693 2.484 0 .572-.053 1.148-.254 1.656.066.228.098.429.126.612.012.076.024.148.037.218.924.385 1.522 1.471 1.591 2.095v1.872c0 .766-3.351 3.795-8.002 3.795Zm0-1.485c2.28 0 4.584-1.11 5.002-1.433V7.862l-.023-.116c-.49.21-1.075.291-1.727.291-1.146 0-2.059-.327-2.71-.991A3.222 3.222 0 0 1 8 6.303a3.24 3.24 0 0 1-.544.743c-.65.664-1.563.991-2.71.991-.652 0-1.236-.081-1.727-.291l-.023.116v4.255c.419.323 2.722 1.433 5.002 1.433ZM6.762 2.83c-.193-.206-.637-.413-1.682-.297-1.019.113-1.479.404-1.713.7-.247.312-.369.789-.369 1.554 0 .793.129 1.171.308 1.371.162.181.519.379 1.442.379.853 0 1.339-.235 1.638-.54.315-.322.527-.827.617-1.553.117-.935-.037-1.395-.241-1.614Zm4.155-.297c-1.044-.116-1.488.091-1.681.297-.204.219-.359.679-.242 1.614.091.726.303 1.231.618 1.553.299.305.784.54 1.638.54.922 0 1.28-.198 1.442-.379.179-.2.308-.578.308-1.371 0-.765-.123-1.242-.37-1.554-.233-.296-.693-.587-1.713-.7Z"></path><path d="M6.25 9.037a.75.75 0 0 1 .75.75v1.501a.75.75 0 0 1-1.5 0V9.787a.75.75 0 0 1 .75-.75Zm4.25.75v1.501a.75.75 0 0 1-1.5 0V9.787a.75.75 0 0 1 1.5 0Z"></path></svg></span><span data-component="text">Code 55% faster with GitHub Copilot</span></span></button></div></div><div class="Box-sc-g0xbh4-0 iBylDf"><div class="Box-sc-g0xbh4-0 kSGBPx react-blob-header-edit-and-raw-actions"><div class="ButtonGroup-sc-1gxhls1-0 cjbBGq"><a href="https://github.com/Mogady/BBC_arabic_Analysis/raw/master/youtube%20data_analyzer.ipynb" data-testid="raw-button" data-size="small" data-no-visuals="true" class="types__StyledButton-sc-ws60qy-0 dTgfec"><span data-component="buttonContent" class="Box-sc-g0xbh4-0 kkrdEu"><span data-component="text">Raw</span></span></a><button data-component="IconButton" type="button" aria-label="Copy raw content" data-testid="copy-raw-button" data-size="small" data-no-visuals="true" class="types__StyledButton-sc-ws60qy-0 pyyxt"><svg aria-hidden="true" focusable="false" role="img" class="octicon octicon-copy" viewBox="0 0 16 16" width="16" height="16" fill="currentColor" style="display:inline-block;user-select:none;vertical-align:text-bottom;overflow:visible"><path d="M0 6.75C0 5.784.784 5 1.75 5h1.5a.75.75 0 0 1 0 1.5h-1.5a.25.25 0 0 0-.25.25v7.5c0 .138.112.25.25.25h7.5a.25.25 0 0 0 .25-.25v-1.5a.75.75 0 0 1 1.5 0v1.5A1.75 1.75 0 0 1 9.25 16h-7.5A1.75 1.75 0 0 1 0 14.25Z"></path><path d="M5 1.75C5 .784 5.784 0 6.75 0h7.5C15.216 0 16 .784 16 1.75v7.5A1.75 1.75 0 0 1 14.25 11h-7.5A1.75 1.75 0 0 1 5 9.25Zm1.75-.25a.25.25 0 0 0-.25.25v7.5c0 .138.112.25.25.25h7.5a.25.25 0 0 0 .25-.25v-7.5a.25.25 0 0 0-.25-.25Z"></path></svg></button><span role="tooltip" aria-label="Download raw file" id=":Rdcsptal9laeb:" class="Tooltip__TooltipBase-sc-17tf59c-0 gNgnVl tooltipped-n"><button data-component="IconButton" type="button" aria-label="Download raw content" data-testid="download-raw-button" data-size="small" data-no-visuals="true" class="types__StyledButton-sc-ws60qy-0 fmvlPZ"><svg aria-hidden="true" focusable="false" role="img" class="octicon octicon-download" viewBox="0 0 16 16" width="16" height="16" fill="currentColor" style="display:inline-block;user-select:none;vertical-align:text-bottom;overflow:visible"><path d="M2.75 14A1.75 1.75 0 0 1 1 12.25v-2.5a.75.75 0 0 1 1.5 0v2.5c0 .138.112.25.25.25h10.5a.25.25 0 0 0 .25-.25v-2.5a.75.75 0 0 1 1.5 0v2.5A1.75 1.75 0 0 1 13.25 14Z"></path><path d="M7.25 7.689V2a.75.75 0 0 1 1.5 0v5.689l1.97-1.969a.749.749 0 1 1 1.06 1.06l-3.25 3.25a.749.749 0 0 1-1.06 0L4.22 6.78a.749.749 0 1 1 1.06-1.06l1.97 1.969Z"></path></svg></button></span></div><button hidden="" data-testid="raw-button-shortcut" data-hotkey-scope="read-only-cursor-text-area"></button><button hidden="" data-testid="copy-raw-button-shortcut" data-hotkey-scope="read-only-cursor-text-area"></button><button hidden="" data-testid="download-raw-button-shortcut" data-hotkey-scope="read-only-cursor-text-area"></button><a class="Link__StyledLink-sc-14289xe-0 dheQRw js-github-dev-shortcut d-none" href="https://github.dev/"></a><button hidden="" data-testid="" data-hotkey-scope="read-only-cursor-text-area"></button><a class="Link__StyledLink-sc-14289xe-0 dheQRw js-github-dev-new-tab-shortcut d-none" href="https://github.dev/" target="_blank"></a><button hidden="" data-testid="" data-hotkey-scope="read-only-cursor-text-area"></button><div class="ButtonGroup-sc-1gxhls1-0 cjbBGq"><span role="tooltip" aria-label="Fork this repository and edit the file" id=":R6ksptal9laeb:" class="Tooltip__TooltipBase-sc-17tf59c-0 gNgnVl tooltipped-nw"><a sx="[object Object]" data-component="IconButton" type="button" aria-label="Edit file" data-testid="edit-button" data-size="small" data-no-visuals="true" class="types__StyledButton-sc-ws60qy-0 bDhqXD" href="/Mogady/BBC_arabic_Analysis/edit/master/youtube%20data_analyzer.ipynb"><svg aria-hidden="true" focusable="false" role="img" class="octicon octicon-pencil" viewBox="0 0 16 16" width="16" height="16" fill="currentColor" style="display:inline-block;user-select:none;vertical-align:text-bottom;overflow:visible"><path d="M11.013 1.427a1.75 1.75 0 0 1 2.474 0l1.086 1.086a1.75 1.75 0 0 1 0 2.474l-8.61 8.61c-.21.21-.47.364-.756.445l-3.251.93a.75.75 0 0 1-.927-.928l.929-3.25c.081-.286.235-.547.445-.758l8.61-8.61Zm.176 4.823L9.75 4.81l-6.286 6.287a.253.253 0 0 0-.064.108l-.558 1.953 1.953-.558a.253.253 0 0 0 .108-.064Zm1.238-3.763a.25.25 0 0 0-.354 0L10.811 3.75l1.439 1.44 1.263-1.263a.25.25 0 0 0 0-.354Z"></path></svg></a></span><button data-component="IconButton" type="button" aria-label="More edit options" data-testid="more-edit-button" id=":Raksptal9laeb:" aria-haspopup="true" tabindex="0" data-size="small" data-no-visuals="true" class="types__StyledButton-sc-ws60qy-0 pyyxt"><svg aria-hidden="true" focusable="false" role="img" class="octicon octicon-triangle-down" viewBox="0 0 16 16" width="16" height="16" fill="currentColor" style="display:inline-block;user-select:none;vertical-align:text-bottom;overflow:visible"><path d="m4.427 7.427 3.396 3.396a.25.25 0 0 0 .354 0l3.396-3.396A.25.25 0 0 0 11.396 7H4.604a.25.25 0 0 0-.177.427Z"></path></svg></button></div><button hidden="" data-testid="" data-hotkey="e,Shift+E" data-hotkey-scope="read-only-cursor-text-area"></button></div><div class="Box-sc-g0xbh4-0 react-blob-header-edit-and-raw-actions-combined"><button data-component="IconButton" type="button" aria-label="Edit and raw actions" class="types__StyledButton-sc-ws60qy-0 dGDIQc js-blob-dropdown-click" title="More file actions" data-testid="more-file-actions-button" id=":Rnsptal9laeb:" aria-haspopup="true" tabindex="0" data-size="small" data-no-visuals="true"><svg aria-hidden="true" focusable="false" role="img" class="octicon octicon-kebab-horizontal" viewBox="0 0 16 16" width="16" height="16" fill="currentColor" style="display:inline-block;user-select:none;vertical-align:text-bottom;overflow:visible"><path d="M8 9a1.5 1.5 0 1 0 0-3 1.5 1.5 0 0 0 0 3ZM1.5 9a1.5 1.5 0 1 0 0-3 1.5 1.5 0 0 0 0 3Zm13 0a1.5 1.5 0 1 0 0-3 1.5 1.5 0 0 0 0 3Z"></path></svg></button></div></div></div></div><div></div></div><div class="Box-sc-g0xbh4-0 ytOJl"><section aria-labelledby="file-name-id-wide file-name-id-mobile" class="Box-sc-g0xbh4-0 eJsjkT"><!--$!--><template></template><div data-testid="suspense-spinner" class="Box-sc-g0xbh4-0 bAzdCq"><svg height="32px" width="32px" viewBox="0 0 16 16" fill="none" aria-label="Loading" class="Spinner__StyledSpinner-sc-1knt686-0 hPEVNM"><circle cx="8" cy="8" r="7" stroke="currentColor" stroke-opacity="0.25" stroke-width="2" vector-effect="non-scaling-stroke"></circle><path d="M15 8a7.002 7.002 0 00-7-7" stroke="currentColor" stroke-width="2" stroke-linecap="round" vector-effect="non-scaling-stroke"></path></svg></div><!--/$--></section></div></div></div> <!-- --> <!-- --> </div></div></div><div class="Box-sc-g0xbh4-0"></div></div></div></div></div><div id="find-result-marks-container" class="Box-sc-g0xbh4-0 aZrVR"></div><button hidden="" data-testid="" data-hotkey-scope="read-only-cursor-text-area"></button><button hidden=""></button></div> <!-- --> <!-- --> <!-- --> <script type="application/json" id="__PRIMER_DATA_:R0:__">{"resolvedServerColorMode":"day"}</script></div>
</react-app>
</turbo-frame>



  </div>

</turbo-frame>

    </main>
  </div>

  </div>

          <footer class="footer pt-8 pb-6 f6 color-fg-muted p-responsive" role="contentinfo" >
  <h2 class='sr-only'>Footer</h2>

  


  <div class="d-flex flex-justify-center flex-items-center flex-column-reverse flex-lg-row flex-wrap flex-lg-nowrap">
    <div class="d-flex flex-items-center flex-shrink-0 mx-2">
      <a aria-label="Homepage" title="GitHub" class="footer-octicon mr-2" href="https://github.com">
        <svg aria-hidden="true" height="24" viewBox="0 0 16 16" version="1.1" width="24" data-view-component="true" class="octicon octicon-mark-github">
    <path d="M8 0c4.42 0 8 3.58 8 8a8.013 8.013 0 0 1-5.45 7.59c-.4.08-.55-.17-.55-.38 0-.27.01-1.13.01-2.2 0-.75-.25-1.23-.54-1.48 1.78-.2 3.65-.88 3.65-3.95 0-.88-.31-1.59-.82-2.15.08-.2.36-1.02-.08-2.12 0 0-.67-.22-2.2.82-.64-.18-1.32-.27-2-.27-.68 0-1.36.09-2 .27-1.53-1.03-2.2-.82-2.2-.82-.44 1.1-.16 1.92-.08 2.12-.51.56-.82 1.28-.82 2.15 0 3.06 1.86 3.75 3.64 3.95-.23.2-.44.55-.51 1.07-.46.21-1.61.55-2.33-.66-.15-.24-.6-.83-1.23-.82-.67.01-.27.38.01.53.34.19.73.9.82 1.13.16.45.68 1.31 2.69.94 0 .67.01 1.3.01 1.49 0 .21-.15.45-.55.38A7.995 7.995 0 0 1 0 8c0-4.42 3.58-8 8-8Z"></path>
</svg>
</a>
      <span>
        &copy; 2024 GitHub,&nbsp;Inc.
      </span>
    </div>

    <nav aria-label="Footer">
      <h3 class="sr-only" id="sr-footer-heading">Footer navigation</h3>

      <ul class="list-style-none d-flex flex-justify-center flex-wrap mb-2 mb-lg-0" aria-labelledby="sr-footer-heading">

          <li class="mx-2">
            <a data-analytics-event="{&quot;category&quot;:&quot;Footer&quot;,&quot;action&quot;:&quot;go to Terms&quot;,&quot;label&quot;:&quot;text:terms&quot;}" href="https://docs.github.com/site-policy/github-terms/github-terms-of-service" data-view-component="true" class="Link--secondary Link">Terms</a>
          </li>

          <li class="mx-2">
            <a data-analytics-event="{&quot;category&quot;:&quot;Footer&quot;,&quot;action&quot;:&quot;go to privacy&quot;,&quot;label&quot;:&quot;text:privacy&quot;}" href="https://docs.github.com/site-policy/privacy-policies/github-privacy-statement" data-view-component="true" class="Link--secondary Link">Privacy</a>
          </li>

          <li class="mx-2">
            <a data-analytics-event="{&quot;category&quot;:&quot;Footer&quot;,&quot;action&quot;:&quot;go to security&quot;,&quot;label&quot;:&quot;text:security&quot;}" href="https://github.com/security" data-view-component="true" class="Link--secondary Link">Security</a>
          </li>

          <li class="mx-2">
            <a data-analytics-event="{&quot;category&quot;:&quot;Footer&quot;,&quot;action&quot;:&quot;go to status&quot;,&quot;label&quot;:&quot;text:status&quot;}" href="https://www.githubstatus.com/" data-view-component="true" class="Link--secondary Link">Status</a>
          </li>

          <li class="mx-2">
            <a data-analytics-event="{&quot;category&quot;:&quot;Footer&quot;,&quot;action&quot;:&quot;go to docs&quot;,&quot;label&quot;:&quot;text:docs&quot;}" href="https://docs.github.com/" data-view-component="true" class="Link--secondary Link">Docs</a>
          </li>

          <li class="mx-2">
            <a data-analytics-event="{&quot;category&quot;:&quot;Footer&quot;,&quot;action&quot;:&quot;go to contact&quot;,&quot;label&quot;:&quot;text:contact&quot;}" href="https://support.github.com?tags=dotcom-footer" data-view-component="true" class="Link--secondary Link">Contact</a>
          </li>

          <li class="mr-3" >
  <cookie-consent-link>
    <button type="button" class="Link--secondary underline-on-hover border-0 p-0 color-bg-transparent" data-action="click:cookie-consent-link#showConsentManagement">
      Manage cookies
    </button>
  </cookie-consent-link>
</li>

<li class="mr-3">
  <cookie-consent-link>
    <button type="button" class="Link--secondary underline-on-hover border-0 p-0 color-bg-transparent" data-action="click:cookie-consent-link#showConsentManagement">
      Do not share my personal information
    </button>
  </cookie-consent-link>
</li>

      </ul>
    </nav>
  </div>
</footer>




    <ghcc-consent id="ghcc" class="position-fixed bottom-0 left-0" style="z-index: 999999" data-initial-cookie-consent-allowed="" data-cookie-consent-required="false"></ghcc-consent>


  <div id="ajax-error-message" class="ajax-error-message flash flash-error" hidden>
    <svg aria-hidden="true" height="16" viewBox="0 0 16 16" version="1.1" width="16" data-view-component="true" class="octicon octicon-alert">
    <path d="M6.457 1.047c.659-1.234 2.427-1.234 3.086 0l6.082 11.378A1.75 1.75 0 0 1 14.082 15H1.918a1.75 1.75 0 0 1-1.543-2.575Zm1.763.707a.25.25 0 0 0-.44 0L1.698 13.132a.25.25 0 0 0 .22.368h12.164a.25.25 0 0 0 .22-.368Zm.53 3.996v2.5a.75.75 0 0 1-1.5 0v-2.5a.75.75 0 0 1 1.5 0ZM9 11a1 1 0 1 1-2 0 1 1 0 0 1 2 0Z"></path>
</svg>
    <button type="button" class="flash-close js-ajax-error-dismiss" aria-label="Dismiss error">
      <svg aria-hidden="true" height="16" viewBox="0 0 16 16" version="1.1" width="16" data-view-component="true" class="octicon octicon-x">
    <path d="M3.72 3.72a.75.75 0 0 1 1.06 0L8 6.94l3.22-3.22a.749.749 0 0 1 1.275.326.749.749 0 0 1-.215.734L9.06 8l3.22 3.22a.749.749 0 0 1-.326 1.275.749.749 0 0 1-.734-.215L8 9.06l-3.22 3.22a.751.751 0 0 1-1.042-.018.751.751 0 0 1-.018-1.042L6.94 8 3.72 4.78a.75.75 0 0 1 0-1.06Z"></path>
</svg>
    </button>
    You can’t perform that action at this time.
  </div>

    <template id="site-details-dialog">
  <details class="details-reset details-overlay details-overlay-dark lh-default color-fg-default hx_rsm" open>
    <summary role="button" aria-label="Close dialog"></summary>
    <details-dialog class="Box Box--overlay d-flex flex-column anim-fade-in fast hx_rsm-dialog hx_rsm-modal">
      <button class="Box-btn-octicon m-0 btn-octicon position-absolute right-0 top-0" type="button" aria-label="Close dialog" data-close-dialog>
        <svg aria-hidden="true" height="16" viewBox="0 0 16 16" version="1.1" width="16" data-view-component="true" class="octicon octicon-x">
    <path d="M3.72 3.72a.75.75 0 0 1 1.06 0L8 6.94l3.22-3.22a.749.749 0 0 1 1.275.326.749.749 0 0 1-.215.734L9.06 8l3.22 3.22a.749.749 0 0 1-.326 1.275.749.749 0 0 1-.734-.215L8 9.06l-3.22 3.22a.751.751 0 0 1-1.042-.018.751.751 0 0 1-.018-1.042L6.94 8 3.72 4.78a.75.75 0 0 1 0-1.06Z"></path>
</svg>
      </button>
      <div class="octocat-spinner my-6 js-details-dialog-spinner"></div>
    </details-dialog>
  </details>
</template>

    <div class="Popover js-hovercard-content position-absolute" style="display: none; outline: none;" tabindex="0">
  <div class="Popover-message Popover-message--bottom-left Popover-message--large Box color-shadow-large" style="width:360px;">
  </div>
</div>

    <template id="snippet-clipboard-copy-button">
  <div class="zeroclipboard-container position-absolute right-0 top-0">
    <clipboard-copy aria-label="Copy" class="ClipboardButton btn js-clipboard-copy m-2 p-0 tooltipped-no-delay" data-copy-feedback="Copied!" data-tooltip-direction="w">
      <svg aria-hidden="true" height="16" viewBox="0 0 16 16" version="1.1" width="16" data-view-component="true" class="octicon octicon-copy js-clipboard-copy-icon m-2">
    <path d="M0 6.75C0 5.784.784 5 1.75 5h1.5a.75.75 0 0 1 0 1.5h-1.5a.25.25 0 0 0-.25.25v7.5c0 .138.112.25.25.25h7.5a.25.25 0 0 0 .25-.25v-1.5a.75.75 0 0 1 1.5 0v1.5A1.75 1.75 0 0 1 9.25 16h-7.5A1.75 1.75 0 0 1 0 14.25Z"></path><path d="M5 1.75C5 .784 5.784 0 6.75 0h7.5C15.216 0 16 .784 16 1.75v7.5A1.75 1.75 0 0 1 14.25 11h-7.5A1.75 1.75 0 0 1 5 9.25Zm1.75-.25a.25.25 0 0 0-.25.25v7.5c0 .138.112.25.25.25h7.5a.25.25 0 0 0 .25-.25v-7.5a.25.25 0 0 0-.25-.25Z"></path>
</svg>
      <svg aria-hidden="true" height="16" viewBox="0 0 16 16" version="1.1" width="16" data-view-component="true" class="octicon octicon-check js-clipboard-check-icon color-fg-success d-none m-2">
    <path d="M13.78 4.22a.75.75 0 0 1 0 1.06l-7.25 7.25a.75.75 0 0 1-1.06 0L2.22 9.28a.751.751 0 0 1 .018-1.042.751.751 0 0 1 1.042-.018L6 10.94l6.72-6.72a.75.75 0 0 1 1.06 0Z"></path>
</svg>
    </clipboard-copy>
  </div>
</template>
<template id="snippet-clipboard-copy-button-unpositioned">
  <div class="zeroclipboard-container">
    <clipboard-copy aria-label="Copy" class="ClipboardButton btn btn-invisible js-clipboard-copy m-2 p-0 tooltipped-no-delay d-flex flex-justify-center flex-items-center" data-copy-feedback="Copied!" data-tooltip-direction="w">
      <svg aria-hidden="true" height="16" viewBox="0 0 16 16" version="1.1" width="16" data-view-component="true" class="octicon octicon-copy js-clipboard-copy-icon">
    <path d="M0 6.75C0 5.784.784 5 1.75 5h1.5a.75.75 0 0 1 0 1.5h-1.5a.25.25 0 0 0-.25.25v7.5c0 .138.112.25.25.25h7.5a.25.25 0 0 0 .25-.25v-1.5a.75.75 0 0 1 1.5 0v1.5A1.75 1.75 0 0 1 9.25 16h-7.5A1.75 1.75 0 0 1 0 14.25Z"></path><path d="M5 1.75C5 .784 5.784 0 6.75 0h7.5C15.216 0 16 .784 16 1.75v7.5A1.75 1.75 0 0 1 14.25 11h-7.5A1.75 1.75 0 0 1 5 9.25Zm1.75-.25a.25.25 0 0 0-.25.25v7.5c0 .138.112.25.25.25h7.5a.25.25 0 0 0 .25-.25v-7.5a.25.25 0 0 0-.25-.25Z"></path>
</svg>
      <svg aria-hidden="true" height="16" viewBox="0 0 16 16" version="1.1" width="16" data-view-component="true" class="octicon octicon-check js-clipboard-check-icon color-fg-success d-none">
    <path d="M13.78 4.22a.75.75 0 0 1 0 1.06l-7.25 7.25a.75.75 0 0 1-1.06 0L2.22 9.28a.751.751 0 0 1 .018-1.042.751.751 0 0 1 1.042-.018L6 10.94l6.72-6.72a.75.75 0 0 1 1.06 0Z"></path>
</svg>
    </clipboard-copy>
  </div>
</template>


    <style>
      .user-mention[href$="/666666rew"] {
        color: var(--color-user-mention-fg);
        background-color: var(--bgColor-attention-muted, var(--color-attention-subtle));
        border-radius: 2px;
        margin-left: -2px;
        margin-right: -2px;
        padding: 0 2px;
      }
    </style>


    </div>

    <div id="js-global-screen-reader-notice" class="sr-only" aria-live="polite" aria-atomic="true" ></div>
    <div id="js-global-screen-reader-notice-assertive" class="sr-only" aria-live="assertive" aria-atomic="true"></div>
  </body>
</html>

